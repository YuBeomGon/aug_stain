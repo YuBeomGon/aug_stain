{
 "cells": [
  {
   "cell_type": "code",
   "execution_count": 1,
   "id": "71edd2a5-ad39-40f1-a9ec-577351ef3714",
   "metadata": {},
   "outputs": [],
   "source": [
    "import torch \n",
    "import torchvision \n",
    "import torchvision.transforms as transforms \n",
    "import matplotlib.pyplot as plt \n",
    "import matplotlib.image as image \n",
    "import numpy as np\n",
    "import pandas as pd\n",
    "\n",
    "from torchvision.datasets import ImageFolder\n",
    "from sklearn.model_selection import train_test_split"
   ]
  },
  {
   "cell_type": "code",
   "execution_count": null,
   "id": "7596b564-6057-4617-bdd5-bc3f9323375b",
   "metadata": {},
   "outputs": [],
   "source": [
    "# transform_train = transforms.Compose([ transforms.ToTensor(), ]) \n",
    "# train_dataset = torchvision.datasets.CIFAR10(root='./data', train=True, download=True, transform=transform_train) \n",
    "# train_loader = torch.utils.data.DataLoader(train_dataset, batch_size=128, shuffle=True, num_workers=4)\n"
   ]
  },
  {
   "cell_type": "code",
   "execution_count": null,
   "id": "8cf3ae3e-c459-4174-ad6b-34deb6551d60",
   "metadata": {},
   "outputs": [],
   "source": [
    "transform_train = transforms.Compose([ transforms.ToTensor(), ])\n",
    "train_dataset = ImageFolder(root='../patches/train_data/Colon/', transform=transform_train) \n",
    "train_loader = torch.utils.data.DataLoader(train_dataset, batch_size=8, shuffle=True, num_workers=8)"
   ]
  },
  {
   "cell_type": "code",
   "execution_count": null,
   "id": "d0eaf339-4ef0-4d85-926b-e2777f4f0f95",
   "metadata": {},
   "outputs": [],
   "source": [
    "images, targets = next(iter(train_loader))"
   ]
  },
  {
   "cell_type": "code",
   "execution_count": 5,
   "id": "dc9a6771-eada-4c5b-ae4e-2efa53044d88",
   "metadata": {},
   "outputs": [
    {
     "data": {
      "text/plain": [
       "torch.Size([8, 3, 256, 256])"
      ]
     },
     "execution_count": 5,
     "metadata": {},
     "output_type": "execute_result"
    }
   ],
   "source": [
    "images.shape"
   ]
  },
  {
   "cell_type": "code",
   "execution_count": 6,
   "id": "86445469-05a4-4184-ad0a-c67d4ab0ddf1",
   "metadata": {},
   "outputs": [
    {
     "data": {
      "text/plain": [
       "tensor([0, 1, 2, 2, 2, 1, 1, 2])"
      ]
     },
     "execution_count": 6,
     "metadata": {},
     "output_type": "execute_result"
    }
   ],
   "source": [
    "targets"
   ]
  },
  {
   "cell_type": "code",
   "execution_count": 7,
   "id": "6449322e-45cc-4205-986b-febfa84d0af8",
   "metadata": {},
   "outputs": [
    {
     "data": {
      "text/plain": [
       "467291"
      ]
     },
     "execution_count": 7,
     "metadata": {},
     "output_type": "execute_result"
    }
   ],
   "source": [
    "len(train_dataset)"
   ]
  },
  {
   "cell_type": "code",
   "execution_count": 8,
   "id": "a520df09-90f8-47e9-b8cd-bd024e0b7036",
   "metadata": {},
   "outputs": [],
   "source": [
    "train_len = int(len(train_dataset) * 0.8)\n",
    "test_len = len(train_dataset) - train_len \n",
    "train_set, val_set = torch.utils.data.random_split(train_dataset, [train_len, test_len])"
   ]
  },
  {
   "cell_type": "code",
   "execution_count": 9,
   "id": "00e2da74-18a2-473a-b5dc-92ae3e83444d",
   "metadata": {},
   "outputs": [
    {
     "data": {
      "text/plain": [
       "93459"
      ]
     },
     "execution_count": 9,
     "metadata": {},
     "output_type": "execute_result"
    }
   ],
   "source": [
    "len(train_set)\n",
    "len(val_set)"
   ]
  },
  {
   "cell_type": "code",
   "execution_count": 10,
   "id": "deeecb21-44f6-4612-8d7a-7f7727e4a8f8",
   "metadata": {},
   "outputs": [],
   "source": [
    "val_loader = torch.utils.data.DataLoader(val_set, batch_size=8, shuffle=True, num_workers=8)"
   ]
  },
  {
   "cell_type": "code",
   "execution_count": null,
   "id": "10b50bbe-fe4c-4d19-8a07-4c91da820f4b",
   "metadata": {},
   "outputs": [],
   "source": []
  },
  {
   "cell_type": "code",
   "execution_count": 2,
   "id": "0e01edb2-dd99-4c42-9a29-7bda320cd333",
   "metadata": {},
   "outputs": [],
   "source": [
    "from pathlib import Path\n",
    "import os"
   ]
  },
  {
   "cell_type": "code",
   "execution_count": 3,
   "id": "507bf62e-425d-4cb4-96ae-4dae7a67b444",
   "metadata": {},
   "outputs": [],
   "source": [
    "slide_folder = '../patches/train_data/Colon'\n",
    "all_slides = list(Path(slide_folder).glob('**/*.jpg'))"
   ]
  },
  {
   "cell_type": "code",
   "execution_count": 4,
   "id": "0d55d069-d96e-4d09-a8ad-99a64d8b2f70",
   "metadata": {},
   "outputs": [
    {
     "data": {
      "text/plain": [
       "629772"
      ]
     },
     "execution_count": 4,
     "metadata": {},
     "output_type": "execute_result"
    }
   ],
   "source": [
    "len(all_slides)"
   ]
  },
  {
   "cell_type": "code",
   "execution_count": 5,
   "id": "f2744802-0215-4d02-8693-64e7983f8ef3",
   "metadata": {},
   "outputs": [
    {
     "data": {
      "text/plain": [
       "[PosixPath('../patches/train_data/Colon/M/anno_colon_M_0027/324_120.jpg'),\n",
       " PosixPath('../patches/train_data/Colon/M/anno_colon_M_0027/104_70.jpg'),\n",
       " PosixPath('../patches/train_data/Colon/M/anno_colon_M_0027/214_118.jpg'),\n",
       " PosixPath('../patches/train_data/Colon/M/anno_colon_M_0027/111_79.jpg'),\n",
       " PosixPath('../patches/train_data/Colon/M/anno_colon_M_0027/113_100.jpg')]"
      ]
     },
     "execution_count": 5,
     "metadata": {},
     "output_type": "execute_result"
    }
   ],
   "source": [
    "all_slides[:5]"
   ]
  },
  {
   "cell_type": "code",
   "execution_count": 6,
   "id": "122459fc-a3fe-4b90-88fb-07a67f3ae294",
   "metadata": {},
   "outputs": [],
   "source": [
    "label = []\n",
    "tissue = []\n",
    "wsi = []\n",
    "path = []\n",
    "file_name = []\n",
    "for f in all_slides :\n",
    "    f = str(f)\n",
    "    ar = (f.split('.jpg')[0]).split('/')\n",
    "    label.append(ar[4])\n",
    "    tissue.append(ar[3])\n",
    "    wsi.append(ar[5])\n",
    "    file_name.append(ar[6])\n",
    "    path.append(f)"
   ]
  },
  {
   "cell_type": "code",
   "execution_count": 7,
   "id": "58048d95-9bcf-4b62-a53b-5e26a585bb19",
   "metadata": {},
   "outputs": [],
   "source": [
    "COLUMN_NAMES=['tissue', 'label', 'wsi', 'file_name', 'path']\n",
    "df = pd.DataFrame(columns=COLUMN_NAMES)"
   ]
  },
  {
   "cell_type": "code",
   "execution_count": 8,
   "id": "a520c935-4799-477e-8cbf-55665a935a69",
   "metadata": {},
   "outputs": [],
   "source": [
    "df.tissue = tissue\n",
    "df.label = label\n",
    "df.wsi = wsi\n",
    "df.file_name = file_name\n",
    "df.path = path\n"
   ]
  },
  {
   "cell_type": "code",
   "execution_count": 9,
   "id": "49266416-aadf-4a5f-91a4-47ea5ff0b123",
   "metadata": {},
   "outputs": [
    {
     "data": {
      "text/html": [
       "<div>\n",
       "<style scoped>\n",
       "    .dataframe tbody tr th:only-of-type {\n",
       "        vertical-align: middle;\n",
       "    }\n",
       "\n",
       "    .dataframe tbody tr th {\n",
       "        vertical-align: top;\n",
       "    }\n",
       "\n",
       "    .dataframe thead th {\n",
       "        text-align: right;\n",
       "    }\n",
       "</style>\n",
       "<table border=\"1\" class=\"dataframe\">\n",
       "  <thead>\n",
       "    <tr style=\"text-align: right;\">\n",
       "      <th></th>\n",
       "      <th>tissue</th>\n",
       "      <th>label</th>\n",
       "      <th>wsi</th>\n",
       "      <th>file_name</th>\n",
       "      <th>path</th>\n",
       "    </tr>\n",
       "  </thead>\n",
       "  <tbody>\n",
       "    <tr>\n",
       "      <th>629767</th>\n",
       "      <td>Colon</td>\n",
       "      <td>D</td>\n",
       "      <td>anno_colon_D_0143</td>\n",
       "      <td>61_98</td>\n",
       "      <td>../patches/train_data/Colon/D/anno_colon_D_014...</td>\n",
       "    </tr>\n",
       "    <tr>\n",
       "      <th>629768</th>\n",
       "      <td>Colon</td>\n",
       "      <td>D</td>\n",
       "      <td>anno_colon_D_0143</td>\n",
       "      <td>176_92</td>\n",
       "      <td>../patches/train_data/Colon/D/anno_colon_D_014...</td>\n",
       "    </tr>\n",
       "    <tr>\n",
       "      <th>629769</th>\n",
       "      <td>Colon</td>\n",
       "      <td>D</td>\n",
       "      <td>anno_colon_D_0143</td>\n",
       "      <td>58_95</td>\n",
       "      <td>../patches/train_data/Colon/D/anno_colon_D_014...</td>\n",
       "    </tr>\n",
       "    <tr>\n",
       "      <th>629770</th>\n",
       "      <td>Colon</td>\n",
       "      <td>D</td>\n",
       "      <td>anno_colon_D_0143</td>\n",
       "      <td>162_90</td>\n",
       "      <td>../patches/train_data/Colon/D/anno_colon_D_014...</td>\n",
       "    </tr>\n",
       "    <tr>\n",
       "      <th>629771</th>\n",
       "      <td>Colon</td>\n",
       "      <td>D</td>\n",
       "      <td>anno_colon_D_0143</td>\n",
       "      <td>282_107</td>\n",
       "      <td>../patches/train_data/Colon/D/anno_colon_D_014...</td>\n",
       "    </tr>\n",
       "  </tbody>\n",
       "</table>\n",
       "</div>"
      ],
      "text/plain": [
       "       tissue label                wsi file_name  \\\n",
       "629767  Colon     D  anno_colon_D_0143     61_98   \n",
       "629768  Colon     D  anno_colon_D_0143    176_92   \n",
       "629769  Colon     D  anno_colon_D_0143     58_95   \n",
       "629770  Colon     D  anno_colon_D_0143    162_90   \n",
       "629771  Colon     D  anno_colon_D_0143   282_107   \n",
       "\n",
       "                                                     path  \n",
       "629767  ../patches/train_data/Colon/D/anno_colon_D_014...  \n",
       "629768  ../patches/train_data/Colon/D/anno_colon_D_014...  \n",
       "629769  ../patches/train_data/Colon/D/anno_colon_D_014...  \n",
       "629770  ../patches/train_data/Colon/D/anno_colon_D_014...  \n",
       "629771  ../patches/train_data/Colon/D/anno_colon_D_014...  "
      ]
     },
     "execution_count": 9,
     "metadata": {},
     "output_type": "execute_result"
    }
   ],
   "source": [
    "df.tail()"
   ]
  },
  {
   "cell_type": "code",
   "execution_count": 10,
   "id": "2732c79a-1fa9-4758-babb-27c1cfec8dc0",
   "metadata": {},
   "outputs": [
    {
     "name": "stdout",
     "output_type": "stream",
     "text": [
      "200\n",
      "209\n",
      "200\n"
     ]
    }
   ],
   "source": [
    "print(len(set(df[df['label'] == 'D'].wsi)))\n",
    "print(len(set(df[df['label'] == 'M'].wsi)))\n",
    "print(len(set(df[df['label'] == 'N'].wsi)))"
   ]
  },
  {
   "cell_type": "code",
   "execution_count": 11,
   "id": "6bbc1625-37da-4126-beb7-985883637049",
   "metadata": {},
   "outputs": [],
   "source": [
    "df_D = df[df['label'] == 'D']\n",
    "df_M = df[df['label'] == 'M']\n",
    "df_N = df[df['label'] == 'N']"
   ]
  },
  {
   "cell_type": "code",
   "execution_count": 12,
   "id": "53a94687-756b-40ab-8481-d5abcba0cd1d",
   "metadata": {},
   "outputs": [],
   "source": [
    "D_data = df_D.groupby('wsi')\n",
    "M_data = df_M.groupby('wsi')\n",
    "N_data = df_N.groupby('wsi')"
   ]
  },
  {
   "cell_type": "code",
   "execution_count": 13,
   "id": "ac80a559-4da4-49cf-883d-89309df9ea67",
   "metadata": {},
   "outputs": [],
   "source": [
    "D_list = list(set(df[df['label'] == 'D'].wsi))\n",
    "M_list = list(set(df[df['label'] == 'M'].wsi))\n",
    "N_list = list(set(df[df['label'] == 'N'].wsi))"
   ]
  },
  {
   "cell_type": "code",
   "execution_count": 14,
   "id": "b8cdaef8-0033-41d5-b403-12e28caaab49",
   "metadata": {},
   "outputs": [
    {
     "name": "stdout",
     "output_type": "stream",
     "text": [
      "130\n",
      "45\n",
      "25\n"
     ]
    }
   ],
   "source": [
    "train_D_list, val_D_list =  train_test_split(D_list, test_size=0.35, random_state=42)\n",
    "val_D_list, test_D_list =  train_test_split(val_D_list, test_size=0.35, random_state=42)\n",
    "print(len(train_D_list))\n",
    "print(len(val_D_list))\n",
    "print(len(test_D_list))\n",
    "train_M_list, val_M_list =  train_test_split(M_list, test_size=0.35, random_state=42)\n",
    "val_M_list, test_M_list =  train_test_split(val_M_list, test_size=0.35, random_state=42)\n",
    "\n",
    "train_N_list, val_N_list =  train_test_split(N_list, test_size=0.35, random_state=42)\n",
    "val_N_list, test_N_list =  train_test_split(val_N_list, test_size=0.35, random_state=42)"
   ]
  },
  {
   "cell_type": "code",
   "execution_count": 18,
   "id": "a96228a2-ceb1-47df-8295-c27ee24aa365",
   "metadata": {},
   "outputs": [
    {
     "data": {
      "text/plain": [
       "76"
      ]
     },
     "execution_count": 18,
     "metadata": {},
     "output_type": "execute_result"
    }
   ],
   "source": [
    "len(train_D_list + train_M_list + train_N_list)\n",
    "len(val_D_list + val_M_list + val_N_list)\n",
    "len(test_D_list + test_M_list + test_N_list)"
   ]
  },
  {
   "cell_type": "code",
   "execution_count": 21,
   "id": "81270b94-85d7-4b70-8628-225084bb0f58",
   "metadata": {},
   "outputs": [],
   "source": [
    "# df[df['wsi'] == 'anno_Colon_D_0137']"
   ]
  },
  {
   "cell_type": "code",
   "execution_count": 22,
   "id": "62e2fbcb-5082-4626-a403-a98df19b549d",
   "metadata": {},
   "outputs": [],
   "source": [
    "train_df = pd.DataFrame(columns=COLUMN_NAMES)\n",
    "temp = []\n",
    "for i in (train_D_list + train_M_list + train_N_list) :\n",
    "#     print(i)\n",
    "    temp_df = df[df['wsi'] == i]\n",
    "    temp.append(temp_df)\n",
    "\n",
    "train_df = pd.concat(temp) "
   ]
  },
  {
   "cell_type": "code",
   "execution_count": null,
   "id": "e7d2b8d5-4ff4-46af-8b8e-dba20a00bd9c",
   "metadata": {},
   "outputs": [],
   "source": []
  },
  {
   "cell_type": "code",
   "execution_count": 23,
   "id": "3ec94489-df00-4f62-9742-f26dd7ff1b6d",
   "metadata": {},
   "outputs": [],
   "source": [
    "val_df = pd.DataFrame(columns=COLUMN_NAMES)\n",
    "temp = []\n",
    "for i in (val_D_list + val_M_list + val_N_list) :\n",
    "    temp_df = df[df['wsi'] == i]\n",
    "    temp.append(temp_df)\n",
    "\n",
    "val_df = pd.concat(temp) "
   ]
  },
  {
   "cell_type": "code",
   "execution_count": 24,
   "id": "b48c4a41-2972-47f7-b241-ac7db1f57c92",
   "metadata": {},
   "outputs": [],
   "source": [
    "test_df = pd.DataFrame(columns=COLUMN_NAMES)\n",
    "temp = []\n",
    "for i in (test_D_list + test_M_list + test_N_list) :\n",
    "    temp_df = df[df['wsi'] == i]\n",
    "    temp.append(temp_df)\n",
    "\n",
    "test_df = pd.concat(temp) "
   ]
  },
  {
   "cell_type": "code",
   "execution_count": 25,
   "id": "52a17009-1ea0-4659-bd1d-f5b3bdee553a",
   "metadata": {},
   "outputs": [
    {
     "name": "stdout",
     "output_type": "stream",
     "text": [
      "(431100, 5)\n",
      "(130323, 5)\n",
      "(68349, 5)\n"
     ]
    }
   ],
   "source": [
    "train_df.reset_index(drop=True, inplace=True)\n",
    "val_df.reset_index(drop=True, inplace=True)\n",
    "test_df.reset_index(drop=True, inplace=True)\n",
    "print(train_df.shape)\n",
    "print(val_df.shape)\n",
    "print(test_df.shape)\n"
   ]
  },
  {
   "cell_type": "code",
   "execution_count": 26,
   "id": "8dbfc313-b992-4700-8b68-170601f58da4",
   "metadata": {},
   "outputs": [],
   "source": [
    "import re\n",
    "def get_id(x) :\n",
    "    \n",
    "    if str(x) == 'M' :\n",
    "        return 0\n",
    "    elif str(x) == 'D' :\n",
    "        return 1\n",
    "    elif str(x) == 'N' :\n",
    "        return 2\n",
    "    else :\n",
    "        return np.nan\n",
    "\n",
    "train_df['label_id'] = train_df.label.apply(lambda x : get_id(x))\n",
    "val_df['label_id'] = val_df.label.apply(lambda x : get_id(x))\n",
    "test_df['label_id'] = test_df.label.apply(lambda x : get_id(x))\n",
    "\n",
    "train_df.path = train_df.path.apply(lambda x : re.sub('../patches/', '', x))\n",
    "val_df.path = val_df.path.apply(lambda x : re.sub('../patches/', '', x))\n",
    "test_df.path = test_df.path.apply(lambda x : re.sub('../patches/', '', x))"
   ]
  },
  {
   "cell_type": "code",
   "execution_count": 27,
   "id": "a497a851-1b6e-48cc-bc47-ad3725c6ee63",
   "metadata": {},
   "outputs": [
    {
     "data": {
      "text/html": [
       "<div>\n",
       "<style scoped>\n",
       "    .dataframe tbody tr th:only-of-type {\n",
       "        vertical-align: middle;\n",
       "    }\n",
       "\n",
       "    .dataframe tbody tr th {\n",
       "        vertical-align: top;\n",
       "    }\n",
       "\n",
       "    .dataframe thead th {\n",
       "        text-align: right;\n",
       "    }\n",
       "</style>\n",
       "<table border=\"1\" class=\"dataframe\">\n",
       "  <thead>\n",
       "    <tr style=\"text-align: right;\">\n",
       "      <th></th>\n",
       "      <th>tissue</th>\n",
       "      <th>label</th>\n",
       "      <th>wsi</th>\n",
       "      <th>file_name</th>\n",
       "      <th>path</th>\n",
       "      <th>label_id</th>\n",
       "    </tr>\n",
       "  </thead>\n",
       "  <tbody>\n",
       "    <tr>\n",
       "      <th>0</th>\n",
       "      <td>Colon</td>\n",
       "      <td>D</td>\n",
       "      <td>anno_colon_D_0199</td>\n",
       "      <td>138_97</td>\n",
       "      <td>train_data/Colon/D/anno_colon_D_0199/138_97.jpg</td>\n",
       "      <td>1</td>\n",
       "    </tr>\n",
       "    <tr>\n",
       "      <th>1</th>\n",
       "      <td>Colon</td>\n",
       "      <td>D</td>\n",
       "      <td>anno_colon_D_0199</td>\n",
       "      <td>252_65</td>\n",
       "      <td>train_data/Colon/D/anno_colon_D_0199/252_65.jpg</td>\n",
       "      <td>1</td>\n",
       "    </tr>\n",
       "    <tr>\n",
       "      <th>2</th>\n",
       "      <td>Colon</td>\n",
       "      <td>D</td>\n",
       "      <td>anno_colon_D_0199</td>\n",
       "      <td>148_56</td>\n",
       "      <td>train_data/Colon/D/anno_colon_D_0199/148_56.jpg</td>\n",
       "      <td>1</td>\n",
       "    </tr>\n",
       "    <tr>\n",
       "      <th>3</th>\n",
       "      <td>Colon</td>\n",
       "      <td>D</td>\n",
       "      <td>anno_colon_D_0199</td>\n",
       "      <td>32_49</td>\n",
       "      <td>train_data/Colon/D/anno_colon_D_0199/32_49.jpg</td>\n",
       "      <td>1</td>\n",
       "    </tr>\n",
       "    <tr>\n",
       "      <th>4</th>\n",
       "      <td>Colon</td>\n",
       "      <td>D</td>\n",
       "      <td>anno_colon_D_0199</td>\n",
       "      <td>364_68</td>\n",
       "      <td>train_data/Colon/D/anno_colon_D_0199/364_68.jpg</td>\n",
       "      <td>1</td>\n",
       "    </tr>\n",
       "  </tbody>\n",
       "</table>\n",
       "</div>"
      ],
      "text/plain": [
       "  tissue label                wsi file_name  \\\n",
       "0  Colon     D  anno_colon_D_0199    138_97   \n",
       "1  Colon     D  anno_colon_D_0199    252_65   \n",
       "2  Colon     D  anno_colon_D_0199    148_56   \n",
       "3  Colon     D  anno_colon_D_0199     32_49   \n",
       "4  Colon     D  anno_colon_D_0199    364_68   \n",
       "\n",
       "                                              path  label_id  \n",
       "0  train_data/Colon/D/anno_colon_D_0199/138_97.jpg         1  \n",
       "1  train_data/Colon/D/anno_colon_D_0199/252_65.jpg         1  \n",
       "2  train_data/Colon/D/anno_colon_D_0199/148_56.jpg         1  \n",
       "3   train_data/Colon/D/anno_colon_D_0199/32_49.jpg         1  \n",
       "4  train_data/Colon/D/anno_colon_D_0199/364_68.jpg         1  "
      ]
     },
     "execution_count": 27,
     "metadata": {},
     "output_type": "execute_result"
    }
   ],
   "source": [
    "train_df.head()"
   ]
  },
  {
   "cell_type": "code",
   "execution_count": 28,
   "id": "e328686a-2dac-47c9-bffa-6119606e90eb",
   "metadata": {},
   "outputs": [],
   "source": [
    "train_df.to_csv('../dataframe/train_Colon_df.csv',index=None)\n",
    "val_df.to_csv('../dataframe/val_Colon_df.csv',index=None)\n",
    "test_df.to_csv('../dataframe/test_Colon_df.csv',index=None)"
   ]
  },
  {
   "cell_type": "code",
   "execution_count": 29,
   "id": "2cf6ca16-e2e8-47cd-a0f9-559fc8adb714",
   "metadata": {},
   "outputs": [
    {
     "data": {
      "text/html": [
       "<div>\n",
       "<style scoped>\n",
       "    .dataframe tbody tr th:only-of-type {\n",
       "        vertical-align: middle;\n",
       "    }\n",
       "\n",
       "    .dataframe tbody tr th {\n",
       "        vertical-align: top;\n",
       "    }\n",
       "\n",
       "    .dataframe thead th {\n",
       "        text-align: right;\n",
       "    }\n",
       "</style>\n",
       "<table border=\"1\" class=\"dataframe\">\n",
       "  <thead>\n",
       "    <tr style=\"text-align: right;\">\n",
       "      <th></th>\n",
       "      <th>tissue</th>\n",
       "      <th>label</th>\n",
       "      <th>wsi</th>\n",
       "      <th>file_name</th>\n",
       "      <th>path</th>\n",
       "      <th>label_id</th>\n",
       "    </tr>\n",
       "  </thead>\n",
       "  <tbody>\n",
       "    <tr>\n",
       "      <th>0</th>\n",
       "      <td>Colon</td>\n",
       "      <td>D</td>\n",
       "      <td>anno_colon_D_0120</td>\n",
       "      <td>330_120</td>\n",
       "      <td>train_data/Colon/D/anno_colon_D_0120/330_120.jpg</td>\n",
       "      <td>1</td>\n",
       "    </tr>\n",
       "    <tr>\n",
       "      <th>1</th>\n",
       "      <td>Colon</td>\n",
       "      <td>D</td>\n",
       "      <td>anno_colon_D_0120</td>\n",
       "      <td>94_125</td>\n",
       "      <td>train_data/Colon/D/anno_colon_D_0120/94_125.jpg</td>\n",
       "      <td>1</td>\n",
       "    </tr>\n",
       "    <tr>\n",
       "      <th>2</th>\n",
       "      <td>Colon</td>\n",
       "      <td>D</td>\n",
       "      <td>anno_colon_D_0120</td>\n",
       "      <td>95_125</td>\n",
       "      <td>train_data/Colon/D/anno_colon_D_0120/95_125.jpg</td>\n",
       "      <td>1</td>\n",
       "    </tr>\n",
       "    <tr>\n",
       "      <th>3</th>\n",
       "      <td>Colon</td>\n",
       "      <td>D</td>\n",
       "      <td>anno_colon_D_0120</td>\n",
       "      <td>215_119</td>\n",
       "      <td>train_data/Colon/D/anno_colon_D_0120/215_119.jpg</td>\n",
       "      <td>1</td>\n",
       "    </tr>\n",
       "    <tr>\n",
       "      <th>4</th>\n",
       "      <td>Colon</td>\n",
       "      <td>D</td>\n",
       "      <td>anno_colon_D_0120</td>\n",
       "      <td>328_120</td>\n",
       "      <td>train_data/Colon/D/anno_colon_D_0120/328_120.jpg</td>\n",
       "      <td>1</td>\n",
       "    </tr>\n",
       "  </tbody>\n",
       "</table>\n",
       "</div>"
      ],
      "text/plain": [
       "  tissue label                wsi file_name  \\\n",
       "0  Colon     D  anno_colon_D_0120   330_120   \n",
       "1  Colon     D  anno_colon_D_0120    94_125   \n",
       "2  Colon     D  anno_colon_D_0120    95_125   \n",
       "3  Colon     D  anno_colon_D_0120   215_119   \n",
       "4  Colon     D  anno_colon_D_0120   328_120   \n",
       "\n",
       "                                               path  label_id  \n",
       "0  train_data/Colon/D/anno_colon_D_0120/330_120.jpg         1  \n",
       "1   train_data/Colon/D/anno_colon_D_0120/94_125.jpg         1  \n",
       "2   train_data/Colon/D/anno_colon_D_0120/95_125.jpg         1  \n",
       "3  train_data/Colon/D/anno_colon_D_0120/215_119.jpg         1  \n",
       "4  train_data/Colon/D/anno_colon_D_0120/328_120.jpg         1  "
      ]
     },
     "execution_count": 29,
     "metadata": {},
     "output_type": "execute_result"
    }
   ],
   "source": [
    "test_df.head()"
   ]
  },
  {
   "cell_type": "code",
   "execution_count": null,
   "id": "d7be6d63-609d-41ec-a49b-7f3c4cf13b14",
   "metadata": {},
   "outputs": [],
   "source": []
  }
 ],
 "metadata": {
  "kernelspec": {
   "display_name": "pytorch",
   "language": "python",
   "name": "pytorch"
  },
  "language_info": {
   "codemirror_mode": {
    "name": "ipython",
    "version": 3
   },
   "file_extension": ".py",
   "mimetype": "text/x-python",
   "name": "python",
   "nbconvert_exporter": "python",
   "pygments_lexer": "ipython3",
   "version": "3.8.11"
  }
 },
 "nbformat": 4,
 "nbformat_minor": 5
}
