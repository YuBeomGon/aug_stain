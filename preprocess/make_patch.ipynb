{
 "cells": [
  {
   "cell_type": "code",
   "execution_count": 1,
   "id": "df2b8609-baca-4373-b59c-0b6d619688cd",
   "metadata": {},
   "outputs": [],
   "source": [
    "from tqdm import tqdm\n",
    "from pathlib import Path\n",
    "import os\n",
    "import re\n",
    "import sys\n",
    "sys.path.append('../')\n",
    "from utils_tiling import save_patches_SEEGENE\n",
    "\n",
    "SLIDE_FOLDER = \"../data/train_data\"     # LOCATION OF THE INPUT (MRXS FILES)\n",
    "TILE_FOLDER = \"patches\"       # LOCATION FOR THE TILES/PATCHES\n",
    "TILE_SIZE = 256             # SIZE OF THE TILES/PATCHES\n",
    "OVERLAP_FACTOR = 0.5       # OVERLAP FACTOR IN PERCENTAGE\n",
    "RESOLUTION_FACTOR = 4       # RESOLUTION TO CALCULATE ZOOM LEVEL \n",
    "EXT = \"jpg\"                 # FORMAT OF THE TILES. E.G., JPG OR PNG\n",
    "USE_FILTER = True           # WHETHER FILTER IS ON OR OFF. FALSE = OFF, TRUE = ON"
   ]
  },
  {
   "cell_type": "code",
   "execution_count": 2,
   "id": "83bfb31f-9682-4279-95b4-eb21aa83d78c",
   "metadata": {},
   "outputs": [],
   "source": [
    "\n",
    "# def main(slide_folder: str, tile_folder: str, tile_size: int, resolution_factor: int, overlap_factor: float, ext: str, use_filter: bool) -> None:\n",
    "\n",
    "#     all_slides = list(Path(slide_folder).glob(\"**/*.mrxs\"))\n",
    "#     assert len(all_slides) > 0, f\"We did not find slides in {slide_folder}\"\n",
    "\n",
    "#     Path(tile_folder).mkdir(exist_ok=True, parents=True)\n",
    "\n",
    "#     overlap = int(tile_size * overlap_factor)\n",
    "#     print(overlap)\n",
    "\n",
    "#     for slide_path in tqdm(all_slides, total=len(all_slides)):\n",
    "#         folder = '/'.join(str(slide_path).split('.')[0].split('/')[1:])\n",
    "#         out_folder = tile_folder + '/' + folder\n",
    "#         save_patches_SEEGENE(\n",
    "#             slide_path=slide_path,\n",
    "#             output_path=out_folder,\n",
    "#             resolution_factor=resolution_factor,\n",
    "#             tile_size=(tile_size - overlap),\n",
    "#             overlap=int(overlap/2),\n",
    "#             ext=ext,\n",
    "#             use_filter=use_filter\n",
    "#         )\n",
    "#     return\n",
    "\n",
    "# if __name__ == \"__main__\":\n",
    "\n",
    "#     main(\n",
    "#         slide_folder=SLIDE_FOLDER,\n",
    "#         tile_folder=TILE_FOLDER,\n",
    "#         tile_size=TILE_SIZE,\n",
    "#         resolution_factor=RESOLUTION_FACTOR,\n",
    "#         overlap_factor=OVERLAP_FACTOR,\n",
    "#         ext=EXT,\n",
    "#         use_filter=USE_FILTER\n",
    "#     )"
   ]
  },
  {
   "cell_type": "code",
   "execution_count": 3,
   "id": "535f0cf0-6fdc-4ebb-b6a0-9eb514fbbb61",
   "metadata": {},
   "outputs": [],
   "source": [
    "slide_folder = SLIDE_FOLDER\n",
    "tile_folder = TILE_FOLDER\n",
    "tile_size = TILE_SIZE\n",
    "resolution_factor = RESOLUTION_FACTOR\n",
    "overlap_factor = OVERLAP_FACTOR\n",
    "ext = EXT\n",
    "use_filter = USE_FILTER"
   ]
  },
  {
   "cell_type": "code",
   "execution_count": 4,
   "id": "2210fa66-02c3-4630-91e1-fd4292aaa4ba",
   "metadata": {},
   "outputs": [
    {
     "name": "stdout",
     "output_type": "stream",
     "text": [
      "../data/train_data\n"
     ]
    }
   ],
   "source": [
    "print(slide_folder)"
   ]
  },
  {
   "cell_type": "code",
   "execution_count": 5,
   "id": "557caaec-b62e-41cd-b8bf-fd7d0f28d211",
   "metadata": {},
   "outputs": [],
   "source": [
    "from pathlib import Path\n",
    "all_slides = list(Path(slide_folder).glob(\"**/*.mrxs\"))\n",
    "assert len(all_slides) > 0, f\"We did not find slides in {slide_folder}\""
   ]
  },
  {
   "cell_type": "code",
   "execution_count": 6,
   "id": "eb383bfd-3ad4-4b0d-955e-b9d1bb980cf2",
   "metadata": {},
   "outputs": [
    {
     "name": "stdout",
     "output_type": "stream",
     "text": [
      "128\n"
     ]
    }
   ],
   "source": [
    "Path(tile_folder).mkdir(exist_ok=True, parents=True)\n",
    "\n",
    "overlap = int(tile_size * overlap_factor)\n",
    "print(overlap)"
   ]
  },
  {
   "cell_type": "code",
   "execution_count": 7,
   "id": "77031b4d-57e4-4d77-96db-e1a30f8ba0c3",
   "metadata": {},
   "outputs": [],
   "source": [
    "# os.makedirs('../patches/train_data/Stomach/M/train_stomach_M_0121', exist_ok=True)\n",
    "# os.path.isdir('../patches/train_data/Stomach/M/train_stomach_M_012')"
   ]
  },
  {
   "cell_type": "code",
   "execution_count": 8,
   "id": "80a439ec-608d-44e4-9337-73294490d24d",
   "metadata": {},
   "outputs": [
    {
     "name": "stderr",
     "output_type": "stream",
     "text": [
      "  0%|          | 0/1210 [00:00<?, ?it/s]"
     ]
    },
    {
     "name": "stdout",
     "output_type": "stream",
     "text": [
      "../data/train_data/Stomach/N/train_stomach_N_0181.mrxs\n",
      "noise filter :  True\n",
      "multiprocessing :  32\n",
      "slide_name train_stomach_N_0181\n"
     ]
    },
    {
     "name": "stderr",
     "output_type": "stream",
     "text": [
      " 17%|█▋        | 202/1210 [00:12<01:01, 16.44it/s]"
     ]
    },
    {
     "name": "stdout",
     "output_type": "stream",
     "text": [
      "Titling Time: 11.8 sec\n",
      "../data/train_data/Stomach/N/train_stomach_N_0129.mrxs\n",
      "noise filter :  True\n",
      "multiprocessing :  32\n",
      "slide_name train_stomach_N_0129\n",
      "Titling Time: 11.5 sec\n",
      "../data/train_data/Stomach/N/train_stomach_N_0044.mrxs\n",
      "noise filter :  True\n",
      "multiprocessing :  32\n",
      "slide_name train_stomach_N_0044\n"
     ]
    },
    {
     "name": "stderr",
     "output_type": "stream",
     "text": [
      " 17%|█▋        | 204/1210 [00:36<03:52,  4.32it/s]"
     ]
    },
    {
     "name": "stdout",
     "output_type": "stream",
     "text": [
      "Titling Time: 12.2 sec\n",
      "../data/train_data/Stomach/N/train_stomach_N_0025.mrxs\n",
      "noise filter :  True\n",
      "multiprocessing :  32\n",
      "slide_name train_stomach_N_0025\n"
     ]
    },
    {
     "name": "stderr",
     "output_type": "stream",
     "text": [
      " 17%|█▋        | 205/1210 [01:00<07:43,  2.17it/s]"
     ]
    },
    {
     "name": "stdout",
     "output_type": "stream",
     "text": [
      "Titling Time: 12.8 sec\n",
      "../data/train_data/Stomach/N/train_stomach_N_0122.mrxs\n",
      "noise filter :  True\n",
      "multiprocessing :  32\n",
      "slide_name train_stomach_N_0122\n"
     ]
    },
    {
     "name": "stderr",
     "output_type": "stream",
     "text": [
      " 17%|█▋        | 206/1210 [01:12<10:28,  1.60it/s]"
     ]
    },
    {
     "name": "stdout",
     "output_type": "stream",
     "text": [
      "Titling Time: 11.9 sec\n",
      "../data/train_data/Stomach/N/train_stomach_N_0023.mrxs\n",
      "noise filter :  True\n",
      "multiprocessing :  32\n",
      "slide_name train_stomach_N_0023\n"
     ]
    },
    {
     "name": "stderr",
     "output_type": "stream",
     "text": [
      " 17%|█▋        | 207/1210 [01:24<14:13,  1.17it/s]"
     ]
    },
    {
     "name": "stdout",
     "output_type": "stream",
     "text": [
      "Titling Time: 11.8 sec\n",
      "../data/train_data/Stomach/N/train_stomach_N_0049.mrxs\n",
      "noise filter :  True\n",
      "multiprocessing :  32\n",
      "slide_name train_stomach_N_0049\n"
     ]
    },
    {
     "name": "stderr",
     "output_type": "stream",
     "text": [
      " 17%|█▋        | 208/1210 [01:37<19:19,  1.16s/it]"
     ]
    },
    {
     "name": "stdout",
     "output_type": "stream",
     "text": [
      "Titling Time: 11.7 sec\n",
      "../data/train_data/Stomach/N/train_stomach_N_0179.mrxs\n",
      "noise filter :  True\n",
      "multiprocessing :  32\n",
      "slide_name train_stomach_N_0179\n"
     ]
    },
    {
     "name": "stderr",
     "output_type": "stream",
     "text": [
      " 17%|█▋        | 209/1210 [01:54<29:29,  1.77s/it]"
     ]
    },
    {
     "name": "stdout",
     "output_type": "stream",
     "text": [
      "Titling Time: 16.8 sec\n",
      "../data/train_data/Stomach/N/train_stomach_N_0021.mrxs\n",
      "noise filter :  True\n",
      "multiprocessing :  32\n",
      "slide_name train_stomach_N_0021\n"
     ]
    },
    {
     "name": "stderr",
     "output_type": "stream",
     "text": [
      " 17%|█▋        | 210/1210 [02:16<46:31,  2.79s/it]"
     ]
    },
    {
     "name": "stdout",
     "output_type": "stream",
     "text": [
      "Titling Time: 12.4 sec\n",
      "../data/train_data/Stomach/N/train_stomach_N_0196.mrxs\n",
      "noise filter :  True\n",
      "multiprocessing :  32\n",
      "slide_name train_stomach_N_0196\n"
     ]
    },
    {
     "name": "stderr",
     "output_type": "stream",
     "text": [
      " 17%|█▋        | 211/1210 [02:38<1:07:23,  4.05s/it]"
     ]
    },
    {
     "name": "stdout",
     "output_type": "stream",
     "text": [
      "Titling Time: 21.0 sec\n",
      "../data/train_data/Stomach/N/train_stomach_N_0126.mrxs\n",
      "noise filter :  True\n",
      "multiprocessing :  32\n",
      "slide_name train_stomach_N_0126\n"
     ]
    },
    {
     "name": "stderr",
     "output_type": "stream",
     "text": [
      " 18%|█▊        | 212/1210 [02:52<1:21:45,  4.92s/it]"
     ]
    },
    {
     "name": "stdout",
     "output_type": "stream",
     "text": [
      "Titling Time: 13.4 sec\n",
      "../data/train_data/Stomach/N/train_stomach_N_0117.mrxs\n",
      "noise filter :  True\n",
      "multiprocessing :  32\n",
      "slide_name train_stomach_N_0117\n"
     ]
    },
    {
     "name": "stderr",
     "output_type": "stream",
     "text": [
      " 18%|█▊        | 213/1210 [03:08<1:42:49,  6.19s/it]"
     ]
    },
    {
     "name": "stdout",
     "output_type": "stream",
     "text": [
      "Titling Time: 15.9 sec\n",
      "../data/train_data/Stomach/N/train_stomach_N_0067.mrxs\n",
      "noise filter :  True\n",
      "multiprocessing :  32\n",
      "slide_name train_stomach_N_0067\n"
     ]
    },
    {
     "name": "stderr",
     "output_type": "stream",
     "text": [
      " 18%|█▊        | 214/1210 [03:21<1:58:10,  7.12s/it]"
     ]
    },
    {
     "name": "stdout",
     "output_type": "stream",
     "text": [
      "Titling Time: 11.6 sec\n",
      "../data/train_data/Stomach/N/train_stomach_N_0136.mrxs\n",
      "noise filter :  True\n",
      "multiprocessing :  32\n",
      "slide_name train_stomach_N_0136\n"
     ]
    },
    {
     "name": "stderr",
     "output_type": "stream",
     "text": [
      " 18%|█▊        | 215/1210 [03:33<2:11:06,  7.91s/it]"
     ]
    },
    {
     "name": "stdout",
     "output_type": "stream",
     "text": [
      "Titling Time: 11.5 sec\n",
      "../data/train_data/Stomach/N/train_stomach_N_0064.mrxs\n",
      "noise filter :  True\n",
      "multiprocessing :  32\n",
      "slide_name train_stomach_N_0064\n"
     ]
    },
    {
     "name": "stderr",
     "output_type": "stream",
     "text": [
      " 18%|█▊        | 216/1210 [03:45<2:24:58,  8.75s/it]"
     ]
    },
    {
     "name": "stdout",
     "output_type": "stream",
     "text": [
      "Titling Time: 11.9 sec\n",
      "../data/train_data/Stomach/N/train_stomach_N_0098.mrxs\n",
      "noise filter :  True\n",
      "multiprocessing :  32\n",
      "slide_name train_stomach_N_0098\n"
     ]
    },
    {
     "name": "stderr",
     "output_type": "stream",
     "text": [
      " 18%|█▊        | 217/1210 [03:57<2:35:43,  9.41s/it]"
     ]
    },
    {
     "name": "stdout",
     "output_type": "stream",
     "text": [
      "Titling Time: 11.4 sec\n",
      "../data/train_data/Stomach/N/train_stomach_N_0006.mrxs\n",
      "noise filter :  True\n",
      "multiprocessing :  32\n",
      "slide_name train_stomach_N_0006\n"
     ]
    },
    {
     "name": "stderr",
     "output_type": "stream",
     "text": [
      " 18%|█▊        | 218/1210 [04:08<2:43:14,  9.87s/it]"
     ]
    },
    {
     "name": "stdout",
     "output_type": "stream",
     "text": [
      "Titling Time: 11.0 sec\n",
      "../data/train_data/Stomach/N/train_stomach_N_0027.mrxs\n",
      "noise filter :  True\n",
      "multiprocessing :  32\n",
      "slide_name train_stomach_N_0027\n"
     ]
    },
    {
     "name": "stderr",
     "output_type": "stream",
     "text": [
      " 18%|█▊        | 219/1210 [04:20<2:50:23, 10.32s/it]"
     ]
    },
    {
     "name": "stdout",
     "output_type": "stream",
     "text": [
      "Titling Time: 11.1 sec\n",
      "../data/train_data/Stomach/N/train_stomach_N_0095.mrxs\n",
      "noise filter :  True\n",
      "multiprocessing :  32\n",
      "slide_name train_stomach_N_0095\n"
     ]
    },
    {
     "name": "stderr",
     "output_type": "stream",
     "text": [
      " 18%|█▊        | 220/1210 [04:50<4:14:40, 15.43s/it]"
     ]
    },
    {
     "name": "stdout",
     "output_type": "stream",
     "text": [
      "Titling Time: 25.1 sec\n",
      "../data/train_data/Stomach/N/train_stomach_N_0024.mrxs\n",
      "noise filter :  True\n",
      "multiprocessing :  32\n",
      "slide_name train_stomach_N_0024\n"
     ]
    },
    {
     "name": "stderr",
     "output_type": "stream",
     "text": [
      " 18%|█▊        | 221/1210 [05:02<4:01:49, 14.67s/it]"
     ]
    },
    {
     "name": "stdout",
     "output_type": "stream",
     "text": [
      "Titling Time: 12.1 sec\n",
      "../data/train_data/Stomach/N/train_stomach_N_0051.mrxs\n",
      "noise filter :  True\n",
      "multiprocessing :  32\n",
      "slide_name train_stomach_N_0051\n"
     ]
    },
    {
     "name": "stderr",
     "output_type": "stream",
     "text": [
      " 18%|█▊        | 222/1210 [05:14<3:48:21, 13.87s/it]"
     ]
    },
    {
     "name": "stdout",
     "output_type": "stream",
     "text": [
      "Titling Time: 11.4 sec\n",
      "../data/train_data/Stomach/N/train_stomach_N_0190.mrxs\n",
      "noise filter :  True\n",
      "multiprocessing :  32\n",
      "slide_name train_stomach_N_0190\n"
     ]
    },
    {
     "name": "stderr",
     "output_type": "stream",
     "text": [
      " 18%|█▊        | 223/1210 [05:33<4:09:58, 15.20s/it]"
     ]
    },
    {
     "name": "stdout",
     "output_type": "stream",
     "text": [
      "Titling Time: 11.8 sec\n",
      "../data/train_data/Stomach/N/train_stomach_N_0158.mrxs\n",
      "noise filter :  True\n",
      "multiprocessing :  32\n",
      "slide_name train_stomach_N_0158\n"
     ]
    },
    {
     "name": "stderr",
     "output_type": "stream",
     "text": [
      " 19%|█▊        | 224/1210 [05:45<3:56:39, 14.40s/it]"
     ]
    },
    {
     "name": "stdout",
     "output_type": "stream",
     "text": [
      "Titling Time: 12.0 sec\n",
      "../data/train_data/Stomach/N/train_stomach_N_0036.mrxs\n",
      "noise filter :  True\n",
      "multiprocessing :  32\n",
      "slide_name train_stomach_N_0036\n"
     ]
    },
    {
     "name": "stderr",
     "output_type": "stream",
     "text": [
      " 19%|█▊        | 225/1210 [05:58<3:47:39, 13.87s/it]"
     ]
    },
    {
     "name": "stdout",
     "output_type": "stream",
     "text": [
      "Titling Time: 12.1 sec\n",
      "../data/train_data/Stomach/N/train_stomach_N_0128.mrxs\n",
      "noise filter :  True\n",
      "multiprocessing :  32\n",
      "slide_name train_stomach_N_0128\n"
     ]
    },
    {
     "name": "stderr",
     "output_type": "stream",
     "text": [
      " 19%|█▊        | 226/1210 [06:11<3:41:38, 13.51s/it]"
     ]
    },
    {
     "name": "stdout",
     "output_type": "stream",
     "text": [
      "Titling Time: 12.2 sec\n",
      "../data/train_data/Stomach/N/train_stomach_N_0054.mrxs\n",
      "noise filter :  True\n",
      "multiprocessing :  32\n",
      "slide_name train_stomach_N_0054\n"
     ]
    },
    {
     "name": "stderr",
     "output_type": "stream",
     "text": [
      " 19%|█▉        | 227/1210 [06:28<3:58:46, 14.57s/it]"
     ]
    },
    {
     "name": "stdout",
     "output_type": "stream",
     "text": [
      "Titling Time: 16.4 sec\n",
      "../data/train_data/Stomach/N/train_stomach_N_0059.mrxs\n",
      "noise filter :  True\n",
      "multiprocessing :  32\n",
      "slide_name train_stomach_N_0059\n"
     ]
    },
    {
     "name": "stderr",
     "output_type": "stream",
     "text": [
      " 19%|█▉        | 228/1210 [06:40<3:46:46, 13.86s/it]"
     ]
    },
    {
     "name": "stdout",
     "output_type": "stream",
     "text": [
      "Titling Time: 11.7 sec\n",
      "../data/train_data/Stomach/N/train_stomach_N_0152.mrxs\n",
      "noise filter :  True\n",
      "multiprocessing :  32\n",
      "slide_name train_stomach_N_0152\n"
     ]
    },
    {
     "name": "stderr",
     "output_type": "stream",
     "text": [
      " 19%|█▉        | 229/1210 [06:52<3:40:03, 13.46s/it]"
     ]
    },
    {
     "name": "stdout",
     "output_type": "stream",
     "text": [
      "Titling Time: 11.8 sec\n",
      "../data/train_data/Stomach/N/train_stomach_N_0184.mrxs\n",
      "noise filter :  True\n",
      "multiprocessing :  32\n",
      "slide_name train_stomach_N_0184\n"
     ]
    },
    {
     "name": "stderr",
     "output_type": "stream",
     "text": [
      " 19%|█▉        | 230/1210 [07:04<3:33:13, 13.05s/it]"
     ]
    },
    {
     "name": "stdout",
     "output_type": "stream",
     "text": [
      "Titling Time: 11.7 sec\n",
      "../data/train_data/Stomach/N/train_stomach_N_0019.mrxs\n",
      "noise filter :  True\n",
      "multiprocessing :  32\n",
      "slide_name train_stomach_N_0019\n"
     ]
    },
    {
     "name": "stderr",
     "output_type": "stream",
     "text": [
      " 19%|█▉        | 231/1210 [07:17<3:29:23, 12.83s/it]"
     ]
    },
    {
     "name": "stdout",
     "output_type": "stream",
     "text": [
      "Titling Time: 11.9 sec\n",
      "../data/train_data/Stomach/N/train_stomach_N_0015.mrxs\n",
      "noise filter :  True\n",
      "multiprocessing :  32\n",
      "slide_name train_stomach_N_0015\n"
     ]
    },
    {
     "name": "stderr",
     "output_type": "stream",
     "text": [
      " 19%|█▉        | 232/1210 [07:29<3:24:51, 12.57s/it]"
     ]
    },
    {
     "name": "stdout",
     "output_type": "stream",
     "text": [
      "Titling Time: 11.6 sec\n",
      "../data/train_data/Stomach/N/train_stomach_N_0007.mrxs\n",
      "noise filter :  True\n",
      "multiprocessing :  32\n",
      "slide_name train_stomach_N_0007\n"
     ]
    },
    {
     "name": "stderr",
     "output_type": "stream",
     "text": [
      " 19%|█▉        | 233/1210 [07:41<3:21:50, 12.40s/it]"
     ]
    },
    {
     "name": "stdout",
     "output_type": "stream",
     "text": [
      "Titling Time: 11.5 sec\n",
      "../data/train_data/Stomach/N/train_stomach_N_0082.mrxs\n",
      "noise filter :  True\n",
      "multiprocessing :  32\n",
      "slide_name train_stomach_N_0082\n"
     ]
    },
    {
     "name": "stderr",
     "output_type": "stream",
     "text": [
      " 19%|█▉        | 234/1210 [07:53<3:21:45, 12.40s/it]"
     ]
    },
    {
     "name": "stdout",
     "output_type": "stream",
     "text": [
      "Titling Time: 12.0 sec\n",
      "../data/train_data/Stomach/N/train_stomach_N_0029.mrxs\n",
      "noise filter :  True\n",
      "multiprocessing :  32\n",
      "slide_name train_stomach_N_0029\n"
     ]
    },
    {
     "name": "stderr",
     "output_type": "stream",
     "text": [
      " 19%|█▉        | 235/1210 [08:05<3:20:18, 12.33s/it]"
     ]
    },
    {
     "name": "stdout",
     "output_type": "stream",
     "text": [
      "Titling Time: 11.8 sec\n",
      "../data/train_data/Stomach/N/train_stomach_N_0200.mrxs\n",
      "noise filter :  True\n",
      "multiprocessing :  32\n",
      "slide_name train_stomach_N_0200\n"
     ]
    },
    {
     "name": "stderr",
     "output_type": "stream",
     "text": [
      " 20%|█▉        | 236/1210 [08:26<4:02:13, 14.92s/it]"
     ]
    },
    {
     "name": "stdout",
     "output_type": "stream",
     "text": [
      "Titling Time: 20.6 sec\n",
      "../data/train_data/Stomach/N/train_stomach_N_0038.mrxs\n",
      "noise filter :  True\n",
      "multiprocessing :  32\n",
      "slide_name train_stomach_N_0038\n"
     ]
    },
    {
     "name": "stderr",
     "output_type": "stream",
     "text": [
      " 20%|█▉        | 237/1210 [08:38<3:47:13, 14.01s/it]"
     ]
    },
    {
     "name": "stdout",
     "output_type": "stream",
     "text": [
      "Titling Time: 11.4 sec\n",
      "../data/train_data/Stomach/N/train_stomach_N_0130.mrxs\n",
      "noise filter :  True\n",
      "multiprocessing :  32\n",
      "slide_name train_stomach_N_0130\n"
     ]
    },
    {
     "name": "stderr",
     "output_type": "stream",
     "text": [
      " 20%|█▉        | 238/1210 [08:50<3:36:46, 13.38s/it]"
     ]
    },
    {
     "name": "stdout",
     "output_type": "stream",
     "text": [
      "Titling Time: 11.5 sec\n",
      "../data/train_data/Stomach/N/train_stomach_N_0034.mrxs\n",
      "noise filter :  True\n",
      "multiprocessing :  32\n",
      "slide_name train_stomach_N_0034\n"
     ]
    },
    {
     "name": "stderr",
     "output_type": "stream",
     "text": [
      " 20%|█▉        | 239/1210 [09:02<3:28:08, 12.86s/it]"
     ]
    },
    {
     "name": "stdout",
     "output_type": "stream",
     "text": [
      "Titling Time: 11.2 sec\n",
      "../data/train_data/Stomach/N/train_stomach_N_0168.mrxs\n",
      "noise filter :  True\n",
      "multiprocessing :  32\n",
      "slide_name train_stomach_N_0168\n"
     ]
    },
    {
     "name": "stderr",
     "output_type": "stream",
     "text": [
      " 20%|█▉        | 240/1210 [09:22<4:03:18, 15.05s/it]"
     ]
    },
    {
     "name": "stdout",
     "output_type": "stream",
     "text": [
      "Titling Time: 11.9 sec\n",
      "../data/train_data/Stomach/N/train_stomach_N_0197.mrxs\n",
      "noise filter :  True\n",
      "multiprocessing :  32\n",
      "slide_name train_stomach_N_0197\n"
     ]
    },
    {
     "name": "stderr",
     "output_type": "stream",
     "text": [
      " 20%|█▉        | 241/1210 [09:41<4:23:55, 16.34s/it]"
     ]
    },
    {
     "name": "stdout",
     "output_type": "stream",
     "text": [
      "Titling Time: 18.9 sec\n",
      "../data/train_data/Stomach/N/train_stomach_N_0081.mrxs\n",
      "noise filter :  True\n",
      "multiprocessing :  32\n",
      "slide_name train_stomach_N_0081\n"
     ]
    },
    {
     "name": "stderr",
     "output_type": "stream",
     "text": [
      " 20%|██        | 242/1210 [09:54<4:05:01, 15.19s/it]"
     ]
    },
    {
     "name": "stdout",
     "output_type": "stream",
     "text": [
      "Titling Time: 11.8 sec\n",
      "../data/train_data/Stomach/N/train_stomach_N_0112.mrxs\n",
      "noise filter :  True\n",
      "multiprocessing :  32\n",
      "slide_name train_stomach_N_0112\n"
     ]
    },
    {
     "name": "stderr",
     "output_type": "stream",
     "text": [
      " 20%|██        | 243/1210 [10:06<3:49:13, 14.22s/it]"
     ]
    },
    {
     "name": "stdout",
     "output_type": "stream",
     "text": [
      "Titling Time: 11.5 sec\n",
      "../data/train_data/Stomach/N/train_stomach_N_0040.mrxs\n",
      "noise filter :  True\n",
      "multiprocessing :  32\n",
      "slide_name train_stomach_N_0040\n"
     ]
    },
    {
     "name": "stderr",
     "output_type": "stream",
     "text": [
      " 20%|██        | 244/1210 [10:18<3:38:30, 13.57s/it]"
     ]
    },
    {
     "name": "stdout",
     "output_type": "stream",
     "text": [
      "Titling Time: 11.6 sec\n",
      "../data/train_data/Stomach/N/train_stomach_N_0145.mrxs\n",
      "noise filter :  True\n",
      "multiprocessing :  32\n",
      "slide_name train_stomach_N_0145\n"
     ]
    },
    {
     "name": "stderr",
     "output_type": "stream",
     "text": [
      " 20%|██        | 245/1210 [10:30<3:33:26, 13.27s/it]"
     ]
    },
    {
     "name": "stdout",
     "output_type": "stream",
     "text": [
      "Titling Time: 12.1 sec\n",
      "../data/train_data/Stomach/N/train_stomach_N_0164.mrxs\n",
      "noise filter :  True\n",
      "multiprocessing :  32\n",
      "slide_name train_stomach_N_0164\n"
     ]
    },
    {
     "name": "stderr",
     "output_type": "stream",
     "text": [
      " 20%|██        | 246/1210 [10:50<4:05:36, 15.29s/it]"
     ]
    },
    {
     "name": "stdout",
     "output_type": "stream",
     "text": [
      "Titling Time: 18.5 sec\n",
      "../data/train_data/Stomach/N/train_stomach_N_0102.mrxs\n",
      "noise filter :  True\n",
      "multiprocessing :  32\n",
      "slide_name train_stomach_N_0102\n"
     ]
    },
    {
     "name": "stderr",
     "output_type": "stream",
     "text": [
      " 20%|██        | 247/1210 [11:03<3:50:55, 14.39s/it]"
     ]
    },
    {
     "name": "stdout",
     "output_type": "stream",
     "text": [
      "Titling Time: 11.8 sec\n",
      "../data/train_data/Stomach/N/train_stomach_N_0045.mrxs\n",
      "noise filter :  True\n",
      "multiprocessing :  32\n",
      "slide_name train_stomach_N_0045\n"
     ]
    },
    {
     "name": "stderr",
     "output_type": "stream",
     "text": [
      " 20%|██        | 248/1210 [11:15<3:42:18, 13.87s/it]"
     ]
    },
    {
     "name": "stdout",
     "output_type": "stream",
     "text": [
      "Titling Time: 12.2 sec\n",
      "../data/train_data/Stomach/N/train_stomach_N_0156.mrxs\n",
      "noise filter :  True\n",
      "multiprocessing :  32\n",
      "slide_name train_stomach_N_0156\n"
     ]
    },
    {
     "name": "stderr",
     "output_type": "stream",
     "text": [
      " 21%|██        | 249/1210 [11:28<3:35:05, 13.43s/it]"
     ]
    },
    {
     "name": "stdout",
     "output_type": "stream",
     "text": [
      "Titling Time: 12.0 sec\n",
      "../data/train_data/Stomach/N/train_stomach_N_0071.mrxs\n",
      "noise filter :  True\n",
      "multiprocessing :  32\n",
      "slide_name train_stomach_N_0071\n"
     ]
    },
    {
     "name": "stderr",
     "output_type": "stream",
     "text": [
      " 21%|██        | 250/1210 [11:40<3:28:42, 13.04s/it]"
     ]
    },
    {
     "name": "stdout",
     "output_type": "stream",
     "text": [
      "Titling Time: 11.7 sec\n",
      "../data/train_data/Stomach/N/train_stomach_N_0182.mrxs\n",
      "noise filter :  True\n",
      "multiprocessing :  32\n",
      "slide_name train_stomach_N_0182\n"
     ]
    },
    {
     "name": "stderr",
     "output_type": "stream",
     "text": [
      " 21%|██        | 251/1210 [11:52<3:23:02, 12.70s/it]"
     ]
    },
    {
     "name": "stdout",
     "output_type": "stream",
     "text": [
      "Titling Time: 11.4 sec\n",
      "../data/train_data/Stomach/N/train_stomach_N_0077.mrxs\n",
      "noise filter :  True\n",
      "multiprocessing :  32\n",
      "slide_name train_stomach_N_0077\n"
     ]
    },
    {
     "name": "stderr",
     "output_type": "stream",
     "text": [
      " 21%|██        | 252/1210 [12:12<3:57:23, 14.87s/it]"
     ]
    },
    {
     "name": "stdout",
     "output_type": "stream",
     "text": [
      "Titling Time: 19.3 sec\n",
      "../data/train_data/Stomach/N/train_stomach_N_0114.mrxs\n",
      "noise filter :  True\n",
      "multiprocessing :  32\n",
      "slide_name train_stomach_N_0114\n"
     ]
    },
    {
     "name": "stderr",
     "output_type": "stream",
     "text": [
      " 21%|██        | 253/1210 [12:23<3:41:45, 13.90s/it]"
     ]
    },
    {
     "name": "stdout",
     "output_type": "stream",
     "text": [
      "Titling Time: 11.2 sec\n",
      "../data/train_data/Stomach/N/train_stomach_N_0174.mrxs\n",
      "noise filter :  True\n",
      "multiprocessing :  32\n",
      "slide_name train_stomach_N_0174\n"
     ]
    },
    {
     "name": "stderr",
     "output_type": "stream",
     "text": [
      " 21%|██        | 254/1210 [12:48<4:34:03, 17.20s/it]"
     ]
    },
    {
     "name": "stdout",
     "output_type": "stream",
     "text": [
      "Titling Time: 24.4 sec\n",
      "../data/train_data/Stomach/N/train_stomach_N_0058.mrxs\n",
      "noise filter :  True\n",
      "multiprocessing :  32\n",
      "slide_name train_stomach_N_0058\n"
     ]
    },
    {
     "name": "stderr",
     "output_type": "stream",
     "text": [
      " 21%|██        | 255/1210 [13:08<4:48:12, 18.11s/it]"
     ]
    },
    {
     "name": "stdout",
     "output_type": "stream",
     "text": [
      "Titling Time: 19.7 sec\n",
      "../data/train_data/Stomach/N/train_stomach_N_0195.mrxs\n",
      "noise filter :  True\n",
      "multiprocessing :  32\n",
      "slide_name train_stomach_N_0195\n"
     ]
    },
    {
     "name": "stderr",
     "output_type": "stream",
     "text": [
      " 21%|██        | 256/1210 [13:20<4:19:27, 16.32s/it]"
     ]
    },
    {
     "name": "stdout",
     "output_type": "stream",
     "text": [
      "Titling Time: 11.6 sec\n",
      "../data/train_data/Stomach/N/train_stomach_N_0092.mrxs\n",
      "noise filter :  True\n",
      "multiprocessing :  32\n",
      "slide_name train_stomach_N_0092\n"
     ]
    },
    {
     "name": "stderr",
     "output_type": "stream",
     "text": [
      " 21%|██        | 257/1210 [13:32<3:57:51, 14.98s/it]"
     ]
    },
    {
     "name": "stdout",
     "output_type": "stream",
     "text": [
      "Titling Time: 11.4 sec\n",
      "../data/train_data/Stomach/N/train_stomach_N_0041.mrxs\n",
      "noise filter :  True\n",
      "multiprocessing :  32\n",
      "slide_name train_stomach_N_0041\n"
     ]
    },
    {
     "name": "stderr",
     "output_type": "stream",
     "text": [
      " 21%|██▏       | 258/1210 [13:45<3:44:24, 14.14s/it]"
     ]
    },
    {
     "name": "stdout",
     "output_type": "stream",
     "text": [
      "Titling Time: 11.7 sec\n",
      "../data/train_data/Stomach/N/train_stomach_N_0160.mrxs\n",
      "noise filter :  True\n",
      "multiprocessing :  32\n",
      "slide_name train_stomach_N_0160\n"
     ]
    },
    {
     "name": "stderr",
     "output_type": "stream",
     "text": [
      " 21%|██▏       | 259/1210 [13:57<3:36:24, 13.65s/it]"
     ]
    },
    {
     "name": "stdout",
     "output_type": "stream",
     "text": [
      "Titling Time: 12.1 sec\n",
      "../data/train_data/Stomach/N/train_stomach_N_0099.mrxs\n",
      "noise filter :  True\n",
      "multiprocessing :  32\n",
      "slide_name train_stomach_N_0099\n"
     ]
    },
    {
     "name": "stderr",
     "output_type": "stream",
     "text": [
      " 21%|██▏       | 260/1210 [14:08<3:24:42, 12.93s/it]"
     ]
    },
    {
     "name": "stdout",
     "output_type": "stream",
     "text": [
      "Titling Time: 10.8 sec\n",
      "../data/train_data/Stomach/N/train_stomach_N_0014.mrxs\n",
      "noise filter :  True\n",
      "multiprocessing :  32\n",
      "slide_name train_stomach_N_0014\n"
     ]
    },
    {
     "name": "stderr",
     "output_type": "stream",
     "text": [
      " 22%|██▏       | 261/1210 [14:23<3:31:29, 13.37s/it]"
     ]
    },
    {
     "name": "stdout",
     "output_type": "stream",
     "text": [
      "Titling Time: 11.6 sec\n",
      "../data/train_data/Stomach/N/train_stomach_N_0121.mrxs\n",
      "noise filter :  True\n",
      "multiprocessing :  32\n",
      "slide_name train_stomach_N_0121\n"
     ]
    },
    {
     "name": "stderr",
     "output_type": "stream",
     "text": [
      " 22%|██▏       | 262/1210 [14:34<3:23:01, 12.85s/it]"
     ]
    },
    {
     "name": "stdout",
     "output_type": "stream",
     "text": [
      "Titling Time: 11.2 sec\n",
      "../data/train_data/Stomach/N/train_stomach_N_0109.mrxs\n",
      "noise filter :  True\n",
      "multiprocessing :  32\n",
      "slide_name train_stomach_N_0109\n"
     ]
    },
    {
     "name": "stderr",
     "output_type": "stream",
     "text": [
      " 22%|██▏       | 263/1210 [14:46<3:16:44, 12.47s/it]"
     ]
    },
    {
     "name": "stdout",
     "output_type": "stream",
     "text": [
      "Titling Time: 11.1 sec\n",
      "../data/train_data/Stomach/N/train_stomach_N_0101.mrxs\n",
      "noise filter :  True\n",
      "multiprocessing :  32\n",
      "slide_name train_stomach_N_0101\n"
     ]
    },
    {
     "name": "stderr",
     "output_type": "stream",
     "text": [
      " 22%|██▏       | 264/1210 [14:58<3:16:08, 12.44s/it]"
     ]
    },
    {
     "name": "stdout",
     "output_type": "stream",
     "text": [
      "Titling Time: 11.9 sec\n",
      "../data/train_data/Stomach/N/train_stomach_N_0189.mrxs\n",
      "noise filter :  True\n",
      "multiprocessing :  32\n",
      "slide_name train_stomach_N_0189\n"
     ]
    },
    {
     "name": "stderr",
     "output_type": "stream",
     "text": [
      " 22%|██▏       | 265/1210 [15:11<3:16:01, 12.45s/it]"
     ]
    },
    {
     "name": "stdout",
     "output_type": "stream",
     "text": [
      "Titling Time: 12.0 sec\n",
      "../data/train_data/Stomach/N/train_stomach_N_0151.mrxs\n",
      "noise filter :  True\n",
      "multiprocessing :  32\n",
      "slide_name train_stomach_N_0151\n"
     ]
    },
    {
     "name": "stderr",
     "output_type": "stream",
     "text": [
      " 22%|██▏       | 266/1210 [15:30<3:50:03, 14.62s/it]"
     ]
    },
    {
     "name": "stdout",
     "output_type": "stream",
     "text": [
      "Titling Time: 19.3 sec\n",
      "../data/train_data/Stomach/N/train_stomach_N_0028.mrxs\n",
      "noise filter :  True\n",
      "multiprocessing :  32\n",
      "slide_name train_stomach_N_0028\n"
     ]
    },
    {
     "name": "stderr",
     "output_type": "stream",
     "text": [
      " 22%|██▏       | 267/1210 [15:53<4:28:38, 17.09s/it]"
     ]
    },
    {
     "name": "stdout",
     "output_type": "stream",
     "text": [
      "Titling Time: 22.4 sec\n",
      "../data/train_data/Stomach/N/train_stomach_N_0052.mrxs\n",
      "noise filter :  True\n",
      "multiprocessing :  32\n",
      "slide_name train_stomach_N_0052\n"
     ]
    },
    {
     "name": "stderr",
     "output_type": "stream",
     "text": [
      " 22%|██▏       | 268/1210 [16:06<4:06:18, 15.69s/it]"
     ]
    },
    {
     "name": "stdout",
     "output_type": "stream",
     "text": [
      "Titling Time: 11.7 sec\n",
      "../data/train_data/Stomach/N/train_stomach_N_0108.mrxs\n",
      "noise filter :  True\n",
      "multiprocessing :  32\n",
      "slide_name train_stomach_N_0108\n"
     ]
    },
    {
     "name": "stderr",
     "output_type": "stream",
     "text": [
      " 22%|██▏       | 269/1210 [16:18<3:48:25, 14.57s/it]"
     ]
    },
    {
     "name": "stdout",
     "output_type": "stream",
     "text": [
      "Titling Time: 11.5 sec\n",
      "../data/train_data/Stomach/N/train_stomach_N_0031.mrxs\n",
      "noise filter :  True\n",
      "multiprocessing :  32\n",
      "slide_name train_stomach_N_0031\n"
     ]
    },
    {
     "name": "stderr",
     "output_type": "stream",
     "text": [
      " 22%|██▏       | 270/1210 [16:30<3:35:43, 13.77s/it]"
     ]
    },
    {
     "name": "stdout",
     "output_type": "stream",
     "text": [
      "Titling Time: 11.5 sec\n",
      "../data/train_data/Stomach/N/train_stomach_N_0047.mrxs\n",
      "noise filter :  True\n",
      "multiprocessing :  32\n",
      "slide_name train_stomach_N_0047\n"
     ]
    },
    {
     "name": "stderr",
     "output_type": "stream",
     "text": [
      " 22%|██▏       | 271/1210 [16:42<3:28:13, 13.30s/it]"
     ]
    },
    {
     "name": "stdout",
     "output_type": "stream",
     "text": [
      "Titling Time: 11.8 sec\n",
      "../data/train_data/Stomach/N/train_stomach_N_0086.mrxs\n",
      "noise filter :  True\n",
      "multiprocessing :  32\n",
      "slide_name train_stomach_N_0086\n"
     ]
    },
    {
     "name": "stderr",
     "output_type": "stream",
     "text": [
      " 22%|██▏       | 272/1210 [17:05<4:13:20, 16.21s/it]"
     ]
    },
    {
     "name": "stdout",
     "output_type": "stream",
     "text": [
      "Titling Time: 22.6 sec\n",
      "../data/train_data/Stomach/N/train_stomach_N_0113.mrxs\n",
      "noise filter :  True\n",
      "multiprocessing :  32\n",
      "slide_name train_stomach_N_0113\n"
     ]
    },
    {
     "name": "stderr",
     "output_type": "stream",
     "text": [
      " 23%|██▎       | 273/1210 [17:17<3:54:22, 15.01s/it]"
     ]
    },
    {
     "name": "stdout",
     "output_type": "stream",
     "text": [
      "Titling Time: 11.6 sec\n",
      "../data/train_data/Stomach/N/train_stomach_N_0150.mrxs\n",
      "noise filter :  True\n",
      "multiprocessing :  32\n",
      "slide_name train_stomach_N_0150\n"
     ]
    },
    {
     "name": "stderr",
     "output_type": "stream",
     "text": [
      " 23%|██▎       | 274/1210 [17:32<3:52:43, 14.92s/it]"
     ]
    },
    {
     "name": "stdout",
     "output_type": "stream",
     "text": [
      "Titling Time: 14.2 sec\n",
      "../data/train_data/Stomach/N/train_stomach_N_0084.mrxs\n",
      "noise filter :  True\n",
      "multiprocessing :  32\n",
      "slide_name train_stomach_N_0084\n"
     ]
    },
    {
     "name": "stderr",
     "output_type": "stream",
     "text": [
      " 23%|██▎       | 275/1210 [18:02<5:04:13, 19.52s/it]"
     ]
    },
    {
     "name": "stdout",
     "output_type": "stream",
     "text": [
      "Titling Time: 29.8 sec\n",
      "../data/train_data/Stomach/N/train_stomach_N_0192.mrxs\n",
      "noise filter :  True\n",
      "multiprocessing :  32\n",
      "slide_name train_stomach_N_0192\n"
     ]
    },
    {
     "name": "stderr",
     "output_type": "stream",
     "text": [
      " 23%|██▎       | 276/1210 [18:14<4:27:14, 17.17s/it]"
     ]
    },
    {
     "name": "stdout",
     "output_type": "stream",
     "text": [
      "Titling Time: 11.2 sec\n",
      "../data/train_data/Stomach/N/train_stomach_N_0106.mrxs\n",
      "noise filter :  True\n",
      "multiprocessing :  32\n",
      "slide_name train_stomach_N_0106\n"
     ]
    },
    {
     "name": "stderr",
     "output_type": "stream",
     "text": [
      " 23%|██▎       | 277/1210 [18:38<5:00:38, 19.33s/it]"
     ]
    },
    {
     "name": "stdout",
     "output_type": "stream",
     "text": [
      "Titling Time: 23.9 sec\n",
      "../data/train_data/Stomach/N/train_stomach_N_0175.mrxs\n",
      "noise filter :  True\n",
      "multiprocessing :  32\n",
      "slide_name train_stomach_N_0175\n"
     ]
    },
    {
     "name": "stderr",
     "output_type": "stream",
     "text": [
      " 23%|██▎       | 278/1210 [18:51<4:31:22, 17.47s/it]"
     ]
    },
    {
     "name": "stdout",
     "output_type": "stream",
     "text": [
      "Titling Time: 12.7 sec\n",
      "../data/train_data/Stomach/N/train_stomach_N_0001.mrxs\n",
      "noise filter :  True\n",
      "multiprocessing :  32\n",
      "slide_name train_stomach_N_0001\n"
     ]
    },
    {
     "name": "stderr",
     "output_type": "stream",
     "text": [
      " 23%|██▎       | 279/1210 [19:10<4:38:58, 17.98s/it]"
     ]
    },
    {
     "name": "stdout",
     "output_type": "stream",
     "text": [
      "Titling Time: 11.4 sec\n",
      "../data/train_data/Stomach/N/train_stomach_N_0080.mrxs\n",
      "noise filter :  True\n",
      "multiprocessing :  32\n",
      "slide_name train_stomach_N_0080\n"
     ]
    },
    {
     "name": "stderr",
     "output_type": "stream",
     "text": [
      " 23%|██▎       | 280/1210 [19:22<4:10:34, 16.17s/it]"
     ]
    },
    {
     "name": "stdout",
     "output_type": "stream",
     "text": [
      "Titling Time: 11.5 sec\n",
      "../data/train_data/Stomach/N/train_stomach_N_0026.mrxs\n",
      "noise filter :  True\n",
      "multiprocessing :  32\n",
      "slide_name train_stomach_N_0026\n"
     ]
    },
    {
     "name": "stderr",
     "output_type": "stream",
     "text": [
      " 23%|██▎       | 281/1210 [19:35<3:53:09, 15.06s/it]"
     ]
    },
    {
     "name": "stdout",
     "output_type": "stream",
     "text": [
      "Titling Time: 12.0 sec\n",
      "../data/train_data/Stomach/N/train_stomach_N_0085.mrxs\n",
      "noise filter :  True\n",
      "multiprocessing :  32\n",
      "slide_name train_stomach_N_0085\n"
     ]
    },
    {
     "name": "stderr",
     "output_type": "stream",
     "text": [
      " 23%|██▎       | 282/1210 [19:47<3:39:59, 14.22s/it]"
     ]
    },
    {
     "name": "stdout",
     "output_type": "stream",
     "text": [
      "Titling Time: 11.9 sec\n",
      "../data/train_data/Stomach/N/train_stomach_N_0185.mrxs\n",
      "noise filter :  True\n",
      "multiprocessing :  32\n",
      "slide_name train_stomach_N_0185\n"
     ]
    },
    {
     "name": "stderr",
     "output_type": "stream",
     "text": [
      " 23%|██▎       | 283/1210 [19:59<3:29:35, 13.57s/it]"
     ]
    },
    {
     "name": "stdout",
     "output_type": "stream",
     "text": [
      "Titling Time: 11.5 sec\n",
      "../data/train_data/Stomach/N/train_stomach_N_0193.mrxs\n",
      "noise filter :  True\n",
      "multiprocessing :  32\n",
      "slide_name train_stomach_N_0193\n"
     ]
    },
    {
     "name": "stderr",
     "output_type": "stream",
     "text": [
      " 23%|██▎       | 284/1210 [20:14<3:35:03, 13.94s/it]"
     ]
    },
    {
     "name": "stdout",
     "output_type": "stream",
     "text": [
      "Titling Time: 11.9 sec\n",
      "../data/train_data/Stomach/N/train_stomach_N_0088.mrxs\n",
      "noise filter :  True\n",
      "multiprocessing :  32\n",
      "slide_name train_stomach_N_0088\n"
     ]
    },
    {
     "name": "stderr",
     "output_type": "stream",
     "text": [
      " 24%|██▎       | 285/1210 [20:26<3:28:30, 13.53s/it]"
     ]
    },
    {
     "name": "stdout",
     "output_type": "stream",
     "text": [
      "Titling Time: 12.2 sec\n",
      "../data/train_data/Stomach/N/train_stomach_N_0037.mrxs\n",
      "noise filter :  True\n",
      "multiprocessing :  32\n",
      "slide_name train_stomach_N_0037\n"
     ]
    },
    {
     "name": "stderr",
     "output_type": "stream",
     "text": [
      " 24%|██▎       | 286/1210 [20:39<3:22:34, 13.15s/it]"
     ]
    },
    {
     "name": "stdout",
     "output_type": "stream",
     "text": [
      "Titling Time: 11.8 sec\n",
      "../data/train_data/Stomach/N/train_stomach_N_0053.mrxs\n",
      "noise filter :  True\n",
      "multiprocessing :  32\n",
      "slide_name train_stomach_N_0053\n"
     ]
    },
    {
     "name": "stderr",
     "output_type": "stream",
     "text": [
      " 24%|██▎       | 287/1210 [20:51<3:18:40, 12.91s/it]"
     ]
    },
    {
     "name": "stdout",
     "output_type": "stream",
     "text": [
      "Titling Time: 12.0 sec\n",
      "../data/train_data/Stomach/N/train_stomach_N_0069.mrxs\n",
      "noise filter :  True\n",
      "multiprocessing :  32\n",
      "slide_name train_stomach_N_0069\n"
     ]
    },
    {
     "name": "stderr",
     "output_type": "stream",
     "text": [
      " 24%|██▍       | 288/1210 [21:03<3:15:00, 12.69s/it]"
     ]
    },
    {
     "name": "stdout",
     "output_type": "stream",
     "text": [
      "Titling Time: 11.7 sec\n",
      "../data/train_data/Stomach/N/train_stomach_N_0163.mrxs\n",
      "noise filter :  True\n",
      "multiprocessing :  32\n",
      "slide_name train_stomach_N_0163\n"
     ]
    },
    {
     "name": "stderr",
     "output_type": "stream",
     "text": [
      " 24%|██▍       | 289/1210 [21:15<3:11:10, 12.45s/it]"
     ]
    },
    {
     "name": "stdout",
     "output_type": "stream",
     "text": [
      "Titling Time: 11.5 sec\n",
      "../data/train_data/Stomach/N/train_stomach_N_0131.mrxs\n",
      "noise filter :  True\n",
      "multiprocessing :  32\n",
      "slide_name train_stomach_N_0131\n"
     ]
    },
    {
     "name": "stderr",
     "output_type": "stream",
     "text": [
      " 24%|██▍       | 290/1210 [21:27<3:09:04, 12.33s/it]"
     ]
    },
    {
     "name": "stdout",
     "output_type": "stream",
     "text": [
      "Titling Time: 11.7 sec\n",
      "../data/train_data/Stomach/N/train_stomach_N_0148.mrxs\n",
      "noise filter :  True\n",
      "multiprocessing :  32\n",
      "slide_name train_stomach_N_0148\n"
     ]
    },
    {
     "name": "stderr",
     "output_type": "stream",
     "text": [
      " 24%|██▍       | 291/1210 [21:41<3:17:05, 12.87s/it]"
     ]
    },
    {
     "name": "stdout",
     "output_type": "stream",
     "text": [
      "Titling Time: 12.9 sec\n",
      "../data/train_data/Stomach/N/train_stomach_N_0171.mrxs\n",
      "noise filter :  True\n",
      "multiprocessing :  32\n",
      "slide_name train_stomach_N_0171\n"
     ]
    },
    {
     "name": "stderr",
     "output_type": "stream",
     "text": [
      " 24%|██▍       | 292/1210 [22:07<4:17:58, 16.86s/it]"
     ]
    },
    {
     "name": "stdout",
     "output_type": "stream",
     "text": [
      "Titling Time: 21.9 sec\n",
      "../data/train_data/Stomach/N/train_stomach_N_0022.mrxs\n",
      "noise filter :  True\n",
      "multiprocessing :  32\n",
      "slide_name train_stomach_N_0022\n"
     ]
    },
    {
     "name": "stderr",
     "output_type": "stream",
     "text": [
      " 24%|██▍       | 293/1210 [22:31<4:46:30, 18.75s/it]"
     ]
    },
    {
     "name": "stdout",
     "output_type": "stream",
     "text": [
      "Titling Time: 22.6 sec\n",
      "../data/train_data/Stomach/N/train_stomach_N_0155.mrxs\n",
      "noise filter :  True\n",
      "multiprocessing :  32\n",
      "slide_name train_stomach_N_0155\n"
     ]
    },
    {
     "name": "stderr",
     "output_type": "stream",
     "text": [
      " 24%|██▍       | 294/1210 [22:43<4:15:35, 16.74s/it]"
     ]
    },
    {
     "name": "stdout",
     "output_type": "stream",
     "text": [
      "Titling Time: 11.5 sec\n",
      "../data/train_data/Stomach/N/train_stomach_N_0183.mrxs\n",
      "noise filter :  True\n",
      "multiprocessing :  32\n",
      "slide_name train_stomach_N_0183\n"
     ]
    },
    {
     "name": "stderr",
     "output_type": "stream",
     "text": [
      " 24%|██▍       | 295/1210 [22:55<3:56:16, 15.49s/it]"
     ]
    },
    {
     "name": "stdout",
     "output_type": "stream",
     "text": [
      "Titling Time: 12.1 sec\n",
      "../data/train_data/Stomach/N/train_stomach_N_0070.mrxs\n",
      "noise filter :  True\n",
      "multiprocessing :  32\n",
      "slide_name train_stomach_N_0070\n"
     ]
    },
    {
     "name": "stderr",
     "output_type": "stream",
     "text": [
      " 24%|██▍       | 296/1210 [23:07<3:37:35, 14.28s/it]"
     ]
    },
    {
     "name": "stdout",
     "output_type": "stream",
     "text": [
      "Titling Time: 11.0 sec\n",
      "../data/train_data/Stomach/N/train_stomach_N_0127.mrxs\n",
      "noise filter :  True\n",
      "multiprocessing :  32\n",
      "slide_name train_stomach_N_0127\n"
     ]
    },
    {
     "name": "stderr",
     "output_type": "stream",
     "text": [
      " 25%|██▍       | 297/1210 [23:33<4:31:18, 17.83s/it]"
     ]
    },
    {
     "name": "stdout",
     "output_type": "stream",
     "text": [
      "Titling Time: 20.4 sec\n",
      "../data/train_data/Stomach/N/train_stomach_N_0199.mrxs\n",
      "noise filter :  True\n",
      "multiprocessing :  32\n",
      "slide_name train_stomach_N_0199\n"
     ]
    },
    {
     "name": "stderr",
     "output_type": "stream",
     "text": [
      " 25%|██▍       | 298/1210 [23:45<4:05:01, 16.12s/it]"
     ]
    },
    {
     "name": "stdout",
     "output_type": "stream",
     "text": [
      "Titling Time: 11.6 sec\n",
      "../data/train_data/Stomach/N/train_stomach_N_0118.mrxs\n",
      "noise filter :  True\n",
      "multiprocessing :  32\n",
      "slide_name train_stomach_N_0118\n"
     ]
    },
    {
     "name": "stderr",
     "output_type": "stream",
     "text": [
      " 25%|██▍       | 299/1210 [23:58<3:48:55, 15.08s/it]"
     ]
    },
    {
     "name": "stdout",
     "output_type": "stream",
     "text": [
      "Titling Time: 12.2 sec\n",
      "../data/train_data/Stomach/N/train_stomach_N_0157.mrxs\n",
      "noise filter :  True\n",
      "multiprocessing :  32\n",
      "slide_name train_stomach_N_0157\n"
     ]
    },
    {
     "name": "stderr",
     "output_type": "stream",
     "text": [
      " 25%|██▍       | 300/1210 [24:09<3:34:02, 14.11s/it]"
     ]
    },
    {
     "name": "stdout",
     "output_type": "stream",
     "text": [
      "Titling Time: 11.4 sec\n",
      "../data/train_data/Stomach/N/train_stomach_N_0167.mrxs\n",
      "noise filter :  True\n",
      "multiprocessing :  32\n",
      "slide_name train_stomach_N_0167\n"
     ]
    },
    {
     "name": "stderr",
     "output_type": "stream",
     "text": [
      " 25%|██▍       | 301/1210 [24:31<4:07:18, 16.32s/it]"
     ]
    },
    {
     "name": "stdout",
     "output_type": "stream",
     "text": [
      "Titling Time: 12.2 sec\n",
      "../data/train_data/Stomach/N/train_stomach_N_0125.mrxs\n",
      "noise filter :  True\n",
      "multiprocessing :  32\n",
      "slide_name train_stomach_N_0125\n"
     ]
    },
    {
     "name": "stderr",
     "output_type": "stream",
     "text": [
      " 25%|██▍       | 302/1210 [24:43<3:46:50, 14.99s/it]"
     ]
    },
    {
     "name": "stdout",
     "output_type": "stream",
     "text": [
      "Titling Time: 11.4 sec\n",
      "../data/train_data/Stomach/N/train_stomach_N_0094.mrxs\n",
      "noise filter :  True\n",
      "multiprocessing :  32\n",
      "slide_name train_stomach_N_0094\n"
     ]
    },
    {
     "name": "stderr",
     "output_type": "stream",
     "text": [
      " 25%|██▌       | 303/1210 [25:03<4:09:20, 16.49s/it]"
     ]
    },
    {
     "name": "stdout",
     "output_type": "stream",
     "text": [
      "Titling Time: 19.6 sec\n",
      "../data/train_data/Stomach/N/train_stomach_N_0072.mrxs\n",
      "noise filter :  True\n",
      "multiprocessing :  32\n",
      "slide_name train_stomach_N_0072\n"
     ]
    },
    {
     "name": "stderr",
     "output_type": "stream",
     "text": [
      " 25%|██▌       | 304/1210 [25:15<3:50:26, 15.26s/it]"
     ]
    },
    {
     "name": "stdout",
     "output_type": "stream",
     "text": [
      "Titling Time: 11.8 sec\n",
      "../data/train_data/Stomach/N/train_stomach_N_0133.mrxs\n",
      "noise filter :  True\n",
      "multiprocessing :  32\n",
      "slide_name train_stomach_N_0133\n"
     ]
    },
    {
     "name": "stderr",
     "output_type": "stream",
     "text": [
      " 25%|██▌       | 305/1210 [25:28<3:40:09, 14.60s/it]"
     ]
    },
    {
     "name": "stdout",
     "output_type": "stream",
     "text": [
      "Titling Time: 12.6 sec\n",
      "../data/train_data/Stomach/N/train_stomach_N_0120.mrxs\n",
      "noise filter :  True\n",
      "multiprocessing :  32\n",
      "slide_name train_stomach_N_0120\n"
     ]
    },
    {
     "name": "stderr",
     "output_type": "stream",
     "text": [
      " 25%|██▌       | 306/1210 [25:40<3:27:50, 13.79s/it]"
     ]
    },
    {
     "name": "stdout",
     "output_type": "stream",
     "text": [
      "Titling Time: 11.4 sec\n",
      "../data/train_data/Stomach/N/train_stomach_N_0032.mrxs\n",
      "noise filter :  True\n",
      "multiprocessing :  32\n",
      "slide_name train_stomach_N_0032\n"
     ]
    },
    {
     "name": "stderr",
     "output_type": "stream",
     "text": [
      " 25%|██▌       | 307/1210 [25:52<3:17:57, 13.15s/it]"
     ]
    },
    {
     "name": "stdout",
     "output_type": "stream",
     "text": [
      "Titling Time: 11.2 sec\n",
      "../data/train_data/Stomach/N/train_stomach_N_0061.mrxs\n",
      "noise filter :  True\n",
      "multiprocessing :  32\n",
      "slide_name train_stomach_N_0061\n"
     ]
    },
    {
     "name": "stderr",
     "output_type": "stream",
     "text": [
      " 25%|██▌       | 308/1210 [26:05<3:16:42, 13.09s/it]"
     ]
    },
    {
     "name": "stdout",
     "output_type": "stream",
     "text": [
      "Titling Time: 12.5 sec\n",
      "../data/train_data/Stomach/N/train_stomach_N_0137.mrxs\n",
      "noise filter :  True\n",
      "multiprocessing :  32\n",
      "slide_name train_stomach_N_0137\n"
     ]
    },
    {
     "name": "stderr",
     "output_type": "stream",
     "text": [
      " 26%|██▌       | 309/1210 [26:33<4:23:27, 17.54s/it]"
     ]
    },
    {
     "name": "stdout",
     "output_type": "stream",
     "text": [
      "Titling Time: 14.8 sec\n",
      "../data/train_data/Stomach/N/train_stomach_N_0139.mrxs\n",
      "noise filter :  True\n",
      "multiprocessing :  32\n",
      "slide_name train_stomach_N_0139\n"
     ]
    },
    {
     "name": "stderr",
     "output_type": "stream",
     "text": [
      " 26%|██▌       | 310/1210 [26:45<3:59:34, 15.97s/it]"
     ]
    },
    {
     "name": "stdout",
     "output_type": "stream",
     "text": [
      "Titling Time: 11.9 sec\n",
      "../data/train_data/Stomach/N/train_stomach_N_0087.mrxs\n",
      "noise filter :  True\n",
      "multiprocessing :  32\n",
      "slide_name train_stomach_N_0087\n"
     ]
    },
    {
     "name": "stderr",
     "output_type": "stream",
     "text": [
      " 26%|██▌       | 311/1210 [26:57<3:43:50, 14.94s/it]"
     ]
    },
    {
     "name": "stdout",
     "output_type": "stream",
     "text": [
      "Titling Time: 12.0 sec\n",
      "../data/train_data/Stomach/N/train_stomach_N_0105.mrxs\n",
      "noise filter :  True\n",
      "multiprocessing :  32\n",
      "slide_name train_stomach_N_0105\n"
     ]
    },
    {
     "name": "stderr",
     "output_type": "stream",
     "text": [
      " 26%|██▌       | 312/1210 [27:16<4:01:40, 16.15s/it]"
     ]
    },
    {
     "name": "stdout",
     "output_type": "stream",
     "text": [
      "Titling Time: 11.1 sec\n",
      "../data/train_data/Stomach/N/train_stomach_N_0046.mrxs\n",
      "noise filter :  True\n",
      "multiprocessing :  32\n",
      "slide_name train_stomach_N_0046\n"
     ]
    },
    {
     "name": "stderr",
     "output_type": "stream",
     "text": [
      " 26%|██▌       | 313/1210 [27:28<3:42:34, 14.89s/it]"
     ]
    },
    {
     "name": "stdout",
     "output_type": "stream",
     "text": [
      "Titling Time: 11.5 sec\n",
      "../data/train_data/Stomach/N/train_stomach_N_0010.mrxs\n",
      "noise filter :  True\n",
      "multiprocessing :  32\n",
      "slide_name train_stomach_N_0010\n"
     ]
    },
    {
     "name": "stderr",
     "output_type": "stream",
     "text": [
      " 26%|██▌       | 314/1210 [27:41<3:32:00, 14.20s/it]"
     ]
    },
    {
     "name": "stdout",
     "output_type": "stream",
     "text": [
      "Titling Time: 12.1 sec\n",
      "../data/train_data/Stomach/N/train_stomach_N_0134.mrxs\n",
      "noise filter :  True\n",
      "multiprocessing :  32\n",
      "slide_name train_stomach_N_0134\n"
     ]
    },
    {
     "name": "stderr",
     "output_type": "stream",
     "text": [
      " 26%|██▌       | 315/1210 [27:53<3:21:46, 13.53s/it]"
     ]
    },
    {
     "name": "stdout",
     "output_type": "stream",
     "text": [
      "Titling Time: 11.6 sec\n",
      "../data/train_data/Stomach/N/train_stomach_N_0116.mrxs\n",
      "noise filter :  True\n",
      "multiprocessing :  32\n",
      "slide_name train_stomach_N_0116\n"
     ]
    },
    {
     "name": "stderr",
     "output_type": "stream",
     "text": [
      " 26%|██▌       | 316/1210 [28:11<3:43:47, 15.02s/it]"
     ]
    },
    {
     "name": "stdout",
     "output_type": "stream",
     "text": [
      "Titling Time: 11.9 sec\n",
      "../data/train_data/Stomach/N/train_stomach_N_0076.mrxs\n",
      "noise filter :  True\n",
      "multiprocessing :  32\n",
      "slide_name train_stomach_N_0076\n"
     ]
    },
    {
     "name": "stderr",
     "output_type": "stream",
     "text": [
      " 26%|██▌       | 317/1210 [28:23<3:29:25, 14.07s/it]"
     ]
    },
    {
     "name": "stdout",
     "output_type": "stream",
     "text": [
      "Titling Time: 11.4 sec\n",
      "../data/train_data/Stomach/N/train_stomach_N_0177.mrxs\n",
      "noise filter :  True\n",
      "multiprocessing :  32\n",
      "slide_name train_stomach_N_0177\n"
     ]
    },
    {
     "name": "stderr",
     "output_type": "stream",
     "text": [
      " 26%|██▋       | 318/1210 [28:35<3:19:51, 13.44s/it]"
     ]
    },
    {
     "name": "stdout",
     "output_type": "stream",
     "text": [
      "Titling Time: 11.5 sec\n",
      "../data/train_data/Stomach/N/train_stomach_N_0153.mrxs\n",
      "noise filter :  True\n",
      "multiprocessing :  32\n",
      "slide_name train_stomach_N_0153\n"
     ]
    },
    {
     "name": "stderr",
     "output_type": "stream",
     "text": [
      " 26%|██▋       | 319/1210 [28:48<3:15:53, 13.19s/it]"
     ]
    },
    {
     "name": "stdout",
     "output_type": "stream",
     "text": [
      "Titling Time: 12.1 sec\n",
      "../data/train_data/Stomach/N/train_stomach_N_0119.mrxs\n",
      "noise filter :  True\n",
      "multiprocessing :  32\n",
      "slide_name train_stomach_N_0119\n"
     ]
    },
    {
     "name": "stderr",
     "output_type": "stream",
     "text": [
      " 26%|██▋       | 320/1210 [29:01<3:15:03, 13.15s/it]"
     ]
    },
    {
     "name": "stdout",
     "output_type": "stream",
     "text": [
      "Titling Time: 12.6 sec\n",
      "../data/train_data/Stomach/N/train_stomach_N_0091.mrxs\n",
      "noise filter :  True\n",
      "multiprocessing :  32\n",
      "slide_name train_stomach_N_0091\n"
     ]
    },
    {
     "name": "stderr",
     "output_type": "stream",
     "text": [
      " 27%|██▋       | 321/1210 [29:27<4:11:49, 17.00s/it]"
     ]
    },
    {
     "name": "stdout",
     "output_type": "stream",
     "text": [
      "Titling Time: 12.3 sec\n",
      "../data/train_data/Stomach/N/train_stomach_N_0011.mrxs\n",
      "noise filter :  True\n",
      "multiprocessing :  32\n",
      "slide_name train_stomach_N_0011\n"
     ]
    },
    {
     "name": "stderr",
     "output_type": "stream",
     "text": [
      " 27%|██▋       | 322/1210 [29:40<3:55:42, 15.93s/it]"
     ]
    },
    {
     "name": "stdout",
     "output_type": "stream",
     "text": [
      "Titling Time: 12.9 sec\n",
      "../data/train_data/Stomach/N/train_stomach_N_0144.mrxs\n",
      "noise filter :  True\n",
      "multiprocessing :  32\n",
      "slide_name train_stomach_N_0144\n"
     ]
    },
    {
     "name": "stderr",
     "output_type": "stream",
     "text": [
      " 27%|██▋       | 323/1210 [29:52<3:37:23, 14.71s/it]"
     ]
    },
    {
     "name": "stdout",
     "output_type": "stream",
     "text": [
      "Titling Time: 11.5 sec\n",
      "../data/train_data/Stomach/N/train_stomach_N_0068.mrxs\n",
      "noise filter :  True\n",
      "multiprocessing :  32\n",
      "slide_name train_stomach_N_0068\n"
     ]
    },
    {
     "name": "stderr",
     "output_type": "stream",
     "text": [
      " 27%|██▋       | 324/1210 [30:04<3:23:34, 13.79s/it]"
     ]
    },
    {
     "name": "stdout",
     "output_type": "stream",
     "text": [
      "Titling Time: 11.2 sec\n",
      "../data/train_data/Stomach/N/train_stomach_N_0009.mrxs\n",
      "noise filter :  True\n",
      "multiprocessing :  32\n",
      "slide_name train_stomach_N_0009\n"
     ]
    },
    {
     "name": "stderr",
     "output_type": "stream",
     "text": [
      " 27%|██▋       | 325/1210 [30:24<3:50:32, 15.63s/it]"
     ]
    },
    {
     "name": "stdout",
     "output_type": "stream",
     "text": [
      "Titling Time: 11.4 sec\n",
      "../data/train_data/Stomach/N/train_stomach_N_0063.mrxs\n",
      "noise filter :  True\n",
      "multiprocessing :  32\n",
      "slide_name train_stomach_N_0063\n"
     ]
    },
    {
     "name": "stderr",
     "output_type": "stream",
     "text": [
      " 27%|██▋       | 326/1210 [30:36<3:34:02, 14.53s/it]"
     ]
    },
    {
     "name": "stdout",
     "output_type": "stream",
     "text": [
      "Titling Time: 11.5 sec\n",
      "../data/train_data/Stomach/N/train_stomach_N_0002.mrxs\n",
      "noise filter :  True\n",
      "multiprocessing :  32\n",
      "slide_name train_stomach_N_0002\n"
     ]
    },
    {
     "name": "stderr",
     "output_type": "stream",
     "text": [
      " 27%|██▋       | 327/1210 [30:48<3:21:57, 13.72s/it]"
     ]
    },
    {
     "name": "stdout",
     "output_type": "stream",
     "text": [
      "Titling Time: 11.4 sec\n",
      "../data/train_data/Stomach/N/train_stomach_N_0123.mrxs\n",
      "noise filter :  True\n",
      "multiprocessing :  32\n",
      "slide_name train_stomach_N_0123\n"
     ]
    },
    {
     "name": "stderr",
     "output_type": "stream",
     "text": [
      " 27%|██▋       | 328/1210 [31:00<3:16:06, 13.34s/it]"
     ]
    },
    {
     "name": "stdout",
     "output_type": "stream",
     "text": [
      "Titling Time: 12.0 sec\n",
      "../data/train_data/Stomach/N/train_stomach_N_0141.mrxs\n",
      "noise filter :  True\n",
      "multiprocessing :  32\n",
      "slide_name train_stomach_N_0141\n"
     ]
    },
    {
     "name": "stderr",
     "output_type": "stream",
     "text": [
      " 27%|██▋       | 329/1210 [31:13<3:12:22, 13.10s/it]"
     ]
    },
    {
     "name": "stdout",
     "output_type": "stream",
     "text": [
      "Titling Time: 12.0 sec\n",
      "../data/train_data/Stomach/N/train_stomach_N_0003.mrxs\n",
      "noise filter :  True\n",
      "multiprocessing :  32\n",
      "slide_name train_stomach_N_0003\n"
     ]
    },
    {
     "name": "stderr",
     "output_type": "stream",
     "text": [
      " 27%|██▋       | 330/1210 [31:25<3:10:25, 12.98s/it]"
     ]
    },
    {
     "name": "stdout",
     "output_type": "stream",
     "text": [
      "Titling Time: 12.2 sec\n",
      "../data/train_data/Stomach/N/train_stomach_N_0165.mrxs\n",
      "noise filter :  True\n",
      "multiprocessing :  32\n",
      "slide_name train_stomach_N_0165\n"
     ]
    },
    {
     "name": "stderr",
     "output_type": "stream",
     "text": [
      " 27%|██▋       | 331/1210 [31:38<3:07:49, 12.82s/it]"
     ]
    },
    {
     "name": "stdout",
     "output_type": "stream",
     "text": [
      "Titling Time: 11.9 sec\n",
      "../data/train_data/Stomach/N/train_stomach_N_0073.mrxs\n",
      "noise filter :  True\n",
      "multiprocessing :  32\n",
      "slide_name train_stomach_N_0073\n"
     ]
    },
    {
     "name": "stderr",
     "output_type": "stream",
     "text": [
      " 27%|██▋       | 332/1210 [32:10<4:32:23, 18.62s/it]"
     ]
    },
    {
     "name": "stdout",
     "output_type": "stream",
     "text": [
      "Titling Time: 31.6 sec\n",
      "../data/train_data/Stomach/N/train_stomach_N_0110.mrxs\n",
      "noise filter :  True\n",
      "multiprocessing :  32\n",
      "slide_name train_stomach_N_0110\n"
     ]
    },
    {
     "name": "stderr",
     "output_type": "stream",
     "text": [
      " 28%|██▊       | 333/1210 [32:22<4:05:44, 16.81s/it]"
     ]
    },
    {
     "name": "stdout",
     "output_type": "stream",
     "text": [
      "Titling Time: 12.1 sec\n",
      "../data/train_data/Stomach/N/train_stomach_N_0169.mrxs\n",
      "noise filter :  True\n",
      "multiprocessing :  32\n",
      "slide_name train_stomach_N_0169\n"
     ]
    },
    {
     "name": "stderr",
     "output_type": "stream",
     "text": [
      " 28%|██▊       | 334/1210 [32:46<4:35:53, 18.90s/it]"
     ]
    },
    {
     "name": "stdout",
     "output_type": "stream",
     "text": [
      "Titling Time: 23.3 sec\n",
      "../data/train_data/Stomach/N/train_stomach_N_0187.mrxs\n",
      "noise filter :  True\n",
      "multiprocessing :  32\n",
      "slide_name train_stomach_N_0187\n"
     ]
    },
    {
     "name": "stderr",
     "output_type": "stream",
     "text": [
      " 28%|██▊       | 335/1210 [32:58<4:04:21, 16.76s/it]"
     ]
    },
    {
     "name": "stdout",
     "output_type": "stream",
     "text": [
      "Titling Time: 11.4 sec\n",
      "../data/train_data/Stomach/N/train_stomach_N_0004.mrxs\n",
      "noise filter :  True\n",
      "multiprocessing :  32\n",
      "slide_name train_stomach_N_0004\n"
     ]
    },
    {
     "name": "stderr",
     "output_type": "stream",
     "text": [
      " 28%|██▊       | 336/1210 [33:19<4:23:00, 18.06s/it]"
     ]
    },
    {
     "name": "stdout",
     "output_type": "stream",
     "text": [
      "Titling Time: 20.5 sec\n",
      "../data/train_data/Stomach/N/train_stomach_N_0140.mrxs\n",
      "noise filter :  True\n",
      "multiprocessing :  32\n",
      "slide_name train_stomach_N_0140\n"
     ]
    },
    {
     "name": "stderr",
     "output_type": "stream",
     "text": [
      " 28%|██▊       | 337/1210 [33:31<3:57:18, 16.31s/it]"
     ]
    },
    {
     "name": "stdout",
     "output_type": "stream",
     "text": [
      "Titling Time: 11.7 sec\n",
      "../data/train_data/Stomach/N/train_stomach_N_0056.mrxs\n",
      "noise filter :  True\n",
      "multiprocessing :  32\n",
      "slide_name train_stomach_N_0056\n"
     ]
    },
    {
     "name": "stderr",
     "output_type": "stream",
     "text": [
      " 28%|██▊       | 338/1210 [33:43<3:38:27, 15.03s/it]"
     ]
    },
    {
     "name": "stdout",
     "output_type": "stream",
     "text": [
      "Titling Time: 11.5 sec\n",
      "../data/train_data/Stomach/N/train_stomach_N_0008.mrxs\n",
      "noise filter :  True\n",
      "multiprocessing :  32\n",
      "slide_name train_stomach_N_0008\n"
     ]
    },
    {
     "name": "stderr",
     "output_type": "stream",
     "text": [
      " 28%|██▊       | 339/1210 [33:55<3:22:47, 13.97s/it]"
     ]
    },
    {
     "name": "stdout",
     "output_type": "stream",
     "text": [
      "Titling Time: 11.1 sec\n",
      "../data/train_data/Stomach/N/train_stomach_N_0060.mrxs\n",
      "noise filter :  True\n",
      "multiprocessing :  32\n",
      "slide_name train_stomach_N_0060\n"
     ]
    },
    {
     "name": "stderr",
     "output_type": "stream",
     "text": [
      " 28%|██▊       | 340/1210 [34:07<3:15:00, 13.45s/it]"
     ]
    },
    {
     "name": "stdout",
     "output_type": "stream",
     "text": [
      "Titling Time: 11.7 sec\n",
      "../data/train_data/Stomach/N/train_stomach_N_0075.mrxs\n",
      "noise filter :  True\n",
      "multiprocessing :  32\n",
      "slide_name train_stomach_N_0075\n"
     ]
    },
    {
     "name": "stderr",
     "output_type": "stream",
     "text": [
      " 28%|██▊       | 341/1210 [34:19<3:09:45, 13.10s/it]"
     ]
    },
    {
     "name": "stdout",
     "output_type": "stream",
     "text": [
      "Titling Time: 11.8 sec\n",
      "../data/train_data/Stomach/N/train_stomach_N_0096.mrxs\n",
      "noise filter :  True\n",
      "multiprocessing :  32\n",
      "slide_name train_stomach_N_0096\n"
     ]
    },
    {
     "name": "stderr",
     "output_type": "stream",
     "text": [
      " 28%|██▊       | 342/1210 [34:32<3:06:56, 12.92s/it]"
     ]
    },
    {
     "name": "stdout",
     "output_type": "stream",
     "text": [
      "Titling Time: 12.1 sec\n",
      "../data/train_data/Stomach/N/train_stomach_N_0033.mrxs\n",
      "noise filter :  True\n",
      "multiprocessing :  32\n",
      "slide_name train_stomach_N_0033\n"
     ]
    },
    {
     "name": "stderr",
     "output_type": "stream",
     "text": [
      " 28%|██▊       | 343/1210 [34:44<3:01:13, 12.54s/it]"
     ]
    },
    {
     "name": "stdout",
     "output_type": "stream",
     "text": [
      "Titling Time: 11.2 sec\n",
      "../data/train_data/Stomach/N/train_stomach_N_0017.mrxs\n",
      "noise filter :  True\n",
      "multiprocessing :  32\n",
      "slide_name train_stomach_N_0017\n"
     ]
    },
    {
     "name": "stderr",
     "output_type": "stream",
     "text": [
      " 28%|██▊       | 344/1210 [35:06<3:43:37, 15.49s/it]"
     ]
    },
    {
     "name": "stdout",
     "output_type": "stream",
     "text": [
      "Titling Time: 11.8 sec\n",
      "../data/train_data/Stomach/N/train_stomach_N_0188.mrxs\n",
      "noise filter :  True\n",
      "multiprocessing :  32\n",
      "slide_name train_stomach_N_0188\n"
     ]
    },
    {
     "name": "stderr",
     "output_type": "stream",
     "text": [
      " 29%|██▊       | 345/1210 [35:18<3:27:47, 14.41s/it]"
     ]
    },
    {
     "name": "stdout",
     "output_type": "stream",
     "text": [
      "Titling Time: 11.4 sec\n",
      "../data/train_data/Stomach/N/train_stomach_N_0132.mrxs\n",
      "noise filter :  True\n",
      "multiprocessing :  32\n",
      "slide_name train_stomach_N_0132\n"
     ]
    },
    {
     "name": "stderr",
     "output_type": "stream",
     "text": [
      " 29%|██▊       | 346/1210 [35:36<3:42:09, 15.43s/it]"
     ]
    },
    {
     "name": "stdout",
     "output_type": "stream",
     "text": [
      "Titling Time: 16.6 sec\n",
      "../data/train_data/Stomach/N/train_stomach_N_0043.mrxs\n",
      "noise filter :  True\n",
      "multiprocessing :  32\n",
      "slide_name train_stomach_N_0043\n"
     ]
    },
    {
     "name": "stderr",
     "output_type": "stream",
     "text": [
      " 29%|██▊       | 347/1210 [35:48<3:26:41, 14.37s/it]"
     ]
    },
    {
     "name": "stdout",
     "output_type": "stream",
     "text": [
      "Titling Time: 11.4 sec\n",
      "../data/train_data/Stomach/N/train_stomach_N_0062.mrxs\n",
      "noise filter :  True\n",
      "multiprocessing :  32\n",
      "slide_name train_stomach_N_0062\n"
     ]
    },
    {
     "name": "stderr",
     "output_type": "stream",
     "text": [
      " 29%|██▉       | 348/1210 [36:00<3:17:58, 13.78s/it]"
     ]
    },
    {
     "name": "stdout",
     "output_type": "stream",
     "text": [
      "Titling Time: 12.0 sec\n",
      "../data/train_data/Stomach/N/train_stomach_N_0050.mrxs\n",
      "noise filter :  True\n",
      "multiprocessing :  32\n",
      "slide_name train_stomach_N_0050\n"
     ]
    },
    {
     "name": "stderr",
     "output_type": "stream",
     "text": [
      " 29%|██▉       | 349/1210 [36:20<3:45:57, 15.75s/it]"
     ]
    },
    {
     "name": "stdout",
     "output_type": "stream",
     "text": [
      "Titling Time: 19.9 sec\n",
      "../data/train_data/Stomach/N/train_stomach_N_0143.mrxs\n",
      "noise filter :  True\n",
      "multiprocessing :  32\n",
      "slide_name train_stomach_N_0143\n"
     ]
    },
    {
     "name": "stderr",
     "output_type": "stream",
     "text": [
      " 29%|██▉       | 350/1210 [36:33<3:31:25, 14.75s/it]"
     ]
    },
    {
     "name": "stdout",
     "output_type": "stream",
     "text": [
      "Titling Time: 11.9 sec\n",
      "../data/train_data/Stomach/N/train_stomach_N_0111.mrxs\n",
      "noise filter :  True\n",
      "multiprocessing :  32\n",
      "slide_name train_stomach_N_0111\n"
     ]
    },
    {
     "name": "stderr",
     "output_type": "stream",
     "text": [
      " 29%|██▉       | 351/1210 [36:45<3:20:54, 14.03s/it]"
     ]
    },
    {
     "name": "stdout",
     "output_type": "stream",
     "text": [
      "Titling Time: 11.9 sec\n",
      "../data/train_data/Stomach/N/train_stomach_N_0066.mrxs\n",
      "noise filter :  True\n",
      "multiprocessing :  32\n",
      "slide_name train_stomach_N_0066\n"
     ]
    },
    {
     "name": "stderr",
     "output_type": "stream",
     "text": [
      " 29%|██▉       | 352/1210 [36:58<3:16:14, 13.72s/it]"
     ]
    },
    {
     "name": "stdout",
     "output_type": "stream",
     "text": [
      "Titling Time: 12.5 sec\n",
      "../data/train_data/Stomach/N/train_stomach_N_0090.mrxs\n",
      "noise filter :  True\n",
      "multiprocessing :  32\n",
      "slide_name train_stomach_N_0090\n"
     ]
    },
    {
     "name": "stderr",
     "output_type": "stream",
     "text": [
      " 29%|██▉       | 353/1210 [37:10<3:08:27, 13.19s/it]"
     ]
    },
    {
     "name": "stdout",
     "output_type": "stream",
     "text": [
      "Titling Time: 11.5 sec\n",
      "../data/train_data/Stomach/N/train_stomach_N_0147.mrxs\n",
      "noise filter :  True\n",
      "multiprocessing :  32\n",
      "slide_name train_stomach_N_0147\n"
     ]
    },
    {
     "name": "stderr",
     "output_type": "stream",
     "text": [
      " 29%|██▉       | 354/1210 [37:33<3:51:42, 16.24s/it]"
     ]
    },
    {
     "name": "stdout",
     "output_type": "stream",
     "text": [
      "Titling Time: 11.8 sec\n",
      "../data/train_data/Stomach/N/train_stomach_N_0191.mrxs\n",
      "noise filter :  True\n",
      "multiprocessing :  32\n",
      "slide_name train_stomach_N_0191\n"
     ]
    },
    {
     "name": "stderr",
     "output_type": "stream",
     "text": [
      " 29%|██▉       | 355/1210 [37:46<3:35:53, 15.15s/it]"
     ]
    },
    {
     "name": "stdout",
     "output_type": "stream",
     "text": [
      "Titling Time: 12.2 sec\n",
      "../data/train_data/Stomach/N/train_stomach_N_0154.mrxs\n",
      "noise filter :  True\n",
      "multiprocessing :  32\n",
      "slide_name train_stomach_N_0154\n"
     ]
    },
    {
     "name": "stderr",
     "output_type": "stream",
     "text": [
      " 29%|██▉       | 356/1210 [38:08<4:04:41, 17.19s/it]"
     ]
    },
    {
     "name": "stdout",
     "output_type": "stream",
     "text": [
      "Titling Time: 12.1 sec\n",
      "../data/train_data/Stomach/N/train_stomach_N_0186.mrxs\n",
      "noise filter :  True\n",
      "multiprocessing :  32\n",
      "slide_name train_stomach_N_0186\n"
     ]
    },
    {
     "name": "stderr",
     "output_type": "stream",
     "text": [
      " 30%|██▉       | 357/1210 [38:20<3:44:15, 15.77s/it]"
     ]
    },
    {
     "name": "stdout",
     "output_type": "stream",
     "text": [
      "Titling Time: 12.0 sec\n",
      "../data/train_data/Stomach/N/train_stomach_N_0146.mrxs\n",
      "noise filter :  True\n",
      "multiprocessing :  32\n",
      "slide_name train_stomach_N_0146\n"
     ]
    },
    {
     "name": "stderr",
     "output_type": "stream",
     "text": [
      " 30%|██▉       | 358/1210 [38:33<3:28:52, 14.71s/it]"
     ]
    },
    {
     "name": "stdout",
     "output_type": "stream",
     "text": [
      "Titling Time: 11.8 sec\n",
      "../data/train_data/Stomach/N/train_stomach_N_0159.mrxs\n",
      "noise filter :  True\n",
      "multiprocessing :  32\n",
      "slide_name train_stomach_N_0159\n"
     ]
    },
    {
     "name": "stderr",
     "output_type": "stream",
     "text": [
      " 30%|██▉       | 359/1210 [38:54<3:55:22, 16.59s/it]"
     ]
    },
    {
     "name": "stdout",
     "output_type": "stream",
     "text": [
      "Titling Time: 12.4 sec\n",
      "../data/train_data/Stomach/N/train_stomach_N_0173.mrxs\n",
      "noise filter :  True\n",
      "multiprocessing :  32\n",
      "slide_name train_stomach_N_0173\n"
     ]
    },
    {
     "name": "stderr",
     "output_type": "stream",
     "text": [
      " 30%|██▉       | 360/1210 [39:06<3:39:22, 15.48s/it]"
     ]
    },
    {
     "name": "stdout",
     "output_type": "stream",
     "text": [
      "Titling Time: 12.5 sec\n",
      "../data/train_data/Stomach/N/train_stomach_N_0074.mrxs\n",
      "noise filter :  True\n",
      "multiprocessing :  32\n",
      "slide_name train_stomach_N_0074\n"
     ]
    },
    {
     "name": "stderr",
     "output_type": "stream",
     "text": [
      " 30%|██▉       | 361/1210 [39:19<3:27:02, 14.63s/it]"
     ]
    },
    {
     "name": "stdout",
     "output_type": "stream",
     "text": [
      "Titling Time: 12.1 sec\n",
      "../data/train_data/Stomach/N/train_stomach_N_0149.mrxs\n",
      "noise filter :  True\n",
      "multiprocessing :  32\n",
      "slide_name train_stomach_N_0149\n"
     ]
    },
    {
     "name": "stderr",
     "output_type": "stream",
     "text": [
      " 30%|██▉       | 362/1210 [39:42<4:02:10, 17.14s/it]"
     ]
    },
    {
     "name": "stdout",
     "output_type": "stream",
     "text": [
      "Titling Time: 22.4 sec\n",
      "../data/train_data/Stomach/N/train_stomach_N_0030.mrxs\n",
      "noise filter :  True\n",
      "multiprocessing :  32\n",
      "slide_name train_stomach_N_0030\n"
     ]
    },
    {
     "name": "stderr",
     "output_type": "stream",
     "text": [
      " 30%|███       | 363/1210 [40:03<4:17:34, 18.25s/it]"
     ]
    },
    {
     "name": "stdout",
     "output_type": "stream",
     "text": [
      "Titling Time: 16.2 sec\n",
      "../data/train_data/Stomach/N/train_stomach_N_0018.mrxs\n",
      "noise filter :  True\n",
      "multiprocessing :  32\n",
      "slide_name train_stomach_N_0018\n"
     ]
    },
    {
     "name": "stderr",
     "output_type": "stream",
     "text": [
      " 30%|███       | 364/1210 [40:15<3:51:14, 16.40s/it]"
     ]
    },
    {
     "name": "stdout",
     "output_type": "stream",
     "text": [
      "Titling Time: 11.6 sec\n",
      "../data/train_data/Stomach/N/train_stomach_N_0089.mrxs\n",
      "noise filter :  True\n",
      "multiprocessing :  32\n",
      "slide_name train_stomach_N_0089\n"
     ]
    },
    {
     "name": "stderr",
     "output_type": "stream",
     "text": [
      " 30%|███       | 365/1210 [40:35<4:06:00, 17.47s/it]"
     ]
    },
    {
     "name": "stdout",
     "output_type": "stream",
     "text": [
      "Titling Time: 19.4 sec\n",
      "../data/train_data/Stomach/N/train_stomach_N_0115.mrxs\n",
      "noise filter :  True\n",
      "multiprocessing :  32\n",
      "slide_name train_stomach_N_0115\n"
     ]
    },
    {
     "name": "stderr",
     "output_type": "stream",
     "text": [
      " 30%|███       | 366/1210 [40:47<3:42:14, 15.80s/it]"
     ]
    },
    {
     "name": "stdout",
     "output_type": "stream",
     "text": [
      "Titling Time: 11.4 sec\n",
      "../data/train_data/Stomach/N/train_stomach_N_0057.mrxs\n",
      "noise filter :  True\n",
      "multiprocessing :  32\n",
      "slide_name train_stomach_N_0057\n"
     ]
    },
    {
     "name": "stderr",
     "output_type": "stream",
     "text": [
      " 30%|███       | 367/1210 [40:59<3:28:28, 14.84s/it]"
     ]
    },
    {
     "name": "stdout",
     "output_type": "stream",
     "text": [
      "Titling Time: 12.1 sec\n",
      "../data/train_data/Stomach/N/train_stomach_N_0176.mrxs\n",
      "noise filter :  True\n",
      "multiprocessing :  32\n",
      "slide_name train_stomach_N_0176\n"
     ]
    },
    {
     "name": "stderr",
     "output_type": "stream",
     "text": [
      " 30%|███       | 368/1210 [41:13<3:21:27, 14.36s/it]"
     ]
    },
    {
     "name": "stdout",
     "output_type": "stream",
     "text": [
      "Titling Time: 12.5 sec\n",
      "../data/train_data/Stomach/N/train_stomach_N_0083.mrxs\n",
      "noise filter :  True\n",
      "multiprocessing :  32\n",
      "slide_name train_stomach_N_0083\n"
     ]
    },
    {
     "name": "stderr",
     "output_type": "stream",
     "text": [
      " 30%|███       | 369/1210 [41:25<3:12:14, 13.71s/it]"
     ]
    },
    {
     "name": "stdout",
     "output_type": "stream",
     "text": [
      "Titling Time: 11.7 sec\n",
      "../data/train_data/Stomach/N/train_stomach_N_0079.mrxs\n",
      "noise filter :  True\n",
      "multiprocessing :  32\n",
      "slide_name train_stomach_N_0079\n"
     ]
    },
    {
     "name": "stderr",
     "output_type": "stream",
     "text": [
      " 31%|███       | 370/1210 [41:37<3:06:48, 13.34s/it]"
     ]
    },
    {
     "name": "stdout",
     "output_type": "stream",
     "text": [
      "Titling Time: 12.0 sec\n",
      "../data/train_data/Stomach/N/train_stomach_N_0093.mrxs\n",
      "noise filter :  True\n",
      "multiprocessing :  32\n",
      "slide_name train_stomach_N_0093\n"
     ]
    },
    {
     "name": "stderr",
     "output_type": "stream",
     "text": [
      " 31%|███       | 371/1210 [41:50<3:02:22, 13.04s/it]"
     ]
    },
    {
     "name": "stdout",
     "output_type": "stream",
     "text": [
      "Titling Time: 11.9 sec\n",
      "../data/train_data/Stomach/N/train_stomach_N_0078.mrxs\n",
      "noise filter :  True\n",
      "multiprocessing :  32\n",
      "slide_name train_stomach_N_0078\n"
     ]
    },
    {
     "name": "stderr",
     "output_type": "stream",
     "text": [
      " 31%|███       | 372/1210 [42:02<2:57:55, 12.74s/it]"
     ]
    },
    {
     "name": "stdout",
     "output_type": "stream",
     "text": [
      "Titling Time: 11.5 sec\n",
      "../data/train_data/Stomach/N/train_stomach_N_0124.mrxs\n",
      "noise filter :  True\n",
      "multiprocessing :  32\n",
      "slide_name train_stomach_N_0124\n"
     ]
    },
    {
     "name": "stderr",
     "output_type": "stream",
     "text": [
      " 31%|███       | 373/1210 [42:17<3:06:29, 13.37s/it]"
     ]
    },
    {
     "name": "stdout",
     "output_type": "stream",
     "text": [
      "Titling Time: 12.0 sec\n",
      "../data/train_data/Stomach/N/train_stomach_N_0012.mrxs\n",
      "noise filter :  True\n",
      "multiprocessing :  32\n",
      "slide_name train_stomach_N_0012\n"
     ]
    },
    {
     "name": "stderr",
     "output_type": "stream",
     "text": [
      " 31%|███       | 374/1210 [42:35<3:25:54, 14.78s/it]"
     ]
    },
    {
     "name": "stdout",
     "output_type": "stream",
     "text": [
      "Titling Time: 11.7 sec\n",
      "../data/train_data/Stomach/N/train_stomach_N_0172.mrxs\n",
      "noise filter :  True\n",
      "multiprocessing :  32\n",
      "slide_name train_stomach_N_0172\n"
     ]
    },
    {
     "name": "stderr",
     "output_type": "stream",
     "text": [
      " 31%|███       | 375/1210 [42:51<3:31:18, 15.18s/it]"
     ]
    },
    {
     "name": "stdout",
     "output_type": "stream",
     "text": [
      "Titling Time: 12.0 sec\n",
      "../data/train_data/Stomach/N/train_stomach_N_0161.mrxs\n",
      "noise filter :  True\n",
      "multiprocessing :  32\n",
      "slide_name train_stomach_N_0161\n"
     ]
    },
    {
     "name": "stderr",
     "output_type": "stream",
     "text": [
      " 31%|███       | 376/1210 [43:03<3:19:22, 14.34s/it]"
     ]
    },
    {
     "name": "stdout",
     "output_type": "stream",
     "text": [
      "Titling Time: 12.0 sec\n",
      "../data/train_data/Stomach/N/train_stomach_N_0097.mrxs\n",
      "noise filter :  True\n",
      "multiprocessing :  32\n",
      "slide_name train_stomach_N_0097\n"
     ]
    },
    {
     "name": "stderr",
     "output_type": "stream",
     "text": [
      " 31%|███       | 377/1210 [43:15<3:09:50, 13.67s/it]"
     ]
    },
    {
     "name": "stdout",
     "output_type": "stream",
     "text": [
      "Titling Time: 11.7 sec\n",
      "../data/train_data/Stomach/N/train_stomach_N_0100.mrxs\n",
      "noise filter :  True\n",
      "multiprocessing :  32\n",
      "slide_name train_stomach_N_0100\n"
     ]
    },
    {
     "name": "stderr",
     "output_type": "stream",
     "text": [
      " 31%|███       | 378/1210 [43:28<3:04:26, 13.30s/it]"
     ]
    },
    {
     "name": "stdout",
     "output_type": "stream",
     "text": [
      "Titling Time: 12.0 sec\n",
      "../data/train_data/Stomach/N/train_stomach_N_0055.mrxs\n",
      "noise filter :  True\n",
      "multiprocessing :  32\n",
      "slide_name train_stomach_N_0055\n"
     ]
    },
    {
     "name": "stderr",
     "output_type": "stream",
     "text": [
      " 31%|███▏      | 379/1210 [43:47<3:30:51, 15.22s/it]"
     ]
    },
    {
     "name": "stdout",
     "output_type": "stream",
     "text": [
      "Titling Time: 19.2 sec\n",
      "../data/train_data/Stomach/N/train_stomach_N_0142.mrxs\n",
      "noise filter :  True\n",
      "multiprocessing :  32\n",
      "slide_name train_stomach_N_0142\n"
     ]
    },
    {
     "name": "stderr",
     "output_type": "stream",
     "text": [
      " 31%|███▏      | 380/1210 [44:00<3:17:35, 14.28s/it]"
     ]
    },
    {
     "name": "stdout",
     "output_type": "stream",
     "text": [
      "Titling Time: 11.6 sec\n",
      "../data/train_data/Stomach/N/train_stomach_N_0020.mrxs\n",
      "noise filter :  True\n",
      "multiprocessing :  32\n",
      "slide_name train_stomach_N_0020\n"
     ]
    },
    {
     "name": "stderr",
     "output_type": "stream",
     "text": [
      " 31%|███▏      | 381/1210 [44:12<3:09:29, 13.71s/it]"
     ]
    },
    {
     "name": "stdout",
     "output_type": "stream",
     "text": [
      "Titling Time: 11.8 sec\n",
      "../data/train_data/Stomach/N/train_stomach_N_0103.mrxs\n",
      "noise filter :  True\n",
      "multiprocessing :  32\n",
      "slide_name train_stomach_N_0103\n"
     ]
    },
    {
     "name": "stderr",
     "output_type": "stream",
     "text": [
      " 32%|███▏      | 382/1210 [44:24<3:03:56, 13.33s/it]"
     ]
    },
    {
     "name": "stdout",
     "output_type": "stream",
     "text": [
      "Titling Time: 12.0 sec\n",
      "../data/train_data/Stomach/N/train_stomach_N_0005.mrxs\n",
      "noise filter :  True\n",
      "multiprocessing :  32\n",
      "slide_name train_stomach_N_0005\n"
     ]
    },
    {
     "name": "stderr",
     "output_type": "stream",
     "text": [
      " 32%|███▏      | 383/1210 [44:37<2:59:07, 13.00s/it]"
     ]
    },
    {
     "name": "stdout",
     "output_type": "stream",
     "text": [
      "Titling Time: 11.7 sec\n",
      "../data/train_data/Stomach/N/train_stomach_N_0016.mrxs\n",
      "noise filter :  True\n",
      "multiprocessing :  32\n",
      "slide_name train_stomach_N_0016\n"
     ]
    },
    {
     "name": "stderr",
     "output_type": "stream",
     "text": [
      " 32%|███▏      | 384/1210 [44:49<2:58:18, 12.95s/it]"
     ]
    },
    {
     "name": "stdout",
     "output_type": "stream",
     "text": [
      "Titling Time: 12.3 sec\n",
      "../data/train_data/Stomach/N/train_stomach_N_0198.mrxs\n",
      "noise filter :  True\n",
      "multiprocessing :  32\n",
      "slide_name train_stomach_N_0198\n"
     ]
    },
    {
     "name": "stderr",
     "output_type": "stream",
     "text": [
      " 32%|███▏      | 385/1210 [45:01<2:54:10, 12.67s/it]"
     ]
    },
    {
     "name": "stdout",
     "output_type": "stream",
     "text": [
      "Titling Time: 11.4 sec\n",
      "../data/train_data/Stomach/N/train_stomach_N_0178.mrxs\n",
      "noise filter :  True\n",
      "multiprocessing :  32\n",
      "slide_name train_stomach_N_0178\n"
     ]
    },
    {
     "name": "stderr",
     "output_type": "stream",
     "text": [
      " 32%|███▏      | 386/1210 [45:14<2:54:26, 12.70s/it]"
     ]
    },
    {
     "name": "stdout",
     "output_type": "stream",
     "text": [
      "Titling Time: 12.1 sec\n",
      "../data/train_data/Stomach/N/train_stomach_N_0107.mrxs\n",
      "noise filter :  True\n",
      "multiprocessing :  32\n",
      "slide_name train_stomach_N_0107\n"
     ]
    },
    {
     "name": "stderr",
     "output_type": "stream",
     "text": [
      " 32%|███▏      | 387/1210 [45:32<3:15:07, 14.23s/it]"
     ]
    },
    {
     "name": "stdout",
     "output_type": "stream",
     "text": [
      "Titling Time: 11.4 sec\n",
      "../data/train_data/Stomach/N/train_stomach_N_0170.mrxs\n",
      "noise filter :  True\n",
      "multiprocessing :  32\n",
      "slide_name train_stomach_N_0170\n"
     ]
    },
    {
     "name": "stderr",
     "output_type": "stream",
     "text": [
      " 32%|███▏      | 388/1210 [45:49<3:25:41, 15.01s/it]"
     ]
    },
    {
     "name": "stdout",
     "output_type": "stream",
     "text": [
      "Titling Time: 11.6 sec\n",
      "../data/train_data/Stomach/N/train_stomach_N_0166.mrxs\n",
      "noise filter :  True\n",
      "multiprocessing :  32\n",
      "slide_name train_stomach_N_0166\n"
     ]
    },
    {
     "name": "stderr",
     "output_type": "stream",
     "text": [
      " 32%|███▏      | 389/1210 [46:01<3:13:02, 14.11s/it]"
     ]
    },
    {
     "name": "stdout",
     "output_type": "stream",
     "text": [
      "Titling Time: 11.6 sec\n",
      "../data/train_data/Stomach/N/train_stomach_N_0048.mrxs\n",
      "noise filter :  True\n",
      "multiprocessing :  32\n",
      "slide_name train_stomach_N_0048\n"
     ]
    },
    {
     "name": "stderr",
     "output_type": "stream",
     "text": [
      " 32%|███▏      | 390/1210 [46:13<3:06:29, 13.65s/it]"
     ]
    },
    {
     "name": "stdout",
     "output_type": "stream",
     "text": [
      "Titling Time: 11.4 sec\n",
      "../data/train_data/Stomach/N/train_stomach_N_0013.mrxs\n",
      "noise filter :  True\n",
      "multiprocessing :  32\n",
      "slide_name train_stomach_N_0013\n"
     ]
    },
    {
     "name": "stderr",
     "output_type": "stream",
     "text": [
      " 32%|███▏      | 391/1210 [46:29<3:15:52, 14.35s/it]"
     ]
    },
    {
     "name": "stdout",
     "output_type": "stream",
     "text": [
      "Titling Time: 12.1 sec\n",
      "../data/train_data/Stomach/N/train_stomach_N_0162.mrxs\n",
      "noise filter :  True\n",
      "multiprocessing :  32\n",
      "slide_name train_stomach_N_0162\n"
     ]
    },
    {
     "name": "stderr",
     "output_type": "stream",
     "text": [
      " 32%|███▏      | 392/1210 [46:42<3:07:45, 13.77s/it]"
     ]
    },
    {
     "name": "stdout",
     "output_type": "stream",
     "text": [
      "Titling Time: 12.0 sec\n",
      "../data/train_data/Stomach/N/train_stomach_N_0135.mrxs\n",
      "noise filter :  True\n",
      "multiprocessing :  32\n",
      "slide_name train_stomach_N_0135\n"
     ]
    },
    {
     "name": "stderr",
     "output_type": "stream",
     "text": [
      " 32%|███▏      | 393/1210 [46:54<2:59:42, 13.20s/it]"
     ]
    },
    {
     "name": "stdout",
     "output_type": "stream",
     "text": [
      "Titling Time: 11.5 sec\n",
      "../data/train_data/Stomach/N/train_stomach_N_0194.mrxs\n",
      "noise filter :  True\n",
      "multiprocessing :  32\n",
      "slide_name train_stomach_N_0194\n"
     ]
    },
    {
     "name": "stderr",
     "output_type": "stream",
     "text": [
      " 33%|███▎      | 394/1210 [47:07<3:00:09, 13.25s/it]"
     ]
    },
    {
     "name": "stdout",
     "output_type": "stream",
     "text": [
      "Titling Time: 12.7 sec\n",
      "../data/train_data/Stomach/N/train_stomach_N_0035.mrxs\n",
      "noise filter :  True\n",
      "multiprocessing :  32\n",
      "slide_name train_stomach_N_0035\n"
     ]
    },
    {
     "name": "stderr",
     "output_type": "stream",
     "text": [
      " 33%|███▎      | 395/1210 [47:28<3:32:58, 15.68s/it]"
     ]
    },
    {
     "name": "stdout",
     "output_type": "stream",
     "text": [
      "Titling Time: 11.4 sec\n",
      "../data/train_data/Stomach/N/train_stomach_N_0065.mrxs\n",
      "noise filter :  True\n",
      "multiprocessing :  32\n",
      "slide_name train_stomach_N_0065\n"
     ]
    },
    {
     "name": "stderr",
     "output_type": "stream",
     "text": [
      " 33%|███▎      | 396/1210 [47:41<3:21:03, 14.82s/it]"
     ]
    },
    {
     "name": "stdout",
     "output_type": "stream",
     "text": [
      "Titling Time: 12.4 sec\n",
      "../data/train_data/Stomach/N/train_stomach_N_0138.mrxs\n",
      "noise filter :  True\n",
      "multiprocessing :  32\n",
      "slide_name train_stomach_N_0138\n"
     ]
    },
    {
     "name": "stderr",
     "output_type": "stream",
     "text": [
      " 33%|███▎      | 397/1210 [47:53<3:08:21, 13.90s/it]"
     ]
    },
    {
     "name": "stdout",
     "output_type": "stream",
     "text": [
      "Titling Time: 11.3 sec\n",
      "../data/train_data/Stomach/N/train_stomach_N_0042.mrxs\n",
      "noise filter :  True\n",
      "multiprocessing :  32\n",
      "slide_name train_stomach_N_0042\n"
     ]
    },
    {
     "name": "stderr",
     "output_type": "stream",
     "text": [
      " 33%|███▎      | 398/1210 [48:05<2:59:01, 13.23s/it]"
     ]
    },
    {
     "name": "stdout",
     "output_type": "stream",
     "text": [
      "Titling Time: 11.2 sec\n",
      "../data/train_data/Stomach/N/train_stomach_N_0104.mrxs\n",
      "noise filter :  True\n",
      "multiprocessing :  32\n",
      "slide_name train_stomach_N_0104\n"
     ]
    },
    {
     "name": "stderr",
     "output_type": "stream",
     "text": [
      " 33%|███▎      | 399/1210 [48:17<2:55:35, 12.99s/it]"
     ]
    },
    {
     "name": "stdout",
     "output_type": "stream",
     "text": [
      "Titling Time: 12.0 sec\n",
      "../data/train_data/Stomach/N/train_stomach_N_0180.mrxs\n",
      "noise filter :  True\n",
      "multiprocessing :  32\n",
      "slide_name train_stomach_N_0180\n"
     ]
    },
    {
     "name": "stderr",
     "output_type": "stream",
     "text": [
      " 33%|███▎      | 400/1210 [48:29<2:50:53, 12.66s/it]"
     ]
    },
    {
     "name": "stdout",
     "output_type": "stream",
     "text": [
      "Titling Time: 11.5 sec\n",
      "../data/train_data/Stomach/N/train_stomach_N_0039.mrxs\n",
      "noise filter :  True\n",
      "multiprocessing :  32\n",
      "slide_name train_stomach_N_0039\n"
     ]
    },
    {
     "name": "stderr",
     "output_type": "stream",
     "text": [
      " 33%|███▎      | 401/1210 [48:41<2:49:18, 12.56s/it]"
     ]
    },
    {
     "name": "stdout",
     "output_type": "stream",
     "text": [
      "Titling Time: 11.9 sec\n",
      "../data/train_data/Colon/N/train_colon_N0188.mrxs\n",
      "noise filter :  True\n",
      "multiprocessing :  32\n",
      "slide_name train_colon_N0188\n"
     ]
    },
    {
     "name": "stderr",
     "output_type": "stream",
     "text": [
      " 67%|██████▋   | 811/1210 [48:59<00:45,  8.73it/s]  "
     ]
    },
    {
     "name": "stdout",
     "output_type": "stream",
     "text": [
      "Titling Time: 17.4 sec\n",
      "../data/train_data/Colon/N/train_colon_N0089.mrxs\n",
      "noise filter :  True\n",
      "multiprocessing :  32\n",
      "slide_name train_colon_N0089\n"
     ]
    },
    {
     "name": "stderr",
     "output_type": "stream",
     "text": [
      " 67%|██████▋   | 812/1210 [49:22<01:17,  5.16it/s]"
     ]
    },
    {
     "name": "stdout",
     "output_type": "stream",
     "text": [
      "Titling Time: 12.0 sec\n",
      "../data/train_data/Colon/N/train_colon_N0062.mrxs\n",
      "noise filter :  True\n",
      "multiprocessing :  32\n",
      "slide_name train_colon_N0062\n"
     ]
    },
    {
     "name": "stderr",
     "output_type": "stream",
     "text": [
      " 67%|██████▋   | 813/1210 [49:34<01:39,  3.99it/s]"
     ]
    },
    {
     "name": "stdout",
     "output_type": "stream",
     "text": [
      "Titling Time: 11.3 sec\n",
      "../data/train_data/Colon/N/train_colon_N0121.mrxs\n",
      "noise filter :  True\n",
      "multiprocessing :  32\n",
      "slide_name train_colon_N0121\n"
     ]
    },
    {
     "name": "stderr",
     "output_type": "stream",
     "text": [
      " 67%|██████▋   | 814/1210 [49:46<02:10,  3.04it/s]"
     ]
    },
    {
     "name": "stdout",
     "output_type": "stream",
     "text": [
      "Titling Time: 11.0 sec\n",
      "../data/train_data/Colon/N/train_colon_N0039.mrxs\n",
      "noise filter :  True\n",
      "multiprocessing :  32\n",
      "slide_name train_colon_N0039\n"
     ]
    },
    {
     "name": "stderr",
     "output_type": "stream",
     "text": [
      " 67%|██████▋   | 815/1210 [50:02<03:12,  2.05it/s]"
     ]
    },
    {
     "name": "stdout",
     "output_type": "stream",
     "text": [
      "Titling Time: 11.6 sec\n",
      "../data/train_data/Colon/N/train_colon_N0049.mrxs\n",
      "noise filter :  True\n",
      "multiprocessing :  32\n",
      "slide_name train_colon_N0049\n"
     ]
    },
    {
     "name": "stderr",
     "output_type": "stream",
     "text": [
      " 67%|██████▋   | 816/1210 [50:15<04:21,  1.50it/s]"
     ]
    },
    {
     "name": "stdout",
     "output_type": "stream",
     "text": [
      "Titling Time: 12.6 sec\n",
      "../data/train_data/Colon/N/train_colon_N0179.mrxs\n",
      "noise filter :  True\n",
      "multiprocessing :  32\n",
      "slide_name train_colon_N0179\n"
     ]
    },
    {
     "name": "stderr",
     "output_type": "stream",
     "text": [
      " 68%|██████▊   | 817/1210 [50:32<06:23,  1.02it/s]"
     ]
    },
    {
     "name": "stdout",
     "output_type": "stream",
     "text": [
      "Titling Time: 16.1 sec\n",
      "../data/train_data/Colon/N/train_colon_N0082.mrxs\n",
      "noise filter :  True\n",
      "multiprocessing :  32\n",
      "slide_name train_colon_N0082\n"
     ]
    },
    {
     "name": "stderr",
     "output_type": "stream",
     "text": [
      " 68%|██████▊   | 818/1210 [50:51<09:30,  1.46s/it]"
     ]
    },
    {
     "name": "stdout",
     "output_type": "stream",
     "text": [
      "Titling Time: 14.8 sec\n",
      "../data/train_data/Colon/N/train_colon_N0143.mrxs\n",
      "noise filter :  True\n",
      "multiprocessing :  32\n",
      "slide_name train_colon_N0143\n"
     ]
    },
    {
     "name": "stderr",
     "output_type": "stream",
     "text": [
      " 68%|██████▊   | 819/1210 [51:14<14:53,  2.29s/it]"
     ]
    },
    {
     "name": "stdout",
     "output_type": "stream",
     "text": [
      "Titling Time: 23.3 sec\n",
      "../data/train_data/Colon/N/train_colon_N0047.mrxs\n",
      "noise filter :  True\n",
      "multiprocessing :  32\n",
      "slide_name train_colon_N0047\n"
     ]
    },
    {
     "name": "stderr",
     "output_type": "stream",
     "text": [
      " 68%|██████▊   | 820/1210 [51:36<21:09,  3.26s/it]"
     ]
    },
    {
     "name": "stdout",
     "output_type": "stream",
     "text": [
      "Titling Time: 12.4 sec\n",
      "../data/train_data/Colon/N/train_colon_N0129.mrxs\n",
      "noise filter :  True\n",
      "multiprocessing :  32\n",
      "slide_name train_colon_N0129\n"
     ]
    },
    {
     "name": "stderr",
     "output_type": "stream",
     "text": [
      " 68%|██████▊   | 821/1210 [51:48<24:59,  3.85s/it]"
     ]
    },
    {
     "name": "stdout",
     "output_type": "stream",
     "text": [
      "Titling Time: 11.7 sec\n",
      "../data/train_data/Colon/N/train_colon_N0052.mrxs\n",
      "noise filter :  True\n",
      "multiprocessing :  32\n",
      "slide_name train_colon_N0052\n"
     ]
    },
    {
     "name": "stderr",
     "output_type": "stream",
     "text": [
      " 68%|██████▊   | 822/1210 [52:01<29:52,  4.62s/it]"
     ]
    },
    {
     "name": "stdout",
     "output_type": "stream",
     "text": [
      "Titling Time: 12.1 sec\n",
      "../data/train_data/Colon/N/train_colon_N0103.mrxs\n",
      "noise filter :  True\n",
      "multiprocessing :  32\n",
      "slide_name train_colon_N0103\n"
     ]
    },
    {
     "name": "stderr",
     "output_type": "stream",
     "text": [
      " 68%|██████▊   | 823/1210 [52:13<35:13,  5.46s/it]"
     ]
    },
    {
     "name": "stdout",
     "output_type": "stream",
     "text": [
      "Titling Time: 11.7 sec\n",
      "../data/train_data/Colon/N/train_colon_N0015.mrxs\n",
      "noise filter :  True\n",
      "multiprocessing :  32\n",
      "slide_name train_colon_N0015\n"
     ]
    },
    {
     "name": "stderr",
     "output_type": "stream",
     "text": [
      " 68%|██████▊   | 824/1210 [52:25<41:11,  6.40s/it]"
     ]
    },
    {
     "name": "stdout",
     "output_type": "stream",
     "text": [
      "Titling Time: 11.6 sec\n",
      "../data/train_data/Colon/N/train_colon_N0013.mrxs\n",
      "noise filter :  True\n",
      "multiprocessing :  32\n",
      "slide_name train_colon_N0013\n"
     ]
    },
    {
     "name": "stderr",
     "output_type": "stream",
     "text": [
      " 68%|██████▊   | 825/1210 [52:37<46:57,  7.32s/it]"
     ]
    },
    {
     "name": "stdout",
     "output_type": "stream",
     "text": [
      "Titling Time: 11.6 sec\n",
      "../data/train_data/Colon/N/train_colon_N0167.mrxs\n",
      "noise filter :  True\n",
      "multiprocessing :  32\n",
      "slide_name train_colon_N0167\n"
     ]
    },
    {
     "name": "stderr",
     "output_type": "stream",
     "text": [
      " 68%|██████▊   | 826/1210 [52:50<52:55,  8.27s/it]"
     ]
    },
    {
     "name": "stdout",
     "output_type": "stream",
     "text": [
      "Titling Time: 11.8 sec\n",
      "../data/train_data/Colon/N/train_colon_N0149.mrxs\n",
      "noise filter :  True\n",
      "multiprocessing :  32\n",
      "slide_name train_colon_N0149\n"
     ]
    },
    {
     "name": "stderr",
     "output_type": "stream",
     "text": [
      " 68%|██████▊   | 827/1210 [53:02<57:45,  9.05s/it]"
     ]
    },
    {
     "name": "stdout",
     "output_type": "stream",
     "text": [
      "Titling Time: 11.3 sec\n",
      "../data/train_data/Colon/N/train_colon_N0024.mrxs\n",
      "noise filter :  True\n",
      "multiprocessing :  32\n",
      "slide_name train_colon_N0024\n"
     ]
    },
    {
     "name": "stderr",
     "output_type": "stream",
     "text": [
      " 68%|██████▊   | 828/1210 [53:18<1:09:19, 10.89s/it]"
     ]
    },
    {
     "name": "stdout",
     "output_type": "stream",
     "text": [
      "Titling Time: 16.3 sec\n",
      "../data/train_data/Colon/N/train_colon_N0190.mrxs\n",
      "noise filter :  True\n",
      "multiprocessing :  32\n",
      "slide_name train_colon_N0190\n"
     ]
    },
    {
     "name": "stderr",
     "output_type": "stream",
     "text": [
      " 69%|██████▊   | 829/1210 [53:44<1:32:21, 14.54s/it]"
     ]
    },
    {
     "name": "stdout",
     "output_type": "stream",
     "text": [
      "Titling Time: 24.4 sec\n",
      "../data/train_data/Colon/N/train_colon_N0156.mrxs\n",
      "noise filter :  True\n",
      "multiprocessing :  32\n",
      "slide_name train_colon_N0156\n"
     ]
    },
    {
     "name": "stderr",
     "output_type": "stream",
     "text": [
      " 69%|██████▊   | 830/1210 [54:00<1:34:11, 14.87s/it]"
     ]
    },
    {
     "name": "stdout",
     "output_type": "stream",
     "text": [
      "Titling Time: 15.2 sec\n",
      "../data/train_data/Colon/N/train_colon_N0055.mrxs\n",
      "noise filter :  True\n",
      "multiprocessing :  32\n",
      "slide_name train_colon_N0055\n"
     ]
    },
    {
     "name": "stderr",
     "output_type": "stream",
     "text": [
      " 69%|██████▊   | 831/1210 [54:18<1:39:30, 15.75s/it]"
     ]
    },
    {
     "name": "stdout",
     "output_type": "stream",
     "text": [
      "Titling Time: 17.6 sec\n",
      "../data/train_data/Colon/N/train_colon_N0104.mrxs\n",
      "noise filter :  True\n",
      "multiprocessing :  32\n",
      "slide_name train_colon_N0104\n"
     ]
    },
    {
     "name": "stderr",
     "output_type": "stream",
     "text": [
      " 69%|██████▉   | 832/1210 [54:38<1:46:15, 16.87s/it]"
     ]
    },
    {
     "name": "stdout",
     "output_type": "stream",
     "text": [
      "Titling Time: 11.6 sec\n",
      "../data/train_data/Colon/N/train_colon_N0141.mrxs\n",
      "noise filter :  True\n",
      "multiprocessing :  32\n",
      "slide_name train_colon_N0141\n"
     ]
    },
    {
     "name": "stderr",
     "output_type": "stream",
     "text": [
      " 69%|██████▉   | 833/1210 [54:51<1:39:24, 15.82s/it]"
     ]
    },
    {
     "name": "stdout",
     "output_type": "stream",
     "text": [
      "Titling Time: 12.6 sec\n",
      "../data/train_data/Colon/N/train_colon_N0108.mrxs\n",
      "noise filter :  True\n",
      "multiprocessing :  32\n",
      "slide_name train_colon_N0108\n"
     ]
    },
    {
     "name": "stderr",
     "output_type": "stream",
     "text": [
      " 69%|██████▉   | 834/1210 [55:13<1:50:15, 17.59s/it]"
     ]
    },
    {
     "name": "stdout",
     "output_type": "stream",
     "text": [
      "Titling Time: 21.5 sec\n",
      "../data/train_data/Colon/N/train_colon_N0048.mrxs\n",
      "noise filter :  True\n",
      "multiprocessing :  32\n",
      "slide_name train_colon_N0048\n"
     ]
    },
    {
     "name": "stderr",
     "output_type": "stream",
     "text": [
      " 69%|██████▉   | 835/1210 [55:26<1:42:07, 16.34s/it]"
     ]
    },
    {
     "name": "stdout",
     "output_type": "stream",
     "text": [
      "Titling Time: 12.7 sec\n",
      "../data/train_data/Colon/N/train_colon_N0193.mrxs\n",
      "noise filter :  True\n",
      "multiprocessing :  32\n",
      "slide_name train_colon_N0193\n"
     ]
    },
    {
     "name": "stderr",
     "output_type": "stream",
     "text": [
      " 69%|██████▉   | 836/1210 [55:44<1:44:47, 16.81s/it]"
     ]
    },
    {
     "name": "stdout",
     "output_type": "stream",
     "text": [
      "Titling Time: 17.5 sec\n",
      "../data/train_data/Colon/N/train_colon_N0030.mrxs\n",
      "noise filter :  True\n",
      "multiprocessing :  32\n",
      "slide_name train_colon_N0030\n"
     ]
    },
    {
     "name": "stderr",
     "output_type": "stream",
     "text": [
      " 69%|██████▉   | 837/1210 [55:56<1:35:47, 15.41s/it]"
     ]
    },
    {
     "name": "stdout",
     "output_type": "stream",
     "text": [
      "Titling Time: 11.6 sec\n",
      "../data/train_data/Colon/N/train_colon_N0081.mrxs\n",
      "noise filter :  True\n",
      "multiprocessing :  32\n",
      "slide_name train_colon_N0081\n"
     ]
    },
    {
     "name": "stderr",
     "output_type": "stream",
     "text": [
      " 69%|██████▉   | 838/1210 [56:10<1:33:44, 15.12s/it]"
     ]
    },
    {
     "name": "stdout",
     "output_type": "stream",
     "text": [
      "Titling Time: 13.9 sec\n",
      "../data/train_data/Colon/N/train_colon_N0107.mrxs\n",
      "noise filter :  True\n",
      "multiprocessing :  32\n",
      "slide_name train_colon_N0107\n"
     ]
    },
    {
     "name": "stderr",
     "output_type": "stream",
     "text": [
      " 69%|██████▉   | 839/1210 [56:23<1:29:24, 14.46s/it]"
     ]
    },
    {
     "name": "stdout",
     "output_type": "stream",
     "text": [
      "Titling Time: 12.4 sec\n",
      "../data/train_data/Colon/N/train_colon_N0173.mrxs\n",
      "noise filter :  True\n",
      "multiprocessing :  32\n",
      "slide_name train_colon_N0173\n"
     ]
    },
    {
     "name": "stderr",
     "output_type": "stream",
     "text": [
      " 69%|██████▉   | 840/1210 [56:47<1:45:44, 17.15s/it]"
     ]
    },
    {
     "name": "stdout",
     "output_type": "stream",
     "text": [
      "Titling Time: 11.8 sec\n",
      "../data/train_data/Colon/N/train_colon_N0023.mrxs\n",
      "noise filter :  True\n",
      "multiprocessing :  32\n",
      "slide_name train_colon_N0023\n"
     ]
    },
    {
     "name": "stderr",
     "output_type": "stream",
     "text": [
      " 70%|██████▉   | 841/1210 [57:10<1:55:52, 18.84s/it]"
     ]
    },
    {
     "name": "stdout",
     "output_type": "stream",
     "text": [
      "Titling Time: 22.2 sec\n",
      "../data/train_data/Colon/N/train_colon_N0065.mrxs\n",
      "noise filter :  True\n",
      "multiprocessing :  32\n",
      "slide_name train_colon_N0065\n"
     ]
    },
    {
     "name": "stderr",
     "output_type": "stream",
     "text": [
      " 70%|██████▉   | 842/1210 [57:22<1:44:03, 16.97s/it]"
     ]
    },
    {
     "name": "stdout",
     "output_type": "stream",
     "text": [
      "Titling Time: 12.1 sec\n",
      "../data/train_data/Colon/N/train_colon_N0101.mrxs\n",
      "noise filter :  True\n",
      "multiprocessing :  32\n",
      "slide_name train_colon_N0101\n"
     ]
    },
    {
     "name": "stderr",
     "output_type": "stream",
     "text": [
      " 70%|██████▉   | 843/1210 [57:34<1:34:34, 15.46s/it]"
     ]
    },
    {
     "name": "stdout",
     "output_type": "stream",
     "text": [
      "Titling Time: 11.4 sec\n",
      "../data/train_data/Colon/N/train_colon_N0197.mrxs\n",
      "noise filter :  True\n",
      "multiprocessing :  32\n",
      "slide_name train_colon_N0197\n"
     ]
    },
    {
     "name": "stderr",
     "output_type": "stream",
     "text": [
      " 70%|██████▉   | 844/1210 [57:46<1:27:53, 14.41s/it]"
     ]
    },
    {
     "name": "stdout",
     "output_type": "stream",
     "text": [
      "Titling Time: 11.4 sec\n",
      "../data/train_data/Colon/N/train_colon_N0085.mrxs\n",
      "noise filter :  True\n",
      "multiprocessing :  32\n",
      "slide_name train_colon_N0085\n"
     ]
    },
    {
     "name": "stderr",
     "output_type": "stream",
     "text": [
      " 70%|██████▉   | 845/1210 [58:04<1:33:53, 15.43s/it]"
     ]
    },
    {
     "name": "stdout",
     "output_type": "stream",
     "text": [
      "Titling Time: 17.3 sec\n",
      "../data/train_data/Colon/N/train_colon_N0092.mrxs\n",
      "noise filter :  True\n",
      "multiprocessing :  32\n",
      "slide_name train_colon_N0092\n"
     ]
    },
    {
     "name": "stderr",
     "output_type": "stream",
     "text": [
      " 70%|██████▉   | 846/1210 [58:17<1:28:58, 14.67s/it]"
     ]
    },
    {
     "name": "stdout",
     "output_type": "stream",
     "text": [
      "Titling Time: 12.2 sec\n",
      "../data/train_data/Colon/N/train_colon_N0087.mrxs\n",
      "noise filter :  True\n",
      "multiprocessing :  32\n",
      "slide_name train_colon_N0087\n"
     ]
    },
    {
     "name": "stderr",
     "output_type": "stream",
     "text": [
      " 70%|███████   | 847/1210 [58:29<1:24:51, 14.03s/it]"
     ]
    },
    {
     "name": "stdout",
     "output_type": "stream",
     "text": [
      "Titling Time: 12.0 sec\n",
      "../data/train_data/Colon/N/train_colon_N0185.mrxs\n",
      "noise filter :  True\n",
      "multiprocessing :  32\n",
      "slide_name train_colon_N0185\n"
     ]
    },
    {
     "name": "stderr",
     "output_type": "stream",
     "text": [
      " 70%|███████   | 848/1210 [58:42<1:22:16, 13.64s/it]"
     ]
    },
    {
     "name": "stdout",
     "output_type": "stream",
     "text": [
      "Titling Time: 12.2 sec\n",
      "../data/train_data/Colon/N/train_colon_N0106.mrxs\n",
      "noise filter :  True\n",
      "multiprocessing :  32\n",
      "slide_name train_colon_N0106\n"
     ]
    },
    {
     "name": "stderr",
     "output_type": "stream",
     "text": [
      " 70%|███████   | 849/1210 [58:54<1:18:19, 13.02s/it]"
     ]
    },
    {
     "name": "stdout",
     "output_type": "stream",
     "text": [
      "Titling Time: 11.2 sec\n",
      "../data/train_data/Colon/N/train_colon_N0043.mrxs\n",
      "noise filter :  True\n",
      "multiprocessing :  32\n",
      "slide_name train_colon_N0043\n"
     ]
    },
    {
     "name": "stderr",
     "output_type": "stream",
     "text": [
      " 70%|███████   | 850/1210 [59:06<1:16:12, 12.70s/it]"
     ]
    },
    {
     "name": "stdout",
     "output_type": "stream",
     "text": [
      "Titling Time: 11.5 sec\n",
      "../data/train_data/Colon/N/train_colon_N0112.mrxs\n",
      "noise filter :  True\n",
      "multiprocessing :  32\n",
      "slide_name train_colon_N0112\n"
     ]
    },
    {
     "name": "stderr",
     "output_type": "stream",
     "text": [
      " 70%|███████   | 851/1210 [59:33<1:42:49, 17.19s/it]"
     ]
    },
    {
     "name": "stdout",
     "output_type": "stream",
     "text": [
      "Titling Time: 11.6 sec\n",
      "../data/train_data/Colon/N/train_colon_N0006.mrxs\n",
      "noise filter :  True\n",
      "multiprocessing :  32\n",
      "slide_name train_colon_N0006\n"
     ]
    },
    {
     "name": "stderr",
     "output_type": "stream",
     "text": [
      " 70%|███████   | 852/1210 [59:45<1:33:30, 15.67s/it]"
     ]
    },
    {
     "name": "stdout",
     "output_type": "stream",
     "text": [
      "Titling Time: 11.7 sec\n",
      "../data/train_data/Colon/N/train_colon_N0192.mrxs\n",
      "noise filter :  True\n",
      "multiprocessing :  32\n",
      "slide_name train_colon_N0192\n"
     ]
    },
    {
     "name": "stderr",
     "output_type": "stream",
     "text": [
      " 70%|███████   | 853/1210 [1:00:05<1:39:34, 16.73s/it]"
     ]
    },
    {
     "name": "stdout",
     "output_type": "stream",
     "text": [
      "Titling Time: 18.7 sec\n",
      "../data/train_data/Colon/N/train_colon_N0158.mrxs\n",
      "noise filter :  True\n",
      "multiprocessing :  32\n",
      "slide_name train_colon_N0158\n"
     ]
    },
    {
     "name": "stderr",
     "output_type": "stream",
     "text": [
      " 71%|███████   | 854/1210 [1:00:17<1:31:02, 15.35s/it]"
     ]
    },
    {
     "name": "stdout",
     "output_type": "stream",
     "text": [
      "Titling Time: 11.7 sec\n",
      "../data/train_data/Colon/N/train_colon_N0011.mrxs\n",
      "noise filter :  True\n",
      "multiprocessing :  32\n",
      "slide_name train_colon_N0011\n"
     ]
    },
    {
     "name": "stderr",
     "output_type": "stream",
     "text": [
      " 71%|███████   | 855/1210 [1:00:29<1:25:45, 14.49s/it]"
     ]
    },
    {
     "name": "stdout",
     "output_type": "stream",
     "text": [
      "Titling Time: 12.0 sec\n",
      "../data/train_data/Colon/N/train_colon_N0139.mrxs\n",
      "noise filter :  True\n",
      "multiprocessing :  32\n",
      "slide_name train_colon_N0139\n"
     ]
    },
    {
     "name": "stderr",
     "output_type": "stream",
     "text": [
      " 71%|███████   | 856/1210 [1:00:42<1:22:21, 13.96s/it]"
     ]
    },
    {
     "name": "stdout",
     "output_type": "stream",
     "text": [
      "Titling Time: 12.2 sec\n",
      "../data/train_data/Colon/N/train_colon_N0116.mrxs\n",
      "noise filter :  True\n",
      "multiprocessing :  32\n",
      "slide_name train_colon_N0116\n"
     ]
    },
    {
     "name": "stderr",
     "output_type": "stream",
     "text": [
      " 71%|███████   | 857/1210 [1:00:54<1:19:22, 13.49s/it]"
     ]
    },
    {
     "name": "stdout",
     "output_type": "stream",
     "text": [
      "Titling Time: 11.9 sec\n",
      "../data/train_data/Colon/N/train_colon_N0126.mrxs\n",
      "noise filter :  True\n",
      "multiprocessing :  32\n",
      "slide_name train_colon_N0126\n"
     ]
    },
    {
     "name": "stderr",
     "output_type": "stream",
     "text": [
      " 71%|███████   | 858/1210 [1:01:15<1:31:52, 15.66s/it]"
     ]
    },
    {
     "name": "stdout",
     "output_type": "stream",
     "text": [
      "Titling Time: 12.0 sec\n",
      "../data/train_data/Colon/N/train_colon_N0119.mrxs\n",
      "noise filter :  True\n",
      "multiprocessing :  32\n",
      "slide_name train_colon_N0119\n"
     ]
    },
    {
     "name": "stderr",
     "output_type": "stream",
     "text": [
      " 71%|███████   | 859/1210 [1:01:28<1:26:35, 14.80s/it]"
     ]
    },
    {
     "name": "stdout",
     "output_type": "stream",
     "text": [
      "Titling Time: 12.2 sec\n",
      "../data/train_data/Colon/N/train_colon_N0174.mrxs\n",
      "noise filter :  True\n",
      "multiprocessing :  32\n",
      "slide_name train_colon_N0174\n"
     ]
    },
    {
     "name": "stderr",
     "output_type": "stream",
     "text": [
      " 71%|███████   | 860/1210 [1:01:40<1:22:03, 14.07s/it]"
     ]
    },
    {
     "name": "stdout",
     "output_type": "stream",
     "text": [
      "Titling Time: 11.9 sec\n",
      "../data/train_data/Colon/N/train_colon_N0165.mrxs\n",
      "noise filter :  True\n",
      "multiprocessing :  32\n",
      "slide_name train_colon_N0165\n"
     ]
    },
    {
     "name": "stderr",
     "output_type": "stream",
     "text": [
      " 71%|███████   | 861/1210 [1:01:53<1:19:15, 13.63s/it]"
     ]
    },
    {
     "name": "stdout",
     "output_type": "stream",
     "text": [
      "Titling Time: 12.1 sec\n",
      "../data/train_data/Colon/N/train_colon_N0163.mrxs\n",
      "noise filter :  True\n",
      "multiprocessing :  32\n",
      "slide_name train_colon_N0163\n"
     ]
    },
    {
     "name": "stderr",
     "output_type": "stream",
     "text": [
      " 71%|███████   | 862/1210 [1:02:06<1:17:28, 13.36s/it]"
     ]
    },
    {
     "name": "stdout",
     "output_type": "stream",
     "text": [
      "Titling Time: 12.2 sec\n",
      "../data/train_data/Colon/N/train_colon_N0028.mrxs\n",
      "noise filter :  True\n",
      "multiprocessing :  32\n",
      "slide_name train_colon_N0028\n"
     ]
    },
    {
     "name": "stderr",
     "output_type": "stream",
     "text": [
      " 71%|███████▏  | 863/1210 [1:02:19<1:16:43, 13.27s/it]"
     ]
    },
    {
     "name": "stdout",
     "output_type": "stream",
     "text": [
      "Titling Time: 12.4 sec\n",
      "../data/train_data/Colon/N/train_colon_N0026.mrxs\n",
      "noise filter :  True\n",
      "multiprocessing :  32\n",
      "slide_name train_colon_N0026\n"
     ]
    },
    {
     "name": "stderr",
     "output_type": "stream",
     "text": [
      " 71%|███████▏  | 864/1210 [1:02:52<1:51:37, 19.36s/it]"
     ]
    },
    {
     "name": "stdout",
     "output_type": "stream",
     "text": [
      "Titling Time: 24.6 sec\n",
      "../data/train_data/Colon/N/train_colon_N0137.mrxs\n",
      "noise filter :  True\n",
      "multiprocessing :  32\n",
      "slide_name train_colon_N0137\n"
     ]
    },
    {
     "name": "stderr",
     "output_type": "stream",
     "text": [
      " 71%|███████▏  | 865/1210 [1:03:10<1:48:31, 18.87s/it]"
     ]
    },
    {
     "name": "stdout",
     "output_type": "stream",
     "text": [
      "Titling Time: 17.2 sec\n",
      "../data/train_data/Colon/N/train_colon_N0171.mrxs\n",
      "noise filter :  True\n",
      "multiprocessing :  32\n",
      "slide_name train_colon_N0171\n"
     ]
    },
    {
     "name": "stderr",
     "output_type": "stream",
     "text": [
      " 72%|███████▏  | 866/1210 [1:03:22<1:37:15, 16.96s/it]"
     ]
    },
    {
     "name": "stdout",
     "output_type": "stream",
     "text": [
      "Titling Time: 11.9 sec\n",
      "../data/train_data/Colon/N/train_colon_N0176.mrxs\n",
      "noise filter :  True\n",
      "multiprocessing :  32\n",
      "slide_name train_colon_N0176\n"
     ]
    },
    {
     "name": "stderr",
     "output_type": "stream",
     "text": [
      " 72%|███████▏  | 867/1210 [1:03:40<1:38:14, 17.18s/it]"
     ]
    },
    {
     "name": "stdout",
     "output_type": "stream",
     "text": [
      "Titling Time: 17.2 sec\n",
      "../data/train_data/Colon/N/train_colon_N0099.mrxs\n",
      "noise filter :  True\n",
      "multiprocessing :  32\n",
      "slide_name train_colon_N0099\n"
     ]
    },
    {
     "name": "stderr",
     "output_type": "stream",
     "text": [
      " 72%|███████▏  | 868/1210 [1:03:53<1:30:17, 15.84s/it]"
     ]
    },
    {
     "name": "stdout",
     "output_type": "stream",
     "text": [
      "Titling Time: 12.1 sec\n",
      "../data/train_data/Colon/N/train_colon_N0182.mrxs\n",
      "noise filter :  True\n",
      "multiprocessing :  32\n",
      "slide_name train_colon_N0182\n"
     ]
    },
    {
     "name": "stderr",
     "output_type": "stream",
     "text": [
      " 72%|███████▏  | 869/1210 [1:04:05<1:23:11, 14.64s/it]"
     ]
    },
    {
     "name": "stdout",
     "output_type": "stream",
     "text": [
      "Titling Time: 11.4 sec\n",
      "../data/train_data/Colon/N/train_colon_N0038.mrxs\n",
      "noise filter :  True\n",
      "multiprocessing :  32\n",
      "slide_name train_colon_N0038\n"
     ]
    },
    {
     "name": "stderr",
     "output_type": "stream",
     "text": [
      " 72%|███████▏  | 870/1210 [1:04:16<1:18:00, 13.77s/it]"
     ]
    },
    {
     "name": "stdout",
     "output_type": "stream",
     "text": [
      "Titling Time: 11.3 sec\n",
      "../data/train_data/Colon/N/train_colon_N0014.mrxs\n",
      "noise filter :  True\n",
      "multiprocessing :  32\n",
      "slide_name train_colon_N0014\n"
     ]
    },
    {
     "name": "stderr",
     "output_type": "stream",
     "text": [
      " 72%|███████▏  | 871/1210 [1:04:29<1:15:12, 13.31s/it]"
     ]
    },
    {
     "name": "stdout",
     "output_type": "stream",
     "text": [
      "Titling Time: 11.8 sec\n",
      "../data/train_data/Colon/N/train_colon_N0003.mrxs\n",
      "noise filter :  True\n",
      "multiprocessing :  32\n",
      "slide_name train_colon_N0003\n"
     ]
    },
    {
     "name": "stderr",
     "output_type": "stream",
     "text": [
      " 72%|███████▏  | 872/1210 [1:04:40<1:11:33, 12.70s/it]"
     ]
    },
    {
     "name": "stdout",
     "output_type": "stream",
     "text": [
      "Titling Time: 10.9 sec\n",
      "../data/train_data/Colon/N/train_colon_N0095.mrxs\n",
      "noise filter :  True\n",
      "multiprocessing :  32\n",
      "slide_name train_colon_N0095\n"
     ]
    },
    {
     "name": "stderr",
     "output_type": "stream",
     "text": [
      " 72%|███████▏  | 873/1210 [1:04:53<1:11:09, 12.67s/it]"
     ]
    },
    {
     "name": "stdout",
     "output_type": "stream",
     "text": [
      "Titling Time: 12.1 sec\n",
      "../data/train_data/Colon/N/train_colon_N0090.mrxs\n",
      "noise filter :  True\n",
      "multiprocessing :  32\n",
      "slide_name train_colon_N0090\n"
     ]
    },
    {
     "name": "stderr",
     "output_type": "stream",
     "text": [
      " 72%|███████▏  | 874/1210 [1:05:13<1:24:41, 15.12s/it]"
     ]
    },
    {
     "name": "stdout",
     "output_type": "stream",
     "text": [
      "Titling Time: 20.3 sec\n",
      "../data/train_data/Colon/N/train_colon_N0169.mrxs\n",
      "noise filter :  True\n",
      "multiprocessing :  32\n",
      "slide_name train_colon_N0169\n"
     ]
    },
    {
     "name": "stderr",
     "output_type": "stream",
     "text": [
      " 72%|███████▏  | 875/1210 [1:05:36<1:37:45, 17.51s/it]"
     ]
    },
    {
     "name": "stdout",
     "output_type": "stream",
     "text": [
      "Titling Time: 22.2 sec\n",
      "../data/train_data/Colon/N/train_colon_N0196.mrxs\n",
      "noise filter :  True\n",
      "multiprocessing :  32\n",
      "slide_name train_colon_N0196\n"
     ]
    },
    {
     "name": "stderr",
     "output_type": "stream",
     "text": [
      " 72%|███████▏  | 876/1210 [1:05:51<1:32:21, 16.59s/it]"
     ]
    },
    {
     "name": "stdout",
     "output_type": "stream",
     "text": [
      "Titling Time: 13.8 sec\n",
      "../data/train_data/Colon/N/train_colon_N0118.mrxs\n",
      "noise filter :  True\n",
      "multiprocessing :  32\n",
      "slide_name train_colon_N0118\n"
     ]
    },
    {
     "name": "stderr",
     "output_type": "stream",
     "text": [
      " 72%|███████▏  | 877/1210 [1:06:03<1:25:00, 15.32s/it]"
     ]
    },
    {
     "name": "stdout",
     "output_type": "stream",
     "text": [
      "Titling Time: 11.2 sec\n",
      "../data/train_data/Colon/N/train_colon_N0002.mrxs\n",
      "noise filter :  True\n",
      "multiprocessing :  32\n",
      "slide_name train_colon_N0002\n"
     ]
    },
    {
     "name": "stderr",
     "output_type": "stream",
     "text": [
      " 73%|███████▎  | 878/1210 [1:06:19<1:25:56, 15.53s/it]"
     ]
    },
    {
     "name": "stdout",
     "output_type": "stream",
     "text": [
      "Titling Time: 12.1 sec\n",
      "../data/train_data/Colon/N/train_colon_N0031.mrxs\n",
      "noise filter :  True\n",
      "multiprocessing :  32\n",
      "slide_name train_colon_N0031\n"
     ]
    },
    {
     "name": "stderr",
     "output_type": "stream",
     "text": [
      " 73%|███████▎  | 879/1210 [1:06:32<1:21:44, 14.82s/it]"
     ]
    },
    {
     "name": "stdout",
     "output_type": "stream",
     "text": [
      "Titling Time: 12.6 sec\n",
      "../data/train_data/Colon/N/train_colon_N0144.mrxs\n",
      "noise filter :  True\n",
      "multiprocessing :  32\n",
      "slide_name train_colon_N0144\n"
     ]
    },
    {
     "name": "stderr",
     "output_type": "stream",
     "text": [
      " 73%|███████▎  | 880/1210 [1:06:44<1:16:51, 13.97s/it]"
     ]
    },
    {
     "name": "stdout",
     "output_type": "stream",
     "text": [
      "Titling Time: 11.3 sec\n",
      "../data/train_data/Colon/N/train_colon_N0153.mrxs\n",
      "noise filter :  True\n",
      "multiprocessing :  32\n",
      "slide_name train_colon_N0153\n"
     ]
    },
    {
     "name": "stderr",
     "output_type": "stream",
     "text": [
      " 73%|███████▎  | 881/1210 [1:07:07<1:31:22, 16.66s/it]"
     ]
    },
    {
     "name": "stdout",
     "output_type": "stream",
     "text": [
      "Titling Time: 11.7 sec\n",
      "../data/train_data/Colon/N/train_colon_N0134.mrxs\n",
      "noise filter :  True\n",
      "multiprocessing :  32\n",
      "slide_name train_colon_N0134\n"
     ]
    },
    {
     "name": "stderr",
     "output_type": "stream",
     "text": [
      " 73%|███████▎  | 882/1210 [1:07:20<1:24:02, 15.37s/it]"
     ]
    },
    {
     "name": "stdout",
     "output_type": "stream",
     "text": [
      "Titling Time: 11.8 sec\n",
      "../data/train_data/Colon/N/train_colon_N0200.mrxs\n",
      "noise filter :  True\n",
      "multiprocessing :  32\n",
      "slide_name train_colon_N0200\n"
     ]
    },
    {
     "name": "stderr",
     "output_type": "stream",
     "text": [
      " 73%|███████▎  | 883/1210 [1:07:37<1:27:13, 16.00s/it]"
     ]
    },
    {
     "name": "stdout",
     "output_type": "stream",
     "text": [
      "Titling Time: 13.6 sec\n",
      "../data/train_data/Colon/N/train_colon_N0147.mrxs\n",
      "noise filter :  True\n",
      "multiprocessing :  32\n",
      "slide_name train_colon_N0147\n"
     ]
    },
    {
     "name": "stderr",
     "output_type": "stream",
     "text": [
      " 73%|███████▎  | 884/1210 [1:07:51<1:22:32, 15.19s/it]"
     ]
    },
    {
     "name": "stdout",
     "output_type": "stream",
     "text": [
      "Titling Time: 12.6 sec\n",
      "../data/train_data/Colon/N/train_colon_N0078.mrxs\n",
      "noise filter :  True\n",
      "multiprocessing :  32\n",
      "slide_name train_colon_N0078\n"
     ]
    },
    {
     "name": "stderr",
     "output_type": "stream",
     "text": [
      " 73%|███████▎  | 885/1210 [1:08:10<1:28:41, 16.37s/it]"
     ]
    },
    {
     "name": "stdout",
     "output_type": "stream",
     "text": [
      "Titling Time: 18.6 sec\n",
      "../data/train_data/Colon/N/train_colon_N0113.mrxs\n",
      "noise filter :  True\n",
      "multiprocessing :  32\n",
      "slide_name train_colon_N0113\n"
     ]
    },
    {
     "name": "stderr",
     "output_type": "stream",
     "text": [
      " 73%|███████▎  | 886/1210 [1:08:22<1:22:08, 15.21s/it]"
     ]
    },
    {
     "name": "stdout",
     "output_type": "stream",
     "text": [
      "Titling Time: 12.0 sec\n",
      "../data/train_data/Colon/N/train_colon_N0111.mrxs\n",
      "noise filter :  True\n",
      "multiprocessing :  32\n",
      "slide_name train_colon_N0111\n"
     ]
    },
    {
     "name": "stderr",
     "output_type": "stream",
     "text": [
      " 73%|███████▎  | 887/1210 [1:08:35<1:17:56, 14.48s/it]"
     ]
    },
    {
     "name": "stdout",
     "output_type": "stream",
     "text": [
      "Titling Time: 12.2 sec\n",
      "../data/train_data/Colon/N/train_colon_N0140.mrxs\n",
      "noise filter :  True\n",
      "multiprocessing :  32\n",
      "slide_name train_colon_N0140\n"
     ]
    },
    {
     "name": "stderr",
     "output_type": "stream",
     "text": [
      " 73%|███████▎  | 888/1210 [1:08:47<1:14:01, 13.79s/it]"
     ]
    },
    {
     "name": "stdout",
     "output_type": "stream",
     "text": [
      "Titling Time: 11.7 sec\n",
      "../data/train_data/Colon/N/train_colon_N0075.mrxs\n",
      "noise filter :  True\n",
      "multiprocessing :  32\n",
      "slide_name train_colon_N0075\n"
     ]
    },
    {
     "name": "stderr",
     "output_type": "stream",
     "text": [
      " 73%|███████▎  | 889/1210 [1:09:15<1:35:52, 17.92s/it]"
     ]
    },
    {
     "name": "stdout",
     "output_type": "stream",
     "text": [
      "Titling Time: 16.6 sec\n",
      "../data/train_data/Colon/N/train_colon_N0183.mrxs\n",
      "noise filter :  True\n",
      "multiprocessing :  32\n",
      "slide_name train_colon_N0183\n"
     ]
    },
    {
     "name": "stderr",
     "output_type": "stream",
     "text": [
      " 74%|███████▎  | 890/1210 [1:09:27<1:27:11, 16.35s/it]"
     ]
    },
    {
     "name": "stdout",
     "output_type": "stream",
     "text": [
      "Titling Time: 12.1 sec\n",
      "../data/train_data/Colon/N/train_colon_N0115.mrxs\n",
      "noise filter :  True\n",
      "multiprocessing :  32\n",
      "slide_name train_colon_N0115\n"
     ]
    },
    {
     "name": "stderr",
     "output_type": "stream",
     "text": [
      " 74%|███████▎  | 891/1210 [1:09:40<1:21:12, 15.27s/it]"
     ]
    },
    {
     "name": "stdout",
     "output_type": "stream",
     "text": [
      "Titling Time: 12.2 sec\n",
      "../data/train_data/Colon/N/train_colon_N0004.mrxs\n",
      "noise filter :  True\n",
      "multiprocessing :  32\n",
      "slide_name train_colon_N0004\n"
     ]
    },
    {
     "name": "stderr",
     "output_type": "stream",
     "text": [
      " 74%|███████▎  | 892/1210 [1:09:58<1:25:04, 16.05s/it]"
     ]
    },
    {
     "name": "stdout",
     "output_type": "stream",
     "text": [
      "Titling Time: 12.5 sec\n",
      "../data/train_data/Colon/N/train_colon_N0125.mrxs\n",
      "noise filter :  True\n",
      "multiprocessing :  32\n",
      "slide_name train_colon_N0125\n"
     ]
    },
    {
     "name": "stderr",
     "output_type": "stream",
     "text": [
      " 74%|███████▍  | 893/1210 [1:10:10<1:17:50, 14.73s/it]"
     ]
    },
    {
     "name": "stdout",
     "output_type": "stream",
     "text": [
      "Titling Time: 11.2 sec\n",
      "../data/train_data/Colon/N/train_colon_N0124.mrxs\n",
      "noise filter :  True\n",
      "multiprocessing :  32\n",
      "slide_name train_colon_N0124\n"
     ]
    },
    {
     "name": "stderr",
     "output_type": "stream",
     "text": [
      " 74%|███████▍  | 894/1210 [1:10:27<1:21:21, 15.45s/it]"
     ]
    },
    {
     "name": "stdout",
     "output_type": "stream",
     "text": [
      "Titling Time: 11.4 sec\n",
      "../data/train_data/Colon/N/train_colon_N0168.mrxs\n",
      "noise filter :  True\n",
      "multiprocessing :  32\n",
      "slide_name train_colon_N0168\n"
     ]
    },
    {
     "name": "stderr",
     "output_type": "stream",
     "text": [
      " 74%|███████▍  | 895/1210 [1:10:39<1:15:42, 14.42s/it]"
     ]
    },
    {
     "name": "stdout",
     "output_type": "stream",
     "text": [
      "Titling Time: 11.5 sec\n",
      "../data/train_data/Colon/N/train_colon_N0051.mrxs\n",
      "noise filter :  True\n",
      "multiprocessing :  32\n",
      "slide_name train_colon_N0051\n"
     ]
    },
    {
     "name": "stderr",
     "output_type": "stream",
     "text": [
      " 74%|███████▍  | 896/1210 [1:10:53<1:15:28, 14.42s/it]"
     ]
    },
    {
     "name": "stdout",
     "output_type": "stream",
     "text": [
      "Titling Time: 13.6 sec\n",
      "../data/train_data/Colon/N/train_colon_N0151.mrxs\n",
      "noise filter :  True\n",
      "multiprocessing :  32\n",
      "slide_name train_colon_N0151\n"
     ]
    },
    {
     "name": "stderr",
     "output_type": "stream",
     "text": [
      " 74%|███████▍  | 897/1210 [1:11:05<1:11:19, 13.67s/it]"
     ]
    },
    {
     "name": "stdout",
     "output_type": "stream",
     "text": [
      "Titling Time: 11.4 sec\n",
      "../data/train_data/Colon/N/train_colon_N0033.mrxs\n",
      "noise filter :  True\n",
      "multiprocessing :  32\n",
      "slide_name train_colon_N0033\n"
     ]
    },
    {
     "name": "stderr",
     "output_type": "stream",
     "text": [
      " 74%|███████▍  | 898/1210 [1:11:29<1:27:22, 16.80s/it]"
     ]
    },
    {
     "name": "stdout",
     "output_type": "stream",
     "text": [
      "Titling Time: 11.7 sec\n",
      "../data/train_data/Colon/N/train_colon_N0088.mrxs\n",
      "noise filter :  True\n",
      "multiprocessing :  32\n",
      "slide_name train_colon_N0088\n"
     ]
    },
    {
     "name": "stderr",
     "output_type": "stream",
     "text": [
      " 74%|███████▍  | 899/1210 [1:11:42<1:20:40, 15.56s/it]"
     ]
    },
    {
     "name": "stdout",
     "output_type": "stream",
     "text": [
      "Titling Time: 12.0 sec\n",
      "../data/train_data/Colon/N/train_colon_N0022.mrxs\n",
      "noise filter :  True\n",
      "multiprocessing :  32\n",
      "slide_name train_colon_N0022\n"
     ]
    },
    {
     "name": "stderr",
     "output_type": "stream",
     "text": [
      " 74%|███████▍  | 900/1210 [1:12:05<1:32:41, 17.94s/it]"
     ]
    },
    {
     "name": "stdout",
     "output_type": "stream",
     "text": [
      "Titling Time: 22.9 sec\n",
      "../data/train_data/Colon/N/train_colon_N0036.mrxs\n",
      "noise filter :  True\n",
      "multiprocessing :  32\n",
      "slide_name train_colon_N0036\n"
     ]
    },
    {
     "name": "stderr",
     "output_type": "stream",
     "text": [
      " 74%|███████▍  | 901/1210 [1:12:18<1:24:04, 16.33s/it]"
     ]
    },
    {
     "name": "stdout",
     "output_type": "stream",
     "text": [
      "Titling Time: 12.0 sec\n",
      "../data/train_data/Colon/N/train_colon_N0018.mrxs\n",
      "noise filter :  True\n",
      "multiprocessing :  32\n",
      "slide_name train_colon_N0018\n"
     ]
    },
    {
     "name": "stderr",
     "output_type": "stream",
     "text": [
      " 75%|███████▍  | 902/1210 [1:12:37<1:28:14, 17.19s/it]"
     ]
    },
    {
     "name": "stdout",
     "output_type": "stream",
     "text": [
      "Titling Time: 18.7 sec\n",
      "../data/train_data/Colon/N/train_colon_N0123.mrxs\n",
      "noise filter :  True\n",
      "multiprocessing :  32\n",
      "slide_name train_colon_N0123\n"
     ]
    },
    {
     "name": "stderr",
     "output_type": "stream",
     "text": [
      " 75%|███████▍  | 903/1210 [1:12:52<1:23:38, 16.35s/it]"
     ]
    },
    {
     "name": "stdout",
     "output_type": "stream",
     "text": [
      "Titling Time: 13.8 sec\n",
      "../data/train_data/Colon/N/train_colon_N0008.mrxs\n",
      "noise filter :  True\n",
      "multiprocessing :  32\n",
      "slide_name train_colon_N0008\n"
     ]
    },
    {
     "name": "stderr",
     "output_type": "stream",
     "text": [
      " 75%|███████▍  | 904/1210 [1:13:04<1:17:44, 15.24s/it]"
     ]
    },
    {
     "name": "stdout",
     "output_type": "stream",
     "text": [
      "Titling Time: 12.2 sec\n",
      "../data/train_data/Colon/N/train_colon_N0159.mrxs\n",
      "noise filter :  True\n",
      "multiprocessing :  32\n",
      "slide_name train_colon_N0159\n"
     ]
    },
    {
     "name": "stderr",
     "output_type": "stream",
     "text": [
      " 75%|███████▍  | 905/1210 [1:13:33<1:38:33, 19.39s/it]"
     ]
    },
    {
     "name": "stdout",
     "output_type": "stream",
     "text": [
      "Titling Time: 27.6 sec\n",
      "../data/train_data/Colon/N/train_colon_N0184.mrxs\n",
      "noise filter :  True\n",
      "multiprocessing :  32\n",
      "slide_name train_colon_N0184\n"
     ]
    },
    {
     "name": "stderr",
     "output_type": "stream",
     "text": [
      " 75%|███████▍  | 906/1210 [1:13:45<1:27:11, 17.21s/it]"
     ]
    },
    {
     "name": "stdout",
     "output_type": "stream",
     "text": [
      "Titling Time: 11.5 sec\n",
      "../data/train_data/Colon/N/train_colon_N0161.mrxs\n",
      "noise filter :  True\n",
      "multiprocessing :  32\n",
      "slide_name train_colon_N0161\n"
     ]
    },
    {
     "name": "stderr",
     "output_type": "stream",
     "text": [
      " 75%|███████▍  | 907/1210 [1:14:06<1:31:59, 18.22s/it]"
     ]
    },
    {
     "name": "stdout",
     "output_type": "stream",
     "text": [
      "Titling Time: 14.9 sec\n",
      "../data/train_data/Colon/N/train_colon_N0175.mrxs\n",
      "noise filter :  True\n",
      "multiprocessing :  32\n",
      "slide_name train_colon_N0175\n"
     ]
    },
    {
     "name": "stderr",
     "output_type": "stream",
     "text": [
      " 75%|███████▌  | 908/1210 [1:14:27<1:36:07, 19.10s/it]"
     ]
    },
    {
     "name": "stdout",
     "output_type": "stream",
     "text": [
      "Titling Time: 19.0 sec\n",
      "../data/train_data/Colon/N/train_colon_N0110.mrxs\n",
      "noise filter :  True\n",
      "multiprocessing :  32\n",
      "slide_name train_colon_N0110\n"
     ]
    },
    {
     "name": "stderr",
     "output_type": "stream",
     "text": [
      " 75%|███████▌  | 909/1210 [1:14:40<1:25:56, 17.13s/it]"
     ]
    },
    {
     "name": "stdout",
     "output_type": "stream",
     "text": [
      "Titling Time: 12.1 sec\n",
      "../data/train_data/Colon/N/train_colon_N0100.mrxs\n",
      "noise filter :  True\n",
      "multiprocessing :  32\n",
      "slide_name train_colon_N0100\n"
     ]
    },
    {
     "name": "stderr",
     "output_type": "stream",
     "text": [
      " 75%|███████▌  | 910/1210 [1:14:52<1:18:56, 15.79s/it]"
     ]
    },
    {
     "name": "stdout",
     "output_type": "stream",
     "text": [
      "Titling Time: 12.1 sec\n",
      "../data/train_data/Colon/N/train_colon_N0096.mrxs\n",
      "noise filter :  True\n",
      "multiprocessing :  32\n",
      "slide_name train_colon_N0096\n"
     ]
    },
    {
     "name": "stderr",
     "output_type": "stream",
     "text": [
      " 75%|███████▌  | 911/1210 [1:15:20<1:35:52, 19.24s/it]"
     ]
    },
    {
     "name": "stdout",
     "output_type": "stream",
     "text": [
      "Titling Time: 14.2 sec\n",
      "../data/train_data/Colon/N/train_colon_N0071.mrxs\n",
      "noise filter :  True\n",
      "multiprocessing :  32\n",
      "slide_name train_colon_N0071\n"
     ]
    },
    {
     "name": "stderr",
     "output_type": "stream",
     "text": [
      " 75%|███████▌  | 912/1210 [1:15:32<1:25:47, 17.27s/it]"
     ]
    },
    {
     "name": "stdout",
     "output_type": "stream",
     "text": [
      "Titling Time: 12.1 sec\n",
      "../data/train_data/Colon/N/train_colon_N0150.mrxs\n",
      "noise filter :  True\n",
      "multiprocessing :  32\n",
      "slide_name train_colon_N0150\n"
     ]
    },
    {
     "name": "stderr",
     "output_type": "stream",
     "text": [
      " 75%|███████▌  | 913/1210 [1:15:55<1:34:12, 19.03s/it]"
     ]
    },
    {
     "name": "stdout",
     "output_type": "stream",
     "text": [
      "Titling Time: 16.5 sec\n",
      "../data/train_data/Colon/N/train_colon_N0109.mrxs\n",
      "noise filter :  True\n",
      "multiprocessing :  32\n",
      "slide_name train_colon_N0109\n"
     ]
    },
    {
     "name": "stderr",
     "output_type": "stream",
     "text": [
      " 76%|███████▌  | 914/1210 [1:16:08<1:23:56, 17.02s/it]"
     ]
    },
    {
     "name": "stdout",
     "output_type": "stream",
     "text": [
      "Titling Time: 11.8 sec\n",
      "../data/train_data/Colon/N/train_colon_N0057.mrxs\n",
      "noise filter :  True\n",
      "multiprocessing :  32\n",
      "slide_name train_colon_N0057\n"
     ]
    },
    {
     "name": "stderr",
     "output_type": "stream",
     "text": [
      " 76%|███████▌  | 915/1210 [1:16:20<1:16:48, 15.62s/it]"
     ]
    },
    {
     "name": "stdout",
     "output_type": "stream",
     "text": [
      "Titling Time: 11.9 sec\n",
      "../data/train_data/Colon/N/train_colon_N0025.mrxs\n",
      "noise filter :  True\n",
      "multiprocessing :  32\n",
      "slide_name train_colon_N0025\n"
     ]
    },
    {
     "name": "stderr",
     "output_type": "stream",
     "text": [
      " 76%|███████▌  | 916/1210 [1:16:33<1:12:22, 14.77s/it]"
     ]
    },
    {
     "name": "stdout",
     "output_type": "stream",
     "text": [
      "Titling Time: 12.2 sec\n",
      "../data/train_data/Colon/N/train_colon_N0187.mrxs\n",
      "noise filter :  True\n",
      "multiprocessing :  32\n",
      "slide_name train_colon_N0187\n"
     ]
    },
    {
     "name": "stderr",
     "output_type": "stream",
     "text": [
      " 76%|███████▌  | 917/1210 [1:16:45<1:08:24, 14.01s/it]"
     ]
    },
    {
     "name": "stdout",
     "output_type": "stream",
     "text": [
      "Titling Time: 11.8 sec\n",
      "../data/train_data/Colon/N/train_colon_N0178.mrxs\n",
      "noise filter :  True\n",
      "multiprocessing :  32\n",
      "slide_name train_colon_N0178\n"
     ]
    },
    {
     "name": "stderr",
     "output_type": "stream",
     "text": [
      " 76%|███████▌  | 918/1210 [1:16:59<1:08:40, 14.11s/it]"
     ]
    },
    {
     "name": "stdout",
     "output_type": "stream",
     "text": [
      "Titling Time: 13.9 sec\n",
      "../data/train_data/Colon/N/train_colon_N0054.mrxs\n",
      "noise filter :  True\n",
      "multiprocessing :  32\n",
      "slide_name train_colon_N0054\n"
     ]
    },
    {
     "name": "stderr",
     "output_type": "stream",
     "text": [
      " 76%|███████▌  | 919/1210 [1:17:11<1:05:22, 13.48s/it]"
     ]
    },
    {
     "name": "stdout",
     "output_type": "stream",
     "text": [
      "Titling Time: 11.5 sec\n",
      "../data/train_data/Colon/N/train_colon_N0157.mrxs\n",
      "noise filter :  True\n",
      "multiprocessing :  32\n",
      "slide_name train_colon_N0157\n"
     ]
    },
    {
     "name": "stderr",
     "output_type": "stream",
     "text": [
      " 76%|███████▌  | 920/1210 [1:17:23<1:02:21, 12.90s/it]"
     ]
    },
    {
     "name": "stdout",
     "output_type": "stream",
     "text": [
      "Titling Time: 11.1 sec\n",
      "../data/train_data/Colon/N/train_colon_N0152.mrxs\n",
      "noise filter :  True\n",
      "multiprocessing :  32\n",
      "slide_name train_colon_N0152\n"
     ]
    },
    {
     "name": "stderr",
     "output_type": "stream",
     "text": [
      " 76%|███████▌  | 921/1210 [1:17:35<1:01:25, 12.75s/it]"
     ]
    },
    {
     "name": "stdout",
     "output_type": "stream",
     "text": [
      "Titling Time: 12.0 sec\n",
      "../data/train_data/Colon/N/train_colon_N0146.mrxs\n",
      "noise filter :  True\n",
      "multiprocessing :  32\n",
      "slide_name train_colon_N0146\n"
     ]
    },
    {
     "name": "stderr",
     "output_type": "stream",
     "text": [
      " 76%|███████▌  | 922/1210 [1:17:47<1:00:08, 12.53s/it]"
     ]
    },
    {
     "name": "stdout",
     "output_type": "stream",
     "text": [
      "Titling Time: 11.5 sec\n",
      "../data/train_data/Colon/N/train_colon_N0114.mrxs\n",
      "noise filter :  True\n",
      "multiprocessing :  32\n",
      "slide_name train_colon_N0114\n"
     ]
    },
    {
     "name": "stderr",
     "output_type": "stream",
     "text": [
      " 76%|███████▋  | 923/1210 [1:18:00<1:00:11, 12.59s/it]"
     ]
    },
    {
     "name": "stdout",
     "output_type": "stream",
     "text": [
      "Titling Time: 12.1 sec\n",
      "../data/train_data/Colon/N/train_colon_N0020.mrxs\n",
      "noise filter :  True\n",
      "multiprocessing :  32\n",
      "slide_name train_colon_N0020\n"
     ]
    },
    {
     "name": "stderr",
     "output_type": "stream",
     "text": [
      " 76%|███████▋  | 924/1210 [1:18:12<59:16, 12.44s/it]  "
     ]
    },
    {
     "name": "stdout",
     "output_type": "stream",
     "text": [
      "Titling Time: 11.6 sec\n",
      "../data/train_data/Colon/N/train_colon_N0148.mrxs\n",
      "noise filter :  True\n",
      "multiprocessing :  32\n",
      "slide_name train_colon_N0148\n"
     ]
    },
    {
     "name": "stderr",
     "output_type": "stream",
     "text": [
      " 76%|███████▋  | 925/1210 [1:18:39<1:19:44, 16.79s/it]"
     ]
    },
    {
     "name": "stdout",
     "output_type": "stream",
     "text": [
      "Titling Time: 26.4 sec\n",
      "../data/train_data/Colon/N/train_colon_N0035.mrxs\n",
      "noise filter :  True\n",
      "multiprocessing :  32\n",
      "slide_name train_colon_N0035\n"
     ]
    },
    {
     "name": "stderr",
     "output_type": "stream",
     "text": [
      " 77%|███████▋  | 926/1210 [1:18:52<1:13:10, 15.46s/it]"
     ]
    },
    {
     "name": "stdout",
     "output_type": "stream",
     "text": [
      "Titling Time: 11.7 sec\n",
      "../data/train_data/Colon/N/train_colon_N0063.mrxs\n",
      "noise filter :  True\n",
      "multiprocessing :  32\n",
      "slide_name train_colon_N0063\n"
     ]
    },
    {
     "name": "stderr",
     "output_type": "stream",
     "text": [
      " 77%|███████▋  | 927/1210 [1:19:11<1:18:45, 16.70s/it]"
     ]
    },
    {
     "name": "stdout",
     "output_type": "stream",
     "text": [
      "Titling Time: 11.8 sec\n",
      "../data/train_data/Colon/N/train_colon_N0012.mrxs\n",
      "noise filter :  True\n",
      "multiprocessing :  32\n",
      "slide_name train_colon_N0012\n"
     ]
    },
    {
     "name": "stderr",
     "output_type": "stream",
     "text": [
      " 77%|███████▋  | 928/1210 [1:19:24<1:12:33, 15.44s/it]"
     ]
    },
    {
     "name": "stdout",
     "output_type": "stream",
     "text": [
      "Titling Time: 12.0 sec\n",
      "../data/train_data/Colon/N/train_colon_N0195.mrxs\n",
      "noise filter :  True\n",
      "multiprocessing :  32\n",
      "slide_name train_colon_N0195\n"
     ]
    },
    {
     "name": "stderr",
     "output_type": "stream",
     "text": [
      " 77%|███████▋  | 929/1210 [1:19:39<1:12:23, 15.46s/it]"
     ]
    },
    {
     "name": "stdout",
     "output_type": "stream",
     "text": [
      "Titling Time: 14.9 sec\n",
      "../data/train_data/Colon/N/train_colon_N0105.mrxs\n",
      "noise filter :  True\n",
      "multiprocessing :  32\n",
      "slide_name train_colon_N0105\n"
     ]
    },
    {
     "name": "stderr",
     "output_type": "stream",
     "text": [
      " 77%|███████▋  | 930/1210 [1:20:01<1:21:40, 17.50s/it]"
     ]
    },
    {
     "name": "stdout",
     "output_type": "stream",
     "text": [
      "Titling Time: 21.8 sec\n",
      "../data/train_data/Colon/N/train_colon_N0072.mrxs\n",
      "noise filter :  True\n",
      "multiprocessing :  32\n",
      "slide_name train_colon_N0072\n"
     ]
    },
    {
     "name": "stderr",
     "output_type": "stream",
     "text": [
      " 77%|███████▋  | 931/1210 [1:20:14<1:14:48, 16.09s/it]"
     ]
    },
    {
     "name": "stdout",
     "output_type": "stream",
     "text": [
      "Titling Time: 12.2 sec\n",
      "../data/train_data/Colon/N/train_colon_N0080.mrxs\n",
      "noise filter :  True\n",
      "multiprocessing :  32\n",
      "slide_name train_colon_N0080\n"
     ]
    },
    {
     "name": "stderr",
     "output_type": "stream",
     "text": [
      " 77%|███████▋  | 932/1210 [1:20:27<1:10:03, 15.12s/it]"
     ]
    },
    {
     "name": "stdout",
     "output_type": "stream",
     "text": [
      "Titling Time: 12.1 sec\n",
      "../data/train_data/Colon/N/train_colon_N0199.mrxs\n",
      "noise filter :  True\n",
      "multiprocessing :  32\n",
      "slide_name train_colon_N0199\n"
     ]
    },
    {
     "name": "stderr",
     "output_type": "stream",
     "text": [
      " 77%|███████▋  | 933/1210 [1:20:39<1:06:03, 14.31s/it]"
     ]
    },
    {
     "name": "stdout",
     "output_type": "stream",
     "text": [
      "Titling Time: 11.9 sec\n",
      "../data/train_data/Colon/N/train_colon_N0068.mrxs\n",
      "noise filter :  True\n",
      "multiprocessing :  32\n",
      "slide_name train_colon_N0068\n"
     ]
    },
    {
     "name": "stderr",
     "output_type": "stream",
     "text": [
      " 77%|███████▋  | 934/1210 [1:20:52<1:02:54, 13.67s/it]"
     ]
    },
    {
     "name": "stdout",
     "output_type": "stream",
     "text": [
      "Titling Time: 11.5 sec\n",
      "../data/train_data/Colon/N/train_colon_N0130.mrxs\n",
      "noise filter :  True\n",
      "multiprocessing :  32\n",
      "slide_name train_colon_N0130\n"
     ]
    },
    {
     "name": "stderr",
     "output_type": "stream",
     "text": [
      " 77%|███████▋  | 935/1210 [1:21:14<1:14:05, 16.17s/it]"
     ]
    },
    {
     "name": "stdout",
     "output_type": "stream",
     "text": [
      "Titling Time: 11.6 sec\n",
      "../data/train_data/Colon/N/train_colon_N0044.mrxs\n",
      "noise filter :  True\n",
      "multiprocessing :  32\n",
      "slide_name train_colon_N0044\n"
     ]
    },
    {
     "name": "stderr",
     "output_type": "stream",
     "text": [
      " 77%|███████▋  | 936/1210 [1:21:46<1:35:23, 20.89s/it]"
     ]
    },
    {
     "name": "stdout",
     "output_type": "stream",
     "text": [
      "Titling Time: 31.0 sec\n",
      "../data/train_data/Colon/N/train_colon_N0059.mrxs\n",
      "noise filter :  True\n",
      "multiprocessing :  32\n",
      "slide_name train_colon_N0059\n"
     ]
    },
    {
     "name": "stderr",
     "output_type": "stream",
     "text": [
      " 77%|███████▋  | 937/1210 [1:22:03<1:30:38, 19.92s/it]"
     ]
    },
    {
     "name": "stdout",
     "output_type": "stream",
     "text": [
      "Titling Time: 16.8 sec\n",
      "../data/train_data/Colon/N/train_colon_N0010.mrxs\n",
      "noise filter :  True\n",
      "multiprocessing :  32\n",
      "slide_name train_colon_N0010\n"
     ]
    },
    {
     "name": "stderr",
     "output_type": "stream",
     "text": [
      " 78%|███████▊  | 938/1210 [1:22:37<1:48:32, 23.94s/it]"
     ]
    },
    {
     "name": "stdout",
     "output_type": "stream",
     "text": [
      "Titling Time: 32.7 sec\n",
      "../data/train_data/Colon/N/train_colon_N0133.mrxs\n",
      "noise filter :  True\n",
      "multiprocessing :  32\n",
      "slide_name train_colon_N0133\n"
     ]
    },
    {
     "name": "stderr",
     "output_type": "stream",
     "text": [
      " 78%|███████▊  | 939/1210 [1:22:48<1:31:35, 20.28s/it]"
     ]
    },
    {
     "name": "stdout",
     "output_type": "stream",
     "text": [
      "Titling Time: 11.2 sec\n",
      "../data/train_data/Colon/N/train_colon_N0127.mrxs\n",
      "noise filter :  True\n",
      "multiprocessing :  32\n",
      "slide_name train_colon_N0127\n"
     ]
    },
    {
     "name": "stderr",
     "output_type": "stream",
     "text": [
      " 78%|███████▊  | 940/1210 [1:23:07<1:29:42, 19.94s/it]"
     ]
    },
    {
     "name": "stdout",
     "output_type": "stream",
     "text": [
      "Titling Time: 11.9 sec\n",
      "../data/train_data/Colon/N/train_colon_N0007.mrxs\n",
      "noise filter :  True\n",
      "multiprocessing :  32\n",
      "slide_name train_colon_N0007\n"
     ]
    },
    {
     "name": "stderr",
     "output_type": "stream",
     "text": [
      " 78%|███████▊  | 941/1210 [1:23:20<1:19:32, 17.74s/it]"
     ]
    },
    {
     "name": "stdout",
     "output_type": "stream",
     "text": [
      "Titling Time: 12.1 sec\n",
      "../data/train_data/Colon/N/train_colon_N0136.mrxs\n",
      "noise filter :  True\n",
      "multiprocessing :  32\n",
      "slide_name train_colon_N0136\n"
     ]
    },
    {
     "name": "stderr",
     "output_type": "stream",
     "text": [
      " 78%|███████▊  | 942/1210 [1:23:33<1:12:25, 16.21s/it]"
     ]
    },
    {
     "name": "stdout",
     "output_type": "stream",
     "text": [
      "Titling Time: 12.0 sec\n",
      "../data/train_data/Colon/N/train_colon_N0061.mrxs\n",
      "noise filter :  True\n",
      "multiprocessing :  32\n",
      "slide_name train_colon_N0061\n"
     ]
    },
    {
     "name": "stderr",
     "output_type": "stream",
     "text": [
      " 78%|███████▊  | 943/1210 [1:23:45<1:07:15, 15.12s/it]"
     ]
    },
    {
     "name": "stdout",
     "output_type": "stream",
     "text": [
      "Titling Time: 12.1 sec\n",
      "../data/train_data/Colon/N/train_colon_N0019.mrxs\n",
      "noise filter :  True\n",
      "multiprocessing :  32\n",
      "slide_name train_colon_N0019\n"
     ]
    },
    {
     "name": "stderr",
     "output_type": "stream",
     "text": [
      " 78%|███████▊  | 944/1210 [1:23:58<1:04:02, 14.45s/it]"
     ]
    },
    {
     "name": "stdout",
     "output_type": "stream",
     "text": [
      "Titling Time: 12.4 sec\n",
      "../data/train_data/Colon/N/train_colon_N0005.mrxs\n",
      "noise filter :  True\n",
      "multiprocessing :  32\n",
      "slide_name train_colon_N0005\n"
     ]
    },
    {
     "name": "stderr",
     "output_type": "stream",
     "text": [
      " 78%|███████▊  | 945/1210 [1:24:10<1:00:01, 13.59s/it]"
     ]
    },
    {
     "name": "stdout",
     "output_type": "stream",
     "text": [
      "Titling Time: 11.1 sec\n",
      "../data/train_data/Colon/N/train_colon_N0046.mrxs\n",
      "noise filter :  True\n",
      "multiprocessing :  32\n",
      "slide_name train_colon_N0046\n"
     ]
    },
    {
     "name": "stderr",
     "output_type": "stream",
     "text": [
      " 78%|███████▊  | 946/1210 [1:24:24<1:00:16, 13.70s/it]"
     ]
    },
    {
     "name": "stdout",
     "output_type": "stream",
     "text": [
      "Titling Time: 13.1 sec\n",
      "../data/train_data/Colon/N/train_colon_N0060.mrxs\n",
      "noise filter :  True\n",
      "multiprocessing :  32\n",
      "slide_name train_colon_N0060\n"
     ]
    },
    {
     "name": "stderr",
     "output_type": "stream",
     "text": [
      " 78%|███████▊  | 947/1210 [1:24:55<1:22:51, 18.90s/it]"
     ]
    },
    {
     "name": "stdout",
     "output_type": "stream",
     "text": [
      "Titling Time: 30.5 sec\n",
      "../data/train_data/Colon/N/train_colon_N0180.mrxs\n",
      "noise filter :  True\n",
      "multiprocessing :  32\n",
      "slide_name train_colon_N0180\n"
     ]
    },
    {
     "name": "stderr",
     "output_type": "stream",
     "text": [
      " 78%|███████▊  | 948/1210 [1:25:18<1:28:19, 20.23s/it]"
     ]
    },
    {
     "name": "stdout",
     "output_type": "stream",
     "text": [
      "Titling Time: 22.7 sec\n",
      "../data/train_data/Colon/N/train_colon_N0102.mrxs\n",
      "noise filter :  True\n",
      "multiprocessing :  32\n",
      "slide_name train_colon_N0102\n"
     ]
    },
    {
     "name": "stderr",
     "output_type": "stream",
     "text": [
      " 78%|███████▊  | 949/1210 [1:25:30<1:17:49, 17.89s/it]"
     ]
    },
    {
     "name": "stdout",
     "output_type": "stream",
     "text": [
      "Titling Time: 11.9 sec\n",
      "../data/train_data/Colon/N/train_colon_N0191.mrxs\n",
      "noise filter :  True\n",
      "multiprocessing :  32\n",
      "slide_name train_colon_N0191\n"
     ]
    },
    {
     "name": "stderr",
     "output_type": "stream",
     "text": [
      " 79%|███████▊  | 950/1210 [1:25:43<1:10:56, 16.37s/it]"
     ]
    },
    {
     "name": "stdout",
     "output_type": "stream",
     "text": [
      "Titling Time: 12.3 sec\n",
      "../data/train_data/Colon/N/train_colon_N0084.mrxs\n",
      "noise filter :  True\n",
      "multiprocessing :  32\n",
      "slide_name train_colon_N0084\n"
     ]
    },
    {
     "name": "stderr",
     "output_type": "stream",
     "text": [
      " 79%|███████▊  | 951/1210 [1:25:56<1:06:15, 15.35s/it]"
     ]
    },
    {
     "name": "stdout",
     "output_type": "stream",
     "text": [
      "Titling Time: 12.3 sec\n",
      "../data/train_data/Colon/N/train_colon_N0094.mrxs\n",
      "noise filter :  True\n",
      "multiprocessing :  32\n",
      "slide_name train_colon_N0094\n"
     ]
    },
    {
     "name": "stderr",
     "output_type": "stream",
     "text": [
      " 79%|███████▊  | 952/1210 [1:26:09<1:02:41, 14.58s/it]"
     ]
    },
    {
     "name": "stdout",
     "output_type": "stream",
     "text": [
      "Titling Time: 12.1 sec\n",
      "../data/train_data/Colon/N/train_colon_N0155.mrxs\n",
      "noise filter :  True\n",
      "multiprocessing :  32\n",
      "slide_name train_colon_N0155\n"
     ]
    },
    {
     "name": "stderr",
     "output_type": "stream",
     "text": [
      " 79%|███████▉  | 953/1210 [1:26:37<1:19:20, 18.52s/it]"
     ]
    },
    {
     "name": "stdout",
     "output_type": "stream",
     "text": [
      "Titling Time: 16.1 sec\n",
      "../data/train_data/Colon/N/train_colon_N0027.mrxs\n",
      "noise filter :  True\n",
      "multiprocessing :  32\n",
      "slide_name train_colon_N0027\n"
     ]
    },
    {
     "name": "stderr",
     "output_type": "stream",
     "text": [
      " 79%|███████▉  | 954/1210 [1:27:02<1:28:11, 20.67s/it]"
     ]
    },
    {
     "name": "stdout",
     "output_type": "stream",
     "text": [
      "Titling Time: 25.0 sec\n",
      "../data/train_data/Colon/N/train_colon_N0070.mrxs\n",
      "noise filter :  True\n",
      "multiprocessing :  32\n",
      "slide_name train_colon_N0070\n"
     ]
    },
    {
     "name": "stderr",
     "output_type": "stream",
     "text": [
      " 79%|███████▉  | 955/1210 [1:27:21<1:25:37, 20.15s/it]"
     ]
    },
    {
     "name": "stdout",
     "output_type": "stream",
     "text": [
      "Titling Time: 12.0 sec\n",
      "../data/train_data/Colon/N/train_colon_N0001.mrxs\n",
      "noise filter :  True\n",
      "multiprocessing :  32\n",
      "slide_name train_colon_N0001\n"
     ]
    },
    {
     "name": "stderr",
     "output_type": "stream",
     "text": [
      " 79%|███████▉  | 956/1210 [1:27:33<1:14:39, 17.64s/it]"
     ]
    },
    {
     "name": "stdout",
     "output_type": "stream",
     "text": [
      "Titling Time: 11.3 sec\n",
      "../data/train_data/Colon/N/train_colon_N0142.mrxs\n",
      "noise filter :  True\n",
      "multiprocessing :  32\n",
      "slide_name train_colon_N0142\n"
     ]
    },
    {
     "name": "stderr",
     "output_type": "stream",
     "text": [
      " 79%|███████▉  | 957/1210 [1:27:46<1:07:47, 16.08s/it]"
     ]
    },
    {
     "name": "stdout",
     "output_type": "stream",
     "text": [
      "Titling Time: 11.7 sec\n",
      "../data/train_data/Colon/N/train_colon_N0086.mrxs\n",
      "noise filter :  True\n",
      "multiprocessing :  32\n",
      "slide_name train_colon_N0086\n"
     ]
    },
    {
     "name": "stderr",
     "output_type": "stream",
     "text": [
      " 79%|███████▉  | 958/1210 [1:27:58<1:02:35, 14.90s/it]"
     ]
    },
    {
     "name": "stdout",
     "output_type": "stream",
     "text": [
      "Titling Time: 11.7 sec\n",
      "../data/train_data/Colon/N/train_colon_N0053.mrxs\n",
      "noise filter :  True\n",
      "multiprocessing :  32\n",
      "slide_name train_colon_N0053\n"
     ]
    },
    {
     "name": "stderr",
     "output_type": "stream",
     "text": [
      " 79%|███████▉  | 959/1210 [1:28:10<58:54, 14.08s/it]  "
     ]
    },
    {
     "name": "stdout",
     "output_type": "stream",
     "text": [
      "Titling Time: 11.6 sec\n",
      "../data/train_data/Colon/N/train_colon_N0198.mrxs\n",
      "noise filter :  True\n",
      "multiprocessing :  32\n",
      "slide_name train_colon_N0198\n"
     ]
    },
    {
     "name": "stderr",
     "output_type": "stream",
     "text": [
      " 79%|███████▉  | 960/1210 [1:28:22<55:53, 13.42s/it]"
     ]
    },
    {
     "name": "stdout",
     "output_type": "stream",
     "text": [
      "Titling Time: 11.4 sec\n",
      "../data/train_data/Colon/N/train_colon_N0056.mrxs\n",
      "noise filter :  True\n",
      "multiprocessing :  32\n",
      "slide_name train_colon_N0056\n"
     ]
    },
    {
     "name": "stderr",
     "output_type": "stream",
     "text": [
      " 79%|███████▉  | 961/1210 [1:28:34<54:04, 13.03s/it]"
     ]
    },
    {
     "name": "stdout",
     "output_type": "stream",
     "text": [
      "Titling Time: 11.6 sec\n",
      "../data/train_data/Colon/N/train_colon_N0040.mrxs\n",
      "noise filter :  True\n",
      "multiprocessing :  32\n",
      "slide_name train_colon_N0040\n"
     ]
    },
    {
     "name": "stderr",
     "output_type": "stream",
     "text": [
      " 80%|███████▉  | 962/1210 [1:29:06<1:17:58, 18.87s/it]"
     ]
    },
    {
     "name": "stdout",
     "output_type": "stream",
     "text": [
      "Titling Time: 31.8 sec\n",
      "../data/train_data/Colon/N/train_colon_N0074.mrxs\n",
      "noise filter :  True\n",
      "multiprocessing :  32\n",
      "slide_name train_colon_N0074\n"
     ]
    },
    {
     "name": "stderr",
     "output_type": "stream",
     "text": [
      " 80%|███████▉  | 963/1210 [1:29:24<1:15:38, 18.38s/it]"
     ]
    },
    {
     "name": "stdout",
     "output_type": "stream",
     "text": [
      "Titling Time: 12.2 sec\n",
      "../data/train_data/Colon/N/train_colon_N0017.mrxs\n",
      "noise filter :  True\n",
      "multiprocessing :  32\n",
      "slide_name train_colon_N0017\n"
     ]
    },
    {
     "name": "stderr",
     "output_type": "stream",
     "text": [
      " 80%|███████▉  | 964/1210 [1:29:37<1:08:35, 16.73s/it]"
     ]
    },
    {
     "name": "stdout",
     "output_type": "stream",
     "text": [
      "Titling Time: 12.2 sec\n",
      "../data/train_data/Colon/N/train_colon_N0032.mrxs\n",
      "noise filter :  True\n",
      "multiprocessing :  32\n",
      "slide_name train_colon_N0032\n"
     ]
    },
    {
     "name": "stderr",
     "output_type": "stream",
     "text": [
      " 80%|███████▉  | 965/1210 [1:29:49<1:03:29, 15.55s/it]"
     ]
    },
    {
     "name": "stdout",
     "output_type": "stream",
     "text": [
      "Titling Time: 12.2 sec\n",
      "../data/train_data/Colon/N/train_colon_N0181.mrxs\n",
      "noise filter :  True\n",
      "multiprocessing :  32\n",
      "slide_name train_colon_N0181\n"
     ]
    },
    {
     "name": "stderr",
     "output_type": "stream",
     "text": [
      " 80%|███████▉  | 966/1210 [1:30:02<59:29, 14.63s/it]  "
     ]
    },
    {
     "name": "stdout",
     "output_type": "stream",
     "text": [
      "Titling Time: 11.9 sec\n",
      "../data/train_data/Colon/N/train_colon_N0016.mrxs\n",
      "noise filter :  True\n",
      "multiprocessing :  32\n",
      "slide_name train_colon_N0016\n"
     ]
    },
    {
     "name": "stderr",
     "output_type": "stream",
     "text": [
      " 80%|███████▉  | 967/1210 [1:30:22<1:06:33, 16.44s/it]"
     ]
    },
    {
     "name": "stdout",
     "output_type": "stream",
     "text": [
      "Titling Time: 20.1 sec\n",
      "../data/train_data/Colon/N/train_colon_N0132.mrxs\n",
      "noise filter :  True\n",
      "multiprocessing :  32\n",
      "slide_name train_colon_N0132\n"
     ]
    },
    {
     "name": "stderr",
     "output_type": "stream",
     "text": [
      " 80%|████████  | 968/1210 [1:30:51<1:21:34, 20.23s/it]"
     ]
    },
    {
     "name": "stdout",
     "output_type": "stream",
     "text": [
      "Titling Time: 28.4 sec\n",
      "../data/train_data/Colon/N/train_colon_N0050.mrxs\n",
      "noise filter :  True\n",
      "multiprocessing :  32\n",
      "slide_name train_colon_N0050\n"
     ]
    },
    {
     "name": "stderr",
     "output_type": "stream",
     "text": [
      " 80%|████████  | 969/1210 [1:31:07<1:15:03, 18.69s/it]"
     ]
    },
    {
     "name": "stdout",
     "output_type": "stream",
     "text": [
      "Titling Time: 14.3 sec\n",
      "../data/train_data/Colon/N/train_colon_N0042.mrxs\n",
      "noise filter :  True\n",
      "multiprocessing :  32\n",
      "slide_name train_colon_N0042\n"
     ]
    },
    {
     "name": "stderr",
     "output_type": "stream",
     "text": [
      " 80%|████████  | 970/1210 [1:31:25<1:14:11, 18.55s/it]"
     ]
    },
    {
     "name": "stdout",
     "output_type": "stream",
     "text": [
      "Titling Time: 17.3 sec\n",
      "../data/train_data/Colon/N/train_colon_N0170.mrxs\n",
      "noise filter :  True\n",
      "multiprocessing :  32\n",
      "slide_name train_colon_N0170\n"
     ]
    },
    {
     "name": "stderr",
     "output_type": "stream",
     "text": [
      " 80%|████████  | 971/1210 [1:31:38<1:06:58, 16.81s/it]"
     ]
    },
    {
     "name": "stdout",
     "output_type": "stream",
     "text": [
      "Titling Time: 12.3 sec\n",
      "../data/train_data/Colon/N/train_colon_N0172.mrxs\n",
      "noise filter :  True\n",
      "multiprocessing :  32\n",
      "slide_name train_colon_N0172\n"
     ]
    },
    {
     "name": "stderr",
     "output_type": "stream",
     "text": [
      " 80%|████████  | 972/1210 [1:31:51<1:02:07, 15.66s/it]"
     ]
    },
    {
     "name": "stdout",
     "output_type": "stream",
     "text": [
      "Titling Time: 12.5 sec\n",
      "../data/train_data/Colon/N/train_colon_N0145.mrxs\n",
      "noise filter :  True\n",
      "multiprocessing :  32\n",
      "slide_name train_colon_N0145\n"
     ]
    },
    {
     "name": "stderr",
     "output_type": "stream",
     "text": [
      " 80%|████████  | 973/1210 [1:32:19<1:16:48, 19.45s/it]"
     ]
    },
    {
     "name": "stdout",
     "output_type": "stream",
     "text": [
      "Titling Time: 22.9 sec\n",
      "../data/train_data/Colon/N/train_colon_N0073.mrxs\n",
      "noise filter :  True\n",
      "multiprocessing :  32\n",
      "slide_name train_colon_N0073\n"
     ]
    },
    {
     "name": "stderr",
     "output_type": "stream",
     "text": [
      " 80%|████████  | 974/1210 [1:32:31<1:08:10, 17.33s/it]"
     ]
    },
    {
     "name": "stdout",
     "output_type": "stream",
     "text": [
      "Titling Time: 11.8 sec\n",
      "../data/train_data/Colon/N/train_colon_N0064.mrxs\n",
      "noise filter :  True\n",
      "multiprocessing :  32\n",
      "slide_name train_colon_N0064\n"
     ]
    },
    {
     "name": "stderr",
     "output_type": "stream",
     "text": [
      " 81%|████████  | 975/1210 [1:32:43<1:01:05, 15.60s/it]"
     ]
    },
    {
     "name": "stdout",
     "output_type": "stream",
     "text": [
      "Titling Time: 11.2 sec\n",
      "../data/train_data/Colon/N/train_colon_N0009.mrxs\n",
      "noise filter :  True\n",
      "multiprocessing :  32\n",
      "slide_name train_colon_N0009\n"
     ]
    },
    {
     "name": "stderr",
     "output_type": "stream",
     "text": [
      " 81%|████████  | 976/1210 [1:32:55<56:57, 14.60s/it]  "
     ]
    },
    {
     "name": "stdout",
     "output_type": "stream",
     "text": [
      "Titling Time: 11.7 sec\n",
      "../data/train_data/Colon/N/train_colon_N0077.mrxs\n",
      "noise filter :  True\n",
      "multiprocessing :  32\n",
      "slide_name train_colon_N0077\n"
     ]
    },
    {
     "name": "stderr",
     "output_type": "stream",
     "text": [
      " 81%|████████  | 977/1210 [1:33:07<53:46, 13.85s/it]"
     ]
    },
    {
     "name": "stdout",
     "output_type": "stream",
     "text": [
      "Titling Time: 11.5 sec\n",
      "../data/train_data/Colon/N/train_colon_N0160.mrxs\n",
      "noise filter :  True\n",
      "multiprocessing :  32\n",
      "slide_name train_colon_N0160\n"
     ]
    },
    {
     "name": "stderr",
     "output_type": "stream",
     "text": [
      " 81%|████████  | 978/1210 [1:33:29<1:02:40, 16.21s/it]"
     ]
    },
    {
     "name": "stdout",
     "output_type": "stream",
     "text": [
      "Titling Time: 12.5 sec\n",
      "../data/train_data/Colon/N/train_colon_N0091.mrxs\n",
      "noise filter :  True\n",
      "multiprocessing :  32\n",
      "slide_name train_colon_N0091\n"
     ]
    },
    {
     "name": "stderr",
     "output_type": "stream",
     "text": [
      " 81%|████████  | 979/1210 [1:33:41<57:46, 15.01s/it]  "
     ]
    },
    {
     "name": "stdout",
     "output_type": "stream",
     "text": [
      "Titling Time: 11.7 sec\n",
      "../data/train_data/Colon/N/train_colon_N0154.mrxs\n",
      "noise filter :  True\n",
      "multiprocessing :  32\n",
      "slide_name train_colon_N0154\n"
     ]
    },
    {
     "name": "stderr",
     "output_type": "stream",
     "text": [
      " 81%|████████  | 980/1210 [1:34:02<1:04:05, 16.72s/it]"
     ]
    },
    {
     "name": "stdout",
     "output_type": "stream",
     "text": [
      "Titling Time: 19.2 sec\n",
      "../data/train_data/Colon/N/train_colon_N0166.mrxs\n",
      "noise filter :  True\n",
      "multiprocessing :  32\n",
      "slide_name train_colon_N0166\n"
     ]
    },
    {
     "name": "stderr",
     "output_type": "stream",
     "text": [
      " 81%|████████  | 981/1210 [1:34:15<59:32, 15.60s/it]  "
     ]
    },
    {
     "name": "stdout",
     "output_type": "stream",
     "text": [
      "Titling Time: 12.4 sec\n",
      "../data/train_data/Colon/N/train_colon_N0097.mrxs\n",
      "noise filter :  True\n",
      "multiprocessing :  32\n",
      "slide_name train_colon_N0097\n"
     ]
    },
    {
     "name": "stderr",
     "output_type": "stream",
     "text": [
      " 81%|████████  | 982/1210 [1:34:27<55:58, 14.73s/it]"
     ]
    },
    {
     "name": "stdout",
     "output_type": "stream",
     "text": [
      "Titling Time: 12.2 sec\n",
      "../data/train_data/Colon/N/train_colon_N0037.mrxs\n",
      "noise filter :  True\n",
      "multiprocessing :  32\n",
      "slide_name train_colon_N0037\n"
     ]
    },
    {
     "name": "stderr",
     "output_type": "stream",
     "text": [
      " 81%|████████  | 983/1210 [1:34:42<55:48, 14.75s/it]"
     ]
    },
    {
     "name": "stdout",
     "output_type": "stream",
     "text": [
      "Titling Time: 14.2 sec\n",
      "../data/train_data/Colon/N/train_colon_N0138.mrxs\n",
      "noise filter :  True\n",
      "multiprocessing :  32\n",
      "slide_name train_colon_N0138\n"
     ]
    },
    {
     "name": "stderr",
     "output_type": "stream",
     "text": [
      " 81%|████████▏ | 984/1210 [1:35:05<1:04:40, 17.17s/it]"
     ]
    },
    {
     "name": "stdout",
     "output_type": "stream",
     "text": [
      "Titling Time: 22.2 sec\n",
      "../data/train_data/Colon/N/train_colon_N0120.mrxs\n",
      "noise filter :  True\n",
      "multiprocessing :  32\n",
      "slide_name train_colon_N0120\n"
     ]
    },
    {
     "name": "stderr",
     "output_type": "stream",
     "text": [
      " 81%|████████▏ | 985/1210 [1:35:18<59:03, 15.75s/it]  "
     ]
    },
    {
     "name": "stdout",
     "output_type": "stream",
     "text": [
      "Titling Time: 11.9 sec\n",
      "../data/train_data/Colon/N/train_colon_N0067.mrxs\n",
      "noise filter :  True\n",
      "multiprocessing :  32\n",
      "slide_name train_colon_N0067\n"
     ]
    },
    {
     "name": "stderr",
     "output_type": "stream",
     "text": [
      " 81%|████████▏ | 986/1210 [1:35:30<55:09, 14.78s/it]"
     ]
    },
    {
     "name": "stdout",
     "output_type": "stream",
     "text": [
      "Titling Time: 11.9 sec\n",
      "../data/train_data/Colon/N/train_colon_N0069.mrxs\n",
      "noise filter :  True\n",
      "multiprocessing :  32\n",
      "slide_name train_colon_N0069\n"
     ]
    },
    {
     "name": "stderr",
     "output_type": "stream",
     "text": [
      " 82%|████████▏ | 987/1210 [1:35:46<56:39, 15.24s/it]"
     ]
    },
    {
     "name": "stdout",
     "output_type": "stream",
     "text": [
      "Titling Time: 15.7 sec\n",
      "../data/train_data/Colon/N/train_colon_N0177.mrxs\n",
      "noise filter :  True\n",
      "multiprocessing :  32\n",
      "slide_name train_colon_N0177\n"
     ]
    },
    {
     "name": "stderr",
     "output_type": "stream",
     "text": [
      " 82%|████████▏ | 988/1210 [1:35:59<53:05, 14.35s/it]"
     ]
    },
    {
     "name": "stdout",
     "output_type": "stream",
     "text": [
      "Titling Time: 11.7 sec\n",
      "../data/train_data/Colon/N/train_colon_N0058.mrxs\n",
      "noise filter :  True\n",
      "multiprocessing :  32\n",
      "slide_name train_colon_N0058\n"
     ]
    },
    {
     "name": "stderr",
     "output_type": "stream",
     "text": [
      " 82%|████████▏ | 989/1210 [1:36:11<50:08, 13.61s/it]"
     ]
    },
    {
     "name": "stdout",
     "output_type": "stream",
     "text": [
      "Titling Time: 11.4 sec\n",
      "../data/train_data/Colon/N/train_colon_N0189.mrxs\n",
      "noise filter :  True\n",
      "multiprocessing :  32\n",
      "slide_name train_colon_N0189\n"
     ]
    },
    {
     "name": "stderr",
     "output_type": "stream",
     "text": [
      " 82%|████████▏ | 990/1210 [1:36:23<48:31, 13.24s/it]"
     ]
    },
    {
     "name": "stdout",
     "output_type": "stream",
     "text": [
      "Titling Time: 11.8 sec\n",
      "../data/train_data/Colon/N/train_colon_N0117.mrxs\n",
      "noise filter :  True\n",
      "multiprocessing :  32\n",
      "slide_name train_colon_N0117\n"
     ]
    },
    {
     "name": "stderr",
     "output_type": "stream",
     "text": [
      " 82%|████████▏ | 991/1210 [1:36:35<47:24, 12.99s/it]"
     ]
    },
    {
     "name": "stdout",
     "output_type": "stream",
     "text": [
      "Titling Time: 11.9 sec\n",
      "../data/train_data/Colon/N/train_colon_N0194.mrxs\n",
      "noise filter :  True\n",
      "multiprocessing :  32\n",
      "slide_name train_colon_N0194\n"
     ]
    },
    {
     "name": "stderr",
     "output_type": "stream",
     "text": [
      " 82%|████████▏ | 992/1210 [1:36:48<46:48, 12.89s/it]"
     ]
    },
    {
     "name": "stdout",
     "output_type": "stream",
     "text": [
      "Titling Time: 12.1 sec\n",
      "../data/train_data/Colon/N/train_colon_N0162.mrxs\n",
      "noise filter :  True\n",
      "multiprocessing :  32\n",
      "slide_name train_colon_N0162\n"
     ]
    },
    {
     "name": "stderr",
     "output_type": "stream",
     "text": [
      " 82%|████████▏ | 993/1210 [1:37:02<47:28, 13.12s/it]"
     ]
    },
    {
     "name": "stdout",
     "output_type": "stream",
     "text": [
      "Titling Time: 13.0 sec\n",
      "../data/train_data/Colon/N/train_colon_N0186.mrxs\n",
      "noise filter :  True\n",
      "multiprocessing :  32\n",
      "slide_name train_colon_N0186\n"
     ]
    },
    {
     "name": "stderr",
     "output_type": "stream",
     "text": [
      " 82%|████████▏ | 994/1210 [1:37:20<53:08, 14.76s/it]"
     ]
    },
    {
     "name": "stdout",
     "output_type": "stream",
     "text": [
      "Titling Time: 18.0 sec\n",
      "../data/train_data/Colon/N/train_colon_N0029.mrxs\n",
      "noise filter :  True\n",
      "multiprocessing :  32\n",
      "slide_name train_colon_N0029\n"
     ]
    },
    {
     "name": "stderr",
     "output_type": "stream",
     "text": [
      " 82%|████████▏ | 995/1210 [1:37:32<50:04, 13.97s/it]"
     ]
    },
    {
     "name": "stdout",
     "output_type": "stream",
     "text": [
      "Titling Time: 11.5 sec\n",
      "../data/train_data/Colon/N/train_colon_N0034.mrxs\n",
      "noise filter :  True\n",
      "multiprocessing :  32\n",
      "slide_name train_colon_N0034\n"
     ]
    },
    {
     "name": "stderr",
     "output_type": "stream",
     "text": [
      " 82%|████████▏ | 996/1210 [1:37:51<55:20, 15.52s/it]"
     ]
    },
    {
     "name": "stdout",
     "output_type": "stream",
     "text": [
      "Titling Time: 12.4 sec\n",
      "../data/train_data/Colon/N/train_colon_N0079.mrxs\n",
      "noise filter :  True\n",
      "multiprocessing :  32\n",
      "slide_name train_colon_N0079\n"
     ]
    },
    {
     "name": "stderr",
     "output_type": "stream",
     "text": [
      " 82%|████████▏ | 997/1210 [1:38:04<51:55, 14.63s/it]"
     ]
    },
    {
     "name": "stdout",
     "output_type": "stream",
     "text": [
      "Titling Time: 12.0 sec\n",
      "../data/train_data/Colon/N/train_colon_N0076.mrxs\n",
      "noise filter :  True\n",
      "multiprocessing :  32\n",
      "slide_name train_colon_N0076\n"
     ]
    },
    {
     "name": "stderr",
     "output_type": "stream",
     "text": [
      " 82%|████████▏ | 998/1210 [1:38:16<49:07, 13.90s/it]"
     ]
    },
    {
     "name": "stdout",
     "output_type": "stream",
     "text": [
      "Titling Time: 11.6 sec\n",
      "../data/train_data/Colon/N/train_colon_N0122.mrxs\n",
      "noise filter :  True\n",
      "multiprocessing :  32\n",
      "slide_name train_colon_N0122\n"
     ]
    },
    {
     "name": "stderr",
     "output_type": "stream",
     "text": [
      " 83%|████████▎ | 999/1210 [1:38:37<56:33, 16.08s/it]"
     ]
    },
    {
     "name": "stdout",
     "output_type": "stream",
     "text": [
      "Titling Time: 12.0 sec\n",
      "../data/train_data/Colon/N/train_colon_N0128.mrxs\n",
      "noise filter :  True\n",
      "multiprocessing :  32\n",
      "slide_name train_colon_N0128\n"
     ]
    },
    {
     "name": "stderr",
     "output_type": "stream",
     "text": [
      " 83%|████████▎ | 1000/1210 [1:38:50<52:09, 14.90s/it]"
     ]
    },
    {
     "name": "stdout",
     "output_type": "stream",
     "text": [
      "Titling Time: 11.7 sec\n",
      "../data/train_data/Colon/N/train_colon_N0041.mrxs\n",
      "noise filter :  True\n",
      "multiprocessing :  32\n",
      "slide_name train_colon_N0041\n"
     ]
    },
    {
     "name": "stderr",
     "output_type": "stream",
     "text": [
      " 83%|████████▎ | 1001/1210 [1:39:02<49:41, 14.27s/it]"
     ]
    },
    {
     "name": "stdout",
     "output_type": "stream",
     "text": [
      "Titling Time: 12.2 sec\n",
      "../data/train_data/Colon/N/train_colon_N0131.mrxs\n",
      "noise filter :  True\n",
      "multiprocessing :  32\n",
      "slide_name train_colon_N0131\n"
     ]
    },
    {
     "name": "stderr",
     "output_type": "stream",
     "text": [
      " 83%|████████▎ | 1002/1210 [1:39:15<47:32, 13.72s/it]"
     ]
    },
    {
     "name": "stdout",
     "output_type": "stream",
     "text": [
      "Titling Time: 12.0 sec\n",
      "../data/train_data/Colon/N/train_colon_N0083.mrxs\n",
      "noise filter :  True\n",
      "multiprocessing :  32\n",
      "slide_name train_colon_N0083\n"
     ]
    },
    {
     "name": "stderr",
     "output_type": "stream",
     "text": [
      " 83%|████████▎ | 1003/1210 [1:39:27<46:07, 13.37s/it]"
     ]
    },
    {
     "name": "stdout",
     "output_type": "stream",
     "text": [
      "Titling Time: 12.0 sec\n",
      "../data/train_data/Colon/N/train_colon_N0098.mrxs\n",
      "noise filter :  True\n",
      "multiprocessing :  32\n",
      "slide_name train_colon_N0098\n"
     ]
    },
    {
     "name": "stderr",
     "output_type": "stream",
     "text": [
      " 83%|████████▎ | 1004/1210 [1:39:41<45:48, 13.34s/it]"
     ]
    },
    {
     "name": "stdout",
     "output_type": "stream",
     "text": [
      "Titling Time: 12.7 sec\n",
      "../data/train_data/Colon/N/train_colon_N0021.mrxs\n",
      "noise filter :  True\n",
      "multiprocessing :  32\n",
      "slide_name train_colon_N0021\n"
     ]
    },
    {
     "name": "stderr",
     "output_type": "stream",
     "text": [
      " 83%|████████▎ | 1005/1210 [1:40:07<58:32, 17.13s/it]"
     ]
    },
    {
     "name": "stdout",
     "output_type": "stream",
     "text": [
      "Titling Time: 24.7 sec\n",
      "../data/train_data/Colon/N/train_colon_N0045.mrxs\n",
      "noise filter :  True\n",
      "multiprocessing :  32\n",
      "slide_name train_colon_N0045\n"
     ]
    },
    {
     "name": "stderr",
     "output_type": "stream",
     "text": [
      " 83%|████████▎ | 1006/1210 [1:40:19<53:52, 15.85s/it]"
     ]
    },
    {
     "name": "stdout",
     "output_type": "stream",
     "text": [
      "Titling Time: 12.3 sec\n",
      "../data/train_data/Colon/N/train_colon_N0135.mrxs\n",
      "noise filter :  True\n",
      "multiprocessing :  32\n",
      "slide_name train_colon_N0135\n"
     ]
    },
    {
     "name": "stderr",
     "output_type": "stream",
     "text": [
      " 83%|████████▎ | 1007/1210 [1:40:31<49:13, 14.55s/it]"
     ]
    },
    {
     "name": "stdout",
     "output_type": "stream",
     "text": [
      "Titling Time: 11.1 sec\n",
      "../data/train_data/Colon/N/train_colon_N0066.mrxs\n",
      "noise filter :  True\n",
      "multiprocessing :  32\n",
      "slide_name train_colon_N0066\n"
     ]
    },
    {
     "name": "stderr",
     "output_type": "stream",
     "text": [
      " 83%|████████▎ | 1008/1210 [1:40:49<52:27, 15.58s/it]"
     ]
    },
    {
     "name": "stdout",
     "output_type": "stream",
     "text": [
      "Titling Time: 11.8 sec\n",
      "../data/train_data/Colon/N/train_colon_N0093.mrxs\n",
      "noise filter :  True\n",
      "multiprocessing :  32\n",
      "slide_name train_colon_N0093\n"
     ]
    },
    {
     "name": "stderr",
     "output_type": "stream",
     "text": [
      " 83%|████████▎ | 1009/1210 [1:41:01<48:58, 14.62s/it]"
     ]
    },
    {
     "name": "stdout",
     "output_type": "stream",
     "text": [
      "Titling Time: 11.8 sec\n",
      "../data/train_data/Colon/N/train_colon_N0164.mrxs\n",
      "noise filter :  True\n",
      "multiprocessing :  32\n",
      "slide_name train_colon_N0164\n"
     ]
    },
    {
     "name": "stderr",
     "output_type": "stream",
     "text": [
      "100%|██████████| 1210/1210 [1:41:20<00:00,  5.02s/it]"
     ]
    },
    {
     "name": "stdout",
     "output_type": "stream",
     "text": [
      "Titling Time: 17.2 sec\n"
     ]
    },
    {
     "name": "stderr",
     "output_type": "stream",
     "text": [
      "\n"
     ]
    }
   ],
   "source": [
    "# all_slides = all_slides[:10]\n",
    "# for negative\n",
    "for slide_path in tqdm(all_slides, total=len(all_slides)):\n",
    "#     print(slide_path)\n",
    "    if 'D' in str(slide_path) or 'M' in str(slide_path) :\n",
    "        continue\n",
    "        \n",
    "    folder = '/'.join(str(slide_path).split('.')[2].split('/')[2:])\n",
    "    out_folder = '../' + tile_folder + '/' + folder\n",
    "    if not os.path.isdir(out_folder) :\n",
    "        os.makedirs(out_folder, exist_ok=True)\n",
    "#     print(out_folder)\n",
    "    save_patches_SEEGENE(\n",
    "        slide_path=slide_path,\n",
    "        output_path=out_folder,\n",
    "        resolution_factor=resolution_factor,\n",
    "        tile_size=(tile_size - overlap),\n",
    "        overlap=int(overlap/2),\n",
    "        ext=ext,\n",
    "        use_filter=use_filter\n",
    "    )"
   ]
  },
  {
   "cell_type": "code",
   "execution_count": 9,
   "id": "28371dba-6f53-46b9-942d-fa6745d8c333",
   "metadata": {},
   "outputs": [],
   "source": [
    "slide_folder = \"../data/train_data_annotation\"\n",
    "from pathlib import Path\n",
    "all_slides = list(Path(slide_folder).glob(\"**/*.mrxs\"))\n",
    "assert len(all_slides) > 0, f\"We did not find slides in {slide_folder}\""
   ]
  },
  {
   "cell_type": "code",
   "execution_count": 10,
   "id": "fed53277-3532-4587-be5f-eaaf282323c3",
   "metadata": {},
   "outputs": [
    {
     "name": "stderr",
     "output_type": "stream",
     "text": [
      "  0%|          | 0/810 [00:00<?, ?it/s]"
     ]
    },
    {
     "name": "stdout",
     "output_type": "stream",
     "text": [
      "../data/train_data_annotation/Stomach/M/anno_stomach_M_0158.mrxs\n",
      "noise filter :  True\n",
      "multiprocessing :  32\n",
      "slide_name anno_stomach_M_0158\n"
     ]
    },
    {
     "name": "stderr",
     "output_type": "stream",
     "text": [
      "  0%|          | 1/810 [00:12<2:55:08, 12.99s/it]"
     ]
    },
    {
     "name": "stdout",
     "output_type": "stream",
     "text": [
      "Titling Time: 12.5 sec\n",
      "../data/train_data_annotation/Stomach/M/anno_stomach_M_0029.mrxs\n",
      "noise filter :  True\n",
      "multiprocessing :  32\n",
      "slide_name anno_stomach_M_0029\n"
     ]
    },
    {
     "name": "stderr",
     "output_type": "stream",
     "text": [
      "  0%|          | 2/810 [00:24<2:46:19, 12.35s/it]"
     ]
    },
    {
     "name": "stdout",
     "output_type": "stream",
     "text": [
      "Titling Time: 11.5 sec\n",
      "../data/train_data_annotation/Stomach/M/anno_stomach_M_0064.mrxs\n",
      "noise filter :  True\n",
      "multiprocessing :  32\n",
      "slide_name anno_stomach_M_0064\n"
     ]
    },
    {
     "name": "stderr",
     "output_type": "stream",
     "text": [
      "  0%|          | 3/810 [00:37<2:46:55, 12.41s/it]"
     ]
    },
    {
     "name": "stdout",
     "output_type": "stream",
     "text": [
      "Titling Time: 12.1 sec\n",
      "../data/train_data_annotation/Stomach/M/anno_stomach_M_0040.mrxs\n",
      "noise filter :  True\n",
      "multiprocessing :  32\n",
      "slide_name anno_stomach_M_0040\n"
     ]
    },
    {
     "name": "stderr",
     "output_type": "stream",
     "text": [
      "  0%|          | 4/810 [00:49<2:46:29, 12.39s/it]"
     ]
    },
    {
     "name": "stdout",
     "output_type": "stream",
     "text": [
      "Titling Time: 11.9 sec\n",
      "../data/train_data_annotation/Stomach/M/anno_stomach_M_0043.mrxs\n",
      "noise filter :  True\n",
      "multiprocessing :  32\n",
      "slide_name anno_stomach_M_0043\n"
     ]
    },
    {
     "name": "stderr",
     "output_type": "stream",
     "text": [
      "  1%|          | 5/810 [01:02<2:48:32, 12.56s/it]"
     ]
    },
    {
     "name": "stdout",
     "output_type": "stream",
     "text": [
      "Titling Time: 12.3 sec\n",
      "../data/train_data_annotation/Stomach/M/anno_stomach_M_0004.mrxs\n",
      "noise filter :  True\n",
      "multiprocessing :  32\n",
      "slide_name anno_stomach_M_0004\n"
     ]
    },
    {
     "name": "stderr",
     "output_type": "stream",
     "text": [
      "  1%|          | 6/810 [01:14<2:45:57, 12.39s/it]"
     ]
    },
    {
     "name": "stdout",
     "output_type": "stream",
     "text": [
      "Titling Time: 11.6 sec\n",
      "../data/train_data_annotation/Stomach/M/anno_stomach_M_0074.mrxs\n",
      "noise filter :  True\n",
      "multiprocessing :  32\n",
      "slide_name anno_stomach_M_0074\n"
     ]
    },
    {
     "name": "stderr",
     "output_type": "stream",
     "text": [
      "  1%|          | 7/810 [01:28<2:51:45, 12.83s/it]"
     ]
    },
    {
     "name": "stdout",
     "output_type": "stream",
     "text": [
      "Titling Time: 11.9 sec\n",
      "../data/train_data_annotation/Stomach/M/anno_stomach_M_0100.mrxs\n",
      "noise filter :  True\n",
      "multiprocessing :  32\n",
      "slide_name anno_stomach_M_0100\n"
     ]
    },
    {
     "name": "stderr",
     "output_type": "stream",
     "text": [
      "  1%|          | 8/810 [01:48<3:22:59, 15.19s/it]"
     ]
    },
    {
     "name": "stdout",
     "output_type": "stream",
     "text": [
      "Titling Time: 12.1 sec\n",
      "../data/train_data_annotation/Stomach/M/anno_stomach_M_0062.mrxs\n",
      "noise filter :  True\n",
      "multiprocessing :  32\n",
      "slide_name anno_stomach_M_0062\n"
     ]
    },
    {
     "name": "stderr",
     "output_type": "stream",
     "text": [
      "  1%|          | 9/810 [02:01<3:11:22, 14.33s/it]"
     ]
    },
    {
     "name": "stdout",
     "output_type": "stream",
     "text": [
      "Titling Time: 12.0 sec\n",
      "../data/train_data_annotation/Stomach/M/anno_stomach_M_0024.mrxs\n",
      "noise filter :  True\n",
      "multiprocessing :  32\n",
      "slide_name anno_stomach_M_0024\n"
     ]
    },
    {
     "name": "stderr",
     "output_type": "stream",
     "text": [
      "  1%|          | 10/810 [02:15<3:11:20, 14.35s/it]"
     ]
    },
    {
     "name": "stdout",
     "output_type": "stream",
     "text": [
      "Titling Time: 13.8 sec\n",
      "../data/train_data_annotation/Stomach/M/anno_stomach_M_0106.mrxs\n",
      "noise filter :  True\n",
      "multiprocessing :  32\n",
      "slide_name anno_stomach_M_0106\n"
     ]
    },
    {
     "name": "stderr",
     "output_type": "stream",
     "text": [
      "  1%|▏         | 11/810 [02:36<3:36:43, 16.28s/it]"
     ]
    },
    {
     "name": "stdout",
     "output_type": "stream",
     "text": [
      "Titling Time: 11.9 sec\n",
      "../data/train_data_annotation/Stomach/M/anno_stomach_M_0047.mrxs\n",
      "noise filter :  True\n",
      "multiprocessing :  32\n",
      "slide_name anno_stomach_M_0047\n"
     ]
    },
    {
     "name": "stderr",
     "output_type": "stream",
     "text": [
      "  1%|▏         | 12/810 [02:48<3:18:46, 14.95s/it]"
     ]
    },
    {
     "name": "stdout",
     "output_type": "stream",
     "text": [
      "Titling Time: 11.5 sec\n",
      "../data/train_data_annotation/Stomach/M/anno_stomach_M_0119.mrxs\n",
      "noise filter :  True\n",
      "multiprocessing :  32\n",
      "slide_name anno_stomach_M_0119\n"
     ]
    },
    {
     "name": "stderr",
     "output_type": "stream",
     "text": [
      "  2%|▏         | 13/810 [02:59<3:03:52, 13.84s/it]"
     ]
    },
    {
     "name": "stdout",
     "output_type": "stream",
     "text": [
      "Titling Time: 10.9 sec\n",
      "../data/train_data_annotation/Stomach/M/anno_stomach_M_0050.mrxs\n",
      "noise filter :  True\n",
      "multiprocessing :  32\n",
      "slide_name anno_stomach_M_0050\n"
     ]
    },
    {
     "name": "stderr",
     "output_type": "stream",
     "text": [
      "  2%|▏         | 14/810 [03:20<3:33:38, 16.10s/it]"
     ]
    },
    {
     "name": "stdout",
     "output_type": "stream",
     "text": [
      "Titling Time: 12.2 sec\n",
      "../data/train_data_annotation/Stomach/M/anno_stomach_M_0016.mrxs\n",
      "noise filter :  True\n",
      "multiprocessing :  32\n",
      "slide_name anno_stomach_M_0016\n"
     ]
    },
    {
     "name": "stderr",
     "output_type": "stream",
     "text": [
      "  2%|▏         | 15/810 [03:32<3:16:35, 14.84s/it]"
     ]
    },
    {
     "name": "stdout",
     "output_type": "stream",
     "text": [
      "Titling Time: 11.4 sec\n",
      "../data/train_data_annotation/Stomach/M/anno_stomach_M_0147.mrxs\n",
      "noise filter :  True\n",
      "multiprocessing :  32\n",
      "slide_name anno_stomach_M_0147\n"
     ]
    },
    {
     "name": "stderr",
     "output_type": "stream",
     "text": [
      "  2%|▏         | 16/810 [03:51<3:33:40, 16.15s/it]"
     ]
    },
    {
     "name": "stdout",
     "output_type": "stream",
     "text": [
      "Titling Time: 11.9 sec\n",
      "../data/train_data_annotation/Stomach/M/anno_stomach_M_0084.mrxs\n",
      "noise filter :  True\n",
      "multiprocessing :  32\n",
      "slide_name anno_stomach_M_0084\n"
     ]
    },
    {
     "name": "stderr",
     "output_type": "stream",
     "text": [
      "  2%|▏         | 17/810 [04:03<3:14:35, 14.72s/it]"
     ]
    },
    {
     "name": "stdout",
     "output_type": "stream",
     "text": [
      "Titling Time: 11.0 sec\n",
      "../data/train_data_annotation/Stomach/M/anno_stomach_M_0110.mrxs\n",
      "noise filter :  True\n",
      "multiprocessing :  32\n",
      "slide_name anno_stomach_M_0110\n"
     ]
    },
    {
     "name": "stderr",
     "output_type": "stream",
     "text": [
      "  2%|▏         | 18/810 [04:15<3:05:40, 14.07s/it]"
     ]
    },
    {
     "name": "stdout",
     "output_type": "stream",
     "text": [
      "Titling Time: 12.0 sec\n",
      "../data/train_data_annotation/Stomach/M/anno_stomach_M_0164.mrxs\n",
      "noise filter :  True\n",
      "multiprocessing :  32\n",
      "slide_name anno_stomach_M_0164\n"
     ]
    },
    {
     "name": "stderr",
     "output_type": "stream",
     "text": [
      "  2%|▏         | 19/810 [04:27<2:55:54, 13.34s/it]"
     ]
    },
    {
     "name": "stdout",
     "output_type": "stream",
     "text": [
      "Titling Time: 11.3 sec\n",
      "../data/train_data_annotation/Stomach/M/anno_stomach_M_0060.mrxs\n",
      "noise filter :  True\n",
      "multiprocessing :  32\n",
      "slide_name anno_stomach_M_0060\n"
     ]
    },
    {
     "name": "stderr",
     "output_type": "stream",
     "text": [
      "  2%|▏         | 20/810 [04:46<3:18:42, 15.09s/it]"
     ]
    },
    {
     "name": "stdout",
     "output_type": "stream",
     "text": [
      "Titling Time: 11.1 sec\n",
      "../data/train_data_annotation/Stomach/M/anno_stomach_M_0114.mrxs\n",
      "noise filter :  True\n",
      "multiprocessing :  32\n",
      "slide_name anno_stomach_M_0114\n"
     ]
    },
    {
     "name": "stderr",
     "output_type": "stream",
     "text": [
      "  3%|▎         | 21/810 [04:59<3:08:42, 14.35s/it]"
     ]
    },
    {
     "name": "stdout",
     "output_type": "stream",
     "text": [
      "Titling Time: 12.1 sec\n",
      "../data/train_data_annotation/Stomach/M/anno_stomach_M_0182.mrxs\n",
      "noise filter :  True\n",
      "multiprocessing :  32\n",
      "slide_name anno_stomach_M_0182\n"
     ]
    },
    {
     "name": "stderr",
     "output_type": "stream",
     "text": [
      "  3%|▎         | 22/810 [05:20<3:37:45, 16.58s/it]"
     ]
    },
    {
     "name": "stdout",
     "output_type": "stream",
     "text": [
      "Titling Time: 21.2 sec\n",
      "../data/train_data_annotation/Stomach/M/anno_stomach_M_0133.mrxs\n",
      "noise filter :  True\n",
      "multiprocessing :  32\n",
      "slide_name anno_stomach_M_0133\n"
     ]
    },
    {
     "name": "stderr",
     "output_type": "stream",
     "text": [
      "  3%|▎         | 23/810 [05:32<3:18:32, 15.14s/it]"
     ]
    },
    {
     "name": "stdout",
     "output_type": "stream",
     "text": [
      "Titling Time: 11.4 sec\n",
      "../data/train_data_annotation/Stomach/M/anno_stomach_M_0141.mrxs\n",
      "noise filter :  True\n",
      "multiprocessing :  32\n",
      "slide_name anno_stomach_M_0141\n"
     ]
    },
    {
     "name": "stderr",
     "output_type": "stream",
     "text": [
      "  3%|▎         | 24/810 [05:44<3:05:23, 14.15s/it]"
     ]
    },
    {
     "name": "stdout",
     "output_type": "stream",
     "text": [
      "Titling Time: 11.5 sec\n",
      "../data/train_data_annotation/Stomach/M/anno_stomach_M_0148.mrxs\n",
      "noise filter :  True\n",
      "multiprocessing :  32\n",
      "slide_name anno_stomach_M_0148\n"
     ]
    },
    {
     "name": "stderr",
     "output_type": "stream",
     "text": [
      "  3%|▎         | 25/810 [05:56<2:55:57, 13.45s/it]"
     ]
    },
    {
     "name": "stdout",
     "output_type": "stream",
     "text": [
      "Titling Time: 11.4 sec\n",
      "../data/train_data_annotation/Stomach/M/anno_stomach_M_0121.mrxs\n",
      "noise filter :  True\n",
      "multiprocessing :  32\n",
      "slide_name anno_stomach_M_0121\n"
     ]
    },
    {
     "name": "stderr",
     "output_type": "stream",
     "text": [
      "  3%|▎         | 26/810 [06:09<2:52:40, 13.22s/it]"
     ]
    },
    {
     "name": "stdout",
     "output_type": "stream",
     "text": [
      "Titling Time: 12.2 sec\n",
      "../data/train_data_annotation/Stomach/M/anno_stomach_M_0022.mrxs\n",
      "noise filter :  True\n",
      "multiprocessing :  32\n",
      "slide_name anno_stomach_M_0022\n"
     ]
    },
    {
     "name": "stderr",
     "output_type": "stream",
     "text": [
      "  3%|▎         | 27/810 [06:21<2:49:12, 12.97s/it]"
     ]
    },
    {
     "name": "stdout",
     "output_type": "stream",
     "text": [
      "Titling Time: 12.0 sec\n",
      "../data/train_data_annotation/Stomach/M/anno_stomach_M_0052.mrxs\n",
      "noise filter :  True\n",
      "multiprocessing :  32\n",
      "slide_name anno_stomach_M_0052\n"
     ]
    },
    {
     "name": "stderr",
     "output_type": "stream",
     "text": [
      "  3%|▎         | 28/810 [06:34<2:50:48, 13.11s/it]"
     ]
    },
    {
     "name": "stdout",
     "output_type": "stream",
     "text": [
      "Titling Time: 13.0 sec\n",
      "../data/train_data_annotation/Stomach/M/anno_stomach_M_0104.mrxs\n",
      "noise filter :  True\n",
      "multiprocessing :  32\n",
      "slide_name anno_stomach_M_0104\n"
     ]
    },
    {
     "name": "stderr",
     "output_type": "stream",
     "text": [
      "  4%|▎         | 29/810 [06:53<3:14:05, 14.91s/it]"
     ]
    },
    {
     "name": "stdout",
     "output_type": "stream",
     "text": [
      "Titling Time: 18.6 sec\n",
      "../data/train_data_annotation/Stomach/M/anno_stomach_M_0102.mrxs\n",
      "noise filter :  True\n",
      "multiprocessing :  32\n",
      "slide_name anno_stomach_M_0102\n"
     ]
    },
    {
     "name": "stderr",
     "output_type": "stream",
     "text": [
      "  4%|▎         | 30/810 [07:06<3:04:49, 14.22s/it]"
     ]
    },
    {
     "name": "stdout",
     "output_type": "stream",
     "text": [
      "Titling Time: 12.2 sec\n",
      "../data/train_data_annotation/Stomach/M/anno_stomach_M_0196.mrxs\n",
      "noise filter :  True\n",
      "multiprocessing :  32\n",
      "slide_name anno_stomach_M_0196\n"
     ]
    },
    {
     "name": "stderr",
     "output_type": "stream",
     "text": [
      "  4%|▍         | 31/810 [07:26<3:28:28, 16.06s/it]"
     ]
    },
    {
     "name": "stdout",
     "output_type": "stream",
     "text": [
      "Titling Time: 19.7 sec\n",
      "../data/train_data_annotation/Stomach/M/anno_stomach_M_0163.mrxs\n",
      "noise filter :  True\n",
      "multiprocessing :  32\n",
      "slide_name anno_stomach_M_0163\n"
     ]
    },
    {
     "name": "stderr",
     "output_type": "stream",
     "text": [
      "  4%|▍         | 32/810 [07:39<3:15:36, 15.08s/it]"
     ]
    },
    {
     "name": "stdout",
     "output_type": "stream",
     "text": [
      "Titling Time: 12.4 sec\n",
      "../data/train_data_annotation/Stomach/M/anno_stomach_M_0183.mrxs\n",
      "noise filter :  True\n",
      "multiprocessing :  32\n",
      "slide_name anno_stomach_M_0183\n"
     ]
    },
    {
     "name": "stderr",
     "output_type": "stream",
     "text": [
      "  4%|▍         | 33/810 [08:00<3:38:15, 16.85s/it]"
     ]
    },
    {
     "name": "stdout",
     "output_type": "stream",
     "text": [
      "Titling Time: 12.6 sec\n",
      "../data/train_data_annotation/Stomach/M/anno_stomach_M_0014.mrxs\n",
      "noise filter :  True\n",
      "multiprocessing :  32\n",
      "slide_name anno_stomach_M_0014\n"
     ]
    },
    {
     "name": "stderr",
     "output_type": "stream",
     "text": [
      "  4%|▍         | 34/810 [08:14<3:27:26, 16.04s/it]"
     ]
    },
    {
     "name": "stdout",
     "output_type": "stream",
     "text": [
      "Titling Time: 13.5 sec\n",
      "../data/train_data_annotation/Stomach/M/anno_stomach_M_0123.mrxs\n",
      "noise filter :  True\n",
      "multiprocessing :  32\n",
      "slide_name anno_stomach_M_0123\n"
     ]
    },
    {
     "name": "stderr",
     "output_type": "stream",
     "text": [
      "  4%|▍         | 35/810 [08:27<3:15:55, 15.17s/it]"
     ]
    },
    {
     "name": "stdout",
     "output_type": "stream",
     "text": [
      "Titling Time: 12.6 sec\n",
      "../data/train_data_annotation/Stomach/M/anno_stomach_M_0138.mrxs\n",
      "noise filter :  True\n",
      "multiprocessing :  32\n",
      "slide_name anno_stomach_M_0138\n",
      "Titling Time: 15.4 sec\n"
     ]
    },
    {
     "name": "stderr",
     "output_type": "stream",
     "text": [
      "  4%|▍         | 36/810 [08:43<3:18:26, 15.38s/it]"
     ]
    },
    {
     "name": "stdout",
     "output_type": "stream",
     "text": [
      "../data/train_data_annotation/Stomach/M/anno_stomach_M_0094.mrxs\n",
      "noise filter :  True\n",
      "multiprocessing :  32\n",
      "slide_name anno_stomach_M_0094\n"
     ]
    },
    {
     "name": "stderr",
     "output_type": "stream",
     "text": [
      "  5%|▍         | 37/810 [09:00<3:23:14, 15.78s/it]"
     ]
    },
    {
     "name": "stdout",
     "output_type": "stream",
     "text": [
      "Titling Time: 11.4 sec\n",
      "../data/train_data_annotation/Stomach/M/anno_stomach_M_0037.mrxs\n",
      "noise filter :  True\n",
      "multiprocessing :  32\n",
      "slide_name anno_stomach_M_0037\n"
     ]
    },
    {
     "name": "stderr",
     "output_type": "stream",
     "text": [
      "  5%|▍         | 38/810 [09:12<3:07:41, 14.59s/it]"
     ]
    },
    {
     "name": "stdout",
     "output_type": "stream",
     "text": [
      "Titling Time: 11.4 sec\n",
      "../data/train_data_annotation/Stomach/M/anno_stomach_M_0021.mrxs\n",
      "noise filter :  True\n",
      "multiprocessing :  32\n",
      "slide_name anno_stomach_M_0021\n"
     ]
    },
    {
     "name": "stderr",
     "output_type": "stream",
     "text": [
      "  5%|▍         | 39/810 [09:28<3:11:43, 14.92s/it]"
     ]
    },
    {
     "name": "stdout",
     "output_type": "stream",
     "text": [
      "Titling Time: 12.1 sec\n",
      "../data/train_data_annotation/Stomach/M/anno_stomach_M_0157.mrxs\n",
      "noise filter :  True\n",
      "multiprocessing :  32\n",
      "slide_name anno_stomach_M_0157\n"
     ]
    },
    {
     "name": "stderr",
     "output_type": "stream",
     "text": [
      "  5%|▍         | 40/810 [09:41<3:04:00, 14.34s/it]"
     ]
    },
    {
     "name": "stdout",
     "output_type": "stream",
     "text": [
      "Titling Time: 12.5 sec\n",
      "../data/train_data_annotation/Stomach/M/anno_stomach_M_0152.mrxs\n",
      "noise filter :  True\n",
      "multiprocessing :  32\n",
      "slide_name anno_stomach_M_0152\n"
     ]
    },
    {
     "name": "stderr",
     "output_type": "stream",
     "text": [
      "  5%|▌         | 41/810 [10:03<3:36:06, 16.86s/it]"
     ]
    },
    {
     "name": "stdout",
     "output_type": "stream",
     "text": [
      "Titling Time: 22.3 sec\n",
      "../data/train_data_annotation/Stomach/M/anno_stomach_M_0109.mrxs\n",
      "noise filter :  True\n",
      "multiprocessing :  32\n",
      "slide_name anno_stomach_M_0109\n"
     ]
    },
    {
     "name": "stderr",
     "output_type": "stream",
     "text": [
      "  5%|▌         | 42/810 [10:15<3:15:05, 15.24s/it]"
     ]
    },
    {
     "name": "stdout",
     "output_type": "stream",
     "text": [
      "Titling Time: 11.0 sec\n",
      "../data/train_data_annotation/Stomach/M/anno_stomach_M_0108.mrxs\n",
      "noise filter :  True\n",
      "multiprocessing :  32\n",
      "slide_name anno_stomach_M_0108\n"
     ]
    },
    {
     "name": "stderr",
     "output_type": "stream",
     "text": [
      "  5%|▌         | 43/810 [10:26<3:00:36, 14.13s/it]"
     ]
    },
    {
     "name": "stdout",
     "output_type": "stream",
     "text": [
      "Titling Time: 11.2 sec\n",
      "../data/train_data_annotation/Stomach/M/anno_stomach_M_0191.mrxs\n",
      "noise filter :  True\n",
      "multiprocessing :  32\n",
      "slide_name anno_stomach_M_0191\n"
     ]
    },
    {
     "name": "stderr",
     "output_type": "stream",
     "text": [
      "  5%|▌         | 44/810 [10:38<2:51:28, 13.43s/it]"
     ]
    },
    {
     "name": "stdout",
     "output_type": "stream",
     "text": [
      "Titling Time: 11.4 sec\n",
      "../data/train_data_annotation/Stomach/M/anno_stomach_M_0068.mrxs\n",
      "noise filter :  True\n",
      "multiprocessing :  32\n",
      "slide_name anno_stomach_M_0068\n"
     ]
    },
    {
     "name": "stderr",
     "output_type": "stream",
     "text": [
      "  6%|▌         | 45/810 [10:50<2:46:45, 13.08s/it]"
     ]
    },
    {
     "name": "stdout",
     "output_type": "stream",
     "text": [
      "Titling Time: 11.8 sec\n",
      "../data/train_data_annotation/Stomach/M/anno_stomach_M_0083.mrxs\n",
      "noise filter :  True\n",
      "multiprocessing :  32\n",
      "slide_name anno_stomach_M_0083\n"
     ]
    },
    {
     "name": "stderr",
     "output_type": "stream",
     "text": [
      "  6%|▌         | 46/810 [11:07<3:01:22, 14.24s/it]"
     ]
    },
    {
     "name": "stdout",
     "output_type": "stream",
     "text": [
      "Titling Time: 16.5 sec\n",
      "../data/train_data_annotation/Stomach/M/anno_stomach_M_0080.mrxs\n",
      "noise filter :  True\n",
      "multiprocessing :  32\n",
      "slide_name anno_stomach_M_0080\n"
     ]
    },
    {
     "name": "stderr",
     "output_type": "stream",
     "text": [
      "  6%|▌         | 47/810 [11:28<3:24:42, 16.10s/it]"
     ]
    },
    {
     "name": "stdout",
     "output_type": "stream",
     "text": [
      "Titling Time: 11.4 sec\n",
      "../data/train_data_annotation/Stomach/M/anno_stomach_M_0044.mrxs\n",
      "noise filter :  True\n",
      "multiprocessing :  32\n",
      "slide_name anno_stomach_M_0044\n"
     ]
    },
    {
     "name": "stderr",
     "output_type": "stream",
     "text": [
      "  6%|▌         | 48/810 [11:45<3:30:44, 16.59s/it]"
     ]
    },
    {
     "name": "stdout",
     "output_type": "stream",
     "text": [
      "Titling Time: 11.9 sec\n",
      "../data/train_data_annotation/Stomach/M/anno_stomach_M_0092.mrxs\n",
      "noise filter :  True\n",
      "multiprocessing :  32\n",
      "slide_name anno_stomach_M_0092\n"
     ]
    },
    {
     "name": "stderr",
     "output_type": "stream",
     "text": [
      "  6%|▌         | 49/810 [11:58<3:13:45, 15.28s/it]"
     ]
    },
    {
     "name": "stdout",
     "output_type": "stream",
     "text": [
      "Titling Time: 11.7 sec\n",
      "../data/train_data_annotation/Stomach/M/anno_stomach_M_0137.mrxs\n",
      "noise filter :  True\n",
      "multiprocessing :  32\n",
      "slide_name anno_stomach_M_0137\n"
     ]
    },
    {
     "name": "stderr",
     "output_type": "stream",
     "text": [
      "  6%|▌         | 50/810 [12:11<3:04:18, 14.55s/it]"
     ]
    },
    {
     "name": "stdout",
     "output_type": "stream",
     "text": [
      "Titling Time: 12.4 sec\n",
      "../data/train_data_annotation/Stomach/M/anno_stomach_M_0134.mrxs\n",
      "noise filter :  True\n",
      "multiprocessing :  32\n",
      "slide_name anno_stomach_M_0134\n"
     ]
    },
    {
     "name": "stderr",
     "output_type": "stream",
     "text": [
      "  6%|▋         | 51/810 [12:26<3:08:15, 14.88s/it]"
     ]
    },
    {
     "name": "stdout",
     "output_type": "stream",
     "text": [
      "Titling Time: 15.3 sec\n",
      "../data/train_data_annotation/Stomach/M/anno_stomach_M_0103.mrxs\n",
      "noise filter :  True\n",
      "multiprocessing :  32\n",
      "slide_name anno_stomach_M_0103\n"
     ]
    },
    {
     "name": "stderr",
     "output_type": "stream",
     "text": [
      "  6%|▋         | 52/810 [12:39<2:58:19, 14.11s/it]"
     ]
    },
    {
     "name": "stdout",
     "output_type": "stream",
     "text": [
      "Titling Time: 11.8 sec\n",
      "../data/train_data_annotation/Stomach/M/anno_stomach_M_0161.mrxs\n",
      "noise filter :  True\n",
      "multiprocessing :  32\n",
      "slide_name anno_stomach_M_0161\n"
     ]
    },
    {
     "name": "stderr",
     "output_type": "stream",
     "text": [
      "  7%|▋         | 53/810 [12:51<2:53:35, 13.76s/it]"
     ]
    },
    {
     "name": "stdout",
     "output_type": "stream",
     "text": [
      "Titling Time: 12.3 sec\n",
      "../data/train_data_annotation/Stomach/M/anno_stomach_M_0059.mrxs\n",
      "noise filter :  True\n",
      "multiprocessing :  32\n",
      "slide_name anno_stomach_M_0059\n"
     ]
    },
    {
     "name": "stderr",
     "output_type": "stream",
     "text": [
      "  7%|▋         | 54/810 [13:03<2:45:22, 13.12s/it]"
     ]
    },
    {
     "name": "stdout",
     "output_type": "stream",
     "text": [
      "Titling Time: 11.3 sec\n",
      "../data/train_data_annotation/Stomach/M/anno_stomach_M_0189.mrxs\n",
      "noise filter :  True\n",
      "multiprocessing :  32\n",
      "slide_name anno_stomach_M_0189\n"
     ]
    },
    {
     "name": "stderr",
     "output_type": "stream",
     "text": [
      "  7%|▋         | 55/810 [13:15<2:40:37, 12.77s/it]"
     ]
    },
    {
     "name": "stdout",
     "output_type": "stream",
     "text": [
      "Titling Time: 11.4 sec\n",
      "../data/train_data_annotation/Stomach/M/anno_stomach_M_0180.mrxs\n",
      "noise filter :  True\n",
      "multiprocessing :  32\n",
      "slide_name anno_stomach_M_0180\n"
     ]
    },
    {
     "name": "stderr",
     "output_type": "stream",
     "text": [
      "  7%|▋         | 56/810 [13:27<2:37:27, 12.53s/it]"
     ]
    },
    {
     "name": "stdout",
     "output_type": "stream",
     "text": [
      "Titling Time: 11.6 sec\n",
      "../data/train_data_annotation/Stomach/M/anno_stomach_M_0010.mrxs\n",
      "noise filter :  True\n",
      "multiprocessing :  32\n",
      "slide_name anno_stomach_M_0010\n"
     ]
    },
    {
     "name": "stderr",
     "output_type": "stream",
     "text": [
      "  7%|▋         | 57/810 [13:39<2:35:40, 12.40s/it]"
     ]
    },
    {
     "name": "stdout",
     "output_type": "stream",
     "text": [
      "Titling Time: 11.7 sec\n",
      "../data/train_data_annotation/Stomach/M/anno_stomach_M_0070.mrxs\n",
      "noise filter :  True\n",
      "multiprocessing :  32\n",
      "slide_name anno_stomach_M_0070\n"
     ]
    },
    {
     "name": "stderr",
     "output_type": "stream",
     "text": [
      "  7%|▋         | 58/810 [14:04<3:22:26, 16.15s/it]"
     ]
    },
    {
     "name": "stdout",
     "output_type": "stream",
     "text": [
      "Titling Time: 22.6 sec\n",
      "../data/train_data_annotation/Stomach/M/anno_stomach_M_0140.mrxs\n",
      "noise filter :  True\n",
      "multiprocessing :  32\n",
      "slide_name anno_stomach_M_0140\n"
     ]
    },
    {
     "name": "stderr",
     "output_type": "stream",
     "text": [
      "  7%|▋         | 59/810 [14:26<3:45:07, 17.99s/it]"
     ]
    },
    {
     "name": "stdout",
     "output_type": "stream",
     "text": [
      "Titling Time: 11.9 sec\n",
      "../data/train_data_annotation/Stomach/M/anno_stomach_M_0130.mrxs\n",
      "noise filter :  True\n",
      "multiprocessing :  32\n",
      "slide_name anno_stomach_M_0130\n"
     ]
    },
    {
     "name": "stderr",
     "output_type": "stream",
     "text": [
      "  7%|▋         | 60/810 [14:39<3:24:50, 16.39s/it]"
     ]
    },
    {
     "name": "stdout",
     "output_type": "stream",
     "text": [
      "Titling Time: 12.2 sec\n",
      "../data/train_data_annotation/Stomach/M/anno_stomach_M_0145.mrxs\n",
      "noise filter :  True\n",
      "multiprocessing :  32\n",
      "slide_name anno_stomach_M_0145\n"
     ]
    },
    {
     "name": "stderr",
     "output_type": "stream",
     "text": [
      "  8%|▊         | 61/810 [14:52<3:10:24, 15.25s/it]"
     ]
    },
    {
     "name": "stdout",
     "output_type": "stream",
     "text": [
      "Titling Time: 12.1 sec\n",
      "../data/train_data_annotation/Stomach/M/anno_stomach_M_0193.mrxs\n",
      "noise filter :  True\n",
      "multiprocessing :  32\n",
      "slide_name anno_stomach_M_0193\n"
     ]
    },
    {
     "name": "stderr",
     "output_type": "stream",
     "text": [
      "  8%|▊         | 62/810 [15:11<3:25:43, 16.50s/it]"
     ]
    },
    {
     "name": "stdout",
     "output_type": "stream",
     "text": [
      "Titling Time: 18.9 sec\n",
      "../data/train_data_annotation/Stomach/M/anno_stomach_M_0028.mrxs\n",
      "noise filter :  True\n",
      "multiprocessing :  32\n",
      "slide_name anno_stomach_M_0028\n"
     ]
    },
    {
     "name": "stderr",
     "output_type": "stream",
     "text": [
      "  8%|▊         | 63/810 [15:23<3:10:12, 15.28s/it]"
     ]
    },
    {
     "name": "stdout",
     "output_type": "stream",
     "text": [
      "Titling Time: 11.9 sec\n",
      "../data/train_data_annotation/Stomach/M/anno_stomach_M_0061.mrxs\n",
      "noise filter :  True\n",
      "multiprocessing :  32\n",
      "slide_name anno_stomach_M_0061\n"
     ]
    },
    {
     "name": "stderr",
     "output_type": "stream",
     "text": [
      "  8%|▊         | 64/810 [15:35<2:56:29, 14.19s/it]"
     ]
    },
    {
     "name": "stdout",
     "output_type": "stream",
     "text": [
      "Titling Time: 11.2 sec\n",
      "../data/train_data_annotation/Stomach/M/anno_stomach_M_0170.mrxs\n",
      "noise filter :  True\n",
      "multiprocessing :  32\n",
      "slide_name anno_stomach_M_0170\n"
     ]
    },
    {
     "name": "stderr",
     "output_type": "stream",
     "text": [
      "  8%|▊         | 65/810 [15:57<3:25:15, 16.53s/it]"
     ]
    },
    {
     "name": "stdout",
     "output_type": "stream",
     "text": [
      "Titling Time: 21.5 sec\n",
      "../data/train_data_annotation/Stomach/M/anno_stomach_M_0007.mrxs\n",
      "noise filter :  True\n",
      "multiprocessing :  32\n",
      "slide_name anno_stomach_M_0007\n"
     ]
    },
    {
     "name": "stderr",
     "output_type": "stream",
     "text": [
      "  8%|▊         | 66/810 [16:09<3:07:57, 15.16s/it]"
     ]
    },
    {
     "name": "stdout",
     "output_type": "stream",
     "text": [
      "Titling Time: 11.5 sec\n",
      "../data/train_data_annotation/Stomach/M/anno_stomach_M_0034.mrxs\n",
      "noise filter :  True\n",
      "multiprocessing :  32\n",
      "slide_name anno_stomach_M_0034\n"
     ]
    },
    {
     "name": "stderr",
     "output_type": "stream",
     "text": [
      "  8%|▊         | 67/810 [16:29<3:24:09, 16.49s/it]"
     ]
    },
    {
     "name": "stdout",
     "output_type": "stream",
     "text": [
      "Titling Time: 11.9 sec\n",
      "../data/train_data_annotation/Stomach/M/anno_stomach_M_0057.mrxs\n",
      "noise filter :  True\n",
      "multiprocessing :  32\n",
      "slide_name anno_stomach_M_0057\n"
     ]
    },
    {
     "name": "stderr",
     "output_type": "stream",
     "text": [
      "  8%|▊         | 68/810 [16:45<3:21:47, 16.32s/it]"
     ]
    },
    {
     "name": "stdout",
     "output_type": "stream",
     "text": [
      "Titling Time: 15.5 sec\n",
      "../data/train_data_annotation/Stomach/M/anno_stomach_M_0168.mrxs\n",
      "noise filter :  True\n",
      "multiprocessing :  32\n",
      "slide_name anno_stomach_M_0168\n"
     ]
    },
    {
     "name": "stderr",
     "output_type": "stream",
     "text": [
      "  9%|▊         | 69/810 [16:57<3:06:21, 15.09s/it]"
     ]
    },
    {
     "name": "stdout",
     "output_type": "stream",
     "text": [
      "Titling Time: 11.8 sec\n",
      "../data/train_data_annotation/Stomach/M/anno_stomach_M_0169.mrxs\n",
      "noise filter :  True\n",
      "multiprocessing :  32\n",
      "slide_name anno_stomach_M_0169\n"
     ]
    },
    {
     "name": "stderr",
     "output_type": "stream",
     "text": [
      "  9%|▊         | 70/810 [17:08<2:53:30, 14.07s/it]"
     ]
    },
    {
     "name": "stdout",
     "output_type": "stream",
     "text": [
      "Titling Time: 11.3 sec\n",
      "../data/train_data_annotation/Stomach/M/anno_stomach_M_0107.mrxs\n",
      "noise filter :  True\n",
      "multiprocessing :  32\n",
      "slide_name anno_stomach_M_0107\n"
     ]
    },
    {
     "name": "stderr",
     "output_type": "stream",
     "text": [
      "  9%|▉         | 71/810 [17:21<2:45:59, 13.48s/it]"
     ]
    },
    {
     "name": "stdout",
     "output_type": "stream",
     "text": [
      "Titling Time: 11.6 sec\n",
      "../data/train_data_annotation/Stomach/M/anno_stomach_M_0115.mrxs\n",
      "noise filter :  True\n",
      "multiprocessing :  32\n",
      "slide_name anno_stomach_M_0115\n"
     ]
    },
    {
     "name": "stderr",
     "output_type": "stream",
     "text": [
      "  9%|▉         | 72/810 [17:33<2:41:39, 13.14s/it]"
     ]
    },
    {
     "name": "stdout",
     "output_type": "stream",
     "text": [
      "Titling Time: 12.0 sec\n",
      "../data/train_data_annotation/Stomach/M/anno_stomach_M_0201.mrxs\n",
      "noise filter :  True\n",
      "multiprocessing :  32\n",
      "slide_name anno_stomach_M_0201\n"
     ]
    },
    {
     "name": "stderr",
     "output_type": "stream",
     "text": [
      "  9%|▉         | 73/810 [17:45<2:37:12, 12.80s/it]"
     ]
    },
    {
     "name": "stdout",
     "output_type": "stream",
     "text": [
      "Titling Time: 11.6 sec\n",
      "../data/train_data_annotation/Stomach/M/anno_stomach_M_0055.mrxs\n",
      "noise filter :  True\n",
      "multiprocessing :  32\n",
      "slide_name anno_stomach_M_0055\n"
     ]
    },
    {
     "name": "stderr",
     "output_type": "stream",
     "text": [
      "  9%|▉         | 74/810 [18:08<3:14:36, 15.87s/it]"
     ]
    },
    {
     "name": "stdout",
     "output_type": "stream",
     "text": [
      "Titling Time: 12.2 sec\n",
      "../data/train_data_annotation/Stomach/M/anno_stomach_M_0111.mrxs\n",
      "noise filter :  True\n",
      "multiprocessing :  32\n",
      "slide_name anno_stomach_M_0111\n"
     ]
    },
    {
     "name": "stderr",
     "output_type": "stream",
     "text": [
      "  9%|▉         | 75/810 [18:21<3:04:00, 15.02s/it]"
     ]
    },
    {
     "name": "stdout",
     "output_type": "stream",
     "text": [
      "Titling Time: 12.6 sec\n",
      "../data/train_data_annotation/Stomach/M/anno_stomach_M_0179.mrxs\n",
      "noise filter :  True\n",
      "multiprocessing :  32\n",
      "slide_name anno_stomach_M_0179\n"
     ]
    },
    {
     "name": "stderr",
     "output_type": "stream",
     "text": [
      "  9%|▉         | 76/810 [18:33<2:53:12, 14.16s/it]"
     ]
    },
    {
     "name": "stdout",
     "output_type": "stream",
     "text": [
      "Titling Time: 11.8 sec\n",
      "../data/train_data_annotation/Stomach/M/anno_stomach_M_0096.mrxs\n",
      "noise filter :  True\n",
      "multiprocessing :  32\n",
      "slide_name anno_stomach_M_0096\n"
     ]
    },
    {
     "name": "stderr",
     "output_type": "stream",
     "text": [
      " 10%|▉         | 77/810 [18:46<2:49:21, 13.86s/it]"
     ]
    },
    {
     "name": "stdout",
     "output_type": "stream",
     "text": [
      "Titling Time: 12.6 sec\n",
      "../data/train_data_annotation/Stomach/M/anno_stomach_M_0187.mrxs\n",
      "noise filter :  True\n",
      "multiprocessing :  32\n",
      "slide_name anno_stomach_M_0187\n"
     ]
    },
    {
     "name": "stderr",
     "output_type": "stream",
     "text": [
      " 10%|▉         | 78/810 [18:58<2:40:56, 13.19s/it]"
     ]
    },
    {
     "name": "stdout",
     "output_type": "stream",
     "text": [
      "Titling Time: 11.2 sec\n",
      "../data/train_data_annotation/Stomach/M/anno_stomach_M_0125.mrxs\n",
      "noise filter :  True\n",
      "multiprocessing :  32\n",
      "slide_name anno_stomach_M_0125\n"
     ]
    },
    {
     "name": "stderr",
     "output_type": "stream",
     "text": [
      " 10%|▉         | 79/810 [19:20<3:13:59, 15.92s/it]"
     ]
    },
    {
     "name": "stdout",
     "output_type": "stream",
     "text": [
      "Titling Time: 13.0 sec\n",
      "../data/train_data_annotation/Stomach/M/anno_stomach_M_0128.mrxs\n",
      "noise filter :  True\n",
      "multiprocessing :  32\n",
      "slide_name anno_stomach_M_0128\n"
     ]
    },
    {
     "name": "stderr",
     "output_type": "stream",
     "text": [
      " 10%|▉         | 80/810 [19:32<3:00:08, 14.81s/it]"
     ]
    },
    {
     "name": "stdout",
     "output_type": "stream",
     "text": [
      "Titling Time: 11.6 sec\n",
      "../data/train_data_annotation/Stomach/M/anno_stomach_M_0005.mrxs\n",
      "noise filter :  True\n",
      "multiprocessing :  32\n",
      "slide_name anno_stomach_M_0005\n"
     ]
    },
    {
     "name": "stderr",
     "output_type": "stream",
     "text": [
      " 10%|█         | 81/810 [19:54<3:25:01, 16.88s/it]"
     ]
    },
    {
     "name": "stdout",
     "output_type": "stream",
     "text": [
      "Titling Time: 11.8 sec\n",
      "../data/train_data_annotation/Stomach/M/anno_stomach_M_0090.mrxs\n",
      "noise filter :  True\n",
      "multiprocessing :  32\n",
      "slide_name anno_stomach_M_0090\n"
     ]
    },
    {
     "name": "stderr",
     "output_type": "stream",
     "text": [
      " 10%|█         | 82/810 [20:06<3:08:19, 15.52s/it]"
     ]
    },
    {
     "name": "stdout",
     "output_type": "stream",
     "text": [
      "Titling Time: 11.9 sec\n",
      "../data/train_data_annotation/Stomach/M/anno_stomach_M_0190.mrxs\n",
      "noise filter :  True\n",
      "multiprocessing :  32\n",
      "slide_name anno_stomach_M_0190\n"
     ]
    },
    {
     "name": "stderr",
     "output_type": "stream",
     "text": [
      " 10%|█         | 83/810 [20:19<2:56:59, 14.61s/it]"
     ]
    },
    {
     "name": "stdout",
     "output_type": "stream",
     "text": [
      "Titling Time: 12.1 sec\n",
      "../data/train_data_annotation/Stomach/M/anno_stomach_M_0079.mrxs\n",
      "noise filter :  True\n",
      "multiprocessing :  32\n",
      "slide_name anno_stomach_M_0079\n"
     ]
    },
    {
     "name": "stderr",
     "output_type": "stream",
     "text": [
      " 10%|█         | 84/810 [20:38<3:11:32, 15.83s/it]"
     ]
    },
    {
     "name": "stdout",
     "output_type": "stream",
     "text": [
      "Titling Time: 12.8 sec\n",
      "../data/train_data_annotation/Stomach/M/anno_stomach_M_0129.mrxs\n",
      "noise filter :  True\n",
      "multiprocessing :  32\n",
      "slide_name anno_stomach_M_0129\n"
     ]
    },
    {
     "name": "stderr",
     "output_type": "stream",
     "text": [
      " 10%|█         | 85/810 [20:50<2:58:26, 14.77s/it]"
     ]
    },
    {
     "name": "stdout",
     "output_type": "stream",
     "text": [
      "Titling Time: 11.9 sec\n",
      "../data/train_data_annotation/Stomach/M/anno_stomach_M_0156.mrxs\n",
      "noise filter :  True\n",
      "multiprocessing :  32\n",
      "slide_name anno_stomach_M_0156\n"
     ]
    },
    {
     "name": "stderr",
     "output_type": "stream",
     "text": [
      " 11%|█         | 86/810 [21:02<2:46:49, 13.83s/it]"
     ]
    },
    {
     "name": "stdout",
     "output_type": "stream",
     "text": [
      "Titling Time: 11.3 sec\n",
      "../data/train_data_annotation/Stomach/M/anno_stomach_M_0153.mrxs\n",
      "noise filter :  True\n",
      "multiprocessing :  32\n",
      "slide_name anno_stomach_M_0153\n"
     ]
    },
    {
     "name": "stderr",
     "output_type": "stream",
     "text": [
      " 11%|█         | 87/810 [21:13<2:38:57, 13.19s/it]"
     ]
    },
    {
     "name": "stdout",
     "output_type": "stream",
     "text": [
      "Titling Time: 11.3 sec\n",
      "../data/train_data_annotation/Stomach/M/anno_stomach_M_0155.mrxs\n",
      "noise filter :  True\n",
      "multiprocessing :  32\n",
      "slide_name anno_stomach_M_0155\n"
     ]
    },
    {
     "name": "stderr",
     "output_type": "stream",
     "text": [
      " 11%|█         | 88/810 [21:25<2:34:53, 12.87s/it]"
     ]
    },
    {
     "name": "stdout",
     "output_type": "stream",
     "text": [
      "Titling Time: 11.6 sec\n",
      "../data/train_data_annotation/Stomach/M/anno_stomach_M_0098.mrxs\n",
      "noise filter :  True\n",
      "multiprocessing :  32\n",
      "slide_name anno_stomach_M_0098\n"
     ]
    },
    {
     "name": "stderr",
     "output_type": "stream",
     "text": [
      " 11%|█         | 89/810 [21:38<2:33:58, 12.81s/it]"
     ]
    },
    {
     "name": "stdout",
     "output_type": "stream",
     "text": [
      "Titling Time: 12.2 sec\n",
      "../data/train_data_annotation/Stomach/M/anno_stomach_M_0175.mrxs\n",
      "noise filter :  True\n",
      "multiprocessing :  32\n",
      "slide_name anno_stomach_M_0175\n"
     ]
    },
    {
     "name": "stderr",
     "output_type": "stream",
     "text": [
      " 11%|█         | 90/810 [22:01<3:11:57, 16.00s/it]"
     ]
    },
    {
     "name": "stdout",
     "output_type": "stream",
     "text": [
      "Titling Time: 16.5 sec\n",
      "../data/train_data_annotation/Stomach/M/anno_stomach_M_0025.mrxs\n",
      "noise filter :  True\n",
      "multiprocessing :  32\n",
      "slide_name anno_stomach_M_0025\n"
     ]
    },
    {
     "name": "stderr",
     "output_type": "stream",
     "text": [
      " 11%|█         | 91/810 [22:14<2:57:28, 14.81s/it]"
     ]
    },
    {
     "name": "stdout",
     "output_type": "stream",
     "text": [
      "Titling Time: 11.6 sec\n",
      "../data/train_data_annotation/Stomach/M/anno_stomach_M_0143.mrxs\n",
      "noise filter :  True\n",
      "multiprocessing :  32\n",
      "slide_name anno_stomach_M_0143\n"
     ]
    },
    {
     "name": "stderr",
     "output_type": "stream",
     "text": [
      " 11%|█▏        | 92/810 [22:33<3:13:56, 16.21s/it]"
     ]
    },
    {
     "name": "stdout",
     "output_type": "stream",
     "text": [
      "Titling Time: 12.1 sec\n",
      "../data/train_data_annotation/Stomach/M/anno_stomach_M_0015.mrxs\n",
      "noise filter :  True\n",
      "multiprocessing :  32\n",
      "slide_name anno_stomach_M_0015\n"
     ]
    },
    {
     "name": "stderr",
     "output_type": "stream",
     "text": [
      " 11%|█▏        | 93/810 [22:47<3:04:35, 15.45s/it]"
     ]
    },
    {
     "name": "stdout",
     "output_type": "stream",
     "text": [
      "Titling Time: 13.2 sec\n",
      "../data/train_data_annotation/Stomach/M/anno_stomach_M_0049.mrxs\n",
      "noise filter :  True\n",
      "multiprocessing :  32\n",
      "slide_name anno_stomach_M_0049\n"
     ]
    },
    {
     "name": "stderr",
     "output_type": "stream",
     "text": [
      " 12%|█▏        | 94/810 [23:09<3:29:20, 17.54s/it]"
     ]
    },
    {
     "name": "stdout",
     "output_type": "stream",
     "text": [
      "Titling Time: 11.7 sec\n",
      "../data/train_data_annotation/Stomach/M/anno_stomach_M_0035.mrxs\n",
      "noise filter :  True\n",
      "multiprocessing :  32\n",
      "slide_name anno_stomach_M_0035\n"
     ]
    },
    {
     "name": "stderr",
     "output_type": "stream",
     "text": [
      " 12%|█▏        | 95/810 [23:22<3:10:54, 16.02s/it]"
     ]
    },
    {
     "name": "stdout",
     "output_type": "stream",
     "text": [
      "Titling Time: 12.0 sec\n",
      "../data/train_data_annotation/Stomach/M/anno_stomach_M_0185.mrxs\n",
      "noise filter :  True\n",
      "multiprocessing :  32\n",
      "slide_name anno_stomach_M_0185\n"
     ]
    },
    {
     "name": "stderr",
     "output_type": "stream",
     "text": [
      " 12%|█▏        | 96/810 [23:34<2:58:08, 14.97s/it]"
     ]
    },
    {
     "name": "stdout",
     "output_type": "stream",
     "text": [
      "Titling Time: 12.0 sec\n",
      "../data/train_data_annotation/Stomach/M/anno_stomach_M_0195.mrxs\n",
      "noise filter :  True\n",
      "multiprocessing :  32\n",
      "slide_name anno_stomach_M_0195\n"
     ]
    },
    {
     "name": "stderr",
     "output_type": "stream",
     "text": [
      " 12%|█▏        | 97/810 [23:47<2:49:16, 14.24s/it]"
     ]
    },
    {
     "name": "stdout",
     "output_type": "stream",
     "text": [
      "Titling Time: 12.1 sec\n",
      "../data/train_data_annotation/Stomach/M/anno_stomach_M_0018.mrxs\n",
      "noise filter :  True\n",
      "multiprocessing :  32\n",
      "slide_name anno_stomach_M_0018\n"
     ]
    },
    {
     "name": "stderr",
     "output_type": "stream",
     "text": [
      " 12%|█▏        | 98/810 [23:59<2:42:39, 13.71s/it]"
     ]
    },
    {
     "name": "stdout",
     "output_type": "stream",
     "text": [
      "Titling Time: 11.9 sec\n",
      "../data/train_data_annotation/Stomach/M/anno_stomach_M_0146.mrxs\n",
      "noise filter :  True\n",
      "multiprocessing :  32\n",
      "slide_name anno_stomach_M_0146\n"
     ]
    },
    {
     "name": "stderr",
     "output_type": "stream",
     "text": [
      " 12%|█▏        | 99/810 [24:29<3:41:00, 18.65s/it]"
     ]
    },
    {
     "name": "stdout",
     "output_type": "stream",
     "text": [
      "Titling Time: 11.7 sec\n",
      "../data/train_data_annotation/Stomach/M/anno_stomach_M_0166.mrxs\n",
      "noise filter :  True\n",
      "multiprocessing :  32\n",
      "slide_name anno_stomach_M_0166\n"
     ]
    },
    {
     "name": "stderr",
     "output_type": "stream",
     "text": [
      " 12%|█▏        | 100/810 [24:41<3:16:55, 16.64s/it]"
     ]
    },
    {
     "name": "stdout",
     "output_type": "stream",
     "text": [
      "Titling Time: 11.5 sec\n",
      "../data/train_data_annotation/Stomach/M/anno_stomach_M_0066.mrxs\n",
      "noise filter :  True\n",
      "multiprocessing :  32\n",
      "slide_name anno_stomach_M_0066\n"
     ]
    },
    {
     "name": "stderr",
     "output_type": "stream",
     "text": [
      " 12%|█▏        | 101/810 [24:54<3:01:55, 15.40s/it]"
     ]
    },
    {
     "name": "stdout",
     "output_type": "stream",
     "text": [
      "Titling Time: 11.9 sec\n",
      "../data/train_data_annotation/Stomach/M/anno_stomach_M_0073.mrxs\n",
      "noise filter :  True\n",
      "multiprocessing :  32\n",
      "slide_name anno_stomach_M_0073\n"
     ]
    },
    {
     "name": "stderr",
     "output_type": "stream",
     "text": [
      " 13%|█▎        | 102/810 [25:15<3:23:54, 17.28s/it]"
     ]
    },
    {
     "name": "stdout",
     "output_type": "stream",
     "text": [
      "Titling Time: 21.2 sec\n",
      "../data/train_data_annotation/Stomach/M/anno_stomach_M_0089.mrxs\n",
      "noise filter :  True\n",
      "multiprocessing :  32\n",
      "slide_name anno_stomach_M_0089\n"
     ]
    },
    {
     "name": "stderr",
     "output_type": "stream",
     "text": [
      " 13%|█▎        | 103/810 [25:28<3:06:56, 15.87s/it]"
     ]
    },
    {
     "name": "stdout",
     "output_type": "stream",
     "text": [
      "Titling Time: 12.1 sec\n",
      "../data/train_data_annotation/Stomach/M/anno_stomach_M_0038.mrxs\n",
      "noise filter :  True\n",
      "multiprocessing :  32\n",
      "slide_name anno_stomach_M_0038\n"
     ]
    },
    {
     "name": "stderr",
     "output_type": "stream",
     "text": [
      " 13%|█▎        | 104/810 [25:41<2:57:12, 15.06s/it]"
     ]
    },
    {
     "name": "stdout",
     "output_type": "stream",
     "text": [
      "Titling Time: 12.7 sec\n",
      "../data/train_data_annotation/Stomach/M/anno_stomach_M_0071.mrxs\n",
      "noise filter :  True\n",
      "multiprocessing :  32\n",
      "slide_name anno_stomach_M_0071\n"
     ]
    },
    {
     "name": "stderr",
     "output_type": "stream",
     "text": [
      " 13%|█▎        | 105/810 [25:53<2:47:17, 14.24s/it]"
     ]
    },
    {
     "name": "stdout",
     "output_type": "stream",
     "text": [
      "Titling Time: 11.5 sec\n",
      "../data/train_data_annotation/Stomach/M/anno_stomach_M_0069.mrxs\n",
      "noise filter :  True\n",
      "multiprocessing :  32\n",
      "slide_name anno_stomach_M_0069\n"
     ]
    },
    {
     "name": "stderr",
     "output_type": "stream",
     "text": [
      " 13%|█▎        | 106/810 [26:15<3:13:10, 16.46s/it]"
     ]
    },
    {
     "name": "stdout",
     "output_type": "stream",
     "text": [
      "Titling Time: 11.6 sec\n",
      "../data/train_data_annotation/Stomach/M/anno_stomach_M_0162.mrxs\n",
      "noise filter :  True\n",
      "multiprocessing :  32\n",
      "slide_name anno_stomach_M_0162\n"
     ]
    },
    {
     "name": "stderr",
     "output_type": "stream",
     "text": [
      " 13%|█▎        | 107/810 [26:28<2:58:48, 15.26s/it]"
     ]
    },
    {
     "name": "stdout",
     "output_type": "stream",
     "text": [
      "Titling Time: 12.0 sec\n",
      "../data/train_data_annotation/Stomach/M/anno_stomach_M_0118.mrxs\n",
      "noise filter :  True\n",
      "multiprocessing :  32\n",
      "slide_name anno_stomach_M_0118\n"
     ]
    },
    {
     "name": "stderr",
     "output_type": "stream",
     "text": [
      " 13%|█▎        | 108/810 [26:39<2:46:09, 14.20s/it]"
     ]
    },
    {
     "name": "stdout",
     "output_type": "stream",
     "text": [
      "Titling Time: 11.3 sec\n",
      "../data/train_data_annotation/Stomach/M/anno_stomach_M_0012.mrxs\n",
      "noise filter :  True\n",
      "multiprocessing :  32\n",
      "slide_name anno_stomach_M_0012\n"
     ]
    },
    {
     "name": "stderr",
     "output_type": "stream",
     "text": [
      " 13%|█▎        | 109/810 [26:51<2:37:18, 13.46s/it]"
     ]
    },
    {
     "name": "stdout",
     "output_type": "stream",
     "text": [
      "Titling Time: 11.3 sec\n",
      "../data/train_data_annotation/Stomach/M/anno_stomach_M_0063.mrxs\n",
      "noise filter :  True\n",
      "multiprocessing :  32\n",
      "slide_name anno_stomach_M_0063\n"
     ]
    },
    {
     "name": "stderr",
     "output_type": "stream",
     "text": [
      " 14%|█▎        | 110/810 [27:03<2:31:51, 13.02s/it]"
     ]
    },
    {
     "name": "stdout",
     "output_type": "stream",
     "text": [
      "Titling Time: 11.5 sec\n",
      "../data/train_data_annotation/Stomach/M/anno_stomach_M_0199.mrxs\n",
      "noise filter :  True\n",
      "multiprocessing :  32\n",
      "slide_name anno_stomach_M_0199\n"
     ]
    },
    {
     "name": "stderr",
     "output_type": "stream",
     "text": [
      " 14%|█▎        | 111/810 [27:20<2:46:01, 14.25s/it]"
     ]
    },
    {
     "name": "stdout",
     "output_type": "stream",
     "text": [
      "Titling Time: 16.7 sec\n",
      "../data/train_data_annotation/Stomach/M/anno_stomach_M_0026.mrxs\n",
      "noise filter :  True\n",
      "multiprocessing :  32\n",
      "slide_name anno_stomach_M_0026\n"
     ]
    },
    {
     "name": "stderr",
     "output_type": "stream",
     "text": [
      " 14%|█▍        | 112/810 [27:37<2:54:54, 15.03s/it]"
     ]
    },
    {
     "name": "stdout",
     "output_type": "stream",
     "text": [
      "Titling Time: 16.5 sec\n",
      "../data/train_data_annotation/Stomach/M/anno_stomach_M_0023.mrxs\n",
      "noise filter :  True\n",
      "multiprocessing :  32\n",
      "slide_name anno_stomach_M_0023\n"
     ]
    },
    {
     "name": "stderr",
     "output_type": "stream",
     "text": [
      " 14%|█▍        | 113/810 [27:49<2:45:33, 14.25s/it]"
     ]
    },
    {
     "name": "stdout",
     "output_type": "stream",
     "text": [
      "Titling Time: 11.9 sec\n",
      "../data/train_data_annotation/Stomach/M/anno_stomach_M_0127.mrxs\n",
      "noise filter :  True\n",
      "multiprocessing :  32\n",
      "slide_name anno_stomach_M_0127\n"
     ]
    },
    {
     "name": "stderr",
     "output_type": "stream",
     "text": [
      " 14%|█▍        | 114/810 [28:10<3:07:56, 16.20s/it]"
     ]
    },
    {
     "name": "stdout",
     "output_type": "stream",
     "text": [
      "Titling Time: 20.2 sec\n",
      "../data/train_data_annotation/Stomach/M/anno_stomach_M_0139.mrxs\n",
      "noise filter :  True\n",
      "multiprocessing :  32\n",
      "slide_name anno_stomach_M_0139\n"
     ]
    },
    {
     "name": "stderr",
     "output_type": "stream",
     "text": [
      " 14%|█▍        | 115/810 [28:22<2:51:14, 14.78s/it]"
     ]
    },
    {
     "name": "stdout",
     "output_type": "stream",
     "text": [
      "Titling Time: 11.1 sec\n",
      "../data/train_data_annotation/Stomach/M/anno_stomach_M_0126.mrxs\n",
      "noise filter :  True\n",
      "multiprocessing :  32\n",
      "slide_name anno_stomach_M_0126\n"
     ]
    },
    {
     "name": "stderr",
     "output_type": "stream",
     "text": [
      " 14%|█▍        | 116/810 [28:34<2:42:59, 14.09s/it]"
     ]
    },
    {
     "name": "stdout",
     "output_type": "stream",
     "text": [
      "Titling Time: 12.0 sec\n",
      "../data/train_data_annotation/Stomach/M/anno_stomach_M_0136.mrxs\n",
      "noise filter :  True\n",
      "multiprocessing :  32\n",
      "slide_name anno_stomach_M_0136\n"
     ]
    },
    {
     "name": "stderr",
     "output_type": "stream",
     "text": [
      " 14%|█▍        | 117/810 [28:58<3:17:11, 17.07s/it]"
     ]
    },
    {
     "name": "stdout",
     "output_type": "stream",
     "text": [
      "Titling Time: 23.4 sec\n",
      "../data/train_data_annotation/Stomach/M/anno_stomach_M_0053.mrxs\n",
      "noise filter :  True\n",
      "multiprocessing :  32\n",
      "slide_name anno_stomach_M_0053\n"
     ]
    },
    {
     "name": "stderr",
     "output_type": "stream",
     "text": [
      " 15%|█▍        | 118/810 [29:10<2:59:47, 15.59s/it]"
     ]
    },
    {
     "name": "stdout",
     "output_type": "stream",
     "text": [
      "Titling Time: 11.3 sec\n",
      "../data/train_data_annotation/Stomach/M/anno_stomach_M_0076.mrxs\n",
      "noise filter :  True\n",
      "multiprocessing :  32\n",
      "slide_name anno_stomach_M_0076\n"
     ]
    },
    {
     "name": "stderr",
     "output_type": "stream",
     "text": [
      " 15%|█▍        | 119/810 [29:23<2:51:03, 14.85s/it]"
     ]
    },
    {
     "name": "stdout",
     "output_type": "stream",
     "text": [
      "Titling Time: 12.7 sec\n",
      "../data/train_data_annotation/Stomach/M/anno_stomach_M_0095.mrxs\n",
      "noise filter :  True\n",
      "multiprocessing :  32\n",
      "slide_name anno_stomach_M_0095\n"
     ]
    },
    {
     "name": "stderr",
     "output_type": "stream",
     "text": [
      " 15%|█▍        | 120/810 [29:37<2:46:31, 14.48s/it]"
     ]
    },
    {
     "name": "stdout",
     "output_type": "stream",
     "text": [
      "Titling Time: 12.2 sec\n",
      "../data/train_data_annotation/Stomach/M/anno_stomach_M_0009.mrxs\n",
      "noise filter :  True\n",
      "multiprocessing :  32\n",
      "slide_name anno_stomach_M_0009\n"
     ]
    },
    {
     "name": "stderr",
     "output_type": "stream",
     "text": [
      " 15%|█▍        | 121/810 [30:00<3:14:19, 16.92s/it]"
     ]
    },
    {
     "name": "stdout",
     "output_type": "stream",
     "text": [
      "Titling Time: 11.3 sec\n",
      "../data/train_data_annotation/Stomach/M/anno_stomach_M_0131.mrxs\n",
      "noise filter :  True\n",
      "multiprocessing :  32\n",
      "slide_name anno_stomach_M_0131\n"
     ]
    },
    {
     "name": "stderr",
     "output_type": "stream",
     "text": [
      " 15%|█▌        | 122/810 [30:12<2:58:22, 15.56s/it]"
     ]
    },
    {
     "name": "stdout",
     "output_type": "stream",
     "text": [
      "Titling Time: 11.9 sec\n",
      "../data/train_data_annotation/Stomach/M/anno_stomach_M_0046.mrxs\n",
      "noise filter :  True\n",
      "multiprocessing :  32\n",
      "slide_name anno_stomach_M_0046\n"
     ]
    },
    {
     "name": "stderr",
     "output_type": "stream",
     "text": [
      " 15%|█▌        | 123/810 [30:24<2:45:29, 14.45s/it]"
     ]
    },
    {
     "name": "stdout",
     "output_type": "stream",
     "text": [
      "Titling Time: 11.5 sec\n",
      "../data/train_data_annotation/Stomach/M/anno_stomach_M_0058.mrxs\n",
      "noise filter :  True\n",
      "multiprocessing :  32\n",
      "slide_name anno_stomach_M_0058\n"
     ]
    },
    {
     "name": "stderr",
     "output_type": "stream",
     "text": [
      " 15%|█▌        | 124/810 [30:36<2:37:30, 13.78s/it]"
     ]
    },
    {
     "name": "stdout",
     "output_type": "stream",
     "text": [
      "Titling Time: 10.8 sec\n",
      "../data/train_data_annotation/Stomach/M/anno_stomach_M_0041.mrxs\n",
      "noise filter :  True\n",
      "multiprocessing :  32\n",
      "slide_name anno_stomach_M_0041\n"
     ]
    },
    {
     "name": "stderr",
     "output_type": "stream",
     "text": [
      " 15%|█▌        | 125/810 [30:52<2:45:26, 14.49s/it]"
     ]
    },
    {
     "name": "stdout",
     "output_type": "stream",
     "text": [
      "Titling Time: 11.6 sec\n",
      "../data/train_data_annotation/Stomach/M/anno_stomach_M_0144.mrxs\n",
      "noise filter :  True\n",
      "multiprocessing :  32\n",
      "slide_name anno_stomach_M_0144\n"
     ]
    },
    {
     "name": "stderr",
     "output_type": "stream",
     "text": [
      " 16%|█▌        | 126/810 [31:04<2:35:51, 13.67s/it]"
     ]
    },
    {
     "name": "stdout",
     "output_type": "stream",
     "text": [
      "Titling Time: 11.3 sec\n",
      "../data/train_data_annotation/Stomach/M/anno_stomach_M_0002.mrxs\n",
      "noise filter :  True\n",
      "multiprocessing :  32\n",
      "slide_name anno_stomach_M_0002\n"
     ]
    },
    {
     "name": "stderr",
     "output_type": "stream",
     "text": [
      " 16%|█▌        | 127/810 [31:16<2:29:33, 13.14s/it]"
     ]
    },
    {
     "name": "stdout",
     "output_type": "stream",
     "text": [
      "Titling Time: 11.5 sec\n",
      "../data/train_data_annotation/Stomach/M/anno_stomach_M_0194.mrxs\n",
      "noise filter :  True\n",
      "multiprocessing :  32\n",
      "slide_name anno_stomach_M_0194\n"
     ]
    },
    {
     "name": "stderr",
     "output_type": "stream",
     "text": [
      " 16%|█▌        | 128/810 [31:28<2:26:25, 12.88s/it]"
     ]
    },
    {
     "name": "stdout",
     "output_type": "stream",
     "text": [
      "Titling Time: 11.9 sec\n",
      "../data/train_data_annotation/Stomach/M/anno_stomach_M_0032.mrxs\n",
      "noise filter :  True\n",
      "multiprocessing :  32\n",
      "slide_name anno_stomach_M_0032\n"
     ]
    },
    {
     "name": "stderr",
     "output_type": "stream",
     "text": [
      " 16%|█▌        | 129/810 [31:40<2:21:52, 12.50s/it]"
     ]
    },
    {
     "name": "stdout",
     "output_type": "stream",
     "text": [
      "Titling Time: 11.3 sec\n",
      "../data/train_data_annotation/Stomach/M/anno_stomach_M_0036.mrxs\n",
      "noise filter :  True\n",
      "multiprocessing :  32\n",
      "slide_name anno_stomach_M_0036\n"
     ]
    },
    {
     "name": "stderr",
     "output_type": "stream",
     "text": [
      " 16%|█▌        | 130/810 [31:51<2:17:44, 12.15s/it]"
     ]
    },
    {
     "name": "stdout",
     "output_type": "stream",
     "text": [
      "Titling Time: 11.0 sec\n",
      "../data/train_data_annotation/Stomach/M/anno_stomach_M_0082.mrxs\n",
      "noise filter :  True\n",
      "multiprocessing :  32\n",
      "slide_name anno_stomach_M_0082\n"
     ]
    },
    {
     "name": "stderr",
     "output_type": "stream",
     "text": [
      " 16%|█▌        | 131/810 [32:03<2:16:55, 12.10s/it]"
     ]
    },
    {
     "name": "stdout",
     "output_type": "stream",
     "text": [
      "Titling Time: 11.5 sec\n",
      "../data/train_data_annotation/Stomach/M/anno_stomach_M_0027.mrxs\n",
      "noise filter :  True\n",
      "multiprocessing :  32\n",
      "slide_name anno_stomach_M_0027\n"
     ]
    },
    {
     "name": "stderr",
     "output_type": "stream",
     "text": [
      " 16%|█▋        | 132/810 [32:15<2:16:31, 12.08s/it]"
     ]
    },
    {
     "name": "stdout",
     "output_type": "stream",
     "text": [
      "Titling Time: 11.6 sec\n",
      "../data/train_data_annotation/Stomach/M/anno_stomach_M_0159.mrxs\n",
      "noise filter :  True\n",
      "multiprocessing :  32\n",
      "slide_name anno_stomach_M_0159\n"
     ]
    },
    {
     "name": "stderr",
     "output_type": "stream",
     "text": [
      " 16%|█▋        | 133/810 [32:41<3:01:34, 16.09s/it]"
     ]
    },
    {
     "name": "stdout",
     "output_type": "stream",
     "text": [
      "Titling Time: 24.4 sec\n",
      "../data/train_data_annotation/Stomach/M/anno_stomach_M_0186.mrxs\n",
      "noise filter :  True\n",
      "multiprocessing :  32\n",
      "slide_name anno_stomach_M_0186\n"
     ]
    },
    {
     "name": "stderr",
     "output_type": "stream",
     "text": [
      " 17%|█▋        | 134/810 [32:54<2:51:57, 15.26s/it]"
     ]
    },
    {
     "name": "stdout",
     "output_type": "stream",
     "text": [
      "Titling Time: 12.6 sec\n",
      "../data/train_data_annotation/Stomach/M/anno_stomach_M_0173.mrxs\n",
      "noise filter :  True\n",
      "multiprocessing :  32\n",
      "slide_name anno_stomach_M_0173\n"
     ]
    },
    {
     "name": "stderr",
     "output_type": "stream",
     "text": [
      " 17%|█▋        | 135/810 [33:12<3:00:41, 16.06s/it]"
     ]
    },
    {
     "name": "stdout",
     "output_type": "stream",
     "text": [
      "Titling Time: 11.8 sec\n",
      "../data/train_data_annotation/Stomach/M/anno_stomach_M_0124.mrxs\n",
      "noise filter :  True\n",
      "multiprocessing :  32\n",
      "slide_name anno_stomach_M_0124\n"
     ]
    },
    {
     "name": "stderr",
     "output_type": "stream",
     "text": [
      " 17%|█▋        | 136/810 [33:24<2:47:29, 14.91s/it]"
     ]
    },
    {
     "name": "stdout",
     "output_type": "stream",
     "text": [
      "Titling Time: 11.8 sec\n",
      "../data/train_data_annotation/Stomach/M/anno_stomach_M_0101.mrxs\n",
      "noise filter :  True\n",
      "multiprocessing :  32\n",
      "slide_name anno_stomach_M_0101\n"
     ]
    },
    {
     "name": "stderr",
     "output_type": "stream",
     "text": [
      " 17%|█▋        | 137/810 [33:37<2:41:01, 14.36s/it]"
     ]
    },
    {
     "name": "stdout",
     "output_type": "stream",
     "text": [
      "Titling Time: 12.7 sec\n",
      "../data/train_data_annotation/Stomach/M/anno_stomach_M_0091.mrxs\n",
      "noise filter :  True\n",
      "multiprocessing :  32\n",
      "slide_name anno_stomach_M_0091\n"
     ]
    },
    {
     "name": "stderr",
     "output_type": "stream",
     "text": [
      " 17%|█▋        | 138/810 [33:49<2:32:20, 13.60s/it]"
     ]
    },
    {
     "name": "stdout",
     "output_type": "stream",
     "text": [
      "Titling Time: 11.4 sec\n",
      "../data/train_data_annotation/Stomach/M/anno_stomach_M_0033.mrxs\n",
      "noise filter :  True\n",
      "multiprocessing :  32\n",
      "slide_name anno_stomach_M_0033\n"
     ]
    },
    {
     "name": "stderr",
     "output_type": "stream",
     "text": [
      " 17%|█▋        | 139/810 [34:08<2:50:19, 15.23s/it]"
     ]
    },
    {
     "name": "stdout",
     "output_type": "stream",
     "text": [
      "Titling Time: 11.7 sec\n",
      "../data/train_data_annotation/Stomach/M/anno_stomach_M_0135.mrxs\n",
      "noise filter :  True\n",
      "multiprocessing :  32\n",
      "slide_name anno_stomach_M_0135\n"
     ]
    },
    {
     "name": "stderr",
     "output_type": "stream",
     "text": [
      " 17%|█▋        | 140/810 [34:20<2:40:11, 14.35s/it]"
     ]
    },
    {
     "name": "stdout",
     "output_type": "stream",
     "text": [
      "Titling Time: 11.8 sec\n",
      "../data/train_data_annotation/Stomach/M/anno_stomach_M_0181.mrxs\n",
      "noise filter :  True\n",
      "multiprocessing :  32\n",
      "slide_name anno_stomach_M_0181\n"
     ]
    },
    {
     "name": "stderr",
     "output_type": "stream",
     "text": [
      " 17%|█▋        | 141/810 [34:33<2:33:48, 13.79s/it]"
     ]
    },
    {
     "name": "stdout",
     "output_type": "stream",
     "text": [
      "Titling Time: 12.1 sec\n",
      "../data/train_data_annotation/Stomach/M/anno_stomach_M_0078.mrxs\n",
      "noise filter :  True\n",
      "multiprocessing :  32\n",
      "slide_name anno_stomach_M_0078\n"
     ]
    },
    {
     "name": "stderr",
     "output_type": "stream",
     "text": [
      " 18%|█▊        | 142/810 [34:45<2:29:38, 13.44s/it]"
     ]
    },
    {
     "name": "stdout",
     "output_type": "stream",
     "text": [
      "Titling Time: 12.2 sec\n",
      "../data/train_data_annotation/Stomach/M/anno_stomach_M_0056.mrxs\n",
      "noise filter :  True\n",
      "multiprocessing :  32\n",
      "slide_name anno_stomach_M_0056\n"
     ]
    },
    {
     "name": "stderr",
     "output_type": "stream",
     "text": [
      " 18%|█▊        | 143/810 [34:59<2:28:59, 13.40s/it]"
     ]
    },
    {
     "name": "stdout",
     "output_type": "stream",
     "text": [
      "Titling Time: 12.8 sec\n",
      "../data/train_data_annotation/Stomach/M/anno_stomach_M_0001.mrxs\n",
      "noise filter :  True\n",
      "multiprocessing :  32\n",
      "slide_name anno_stomach_M_0001\n"
     ]
    },
    {
     "name": "stderr",
     "output_type": "stream",
     "text": [
      " 18%|█▊        | 144/810 [35:17<2:46:18, 14.98s/it]"
     ]
    },
    {
     "name": "stdout",
     "output_type": "stream",
     "text": [
      "Titling Time: 12.7 sec\n",
      "../data/train_data_annotation/Stomach/M/anno_stomach_M_0011.mrxs\n",
      "noise filter :  True\n",
      "multiprocessing :  32\n",
      "slide_name anno_stomach_M_0011\n"
     ]
    },
    {
     "name": "stderr",
     "output_type": "stream",
     "text": [
      " 18%|█▊        | 145/810 [35:33<2:46:48, 15.05s/it]"
     ]
    },
    {
     "name": "stdout",
     "output_type": "stream",
     "text": [
      "Titling Time: 11.8 sec\n",
      "../data/train_data_annotation/Stomach/M/anno_stomach_M_0167.mrxs\n",
      "noise filter :  True\n",
      "multiprocessing :  32\n",
      "slide_name anno_stomach_M_0167\n"
     ]
    },
    {
     "name": "stderr",
     "output_type": "stream",
     "text": [
      " 18%|█▊        | 146/810 [35:46<2:39:48, 14.44s/it]"
     ]
    },
    {
     "name": "stdout",
     "output_type": "stream",
     "text": [
      "Titling Time: 12.5 sec\n",
      "../data/train_data_annotation/Stomach/M/anno_stomach_M_0088.mrxs\n",
      "noise filter :  True\n",
      "multiprocessing :  32\n",
      "slide_name anno_stomach_M_0088\n"
     ]
    },
    {
     "name": "stderr",
     "output_type": "stream",
     "text": [
      " 18%|█▊        | 147/810 [35:58<2:33:38, 13.90s/it]"
     ]
    },
    {
     "name": "stdout",
     "output_type": "stream",
     "text": [
      "Titling Time: 12.2 sec\n",
      "../data/train_data_annotation/Stomach/M/anno_stomach_M_0174.mrxs\n",
      "noise filter :  True\n",
      "multiprocessing :  32\n",
      "slide_name anno_stomach_M_0174\n"
     ]
    },
    {
     "name": "stderr",
     "output_type": "stream",
     "text": [
      " 18%|█▊        | 148/810 [36:21<3:02:30, 16.54s/it]"
     ]
    },
    {
     "name": "stdout",
     "output_type": "stream",
     "text": [
      "Titling Time: 22.3 sec\n",
      "../data/train_data_annotation/Stomach/M/anno_stomach_M_0030.mrxs\n",
      "noise filter :  True\n",
      "multiprocessing :  32\n",
      "slide_name anno_stomach_M_0030\n"
     ]
    },
    {
     "name": "stderr",
     "output_type": "stream",
     "text": [
      " 18%|█▊        | 149/810 [36:34<2:51:04, 15.53s/it]"
     ]
    },
    {
     "name": "stdout",
     "output_type": "stream",
     "text": [
      "Titling Time: 12.7 sec\n",
      "../data/train_data_annotation/Stomach/M/anno_stomach_M_0105.mrxs\n",
      "noise filter :  True\n",
      "multiprocessing :  32\n",
      "slide_name anno_stomach_M_0105\n"
     ]
    },
    {
     "name": "stderr",
     "output_type": "stream",
     "text": [
      " 19%|█▊        | 150/810 [36:46<2:40:11, 14.56s/it]"
     ]
    },
    {
     "name": "stdout",
     "output_type": "stream",
     "text": [
      "Titling Time: 11.9 sec\n",
      "../data/train_data_annotation/Stomach/M/anno_stomach_M_0184.mrxs\n",
      "noise filter :  True\n",
      "multiprocessing :  32\n",
      "slide_name anno_stomach_M_0184\n"
     ]
    },
    {
     "name": "stderr",
     "output_type": "stream",
     "text": [
      " 19%|█▊        | 151/810 [37:15<3:26:18, 18.78s/it]"
     ]
    },
    {
     "name": "stdout",
     "output_type": "stream",
     "text": [
      "Titling Time: 28.1 sec\n",
      "../data/train_data_annotation/Stomach/M/anno_stomach_M_0081.mrxs\n",
      "noise filter :  True\n",
      "multiprocessing :  32\n",
      "slide_name anno_stomach_M_0081\n"
     ]
    },
    {
     "name": "stderr",
     "output_type": "stream",
     "text": [
      " 19%|█▉        | 152/810 [37:26<3:01:21, 16.54s/it]"
     ]
    },
    {
     "name": "stdout",
     "output_type": "stream",
     "text": [
      "Titling Time: 11.0 sec\n",
      "../data/train_data_annotation/Stomach/M/anno_stomach_M_0151.mrxs\n",
      "noise filter :  True\n",
      "multiprocessing :  32\n",
      "slide_name anno_stomach_M_0151\n"
     ]
    },
    {
     "name": "stderr",
     "output_type": "stream",
     "text": [
      " 19%|█▉        | 153/810 [37:45<3:09:26, 17.30s/it]"
     ]
    },
    {
     "name": "stdout",
     "output_type": "stream",
     "text": [
      "Titling Time: 18.7 sec\n",
      "../data/train_data_annotation/Stomach/M/anno_stomach_M_0085.mrxs\n",
      "noise filter :  True\n",
      "multiprocessing :  32\n",
      "slide_name anno_stomach_M_0085\n"
     ]
    },
    {
     "name": "stderr",
     "output_type": "stream",
     "text": [
      " 19%|█▉        | 154/810 [37:57<2:50:27, 15.59s/it]"
     ]
    },
    {
     "name": "stdout",
     "output_type": "stream",
     "text": [
      "Titling Time: 11.2 sec\n",
      "../data/train_data_annotation/Stomach/M/anno_stomach_M_0065.mrxs\n",
      "noise filter :  True\n",
      "multiprocessing :  32\n",
      "slide_name anno_stomach_M_0065\n"
     ]
    },
    {
     "name": "stderr",
     "output_type": "stream",
     "text": [
      " 19%|█▉        | 155/810 [38:09<2:37:36, 14.44s/it]"
     ]
    },
    {
     "name": "stdout",
     "output_type": "stream",
     "text": [
      "Titling Time: 11.3 sec\n",
      "../data/train_data_annotation/Stomach/M/anno_stomach_M_0116.mrxs\n",
      "noise filter :  True\n",
      "multiprocessing :  32\n",
      "slide_name anno_stomach_M_0116\n"
     ]
    },
    {
     "name": "stderr",
     "output_type": "stream",
     "text": [
      " 19%|█▉        | 156/810 [38:21<2:29:55, 13.76s/it]"
     ]
    },
    {
     "name": "stdout",
     "output_type": "stream",
     "text": [
      "Titling Time: 11.8 sec\n",
      "../data/train_data_annotation/Stomach/M/anno_stomach_M_0019.mrxs\n",
      "noise filter :  True\n",
      "multiprocessing :  32\n",
      "slide_name anno_stomach_M_0019\n"
     ]
    },
    {
     "name": "stderr",
     "output_type": "stream",
     "text": [
      " 19%|█▉        | 157/810 [38:34<2:26:29, 13.46s/it]"
     ]
    },
    {
     "name": "stdout",
     "output_type": "stream",
     "text": [
      "Titling Time: 12.3 sec\n",
      "../data/train_data_annotation/Stomach/M/anno_stomach_M_0045.mrxs\n",
      "noise filter :  True\n",
      "multiprocessing :  32\n",
      "slide_name anno_stomach_M_0045\n"
     ]
    },
    {
     "name": "stderr",
     "output_type": "stream",
     "text": [
      " 20%|█▉        | 158/810 [38:54<2:48:44, 15.53s/it]"
     ]
    },
    {
     "name": "stdout",
     "output_type": "stream",
     "text": [
      "Titling Time: 20.0 sec\n",
      "../data/train_data_annotation/Stomach/M/anno_stomach_M_0042.mrxs\n",
      "noise filter :  True\n",
      "multiprocessing :  32\n",
      "slide_name anno_stomach_M_0042\n"
     ]
    },
    {
     "name": "stderr",
     "output_type": "stream",
     "text": [
      " 20%|█▉        | 159/810 [39:07<2:39:02, 14.66s/it]"
     ]
    },
    {
     "name": "stdout",
     "output_type": "stream",
     "text": [
      "Titling Time: 12.2 sec\n",
      "../data/train_data_annotation/Stomach/M/anno_stomach_M_0188.mrxs\n",
      "noise filter :  True\n",
      "multiprocessing :  32\n",
      "slide_name anno_stomach_M_0188\n"
     ]
    },
    {
     "name": "stderr",
     "output_type": "stream",
     "text": [
      " 20%|█▉        | 160/810 [39:19<2:29:58, 13.84s/it]"
     ]
    },
    {
     "name": "stdout",
     "output_type": "stream",
     "text": [
      "Titling Time: 11.6 sec\n",
      "../data/train_data_annotation/Stomach/M/anno_stomach_M_0120.mrxs\n",
      "noise filter :  True\n",
      "multiprocessing :  32\n",
      "slide_name anno_stomach_M_0120\n"
     ]
    },
    {
     "name": "stderr",
     "output_type": "stream",
     "text": [
      " 20%|█▉        | 161/810 [39:31<2:25:00, 13.41s/it]"
     ]
    },
    {
     "name": "stdout",
     "output_type": "stream",
     "text": [
      "Titling Time: 11.9 sec\n",
      "../data/train_data_annotation/Stomach/M/anno_stomach_M_0112.mrxs\n",
      "noise filter :  True\n",
      "multiprocessing :  32\n",
      "slide_name anno_stomach_M_0112\n"
     ]
    },
    {
     "name": "stderr",
     "output_type": "stream",
     "text": [
      " 20%|██        | 162/810 [39:44<2:24:06, 13.34s/it]"
     ]
    },
    {
     "name": "stdout",
     "output_type": "stream",
     "text": [
      "Titling Time: 12.8 sec\n",
      "../data/train_data_annotation/Stomach/M/anno_stomach_M_0006.mrxs\n",
      "noise filter :  True\n",
      "multiprocessing :  32\n",
      "slide_name anno_stomach_M_0006\n"
     ]
    },
    {
     "name": "stderr",
     "output_type": "stream",
     "text": [
      " 20%|██        | 163/810 [39:59<2:27:49, 13.71s/it]"
     ]
    },
    {
     "name": "stdout",
     "output_type": "stream",
     "text": [
      "Titling Time: 14.1 sec\n",
      "../data/train_data_annotation/Stomach/M/anno_stomach_M_0132.mrxs\n",
      "noise filter :  True\n",
      "multiprocessing :  32\n",
      "slide_name anno_stomach_M_0132\n"
     ]
    },
    {
     "name": "stderr",
     "output_type": "stream",
     "text": [
      " 20%|██        | 164/810 [40:22<2:58:08, 16.55s/it]"
     ]
    },
    {
     "name": "stdout",
     "output_type": "stream",
     "text": [
      "Titling Time: 16.6 sec\n",
      "../data/train_data_annotation/Stomach/M/anno_stomach_M_0087.mrxs\n",
      "noise filter :  True\n",
      "multiprocessing :  32\n",
      "slide_name anno_stomach_M_0087\n"
     ]
    },
    {
     "name": "stderr",
     "output_type": "stream",
     "text": [
      " 20%|██        | 165/810 [40:34<2:44:43, 15.32s/it]"
     ]
    },
    {
     "name": "stdout",
     "output_type": "stream",
     "text": [
      "Titling Time: 12.1 sec\n",
      "../data/train_data_annotation/Stomach/M/anno_stomach_M_0200.mrxs\n",
      "noise filter :  True\n",
      "multiprocessing :  32\n",
      "slide_name anno_stomach_M_0200\n"
     ]
    },
    {
     "name": "stderr",
     "output_type": "stream",
     "text": [
      " 20%|██        | 166/810 [40:47<2:35:47, 14.51s/it]"
     ]
    },
    {
     "name": "stdout",
     "output_type": "stream",
     "text": [
      "Titling Time: 12.2 sec\n",
      "../data/train_data_annotation/Stomach/M/anno_stomach_M_0067.mrxs\n",
      "noise filter :  True\n",
      "multiprocessing :  32\n",
      "slide_name anno_stomach_M_0067\n"
     ]
    },
    {
     "name": "stderr",
     "output_type": "stream",
     "text": [
      " 21%|██        | 167/810 [41:09<2:57:53, 16.60s/it]"
     ]
    },
    {
     "name": "stdout",
     "output_type": "stream",
     "text": [
      "Titling Time: 12.5 sec\n",
      "../data/train_data_annotation/Stomach/M/anno_stomach_M_0093.mrxs\n",
      "noise filter :  True\n",
      "multiprocessing :  32\n",
      "slide_name anno_stomach_M_0093\n"
     ]
    },
    {
     "name": "stderr",
     "output_type": "stream",
     "text": [
      " 21%|██        | 168/810 [41:21<2:43:42, 15.30s/it]"
     ]
    },
    {
     "name": "stdout",
     "output_type": "stream",
     "text": [
      "Titling Time: 11.7 sec\n",
      "../data/train_data_annotation/Stomach/M/anno_stomach_M_0113.mrxs\n",
      "noise filter :  True\n",
      "multiprocessing :  32\n",
      "slide_name anno_stomach_M_0113\n"
     ]
    },
    {
     "name": "stderr",
     "output_type": "stream",
     "text": [
      " 21%|██        | 169/810 [41:32<2:31:50, 14.21s/it]"
     ]
    },
    {
     "name": "stdout",
     "output_type": "stream",
     "text": [
      "Titling Time: 11.3 sec\n",
      "../data/train_data_annotation/Stomach/M/anno_stomach_M_0192.mrxs\n",
      "noise filter :  True\n",
      "multiprocessing :  32\n",
      "slide_name anno_stomach_M_0192\n"
     ]
    },
    {
     "name": "stderr",
     "output_type": "stream",
     "text": [
      " 21%|██        | 170/810 [41:46<2:29:11, 13.99s/it]"
     ]
    },
    {
     "name": "stdout",
     "output_type": "stream",
     "text": [
      "Titling Time: 13.0 sec\n",
      "../data/train_data_annotation/Stomach/M/anno_stomach_M_0077.mrxs\n",
      "noise filter :  True\n",
      "multiprocessing :  32\n",
      "slide_name anno_stomach_M_0077\n"
     ]
    },
    {
     "name": "stderr",
     "output_type": "stream",
     "text": [
      " 21%|██        | 171/810 [41:58<2:23:55, 13.51s/it]"
     ]
    },
    {
     "name": "stdout",
     "output_type": "stream",
     "text": [
      "Titling Time: 11.3 sec\n",
      "../data/train_data_annotation/Stomach/M/anno_stomach_M_0008.mrxs\n",
      "noise filter :  True\n",
      "multiprocessing :  32\n",
      "slide_name anno_stomach_M_0008\n"
     ]
    },
    {
     "name": "stderr",
     "output_type": "stream",
     "text": [
      " 21%|██        | 172/810 [42:14<2:30:20, 14.14s/it]"
     ]
    },
    {
     "name": "stdout",
     "output_type": "stream",
     "text": [
      "Titling Time: 11.4 sec\n",
      "../data/train_data_annotation/Stomach/M/anno_stomach_M_0117.mrxs\n",
      "noise filter :  True\n",
      "multiprocessing :  32\n",
      "slide_name anno_stomach_M_0117\n"
     ]
    },
    {
     "name": "stderr",
     "output_type": "stream",
     "text": [
      " 21%|██▏       | 173/810 [42:25<2:21:50, 13.36s/it]"
     ]
    },
    {
     "name": "stdout",
     "output_type": "stream",
     "text": [
      "Titling Time: 11.1 sec\n",
      "../data/train_data_annotation/Stomach/M/anno_stomach_M_0031.mrxs\n",
      "noise filter :  True\n",
      "multiprocessing :  32\n",
      "slide_name anno_stomach_M_0031\n"
     ]
    },
    {
     "name": "stderr",
     "output_type": "stream",
     "text": [
      " 21%|██▏       | 174/810 [42:47<2:48:26, 15.89s/it]"
     ]
    },
    {
     "name": "stdout",
     "output_type": "stream",
     "text": [
      "Titling Time: 21.3 sec\n",
      "../data/train_data_annotation/Stomach/M/anno_stomach_M_0178.mrxs\n",
      "noise filter :  True\n",
      "multiprocessing :  32\n",
      "slide_name anno_stomach_M_0178\n"
     ]
    },
    {
     "name": "stderr",
     "output_type": "stream",
     "text": [
      " 22%|██▏       | 175/810 [42:59<2:34:49, 14.63s/it]"
     ]
    },
    {
     "name": "stdout",
     "output_type": "stream",
     "text": [
      "Titling Time: 11.3 sec\n",
      "../data/train_data_annotation/Stomach/M/anno_stomach_M_0003.mrxs\n",
      "noise filter :  True\n",
      "multiprocessing :  32\n",
      "slide_name anno_stomach_M_0003\n"
     ]
    },
    {
     "name": "stderr",
     "output_type": "stream",
     "text": [
      " 22%|██▏       | 176/810 [43:12<2:29:06, 14.11s/it]"
     ]
    },
    {
     "name": "stdout",
     "output_type": "stream",
     "text": [
      "Titling Time: 12.4 sec\n",
      "../data/train_data_annotation/Stomach/M/anno_stomach_M_0086.mrxs\n",
      "noise filter :  True\n",
      "multiprocessing :  32\n",
      "slide_name anno_stomach_M_0086\n"
     ]
    },
    {
     "name": "stderr",
     "output_type": "stream",
     "text": [
      " 22%|██▏       | 177/810 [43:24<2:21:30, 13.41s/it]"
     ]
    },
    {
     "name": "stdout",
     "output_type": "stream",
     "text": [
      "Titling Time: 11.4 sec\n",
      "../data/train_data_annotation/Stomach/M/anno_stomach_M_0172.mrxs\n",
      "noise filter :  True\n",
      "multiprocessing :  32\n",
      "slide_name anno_stomach_M_0172\n"
     ]
    },
    {
     "name": "stderr",
     "output_type": "stream",
     "text": [
      " 22%|██▏       | 178/810 [43:36<2:18:16, 13.13s/it]"
     ]
    },
    {
     "name": "stdout",
     "output_type": "stream",
     "text": [
      "Titling Time: 12.0 sec\n",
      "../data/train_data_annotation/Stomach/M/anno_stomach_M_0154.mrxs\n",
      "noise filter :  True\n",
      "multiprocessing :  32\n",
      "slide_name anno_stomach_M_0154\n"
     ]
    },
    {
     "name": "stderr",
     "output_type": "stream",
     "text": [
      " 22%|██▏       | 179/810 [43:59<2:49:06, 16.08s/it]"
     ]
    },
    {
     "name": "stdout",
     "output_type": "stream",
     "text": [
      "Titling Time: 11.9 sec\n",
      "../data/train_data_annotation/Stomach/M/anno_stomach_M_0171.mrxs\n",
      "noise filter :  True\n",
      "multiprocessing :  32\n",
      "slide_name anno_stomach_M_0171\n"
     ]
    },
    {
     "name": "stderr",
     "output_type": "stream",
     "text": [
      " 22%|██▏       | 180/810 [44:11<2:36:15, 14.88s/it]"
     ]
    },
    {
     "name": "stdout",
     "output_type": "stream",
     "text": [
      "Titling Time: 11.7 sec\n",
      "../data/train_data_annotation/Stomach/M/anno_stomach_M_0048.mrxs\n",
      "noise filter :  True\n",
      "multiprocessing :  32\n",
      "slide_name anno_stomach_M_0048\n"
     ]
    },
    {
     "name": "stderr",
     "output_type": "stream",
     "text": [
      " 22%|██▏       | 181/810 [44:24<2:30:36, 14.37s/it]"
     ]
    },
    {
     "name": "stdout",
     "output_type": "stream",
     "text": [
      "Titling Time: 12.7 sec\n",
      "../data/train_data_annotation/Stomach/M/anno_stomach_M_0013.mrxs\n",
      "noise filter :  True\n",
      "multiprocessing :  32\n",
      "slide_name anno_stomach_M_0013\n"
     ]
    },
    {
     "name": "stderr",
     "output_type": "stream",
     "text": [
      " 22%|██▏       | 182/810 [44:36<2:22:49, 13.65s/it]"
     ]
    },
    {
     "name": "stdout",
     "output_type": "stream",
     "text": [
      "Titling Time: 11.5 sec\n",
      "../data/train_data_annotation/Stomach/M/anno_stomach_M_0197.mrxs\n",
      "noise filter :  True\n",
      "multiprocessing :  32\n",
      "slide_name anno_stomach_M_0197\n"
     ]
    },
    {
     "name": "stderr",
     "output_type": "stream",
     "text": [
      " 23%|██▎       | 183/810 [44:49<2:19:03, 13.31s/it]"
     ]
    },
    {
     "name": "stdout",
     "output_type": "stream",
     "text": [
      "Titling Time: 12.1 sec\n",
      "../data/train_data_annotation/Stomach/M/anno_stomach_M_0176.mrxs\n",
      "noise filter :  True\n",
      "multiprocessing :  32\n",
      "slide_name anno_stomach_M_0176\n"
     ]
    },
    {
     "name": "stderr",
     "output_type": "stream",
     "text": [
      " 23%|██▎       | 184/810 [45:11<2:46:05, 15.92s/it]"
     ]
    },
    {
     "name": "stdout",
     "output_type": "stream",
     "text": [
      "Titling Time: 20.2 sec\n",
      "../data/train_data_annotation/Stomach/M/anno_stomach_M_0198.mrxs\n",
      "noise filter :  True\n",
      "multiprocessing :  32\n",
      "slide_name anno_stomach_M_0198\n"
     ]
    },
    {
     "name": "stderr",
     "output_type": "stream",
     "text": [
      " 23%|██▎       | 185/810 [45:32<3:02:04, 17.48s/it]"
     ]
    },
    {
     "name": "stdout",
     "output_type": "stream",
     "text": [
      "Titling Time: 13.3 sec\n",
      "../data/train_data_annotation/Stomach/M/anno_stomach_M_0150.mrxs\n",
      "noise filter :  True\n",
      "multiprocessing :  32\n",
      "slide_name anno_stomach_M_0150\n"
     ]
    },
    {
     "name": "stderr",
     "output_type": "stream",
     "text": [
      " 23%|██▎       | 186/810 [45:47<2:55:42, 16.90s/it]"
     ]
    },
    {
     "name": "stdout",
     "output_type": "stream",
     "text": [
      "Titling Time: 15.2 sec\n",
      "../data/train_data_annotation/Stomach/M/anno_stomach_M_0177.mrxs\n",
      "noise filter :  True\n",
      "multiprocessing :  32\n",
      "slide_name anno_stomach_M_0177\n"
     ]
    },
    {
     "name": "stderr",
     "output_type": "stream",
     "text": [
      " 23%|██▎       | 187/810 [46:00<2:40:34, 15.47s/it]"
     ]
    },
    {
     "name": "stdout",
     "output_type": "stream",
     "text": [
      "Titling Time: 11.7 sec\n",
      "../data/train_data_annotation/Stomach/M/anno_stomach_M_0017.mrxs\n",
      "noise filter :  True\n",
      "multiprocessing :  32\n",
      "slide_name anno_stomach_M_0017\n"
     ]
    },
    {
     "name": "stderr",
     "output_type": "stream",
     "text": [
      " 23%|██▎       | 188/810 [46:13<2:33:17, 14.79s/it]"
     ]
    },
    {
     "name": "stdout",
     "output_type": "stream",
     "text": [
      "Titling Time: 12.7 sec\n",
      "../data/train_data_annotation/Stomach/M/anno_stomach_M_0097.mrxs\n",
      "noise filter :  True\n",
      "multiprocessing :  32\n",
      "slide_name anno_stomach_M_0097\n"
     ]
    },
    {
     "name": "stderr",
     "output_type": "stream",
     "text": [
      " 23%|██▎       | 189/810 [46:29<2:36:40, 15.14s/it]"
     ]
    },
    {
     "name": "stdout",
     "output_type": "stream",
     "text": [
      "Titling Time: 15.6 sec\n",
      "../data/train_data_annotation/Stomach/M/anno_stomach_M_0020.mrxs\n",
      "noise filter :  True\n",
      "multiprocessing :  32\n",
      "slide_name anno_stomach_M_0020\n"
     ]
    },
    {
     "name": "stderr",
     "output_type": "stream",
     "text": [
      " 23%|██▎       | 190/810 [46:41<2:28:44, 14.40s/it]"
     ]
    },
    {
     "name": "stdout",
     "output_type": "stream",
     "text": [
      "Titling Time: 12.2 sec\n",
      "../data/train_data_annotation/Stomach/M/anno_stomach_M_0149.mrxs\n",
      "noise filter :  True\n",
      "multiprocessing :  32\n",
      "slide_name anno_stomach_M_0149\n"
     ]
    },
    {
     "name": "stderr",
     "output_type": "stream",
     "text": [
      " 24%|██▎       | 191/810 [46:54<2:22:39, 13.83s/it]"
     ]
    },
    {
     "name": "stdout",
     "output_type": "stream",
     "text": [
      "Titling Time: 12.0 sec\n",
      "../data/train_data_annotation/Stomach/M/anno_stomach_M_0054.mrxs\n",
      "noise filter :  True\n",
      "multiprocessing :  32\n",
      "slide_name anno_stomach_M_0054\n"
     ]
    },
    {
     "name": "stderr",
     "output_type": "stream",
     "text": [
      " 24%|██▎       | 192/810 [47:06<2:16:28, 13.25s/it]"
     ]
    },
    {
     "name": "stdout",
     "output_type": "stream",
     "text": [
      "Titling Time: 11.5 sec\n",
      "../data/train_data_annotation/Stomach/M/anno_stomach_M_0099.mrxs\n",
      "noise filter :  True\n",
      "multiprocessing :  32\n",
      "slide_name anno_stomach_M_0099\n"
     ]
    },
    {
     "name": "stderr",
     "output_type": "stream",
     "text": [
      " 24%|██▍       | 193/810 [47:17<2:11:02, 12.74s/it]"
     ]
    },
    {
     "name": "stdout",
     "output_type": "stream",
     "text": [
      "Titling Time: 11.2 sec\n",
      "../data/train_data_annotation/Stomach/M/anno_stomach_M_0075.mrxs\n",
      "noise filter :  True\n",
      "multiprocessing :  32\n",
      "slide_name anno_stomach_M_0075\n"
     ]
    },
    {
     "name": "stderr",
     "output_type": "stream",
     "text": [
      " 24%|██▍       | 194/810 [47:33<2:20:12, 13.66s/it]"
     ]
    },
    {
     "name": "stdout",
     "output_type": "stream",
     "text": [
      "Titling Time: 12.3 sec\n",
      "../data/train_data_annotation/Stomach/M/anno_stomach_M_0051.mrxs\n",
      "noise filter :  True\n",
      "multiprocessing :  32\n",
      "slide_name anno_stomach_M_0051\n"
     ]
    },
    {
     "name": "stderr",
     "output_type": "stream",
     "text": [
      " 24%|██▍       | 195/810 [47:44<2:11:54, 12.87s/it]"
     ]
    },
    {
     "name": "stdout",
     "output_type": "stream",
     "text": [
      "Titling Time: 10.6 sec\n",
      "../data/train_data_annotation/Stomach/M/anno_stomach_M_0072.mrxs\n",
      "noise filter :  True\n",
      "multiprocessing :  32\n",
      "slide_name anno_stomach_M_0072\n"
     ]
    },
    {
     "name": "stderr",
     "output_type": "stream",
     "text": [
      " 24%|██▍       | 196/810 [48:01<2:22:26, 13.92s/it]"
     ]
    },
    {
     "name": "stdout",
     "output_type": "stream",
     "text": [
      "Titling Time: 11.4 sec\n",
      "../data/train_data_annotation/Stomach/M/anno_stomach_M_0122.mrxs\n",
      "noise filter :  True\n",
      "multiprocessing :  32\n",
      "slide_name anno_stomach_M_0122\n"
     ]
    },
    {
     "name": "stderr",
     "output_type": "stream",
     "text": [
      " 24%|██▍       | 197/810 [48:13<2:18:05, 13.52s/it]"
     ]
    },
    {
     "name": "stdout",
     "output_type": "stream",
     "text": [
      "Titling Time: 12.2 sec\n",
      "../data/train_data_annotation/Stomach/M/anno_stomach_M_0160.mrxs\n",
      "noise filter :  True\n",
      "multiprocessing :  32\n",
      "slide_name anno_stomach_M_0160\n"
     ]
    },
    {
     "name": "stderr",
     "output_type": "stream",
     "text": [
      " 24%|██▍       | 198/810 [48:34<2:39:48, 15.67s/it]"
     ]
    },
    {
     "name": "stdout",
     "output_type": "stream",
     "text": [
      "Titling Time: 20.2 sec\n",
      "../data/train_data_annotation/Stomach/M/anno_stomach_M_0039.mrxs\n",
      "noise filter :  True\n",
      "multiprocessing :  32\n",
      "slide_name anno_stomach_M_0039\n"
     ]
    },
    {
     "name": "stderr",
     "output_type": "stream",
     "text": [
      " 25%|██▍       | 199/810 [48:46<2:28:37, 14.59s/it]"
     ]
    },
    {
     "name": "stdout",
     "output_type": "stream",
     "text": [
      "Titling Time: 11.6 sec\n",
      "../data/train_data_annotation/Stomach/M/anno_stomach_M_0165.mrxs\n",
      "noise filter :  True\n",
      "multiprocessing :  32\n",
      "slide_name anno_stomach_M_0165\n"
     ]
    },
    {
     "name": "stderr",
     "output_type": "stream",
     "text": [
      " 25%|██▍       | 200/810 [48:59<2:22:25, 14.01s/it]"
     ]
    },
    {
     "name": "stdout",
     "output_type": "stream",
     "text": [
      "Titling Time: 12.2 sec\n",
      "../data/train_data_annotation/Stomach/M/anno_stomach_M_0142.mrxs\n",
      "noise filter :  True\n",
      "multiprocessing :  32\n",
      "slide_name anno_stomach_M_0142\n"
     ]
    },
    {
     "name": "stderr",
     "output_type": "stream",
     "text": [
      " 25%|██▍       | 201/810 [49:20<2:46:07, 16.37s/it]"
     ]
    },
    {
     "name": "stdout",
     "output_type": "stream",
     "text": [
      "Titling Time: 11.8 sec\n",
      "../data/train_data_annotation/Stomach/D/anno_stomach_D_0104.mrxs\n",
      "noise filter :  True\n",
      "multiprocessing :  32\n",
      "slide_name anno_stomach_D_0104\n"
     ]
    },
    {
     "name": "stderr",
     "output_type": "stream",
     "text": [
      " 25%|██▍       | 202/810 [49:32<2:32:29, 15.05s/it]"
     ]
    },
    {
     "name": "stdout",
     "output_type": "stream",
     "text": [
      "Titling Time: 11.6 sec\n",
      "../data/train_data_annotation/Stomach/D/anno_stomach_D_0067.mrxs\n",
      "noise filter :  True\n",
      "multiprocessing :  32\n",
      "slide_name anno_stomach_D_0067\n"
     ]
    },
    {
     "name": "stderr",
     "output_type": "stream",
     "text": [
      " 25%|██▌       | 203/810 [49:45<2:24:21, 14.27s/it]"
     ]
    },
    {
     "name": "stdout",
     "output_type": "stream",
     "text": [
      "Titling Time: 12.1 sec\n",
      "../data/train_data_annotation/Stomach/D/anno_stomach_D_0058.mrxs\n",
      "noise filter :  True\n",
      "multiprocessing :  32\n",
      "slide_name anno_stomach_D_0058\n"
     ]
    },
    {
     "name": "stderr",
     "output_type": "stream",
     "text": [
      " 25%|██▌       | 204/810 [49:58<2:20:26, 13.91s/it]"
     ]
    },
    {
     "name": "stdout",
     "output_type": "stream",
     "text": [
      "Titling Time: 12.6 sec\n",
      "../data/train_data_annotation/Stomach/D/anno_stomach_D_0190.mrxs\n",
      "noise filter :  True\n",
      "multiprocessing :  32\n",
      "slide_name anno_stomach_D_0190\n"
     ]
    },
    {
     "name": "stderr",
     "output_type": "stream",
     "text": [
      " 25%|██▌       | 205/810 [50:11<2:16:57, 13.58s/it]"
     ]
    },
    {
     "name": "stdout",
     "output_type": "stream",
     "text": [
      "Titling Time: 12.4 sec\n",
      "../data/train_data_annotation/Stomach/D/anno_stomach_D_0151.mrxs\n",
      "noise filter :  True\n",
      "multiprocessing :  32\n",
      "slide_name anno_stomach_D_0151\n"
     ]
    },
    {
     "name": "stderr",
     "output_type": "stream",
     "text": [
      " 25%|██▌       | 206/810 [50:23<2:12:50, 13.20s/it]"
     ]
    },
    {
     "name": "stdout",
     "output_type": "stream",
     "text": [
      "Titling Time: 11.9 sec\n",
      "../data/train_data_annotation/Stomach/D/anno_stomach_D_0189.mrxs\n",
      "noise filter :  True\n",
      "multiprocessing :  32\n",
      "slide_name anno_stomach_D_0189\n"
     ]
    },
    {
     "name": "stderr",
     "output_type": "stream",
     "text": [
      " 26%|██▌       | 207/810 [50:35<2:09:16, 12.86s/it]"
     ]
    },
    {
     "name": "stdout",
     "output_type": "stream",
     "text": [
      "Titling Time: 11.7 sec\n",
      "../data/train_data_annotation/Stomach/D/anno_stomach_D_0051.mrxs\n",
      "noise filter :  True\n",
      "multiprocessing :  32\n",
      "slide_name anno_stomach_D_0051\n"
     ]
    },
    {
     "name": "stderr",
     "output_type": "stream",
     "text": [
      " 26%|██▌       | 208/810 [50:47<2:07:07, 12.67s/it]"
     ]
    },
    {
     "name": "stdout",
     "output_type": "stream",
     "text": [
      "Titling Time: 11.8 sec\n",
      "../data/train_data_annotation/Stomach/D/anno_stomach_D_0030.mrxs\n",
      "noise filter :  True\n",
      "multiprocessing :  32\n",
      "slide_name anno_stomach_D_0030\n"
     ]
    },
    {
     "name": "stderr",
     "output_type": "stream",
     "text": [
      " 26%|██▌       | 209/810 [51:00<2:05:52, 12.57s/it]"
     ]
    },
    {
     "name": "stdout",
     "output_type": "stream",
     "text": [
      "Titling Time: 11.9 sec\n",
      "../data/train_data_annotation/Stomach/D/anno_stomach_D_0124.mrxs\n",
      "noise filter :  True\n",
      "multiprocessing :  32\n",
      "slide_name anno_stomach_D_0124\n"
     ]
    },
    {
     "name": "stderr",
     "output_type": "stream",
     "text": [
      " 26%|██▌       | 210/810 [51:17<2:19:00, 13.90s/it]"
     ]
    },
    {
     "name": "stdout",
     "output_type": "stream",
     "text": [
      "Titling Time: 11.4 sec\n",
      "../data/train_data_annotation/Stomach/D/anno_stomach_D_0164.mrxs\n",
      "noise filter :  True\n",
      "multiprocessing :  32\n",
      "slide_name anno_stomach_D_0164\n"
     ]
    },
    {
     "name": "stderr",
     "output_type": "stream",
     "text": [
      " 26%|██▌       | 211/810 [51:32<2:22:28, 14.27s/it]"
     ]
    },
    {
     "name": "stdout",
     "output_type": "stream",
     "text": [
      "Titling Time: 11.5 sec\n",
      "../data/train_data_annotation/Stomach/D/anno_stomach_D_0130.mrxs\n",
      "noise filter :  True\n",
      "multiprocessing :  32\n",
      "slide_name anno_stomach_D_0130\n"
     ]
    },
    {
     "name": "stderr",
     "output_type": "stream",
     "text": [
      " 26%|██▌       | 212/810 [51:44<2:16:43, 13.72s/it]"
     ]
    },
    {
     "name": "stdout",
     "output_type": "stream",
     "text": [
      "Titling Time: 12.0 sec\n",
      "../data/train_data_annotation/Stomach/D/anno_stomach_D_0153.mrxs\n",
      "noise filter :  True\n",
      "multiprocessing :  32\n",
      "slide_name anno_stomach_D_0153\n"
     ]
    },
    {
     "name": "stderr",
     "output_type": "stream",
     "text": [
      " 26%|██▋       | 213/810 [51:56<2:10:41, 13.14s/it]"
     ]
    },
    {
     "name": "stdout",
     "output_type": "stream",
     "text": [
      "Titling Time: 11.2 sec\n",
      "../data/train_data_annotation/Stomach/D/anno_stomach_D_0091.mrxs\n",
      "noise filter :  True\n",
      "multiprocessing :  32\n",
      "slide_name anno_stomach_D_0091\n"
     ]
    },
    {
     "name": "stderr",
     "output_type": "stream",
     "text": [
      " 26%|██▋       | 214/810 [52:12<2:19:26, 14.04s/it]"
     ]
    },
    {
     "name": "stdout",
     "output_type": "stream",
     "text": [
      "Titling Time: 11.9 sec\n",
      "../data/train_data_annotation/Stomach/D/anno_stomach_D_0114.mrxs\n",
      "noise filter :  True\n",
      "multiprocessing :  32\n",
      "slide_name anno_stomach_D_0114\n"
     ]
    },
    {
     "name": "stderr",
     "output_type": "stream",
     "text": [
      " 27%|██▋       | 215/810 [52:25<2:14:21, 13.55s/it]"
     ]
    },
    {
     "name": "stdout",
     "output_type": "stream",
     "text": [
      "Titling Time: 12.0 sec\n",
      "../data/train_data_annotation/Stomach/D/anno_stomach_D_0010.mrxs\n",
      "noise filter :  True\n",
      "multiprocessing :  32\n",
      "slide_name anno_stomach_D_0010\n"
     ]
    },
    {
     "name": "stderr",
     "output_type": "stream",
     "text": [
      " 27%|██▋       | 216/810 [52:36<2:08:51, 13.02s/it]"
     ]
    },
    {
     "name": "stdout",
     "output_type": "stream",
     "text": [
      "Titling Time: 11.4 sec\n",
      "../data/train_data_annotation/Stomach/D/anno_stomach_D_0038.mrxs\n",
      "noise filter :  True\n",
      "multiprocessing :  32\n",
      "slide_name anno_stomach_D_0038\n"
     ]
    },
    {
     "name": "stderr",
     "output_type": "stream",
     "text": [
      " 27%|██▋       | 217/810 [52:48<2:04:20, 12.58s/it]"
     ]
    },
    {
     "name": "stdout",
     "output_type": "stream",
     "text": [
      "Titling Time: 11.1 sec\n",
      "../data/train_data_annotation/Stomach/D/anno_stomach_D_0078.mrxs\n",
      "noise filter :  True\n",
      "multiprocessing :  32\n",
      "slide_name anno_stomach_D_0078\n"
     ]
    },
    {
     "name": "stderr",
     "output_type": "stream",
     "text": [
      " 27%|██▋       | 218/810 [53:00<2:02:32, 12.42s/it]"
     ]
    },
    {
     "name": "stdout",
     "output_type": "stream",
     "text": [
      "Titling Time: 11.6 sec\n",
      "../data/train_data_annotation/Stomach/D/anno_stomach_D_0127.mrxs\n",
      "noise filter :  True\n",
      "multiprocessing :  32\n",
      "slide_name anno_stomach_D_0127\n"
     ]
    },
    {
     "name": "stderr",
     "output_type": "stream",
     "text": [
      " 27%|██▋       | 219/810 [53:12<2:01:20, 12.32s/it]"
     ]
    },
    {
     "name": "stdout",
     "output_type": "stream",
     "text": [
      "Titling Time: 11.8 sec\n",
      "../data/train_data_annotation/Stomach/D/anno_stomach_D_0197.mrxs\n",
      "noise filter :  True\n",
      "multiprocessing :  32\n",
      "slide_name anno_stomach_D_0197\n"
     ]
    },
    {
     "name": "stderr",
     "output_type": "stream",
     "text": [
      " 27%|██▋       | 220/810 [53:33<2:26:13, 14.87s/it]"
     ]
    },
    {
     "name": "stdout",
     "output_type": "stream",
     "text": [
      "Titling Time: 11.9 sec\n",
      "../data/train_data_annotation/Stomach/D/anno_stomach_D_0176.mrxs\n",
      "noise filter :  True\n",
      "multiprocessing :  32\n",
      "slide_name anno_stomach_D_0176\n"
     ]
    },
    {
     "name": "stderr",
     "output_type": "stream",
     "text": [
      " 27%|██▋       | 221/810 [53:45<2:18:25, 14.10s/it]"
     ]
    },
    {
     "name": "stdout",
     "output_type": "stream",
     "text": [
      "Titling Time: 11.9 sec\n",
      "../data/train_data_annotation/Stomach/D/anno_stomach_D_0093.mrxs\n",
      "noise filter :  True\n",
      "multiprocessing :  32\n",
      "slide_name anno_stomach_D_0093\n"
     ]
    },
    {
     "name": "stderr",
     "output_type": "stream",
     "text": [
      " 27%|██▋       | 222/810 [53:57<2:12:28, 13.52s/it]"
     ]
    },
    {
     "name": "stdout",
     "output_type": "stream",
     "text": [
      "Titling Time: 11.7 sec\n",
      "../data/train_data_annotation/Stomach/D/anno_stomach_D_0159.mrxs\n",
      "noise filter :  True\n",
      "multiprocessing :  32\n",
      "slide_name anno_stomach_D_0159\n"
     ]
    },
    {
     "name": "stderr",
     "output_type": "stream",
     "text": [
      " 28%|██▊       | 223/810 [54:09<2:06:57, 12.98s/it]"
     ]
    },
    {
     "name": "stdout",
     "output_type": "stream",
     "text": [
      "Titling Time: 11.3 sec\n",
      "../data/train_data_annotation/Stomach/D/anno_stomach_D_0035.mrxs\n",
      "noise filter :  True\n",
      "multiprocessing :  32\n",
      "slide_name anno_stomach_D_0035\n"
     ]
    },
    {
     "name": "stderr",
     "output_type": "stream",
     "text": [
      " 28%|██▊       | 224/810 [54:21<2:04:33, 12.75s/it]"
     ]
    },
    {
     "name": "stdout",
     "output_type": "stream",
     "text": [
      "Titling Time: 11.8 sec\n",
      "../data/train_data_annotation/Stomach/D/anno_stomach_D_0111.mrxs\n",
      "noise filter :  True\n",
      "multiprocessing :  32\n",
      "slide_name anno_stomach_D_0111\n"
     ]
    },
    {
     "name": "stderr",
     "output_type": "stream",
     "text": [
      " 28%|██▊       | 225/810 [54:33<2:01:03, 12.42s/it]"
     ]
    },
    {
     "name": "stdout",
     "output_type": "stream",
     "text": [
      "Titling Time: 11.3 sec\n",
      "../data/train_data_annotation/Stomach/D/anno_stomach_D_0148.mrxs\n",
      "noise filter :  True\n",
      "multiprocessing :  32\n",
      "slide_name anno_stomach_D_0148\n"
     ]
    },
    {
     "name": "stderr",
     "output_type": "stream",
     "text": [
      " 28%|██▊       | 226/810 [54:45<1:58:49, 12.21s/it]"
     ]
    },
    {
     "name": "stdout",
     "output_type": "stream",
     "text": [
      "Titling Time: 11.3 sec\n",
      "../data/train_data_annotation/Stomach/D/anno_stomach_D_0143.mrxs\n",
      "noise filter :  True\n",
      "multiprocessing :  32\n",
      "slide_name anno_stomach_D_0143\n"
     ]
    },
    {
     "name": "stderr",
     "output_type": "stream",
     "text": [
      " 28%|██▊       | 227/810 [54:57<1:58:00, 12.14s/it]"
     ]
    },
    {
     "name": "stdout",
     "output_type": "stream",
     "text": [
      "Titling Time: 11.6 sec\n",
      "../data/train_data_annotation/Stomach/D/anno_stomach_D_0085.mrxs\n",
      "noise filter :  True\n",
      "multiprocessing :  32\n",
      "slide_name anno_stomach_D_0085\n"
     ]
    },
    {
     "name": "stderr",
     "output_type": "stream",
     "text": [
      " 28%|██▊       | 228/810 [55:16<2:19:52, 14.42s/it]"
     ]
    },
    {
     "name": "stdout",
     "output_type": "stream",
     "text": [
      "Titling Time: 18.8 sec\n",
      "../data/train_data_annotation/Stomach/D/anno_stomach_D_0011.mrxs\n",
      "noise filter :  True\n",
      "multiprocessing :  32\n",
      "slide_name anno_stomach_D_0011\n"
     ]
    },
    {
     "name": "stderr",
     "output_type": "stream",
     "text": [
      " 28%|██▊       | 229/810 [55:28<2:11:36, 13.59s/it]"
     ]
    },
    {
     "name": "stdout",
     "output_type": "stream",
     "text": [
      "Titling Time: 11.2 sec\n",
      "../data/train_data_annotation/Stomach/D/anno_stomach_D_0136.mrxs\n",
      "noise filter :  True\n",
      "multiprocessing :  32\n",
      "slide_name anno_stomach_D_0136\n"
     ]
    },
    {
     "name": "stderr",
     "output_type": "stream",
     "text": [
      " 28%|██▊       | 230/810 [55:41<2:08:12, 13.26s/it]"
     ]
    },
    {
     "name": "stdout",
     "output_type": "stream",
     "text": [
      "Titling Time: 11.3 sec\n",
      "../data/train_data_annotation/Stomach/D/anno_stomach_D_0005.mrxs\n",
      "noise filter :  True\n",
      "multiprocessing :  32\n",
      "slide_name anno_stomach_D_0005\n"
     ]
    },
    {
     "name": "stderr",
     "output_type": "stream",
     "text": [
      " 29%|██▊       | 231/810 [55:52<2:03:35, 12.81s/it]"
     ]
    },
    {
     "name": "stdout",
     "output_type": "stream",
     "text": [
      "Titling Time: 11.1 sec\n",
      "../data/train_data_annotation/Stomach/D/anno_stomach_D_0044.mrxs\n",
      "noise filter :  True\n",
      "multiprocessing :  32\n",
      "slide_name anno_stomach_D_0044\n"
     ]
    },
    {
     "name": "stderr",
     "output_type": "stream",
     "text": [
      " 29%|██▊       | 232/810 [56:05<2:02:33, 12.72s/it]"
     ]
    },
    {
     "name": "stdout",
     "output_type": "stream",
     "text": [
      "Titling Time: 12.2 sec\n",
      "../data/train_data_annotation/Stomach/D/anno_stomach_D_0074.mrxs\n",
      "noise filter :  True\n",
      "multiprocessing :  32\n",
      "slide_name anno_stomach_D_0074\n"
     ]
    },
    {
     "name": "stderr",
     "output_type": "stream",
     "text": [
      " 29%|██▉       | 233/810 [56:16<1:58:34, 12.33s/it]"
     ]
    },
    {
     "name": "stdout",
     "output_type": "stream",
     "text": [
      "Titling Time: 11.1 sec\n",
      "../data/train_data_annotation/Stomach/D/anno_stomach_D_0200.mrxs\n",
      "noise filter :  True\n",
      "multiprocessing :  32\n",
      "slide_name anno_stomach_D_0200\n"
     ]
    },
    {
     "name": "stderr",
     "output_type": "stream",
     "text": [
      " 29%|██▉       | 234/810 [56:28<1:57:24, 12.23s/it]"
     ]
    },
    {
     "name": "stdout",
     "output_type": "stream",
     "text": [
      "Titling Time: 11.6 sec\n",
      "../data/train_data_annotation/Stomach/D/anno_stomach_D_0016.mrxs\n",
      "noise filter :  True\n",
      "multiprocessing :  32\n",
      "slide_name anno_stomach_D_0016\n"
     ]
    },
    {
     "name": "stderr",
     "output_type": "stream",
     "text": [
      " 29%|██▉       | 235/810 [56:40<1:54:57, 12.00s/it]"
     ]
    },
    {
     "name": "stdout",
     "output_type": "stream",
     "text": [
      "Titling Time: 11.1 sec\n",
      "../data/train_data_annotation/Stomach/D/anno_stomach_D_0031.mrxs\n",
      "noise filter :  True\n",
      "multiprocessing :  32\n",
      "slide_name anno_stomach_D_0031\n"
     ]
    },
    {
     "name": "stderr",
     "output_type": "stream",
     "text": [
      " 29%|██▉       | 236/810 [56:52<1:54:22, 11.96s/it]"
     ]
    },
    {
     "name": "stdout",
     "output_type": "stream",
     "text": [
      "Titling Time: 11.4 sec\n",
      "../data/train_data_annotation/Stomach/D/anno_stomach_D_0170.mrxs\n",
      "noise filter :  True\n",
      "multiprocessing :  32\n",
      "slide_name anno_stomach_D_0170\n"
     ]
    },
    {
     "name": "stderr",
     "output_type": "stream",
     "text": [
      " 29%|██▉       | 237/810 [57:03<1:53:56, 11.93s/it]"
     ]
    },
    {
     "name": "stdout",
     "output_type": "stream",
     "text": [
      "Titling Time: 11.5 sec\n",
      "../data/train_data_annotation/Stomach/D/anno_stomach_D_0125.mrxs\n",
      "noise filter :  True\n",
      "multiprocessing :  32\n",
      "slide_name anno_stomach_D_0125\n"
     ]
    },
    {
     "name": "stderr",
     "output_type": "stream",
     "text": [
      " 29%|██▉       | 238/810 [57:18<2:01:29, 12.74s/it]"
     ]
    },
    {
     "name": "stdout",
     "output_type": "stream",
     "text": [
      "Titling Time: 14.1 sec\n",
      "../data/train_data_annotation/Stomach/D/anno_stomach_D_0161.mrxs\n",
      "noise filter :  True\n",
      "multiprocessing :  32\n",
      "slide_name anno_stomach_D_0161\n"
     ]
    },
    {
     "name": "stderr",
     "output_type": "stream",
     "text": [
      " 30%|██▉       | 239/810 [57:33<2:07:42, 13.42s/it]"
     ]
    },
    {
     "name": "stdout",
     "output_type": "stream",
     "text": [
      "Titling Time: 12.0 sec\n",
      "../data/train_data_annotation/Stomach/D/anno_stomach_D_0050.mrxs\n",
      "noise filter :  True\n",
      "multiprocessing :  32\n",
      "slide_name anno_stomach_D_0050\n"
     ]
    },
    {
     "name": "stderr",
     "output_type": "stream",
     "text": [
      " 30%|██▉       | 240/810 [57:45<2:02:04, 12.85s/it]"
     ]
    },
    {
     "name": "stdout",
     "output_type": "stream",
     "text": [
      "Titling Time: 11.2 sec\n",
      "../data/train_data_annotation/Stomach/D/anno_stomach_D_0154.mrxs\n",
      "noise filter :  True\n",
      "multiprocessing :  32\n",
      "slide_name anno_stomach_D_0154\n"
     ]
    },
    {
     "name": "stderr",
     "output_type": "stream",
     "text": [
      " 30%|██▉       | 241/810 [57:56<1:59:02, 12.55s/it]"
     ]
    },
    {
     "name": "stdout",
     "output_type": "stream",
     "text": [
      "Titling Time: 11.4 sec\n",
      "../data/train_data_annotation/Stomach/D/anno_stomach_D_0137.mrxs\n",
      "noise filter :  True\n",
      "multiprocessing :  32\n",
      "slide_name anno_stomach_D_0137\n"
     ]
    },
    {
     "name": "stderr",
     "output_type": "stream",
     "text": [
      " 30%|██▉       | 242/810 [58:08<1:57:00, 12.36s/it]"
     ]
    },
    {
     "name": "stdout",
     "output_type": "stream",
     "text": [
      "Titling Time: 11.5 sec\n",
      "../data/train_data_annotation/Stomach/D/anno_stomach_D_0167.mrxs\n",
      "noise filter :  True\n",
      "multiprocessing :  32\n",
      "slide_name anno_stomach_D_0167\n"
     ]
    },
    {
     "name": "stderr",
     "output_type": "stream",
     "text": [
      " 30%|███       | 243/810 [58:21<1:57:13, 12.40s/it]"
     ]
    },
    {
     "name": "stdout",
     "output_type": "stream",
     "text": [
      "Titling Time: 12.1 sec\n",
      "../data/train_data_annotation/Stomach/D/anno_stomach_D_0198.mrxs\n",
      "noise filter :  True\n",
      "multiprocessing :  32\n",
      "slide_name anno_stomach_D_0198\n"
     ]
    },
    {
     "name": "stderr",
     "output_type": "stream",
     "text": [
      " 30%|███       | 244/810 [58:33<1:57:09, 12.42s/it]"
     ]
    },
    {
     "name": "stdout",
     "output_type": "stream",
     "text": [
      "Titling Time: 12.1 sec\n",
      "../data/train_data_annotation/Stomach/D/anno_stomach_D_0060.mrxs\n",
      "noise filter :  True\n",
      "multiprocessing :  32\n",
      "slide_name anno_stomach_D_0060\n"
     ]
    },
    {
     "name": "stderr",
     "output_type": "stream",
     "text": [
      " 30%|███       | 245/810 [58:45<1:55:55, 12.31s/it]"
     ]
    },
    {
     "name": "stdout",
     "output_type": "stream",
     "text": [
      "Titling Time: 11.6 sec\n",
      "../data/train_data_annotation/Stomach/D/anno_stomach_D_0049.mrxs\n",
      "noise filter :  True\n",
      "multiprocessing :  32\n",
      "slide_name anno_stomach_D_0049\n"
     ]
    },
    {
     "name": "stderr",
     "output_type": "stream",
     "text": [
      " 30%|███       | 246/810 [58:57<1:54:28, 12.18s/it]"
     ]
    },
    {
     "name": "stdout",
     "output_type": "stream",
     "text": [
      "Titling Time: 11.5 sec\n",
      "../data/train_data_annotation/Stomach/D/anno_stomach_D_0056.mrxs\n",
      "noise filter :  True\n",
      "multiprocessing :  32\n",
      "slide_name anno_stomach_D_0056\n"
     ]
    },
    {
     "name": "stderr",
     "output_type": "stream",
     "text": [
      " 30%|███       | 247/810 [59:09<1:53:08, 12.06s/it]"
     ]
    },
    {
     "name": "stdout",
     "output_type": "stream",
     "text": [
      "Titling Time: 11.3 sec\n",
      "../data/train_data_annotation/Stomach/D/anno_stomach_D_0036.mrxs\n",
      "noise filter :  True\n",
      "multiprocessing :  32\n",
      "slide_name anno_stomach_D_0036\n"
     ]
    },
    {
     "name": "stderr",
     "output_type": "stream",
     "text": [
      " 31%|███       | 248/810 [59:23<1:58:02, 12.60s/it]"
     ]
    },
    {
     "name": "stdout",
     "output_type": "stream",
     "text": [
      "Titling Time: 11.3 sec\n",
      "../data/train_data_annotation/Stomach/D/anno_stomach_D_0055.mrxs\n",
      "noise filter :  True\n",
      "multiprocessing :  32\n",
      "slide_name anno_stomach_D_0055\n"
     ]
    },
    {
     "name": "stderr",
     "output_type": "stream",
     "text": [
      " 31%|███       | 249/810 [59:35<1:57:01, 12.52s/it]"
     ]
    },
    {
     "name": "stdout",
     "output_type": "stream",
     "text": [
      "Titling Time: 11.9 sec\n",
      "../data/train_data_annotation/Stomach/D/anno_stomach_D_0082.mrxs\n",
      "noise filter :  True\n",
      "multiprocessing :  32\n",
      "slide_name anno_stomach_D_0082\n"
     ]
    },
    {
     "name": "stderr",
     "output_type": "stream",
     "text": [
      " 31%|███       | 250/810 [59:47<1:55:21, 12.36s/it]"
     ]
    },
    {
     "name": "stdout",
     "output_type": "stream",
     "text": [
      "Titling Time: 11.6 sec\n",
      "../data/train_data_annotation/Stomach/D/anno_stomach_D_0020.mrxs\n",
      "noise filter :  True\n",
      "multiprocessing :  32\n",
      "slide_name anno_stomach_D_0020\n"
     ]
    },
    {
     "name": "stderr",
     "output_type": "stream",
     "text": [
      " 31%|███       | 251/810 [59:59<1:54:37, 12.30s/it]"
     ]
    },
    {
     "name": "stdout",
     "output_type": "stream",
     "text": [
      "Titling Time: 11.8 sec\n",
      "../data/train_data_annotation/Stomach/D/anno_stomach_D_0126.mrxs\n",
      "noise filter :  True\n",
      "multiprocessing :  32\n",
      "slide_name anno_stomach_D_0126\n"
     ]
    },
    {
     "name": "stderr",
     "output_type": "stream",
     "text": [
      " 31%|███       | 252/810 [1:00:20<2:18:30, 14.89s/it]"
     ]
    },
    {
     "name": "stdout",
     "output_type": "stream",
     "text": [
      "Titling Time: 20.5 sec\n",
      "../data/train_data_annotation/Stomach/D/anno_stomach_D_0024.mrxs\n",
      "noise filter :  True\n",
      "multiprocessing :  32\n",
      "slide_name anno_stomach_D_0024\n"
     ]
    },
    {
     "name": "stderr",
     "output_type": "stream",
     "text": [
      " 31%|███       | 253/810 [1:00:32<2:10:00, 14.00s/it]"
     ]
    },
    {
     "name": "stdout",
     "output_type": "stream",
     "text": [
      "Titling Time: 11.5 sec\n",
      "../data/train_data_annotation/Stomach/D/anno_stomach_D_0185.mrxs\n",
      "noise filter :  True\n",
      "multiprocessing :  32\n",
      "slide_name anno_stomach_D_0185\n"
     ]
    },
    {
     "name": "stderr",
     "output_type": "stream",
     "text": [
      " 31%|███▏      | 254/810 [1:00:45<2:05:05, 13.50s/it]"
     ]
    },
    {
     "name": "stdout",
     "output_type": "stream",
     "text": [
      "Titling Time: 11.9 sec\n",
      "../data/train_data_annotation/Stomach/D/anno_stomach_D_0027.mrxs\n",
      "noise filter :  True\n",
      "multiprocessing :  32\n",
      "slide_name anno_stomach_D_0027\n"
     ]
    },
    {
     "name": "stderr",
     "output_type": "stream",
     "text": [
      " 31%|███▏      | 255/810 [1:00:56<1:59:46, 12.95s/it]"
     ]
    },
    {
     "name": "stdout",
     "output_type": "stream",
     "text": [
      "Titling Time: 11.3 sec\n",
      "../data/train_data_annotation/Stomach/D/anno_stomach_D_0066.mrxs\n",
      "noise filter :  True\n",
      "multiprocessing :  32\n",
      "slide_name anno_stomach_D_0066\n"
     ]
    },
    {
     "name": "stderr",
     "output_type": "stream",
     "text": [
      " 32%|███▏      | 256/810 [1:01:08<1:57:24, 12.72s/it]"
     ]
    },
    {
     "name": "stdout",
     "output_type": "stream",
     "text": [
      "Titling Time: 11.8 sec\n",
      "../data/train_data_annotation/Stomach/D/anno_stomach_D_0118.mrxs\n",
      "noise filter :  True\n",
      "multiprocessing :  32\n",
      "slide_name anno_stomach_D_0118\n"
     ]
    },
    {
     "name": "stderr",
     "output_type": "stream",
     "text": [
      " 32%|███▏      | 257/810 [1:01:20<1:54:37, 12.44s/it]"
     ]
    },
    {
     "name": "stdout",
     "output_type": "stream",
     "text": [
      "Titling Time: 11.4 sec\n",
      "../data/train_data_annotation/Stomach/D/anno_stomach_D_0188.mrxs\n",
      "noise filter :  True\n",
      "multiprocessing :  32\n",
      "slide_name anno_stomach_D_0188\n"
     ]
    },
    {
     "name": "stderr",
     "output_type": "stream",
     "text": [
      " 32%|███▏      | 258/810 [1:01:32<1:52:45, 12.26s/it]"
     ]
    },
    {
     "name": "stdout",
     "output_type": "stream",
     "text": [
      "Titling Time: 11.5 sec\n",
      "../data/train_data_annotation/Stomach/D/anno_stomach_D_0171.mrxs\n",
      "noise filter :  True\n",
      "multiprocessing :  32\n",
      "slide_name anno_stomach_D_0171\n"
     ]
    },
    {
     "name": "stderr",
     "output_type": "stream",
     "text": [
      " 32%|███▏      | 259/810 [1:01:44<1:52:10, 12.22s/it]"
     ]
    },
    {
     "name": "stdout",
     "output_type": "stream",
     "text": [
      "Titling Time: 11.7 sec\n",
      "../data/train_data_annotation/Stomach/D/anno_stomach_D_0063.mrxs\n",
      "noise filter :  True\n",
      "multiprocessing :  32\n",
      "slide_name anno_stomach_D_0063\n"
     ]
    },
    {
     "name": "stderr",
     "output_type": "stream",
     "text": [
      " 32%|███▏      | 260/810 [1:01:56<1:51:09, 12.13s/it]"
     ]
    },
    {
     "name": "stdout",
     "output_type": "stream",
     "text": [
      "Titling Time: 11.5 sec\n",
      "../data/train_data_annotation/Stomach/D/anno_stomach_D_0090.mrxs\n",
      "noise filter :  True\n",
      "multiprocessing :  32\n",
      "slide_name anno_stomach_D_0090\n"
     ]
    },
    {
     "name": "stderr",
     "output_type": "stream",
     "text": [
      " 32%|███▏      | 261/810 [1:02:08<1:50:06, 12.03s/it]"
     ]
    },
    {
     "name": "stdout",
     "output_type": "stream",
     "text": [
      "Titling Time: 11.5 sec\n",
      "../data/train_data_annotation/Stomach/D/anno_stomach_D_0022.mrxs\n",
      "noise filter :  True\n",
      "multiprocessing :  32\n",
      "slide_name anno_stomach_D_0022\n"
     ]
    },
    {
     "name": "stderr",
     "output_type": "stream",
     "text": [
      " 32%|███▏      | 262/810 [1:02:20<1:49:41, 12.01s/it]"
     ]
    },
    {
     "name": "stdout",
     "output_type": "stream",
     "text": [
      "Titling Time: 11.6 sec\n",
      "../data/train_data_annotation/Stomach/D/anno_stomach_D_0103.mrxs\n",
      "noise filter :  True\n",
      "multiprocessing :  32\n",
      "slide_name anno_stomach_D_0103\n"
     ]
    },
    {
     "name": "stderr",
     "output_type": "stream",
     "text": [
      " 32%|███▏      | 263/810 [1:02:32<1:51:17, 12.21s/it]"
     ]
    },
    {
     "name": "stdout",
     "output_type": "stream",
     "text": [
      "Titling Time: 12.3 sec\n",
      "../data/train_data_annotation/Stomach/D/anno_stomach_D_0182.mrxs\n",
      "noise filter :  True\n",
      "multiprocessing :  32\n",
      "slide_name anno_stomach_D_0182\n"
     ]
    },
    {
     "name": "stderr",
     "output_type": "stream",
     "text": [
      " 33%|███▎      | 264/810 [1:02:45<1:50:43, 12.17s/it]"
     ]
    },
    {
     "name": "stdout",
     "output_type": "stream",
     "text": [
      "Titling Time: 11.6 sec\n",
      "../data/train_data_annotation/Stomach/D/anno_stomach_D_0163.mrxs\n",
      "noise filter :  True\n",
      "multiprocessing :  32\n",
      "slide_name anno_stomach_D_0163\n"
     ]
    },
    {
     "name": "stderr",
     "output_type": "stream",
     "text": [
      " 33%|███▎      | 265/810 [1:03:05<2:12:37, 14.60s/it]"
     ]
    },
    {
     "name": "stdout",
     "output_type": "stream",
     "text": [
      "Titling Time: 12.3 sec\n",
      "../data/train_data_annotation/Stomach/D/anno_stomach_D_0039.mrxs\n",
      "noise filter :  True\n",
      "multiprocessing :  32\n",
      "slide_name anno_stomach_D_0039\n"
     ]
    },
    {
     "name": "stderr",
     "output_type": "stream",
     "text": [
      " 33%|███▎      | 266/810 [1:03:26<2:30:56, 16.65s/it]"
     ]
    },
    {
     "name": "stdout",
     "output_type": "stream",
     "text": [
      "Titling Time: 21.0 sec\n",
      "../data/train_data_annotation/Stomach/D/anno_stomach_D_0195.mrxs\n",
      "noise filter :  True\n",
      "multiprocessing :  32\n",
      "slide_name anno_stomach_D_0195\n"
     ]
    },
    {
     "name": "stderr",
     "output_type": "stream",
     "text": [
      " 33%|███▎      | 267/810 [1:03:38<2:18:06, 15.26s/it]"
     ]
    },
    {
     "name": "stdout",
     "output_type": "stream",
     "text": [
      "Titling Time: 11.6 sec\n",
      "../data/train_data_annotation/Stomach/D/anno_stomach_D_0053.mrxs\n",
      "noise filter :  True\n",
      "multiprocessing :  32\n",
      "slide_name anno_stomach_D_0053\n"
     ]
    },
    {
     "name": "stderr",
     "output_type": "stream",
     "text": [
      " 33%|███▎      | 268/810 [1:03:50<2:07:31, 14.12s/it]"
     ]
    },
    {
     "name": "stdout",
     "output_type": "stream",
     "text": [
      "Titling Time: 11.0 sec\n",
      "../data/train_data_annotation/Stomach/D/anno_stomach_D_0173.mrxs\n",
      "noise filter :  True\n",
      "multiprocessing :  32\n",
      "slide_name anno_stomach_D_0173\n"
     ]
    },
    {
     "name": "stderr",
     "output_type": "stream",
     "text": [
      " 33%|███▎      | 269/810 [1:04:04<2:07:58, 14.19s/it]"
     ]
    },
    {
     "name": "stdout",
     "output_type": "stream",
     "text": [
      "Titling Time: 14.0 sec\n",
      "../data/train_data_annotation/Stomach/D/anno_stomach_D_0087.mrxs\n",
      "noise filter :  True\n",
      "multiprocessing :  32\n",
      "slide_name anno_stomach_D_0087\n"
     ]
    },
    {
     "name": "stderr",
     "output_type": "stream",
     "text": [
      " 33%|███▎      | 270/810 [1:04:16<2:01:51, 13.54s/it]"
     ]
    },
    {
     "name": "stdout",
     "output_type": "stream",
     "text": [
      "Titling Time: 11.6 sec\n",
      "../data/train_data_annotation/Stomach/D/anno_stomach_D_0180.mrxs\n",
      "noise filter :  True\n",
      "multiprocessing :  32\n",
      "slide_name anno_stomach_D_0180\n"
     ]
    },
    {
     "name": "stderr",
     "output_type": "stream",
     "text": [
      " 33%|███▎      | 271/810 [1:04:28<1:58:19, 13.17s/it]"
     ]
    },
    {
     "name": "stdout",
     "output_type": "stream",
     "text": [
      "Titling Time: 12.0 sec\n",
      "../data/train_data_annotation/Stomach/D/anno_stomach_D_0033.mrxs\n",
      "noise filter :  True\n",
      "multiprocessing :  32\n",
      "slide_name anno_stomach_D_0033\n"
     ]
    },
    {
     "name": "stderr",
     "output_type": "stream",
     "text": [
      " 34%|███▎      | 272/810 [1:04:41<1:55:38, 12.90s/it]"
     ]
    },
    {
     "name": "stdout",
     "output_type": "stream",
     "text": [
      "Titling Time: 11.9 sec\n",
      "../data/train_data_annotation/Stomach/D/anno_stomach_D_0168.mrxs\n",
      "noise filter :  True\n",
      "multiprocessing :  32\n",
      "slide_name anno_stomach_D_0168\n"
     ]
    },
    {
     "name": "stderr",
     "output_type": "stream",
     "text": [
      " 34%|███▎      | 273/810 [1:04:54<1:56:20, 13.00s/it]"
     ]
    },
    {
     "name": "stdout",
     "output_type": "stream",
     "text": [
      "Titling Time: 12.8 sec\n",
      "../data/train_data_annotation/Stomach/D/anno_stomach_D_0072.mrxs\n",
      "noise filter :  True\n",
      "multiprocessing :  32\n",
      "slide_name anno_stomach_D_0072\n"
     ]
    },
    {
     "name": "stderr",
     "output_type": "stream",
     "text": [
      " 34%|███▍      | 274/810 [1:05:11<2:06:28, 14.16s/it]"
     ]
    },
    {
     "name": "stdout",
     "output_type": "stream",
     "text": [
      "Titling Time: 16.5 sec\n",
      "../data/train_data_annotation/Stomach/D/anno_stomach_D_0110.mrxs\n",
      "noise filter :  True\n",
      "multiprocessing :  32\n",
      "slide_name anno_stomach_D_0110\n"
     ]
    },
    {
     "name": "stderr",
     "output_type": "stream",
     "text": [
      " 34%|███▍      | 275/810 [1:05:23<2:01:28, 13.62s/it]"
     ]
    },
    {
     "name": "stdout",
     "output_type": "stream",
     "text": [
      "Titling Time: 12.0 sec\n",
      "../data/train_data_annotation/Stomach/D/anno_stomach_D_0184.mrxs\n",
      "noise filter :  True\n",
      "multiprocessing :  32\n",
      "slide_name anno_stomach_D_0184\n"
     ]
    },
    {
     "name": "stderr",
     "output_type": "stream",
     "text": [
      " 34%|███▍      | 276/810 [1:05:35<1:57:14, 13.17s/it]"
     ]
    },
    {
     "name": "stdout",
     "output_type": "stream",
     "text": [
      "Titling Time: 11.8 sec\n",
      "../data/train_data_annotation/Stomach/D/anno_stomach_D_0149.mrxs\n",
      "noise filter :  True\n",
      "multiprocessing :  32\n",
      "slide_name anno_stomach_D_0149\n"
     ]
    },
    {
     "name": "stderr",
     "output_type": "stream",
     "text": [
      " 34%|███▍      | 277/810 [1:05:47<1:54:16, 12.86s/it]"
     ]
    },
    {
     "name": "stdout",
     "output_type": "stream",
     "text": [
      "Titling Time: 11.8 sec\n",
      "../data/train_data_annotation/Stomach/D/anno_stomach_D_0029.mrxs\n",
      "noise filter :  True\n",
      "multiprocessing :  32\n",
      "slide_name anno_stomach_D_0029\n"
     ]
    },
    {
     "name": "stderr",
     "output_type": "stream",
     "text": [
      " 34%|███▍      | 278/810 [1:06:00<1:54:12, 12.88s/it]"
     ]
    },
    {
     "name": "stdout",
     "output_type": "stream",
     "text": [
      "Titling Time: 12.5 sec\n",
      "../data/train_data_annotation/Stomach/D/anno_stomach_D_0101.mrxs\n",
      "noise filter :  True\n",
      "multiprocessing :  32\n",
      "slide_name anno_stomach_D_0101\n"
     ]
    },
    {
     "name": "stderr",
     "output_type": "stream",
     "text": [
      " 34%|███▍      | 279/810 [1:06:12<1:51:55, 12.65s/it]"
     ]
    },
    {
     "name": "stdout",
     "output_type": "stream",
     "text": [
      "Titling Time: 11.8 sec\n",
      "../data/train_data_annotation/Stomach/D/anno_stomach_D_0009.mrxs\n",
      "noise filter :  True\n",
      "multiprocessing :  32\n",
      "slide_name anno_stomach_D_0009\n"
     ]
    },
    {
     "name": "stderr",
     "output_type": "stream",
     "text": [
      " 35%|███▍      | 280/810 [1:06:25<1:50:50, 12.55s/it]"
     ]
    },
    {
     "name": "stdout",
     "output_type": "stream",
     "text": [
      "Titling Time: 12.0 sec\n",
      "../data/train_data_annotation/Stomach/D/anno_stomach_D_0008.mrxs\n",
      "noise filter :  True\n",
      "multiprocessing :  32\n",
      "slide_name anno_stomach_D_0008\n"
     ]
    },
    {
     "name": "stderr",
     "output_type": "stream",
     "text": [
      " 35%|███▍      | 281/810 [1:06:37<1:49:37, 12.43s/it]"
     ]
    },
    {
     "name": "stdout",
     "output_type": "stream",
     "text": [
      "Titling Time: 11.6 sec\n",
      "../data/train_data_annotation/Stomach/D/anno_stomach_D_0175.mrxs\n",
      "noise filter :  True\n",
      "multiprocessing :  32\n",
      "slide_name anno_stomach_D_0175\n"
     ]
    },
    {
     "name": "stderr",
     "output_type": "stream",
     "text": [
      " 35%|███▍      | 282/810 [1:06:56<2:06:14, 14.35s/it]"
     ]
    },
    {
     "name": "stdout",
     "output_type": "stream",
     "text": [
      "Titling Time: 10.9 sec\n",
      "../data/train_data_annotation/Stomach/D/anno_stomach_D_0080.mrxs\n",
      "noise filter :  True\n",
      "multiprocessing :  32\n",
      "slide_name anno_stomach_D_0080\n"
     ]
    },
    {
     "name": "stderr",
     "output_type": "stream",
     "text": [
      " 35%|███▍      | 283/810 [1:07:08<2:00:32, 13.72s/it]"
     ]
    },
    {
     "name": "stdout",
     "output_type": "stream",
     "text": [
      "Titling Time: 11.9 sec\n",
      "../data/train_data_annotation/Stomach/D/anno_stomach_D_0166.mrxs\n",
      "noise filter :  True\n",
      "multiprocessing :  32\n",
      "slide_name anno_stomach_D_0166\n"
     ]
    },
    {
     "name": "stderr",
     "output_type": "stream",
     "text": [
      " 35%|███▌      | 284/810 [1:07:20<1:55:26, 13.17s/it]"
     ]
    },
    {
     "name": "stdout",
     "output_type": "stream",
     "text": [
      "Titling Time: 11.5 sec\n",
      "../data/train_data_annotation/Stomach/D/anno_stomach_D_0076.mrxs\n",
      "noise filter :  True\n",
      "multiprocessing :  32\n",
      "slide_name anno_stomach_D_0076\n"
     ]
    },
    {
     "name": "stderr",
     "output_type": "stream",
     "text": [
      " 35%|███▌      | 285/810 [1:07:32<1:53:01, 12.92s/it]"
     ]
    },
    {
     "name": "stdout",
     "output_type": "stream",
     "text": [
      "Titling Time: 11.9 sec\n",
      "../data/train_data_annotation/Stomach/D/anno_stomach_D_0134.mrxs\n",
      "noise filter :  True\n",
      "multiprocessing :  32\n",
      "slide_name anno_stomach_D_0134\n"
     ]
    },
    {
     "name": "stderr",
     "output_type": "stream",
     "text": [
      " 35%|███▌      | 286/810 [1:07:52<2:11:56, 15.11s/it]"
     ]
    },
    {
     "name": "stdout",
     "output_type": "stream",
     "text": [
      "Titling Time: 11.6 sec\n",
      "../data/train_data_annotation/Stomach/D/anno_stomach_D_0002.mrxs\n",
      "noise filter :  True\n",
      "multiprocessing :  32\n",
      "slide_name anno_stomach_D_0002\n"
     ]
    },
    {
     "name": "stderr",
     "output_type": "stream",
     "text": [
      " 35%|███▌      | 287/810 [1:08:04<2:03:25, 14.16s/it]"
     ]
    },
    {
     "name": "stdout",
     "output_type": "stream",
     "text": [
      "Titling Time: 11.6 sec\n",
      "../data/train_data_annotation/Stomach/D/anno_stomach_D_0083.mrxs\n",
      "noise filter :  True\n",
      "multiprocessing :  32\n",
      "slide_name anno_stomach_D_0083\n"
     ]
    },
    {
     "name": "stderr",
     "output_type": "stream",
     "text": [
      " 36%|███▌      | 288/810 [1:08:16<1:57:19, 13.49s/it]"
     ]
    },
    {
     "name": "stdout",
     "output_type": "stream",
     "text": [
      "Titling Time: 11.6 sec\n",
      "../data/train_data_annotation/Stomach/D/anno_stomach_D_0191.mrxs\n",
      "noise filter :  True\n",
      "multiprocessing :  32\n",
      "slide_name anno_stomach_D_0191\n"
     ]
    },
    {
     "name": "stderr",
     "output_type": "stream",
     "text": [
      " 36%|███▌      | 289/810 [1:08:28<1:53:25, 13.06s/it]"
     ]
    },
    {
     "name": "stdout",
     "output_type": "stream",
     "text": [
      "Titling Time: 11.7 sec\n",
      "../data/train_data_annotation/Stomach/D/anno_stomach_D_0007.mrxs\n",
      "noise filter :  True\n",
      "multiprocessing :  32\n",
      "slide_name anno_stomach_D_0007\n"
     ]
    },
    {
     "name": "stderr",
     "output_type": "stream",
     "text": [
      " 36%|███▌      | 290/810 [1:08:40<1:49:20, 12.62s/it]"
     ]
    },
    {
     "name": "stdout",
     "output_type": "stream",
     "text": [
      "Titling Time: 11.2 sec\n",
      "../data/train_data_annotation/Stomach/D/anno_stomach_D_0160.mrxs\n",
      "noise filter :  True\n",
      "multiprocessing :  32\n",
      "slide_name anno_stomach_D_0160\n"
     ]
    },
    {
     "name": "stderr",
     "output_type": "stream",
     "text": [
      " 36%|███▌      | 291/810 [1:08:58<2:02:15, 14.13s/it]"
     ]
    },
    {
     "name": "stdout",
     "output_type": "stream",
     "text": [
      "Titling Time: 17.4 sec\n",
      "../data/train_data_annotation/Stomach/D/anno_stomach_D_0028.mrxs\n",
      "noise filter :  True\n",
      "multiprocessing :  32\n",
      "slide_name anno_stomach_D_0028\n"
     ]
    },
    {
     "name": "stderr",
     "output_type": "stream",
     "text": [
      " 36%|███▌      | 292/810 [1:09:10<1:56:33, 13.50s/it]"
     ]
    },
    {
     "name": "stdout",
     "output_type": "stream",
     "text": [
      "Titling Time: 11.6 sec\n",
      "../data/train_data_annotation/Stomach/D/anno_stomach_D_0026.mrxs\n",
      "noise filter :  True\n",
      "multiprocessing :  32\n",
      "slide_name anno_stomach_D_0026\n"
     ]
    },
    {
     "name": "stderr",
     "output_type": "stream",
     "text": [
      " 36%|███▌      | 293/810 [1:09:22<1:53:27, 13.17s/it]"
     ]
    },
    {
     "name": "stdout",
     "output_type": "stream",
     "text": [
      "Titling Time: 11.9 sec\n",
      "../data/train_data_annotation/Stomach/D/anno_stomach_D_0199.mrxs\n",
      "noise filter :  True\n",
      "multiprocessing :  32\n",
      "slide_name anno_stomach_D_0199\n"
     ]
    },
    {
     "name": "stderr",
     "output_type": "stream",
     "text": [
      " 36%|███▋      | 294/810 [1:09:34<1:50:50, 12.89s/it]"
     ]
    },
    {
     "name": "stdout",
     "output_type": "stream",
     "text": [
      "Titling Time: 11.9 sec\n",
      "../data/train_data_annotation/Stomach/D/anno_stomach_D_0014.mrxs\n",
      "noise filter :  True\n",
      "multiprocessing :  32\n",
      "slide_name anno_stomach_D_0014\n"
     ]
    },
    {
     "name": "stderr",
     "output_type": "stream",
     "text": [
      " 36%|███▋      | 295/810 [1:09:47<1:49:11, 12.72s/it]"
     ]
    },
    {
     "name": "stdout",
     "output_type": "stream",
     "text": [
      "Titling Time: 12.0 sec\n",
      "../data/train_data_annotation/Stomach/D/anno_stomach_D_0115.mrxs\n",
      "noise filter :  True\n",
      "multiprocessing :  32\n",
      "slide_name anno_stomach_D_0115\n"
     ]
    },
    {
     "name": "stderr",
     "output_type": "stream",
     "text": [
      " 37%|███▋      | 296/810 [1:09:59<1:47:47, 12.58s/it]"
     ]
    },
    {
     "name": "stdout",
     "output_type": "stream",
     "text": [
      "Titling Time: 11.9 sec\n",
      "../data/train_data_annotation/Stomach/D/anno_stomach_D_0032.mrxs\n",
      "noise filter :  True\n",
      "multiprocessing :  32\n",
      "slide_name anno_stomach_D_0032\n"
     ]
    },
    {
     "name": "stderr",
     "output_type": "stream",
     "text": [
      " 37%|███▋      | 297/810 [1:10:11<1:45:51, 12.38s/it]"
     ]
    },
    {
     "name": "stdout",
     "output_type": "stream",
     "text": [
      "Titling Time: 11.5 sec\n",
      "../data/train_data_annotation/Stomach/D/anno_stomach_D_0021.mrxs\n",
      "noise filter :  True\n",
      "multiprocessing :  32\n",
      "slide_name anno_stomach_D_0021\n"
     ]
    },
    {
     "name": "stderr",
     "output_type": "stream",
     "text": [
      " 37%|███▋      | 298/810 [1:10:23<1:44:48, 12.28s/it]"
     ]
    },
    {
     "name": "stdout",
     "output_type": "stream",
     "text": [
      "Titling Time: 11.7 sec\n",
      "../data/train_data_annotation/Stomach/D/anno_stomach_D_0048.mrxs\n",
      "noise filter :  True\n",
      "multiprocessing :  32\n",
      "slide_name anno_stomach_D_0048\n"
     ]
    },
    {
     "name": "stderr",
     "output_type": "stream",
     "text": [
      " 37%|███▋      | 299/810 [1:10:35<1:45:08, 12.35s/it]"
     ]
    },
    {
     "name": "stdout",
     "output_type": "stream",
     "text": [
      "Titling Time: 12.0 sec\n",
      "../data/train_data_annotation/Stomach/D/anno_stomach_D_0193.mrxs\n",
      "noise filter :  True\n",
      "multiprocessing :  32\n",
      "slide_name anno_stomach_D_0193\n"
     ]
    },
    {
     "name": "stderr",
     "output_type": "stream",
     "text": [
      " 37%|███▋      | 300/810 [1:10:48<1:46:23, 12.52s/it]"
     ]
    },
    {
     "name": "stdout",
     "output_type": "stream",
     "text": [
      "Titling Time: 12.5 sec\n",
      "../data/train_data_annotation/Stomach/D/anno_stomach_D_0037.mrxs\n",
      "noise filter :  True\n",
      "multiprocessing :  32\n",
      "slide_name anno_stomach_D_0037\n"
     ]
    },
    {
     "name": "stderr",
     "output_type": "stream",
     "text": [
      " 37%|███▋      | 301/810 [1:11:00<1:44:56, 12.37s/it]"
     ]
    },
    {
     "name": "stdout",
     "output_type": "stream",
     "text": [
      "Titling Time: 11.6 sec\n",
      "../data/train_data_annotation/Stomach/D/anno_stomach_D_0086.mrxs\n",
      "noise filter :  True\n",
      "multiprocessing :  32\n",
      "slide_name anno_stomach_D_0086\n"
     ]
    },
    {
     "name": "stderr",
     "output_type": "stream",
     "text": [
      " 37%|███▋      | 302/810 [1:11:29<2:27:18, 17.40s/it]"
     ]
    },
    {
     "name": "stdout",
     "output_type": "stream",
     "text": [
      "Titling Time: 22.7 sec\n",
      "../data/train_data_annotation/Stomach/D/anno_stomach_D_0162.mrxs\n",
      "noise filter :  True\n",
      "multiprocessing :  32\n",
      "slide_name anno_stomach_D_0162\n"
     ]
    },
    {
     "name": "stderr",
     "output_type": "stream",
     "text": [
      " 37%|███▋      | 303/810 [1:11:52<2:40:14, 18.96s/it]"
     ]
    },
    {
     "name": "stdout",
     "output_type": "stream",
     "text": [
      "Titling Time: 22.2 sec\n",
      "../data/train_data_annotation/Stomach/D/anno_stomach_D_0013.mrxs\n",
      "noise filter :  True\n",
      "multiprocessing :  32\n",
      "slide_name anno_stomach_D_0013\n"
     ]
    },
    {
     "name": "stderr",
     "output_type": "stream",
     "text": [
      " 38%|███▊      | 304/810 [1:12:04<2:22:46, 16.93s/it]"
     ]
    },
    {
     "name": "stdout",
     "output_type": "stream",
     "text": [
      "Titling Time: 11.7 sec\n",
      "../data/train_data_annotation/Stomach/D/anno_stomach_D_0006.mrxs\n",
      "noise filter :  True\n",
      "multiprocessing :  32\n",
      "slide_name anno_stomach_D_0006\n"
     ]
    },
    {
     "name": "stderr",
     "output_type": "stream",
     "text": [
      " 38%|███▊      | 305/810 [1:12:17<2:11:05, 15.58s/it]"
     ]
    },
    {
     "name": "stdout",
     "output_type": "stream",
     "text": [
      "Titling Time: 12.1 sec\n",
      "../data/train_data_annotation/Stomach/D/anno_stomach_D_0071.mrxs\n",
      "noise filter :  True\n",
      "multiprocessing :  32\n",
      "slide_name anno_stomach_D_0071\n"
     ]
    },
    {
     "name": "stderr",
     "output_type": "stream",
     "text": [
      " 38%|███▊      | 306/810 [1:12:29<2:02:40, 14.60s/it]"
     ]
    },
    {
     "name": "stdout",
     "output_type": "stream",
     "text": [
      "Titling Time: 11.9 sec\n",
      "../data/train_data_annotation/Stomach/D/anno_stomach_D_0142.mrxs\n",
      "noise filter :  True\n",
      "multiprocessing :  32\n",
      "slide_name anno_stomach_D_0142\n"
     ]
    },
    {
     "name": "stderr",
     "output_type": "stream",
     "text": [
      " 38%|███▊      | 307/810 [1:12:42<1:59:13, 14.22s/it]"
     ]
    },
    {
     "name": "stdout",
     "output_type": "stream",
     "text": [
      "Titling Time: 12.9 sec\n",
      "../data/train_data_annotation/Stomach/D/anno_stomach_D_0156.mrxs\n",
      "noise filter :  True\n",
      "multiprocessing :  32\n",
      "slide_name anno_stomach_D_0156\n"
     ]
    },
    {
     "name": "stderr",
     "output_type": "stream",
     "text": [
      " 38%|███▊      | 308/810 [1:12:55<1:54:35, 13.70s/it]"
     ]
    },
    {
     "name": "stdout",
     "output_type": "stream",
     "text": [
      "Titling Time: 11.4 sec\n",
      "../data/train_data_annotation/Stomach/D/anno_stomach_D_0129.mrxs\n",
      "noise filter :  True\n",
      "multiprocessing :  32\n",
      "slide_name anno_stomach_D_0129\n"
     ]
    },
    {
     "name": "stderr",
     "output_type": "stream",
     "text": [
      " 38%|███▊      | 309/810 [1:13:11<2:01:46, 14.58s/it]"
     ]
    },
    {
     "name": "stdout",
     "output_type": "stream",
     "text": [
      "Titling Time: 12.2 sec\n",
      "../data/train_data_annotation/Stomach/D/anno_stomach_D_0001.mrxs\n",
      "noise filter :  True\n",
      "multiprocessing :  32\n",
      "slide_name anno_stomach_D_0001\n"
     ]
    },
    {
     "name": "stderr",
     "output_type": "stream",
     "text": [
      " 38%|███▊      | 310/810 [1:13:24<1:57:37, 14.12s/it]"
     ]
    },
    {
     "name": "stdout",
     "output_type": "stream",
     "text": [
      "Titling Time: 12.4 sec\n",
      "../data/train_data_annotation/Stomach/D/anno_stomach_D_0194.mrxs\n",
      "noise filter :  True\n",
      "multiprocessing :  32\n",
      "slide_name anno_stomach_D_0194\n"
     ]
    },
    {
     "name": "stderr",
     "output_type": "stream",
     "text": [
      " 38%|███▊      | 311/810 [1:13:37<1:52:27, 13.52s/it]"
     ]
    },
    {
     "name": "stdout",
     "output_type": "stream",
     "text": [
      "Titling Time: 11.8 sec\n",
      "../data/train_data_annotation/Stomach/D/anno_stomach_D_0040.mrxs\n",
      "noise filter :  True\n",
      "multiprocessing :  32\n",
      "slide_name anno_stomach_D_0040\n"
     ]
    },
    {
     "name": "stderr",
     "output_type": "stream",
     "text": [
      " 39%|███▊      | 312/810 [1:13:49<1:48:34, 13.08s/it]"
     ]
    },
    {
     "name": "stdout",
     "output_type": "stream",
     "text": [
      "Titling Time: 11.7 sec\n",
      "../data/train_data_annotation/Stomach/D/anno_stomach_D_0043.mrxs\n",
      "noise filter :  True\n",
      "multiprocessing :  32\n",
      "slide_name anno_stomach_D_0043\n"
     ]
    },
    {
     "name": "stderr",
     "output_type": "stream",
     "text": [
      " 39%|███▊      | 313/810 [1:14:01<1:47:09, 12.94s/it]"
     ]
    },
    {
     "name": "stdout",
     "output_type": "stream",
     "text": [
      "Titling Time: 12.2 sec\n",
      "../data/train_data_annotation/Stomach/D/anno_stomach_D_0019.mrxs\n",
      "noise filter :  True\n",
      "multiprocessing :  32\n",
      "slide_name anno_stomach_D_0019\n"
     ]
    },
    {
     "name": "stderr",
     "output_type": "stream",
     "text": [
      " 39%|███▉      | 314/810 [1:14:14<1:46:01, 12.83s/it]"
     ]
    },
    {
     "name": "stdout",
     "output_type": "stream",
     "text": [
      "Titling Time: 11.7 sec\n",
      "../data/train_data_annotation/Stomach/D/anno_stomach_D_0152.mrxs\n",
      "noise filter :  True\n",
      "multiprocessing :  32\n",
      "slide_name anno_stomach_D_0152\n"
     ]
    },
    {
     "name": "stderr",
     "output_type": "stream",
     "text": [
      " 39%|███▉      | 315/810 [1:14:30<1:53:56, 13.81s/it]"
     ]
    },
    {
     "name": "stdout",
     "output_type": "stream",
     "text": [
      "Titling Time: 11.9 sec\n",
      "../data/train_data_annotation/Stomach/D/anno_stomach_D_0095.mrxs\n",
      "noise filter :  True\n",
      "multiprocessing :  32\n",
      "slide_name anno_stomach_D_0095\n"
     ]
    },
    {
     "name": "stderr",
     "output_type": "stream",
     "text": [
      " 39%|███▉      | 316/810 [1:14:42<1:48:45, 13.21s/it]"
     ]
    },
    {
     "name": "stdout",
     "output_type": "stream",
     "text": [
      "Titling Time: 11.5 sec\n",
      "../data/train_data_annotation/Stomach/D/anno_stomach_D_0187.mrxs\n",
      "noise filter :  True\n",
      "multiprocessing :  32\n",
      "slide_name anno_stomach_D_0187\n"
     ]
    },
    {
     "name": "stderr",
     "output_type": "stream",
     "text": [
      " 39%|███▉      | 317/810 [1:14:59<1:58:56, 14.48s/it]"
     ]
    },
    {
     "name": "stdout",
     "output_type": "stream",
     "text": [
      "Titling Time: 11.4 sec\n",
      "../data/train_data_annotation/Stomach/D/anno_stomach_D_0018.mrxs\n",
      "noise filter :  True\n",
      "multiprocessing :  32\n",
      "slide_name anno_stomach_D_0018\n"
     ]
    },
    {
     "name": "stderr",
     "output_type": "stream",
     "text": [
      " 39%|███▉      | 318/810 [1:15:11<1:52:20, 13.70s/it]"
     ]
    },
    {
     "name": "stdout",
     "output_type": "stream",
     "text": [
      "Titling Time: 11.4 sec\n",
      "../data/train_data_annotation/Stomach/D/anno_stomach_D_0099.mrxs\n",
      "noise filter :  True\n",
      "multiprocessing :  32\n",
      "slide_name anno_stomach_D_0099\n"
     ]
    },
    {
     "name": "stderr",
     "output_type": "stream",
     "text": [
      " 39%|███▉      | 319/810 [1:15:23<1:47:50, 13.18s/it]"
     ]
    },
    {
     "name": "stdout",
     "output_type": "stream",
     "text": [
      "Titling Time: 11.6 sec\n",
      "../data/train_data_annotation/Stomach/D/anno_stomach_D_0034.mrxs\n",
      "noise filter :  True\n",
      "multiprocessing :  32\n",
      "slide_name anno_stomach_D_0034\n"
     ]
    },
    {
     "name": "stderr",
     "output_type": "stream",
     "text": [
      " 40%|███▉      | 320/810 [1:15:35<1:44:10, 12.76s/it]"
     ]
    },
    {
     "name": "stdout",
     "output_type": "stream",
     "text": [
      "Titling Time: 11.4 sec\n",
      "../data/train_data_annotation/Stomach/D/anno_stomach_D_0105.mrxs\n",
      "noise filter :  True\n",
      "multiprocessing :  32\n",
      "slide_name anno_stomach_D_0105\n"
     ]
    },
    {
     "name": "stderr",
     "output_type": "stream",
     "text": [
      " 40%|███▉      | 321/810 [1:15:48<1:44:03, 12.77s/it]"
     ]
    },
    {
     "name": "stdout",
     "output_type": "stream",
     "text": [
      "Titling Time: 12.4 sec\n",
      "../data/train_data_annotation/Stomach/D/anno_stomach_D_0004.mrxs\n",
      "noise filter :  True\n",
      "multiprocessing :  32\n",
      "slide_name anno_stomach_D_0004\n"
     ]
    },
    {
     "name": "stderr",
     "output_type": "stream",
     "text": [
      " 40%|███▉      | 322/810 [1:16:00<1:41:57, 12.54s/it]"
     ]
    },
    {
     "name": "stdout",
     "output_type": "stream",
     "text": [
      "Titling Time: 11.6 sec\n",
      "../data/train_data_annotation/Stomach/D/anno_stomach_D_0069.mrxs\n",
      "noise filter :  True\n",
      "multiprocessing :  32\n",
      "slide_name anno_stomach_D_0069\n"
     ]
    },
    {
     "name": "stderr",
     "output_type": "stream",
     "text": [
      " 40%|███▉      | 323/810 [1:16:12<1:41:50, 12.55s/it]"
     ]
    },
    {
     "name": "stdout",
     "output_type": "stream",
     "text": [
      "Titling Time: 12.1 sec\n",
      "../data/train_data_annotation/Stomach/D/anno_stomach_D_0042.mrxs\n",
      "noise filter :  True\n",
      "multiprocessing :  32\n",
      "slide_name anno_stomach_D_0042\n"
     ]
    },
    {
     "name": "stderr",
     "output_type": "stream",
     "text": [
      " 40%|████      | 324/810 [1:16:24<1:39:08, 12.24s/it]"
     ]
    },
    {
     "name": "stdout",
     "output_type": "stream",
     "text": [
      "Titling Time: 11.1 sec\n",
      "../data/train_data_annotation/Stomach/D/anno_stomach_D_0109.mrxs\n",
      "noise filter :  True\n",
      "multiprocessing :  32\n",
      "slide_name anno_stomach_D_0109\n"
     ]
    },
    {
     "name": "stderr",
     "output_type": "stream",
     "text": [
      " 40%|████      | 325/810 [1:16:41<1:52:20, 13.90s/it]"
     ]
    },
    {
     "name": "stdout",
     "output_type": "stream",
     "text": [
      "Titling Time: 11.8 sec\n",
      "../data/train_data_annotation/Stomach/D/anno_stomach_D_0046.mrxs\n",
      "noise filter :  True\n",
      "multiprocessing :  32\n",
      "slide_name anno_stomach_D_0046\n"
     ]
    },
    {
     "name": "stderr",
     "output_type": "stream",
     "text": [
      " 40%|████      | 326/810 [1:16:54<1:48:28, 13.45s/it]"
     ]
    },
    {
     "name": "stdout",
     "output_type": "stream",
     "text": [
      "Titling Time: 11.9 sec\n",
      "../data/train_data_annotation/Stomach/D/anno_stomach_D_0117.mrxs\n",
      "noise filter :  True\n",
      "multiprocessing :  32\n",
      "slide_name anno_stomach_D_0117\n"
     ]
    },
    {
     "name": "stderr",
     "output_type": "stream",
     "text": [
      " 40%|████      | 327/810 [1:17:06<1:44:19, 12.96s/it]"
     ]
    },
    {
     "name": "stdout",
     "output_type": "stream",
     "text": [
      "Titling Time: 11.5 sec\n",
      "../data/train_data_annotation/Stomach/D/anno_stomach_D_0075.mrxs\n",
      "noise filter :  True\n",
      "multiprocessing :  32\n",
      "slide_name anno_stomach_D_0075\n"
     ]
    },
    {
     "name": "stderr",
     "output_type": "stream",
     "text": [
      " 40%|████      | 328/810 [1:17:18<1:41:36, 12.65s/it]"
     ]
    },
    {
     "name": "stdout",
     "output_type": "stream",
     "text": [
      "Titling Time: 11.6 sec\n",
      "../data/train_data_annotation/Stomach/D/anno_stomach_D_0120.mrxs\n",
      "noise filter :  True\n",
      "multiprocessing :  32\n",
      "slide_name anno_stomach_D_0120\n"
     ]
    },
    {
     "name": "stderr",
     "output_type": "stream",
     "text": [
      " 41%|████      | 329/810 [1:17:30<1:40:31, 12.54s/it]"
     ]
    },
    {
     "name": "stdout",
     "output_type": "stream",
     "text": [
      "Titling Time: 11.9 sec\n",
      "../data/train_data_annotation/Stomach/D/anno_stomach_D_0023.mrxs\n",
      "noise filter :  True\n",
      "multiprocessing :  32\n",
      "slide_name anno_stomach_D_0023\n"
     ]
    },
    {
     "name": "stderr",
     "output_type": "stream",
     "text": [
      " 41%|████      | 330/810 [1:17:42<1:39:31, 12.44s/it]"
     ]
    },
    {
     "name": "stdout",
     "output_type": "stream",
     "text": [
      "Titling Time: 11.8 sec\n",
      "../data/train_data_annotation/Stomach/D/anno_stomach_D_0070.mrxs\n",
      "noise filter :  True\n",
      "multiprocessing :  32\n",
      "slide_name anno_stomach_D_0070\n"
     ]
    },
    {
     "name": "stderr",
     "output_type": "stream",
     "text": [
      " 41%|████      | 331/810 [1:17:55<1:39:26, 12.46s/it]"
     ]
    },
    {
     "name": "stdout",
     "output_type": "stream",
     "text": [
      "Titling Time: 12.1 sec\n",
      "../data/train_data_annotation/Stomach/D/anno_stomach_D_0081.mrxs\n",
      "noise filter :  True\n",
      "multiprocessing :  32\n",
      "slide_name anno_stomach_D_0081\n"
     ]
    },
    {
     "name": "stderr",
     "output_type": "stream",
     "text": [
      " 41%|████      | 332/810 [1:18:07<1:39:45, 12.52s/it]"
     ]
    },
    {
     "name": "stdout",
     "output_type": "stream",
     "text": [
      "Titling Time: 12.0 sec\n",
      "../data/train_data_annotation/Stomach/D/anno_stomach_D_0186.mrxs\n",
      "noise filter :  True\n",
      "multiprocessing :  32\n",
      "slide_name anno_stomach_D_0186\n"
     ]
    },
    {
     "name": "stderr",
     "output_type": "stream",
     "text": [
      " 41%|████      | 333/810 [1:18:29<2:02:14, 15.38s/it]"
     ]
    },
    {
     "name": "stdout",
     "output_type": "stream",
     "text": [
      "Titling Time: 21.7 sec\n",
      "../data/train_data_annotation/Stomach/D/anno_stomach_D_0174.mrxs\n",
      "noise filter :  True\n",
      "multiprocessing :  32\n",
      "slide_name anno_stomach_D_0174\n"
     ]
    },
    {
     "name": "stderr",
     "output_type": "stream",
     "text": [
      " 41%|████      | 334/810 [1:18:41<1:53:35, 14.32s/it]"
     ]
    },
    {
     "name": "stdout",
     "output_type": "stream",
     "text": [
      "Titling Time: 11.3 sec\n",
      "../data/train_data_annotation/Stomach/D/anno_stomach_D_0122.mrxs\n",
      "noise filter :  True\n",
      "multiprocessing :  32\n",
      "slide_name anno_stomach_D_0122\n"
     ]
    },
    {
     "name": "stderr",
     "output_type": "stream",
     "text": [
      " 41%|████▏     | 335/810 [1:18:54<1:49:54, 13.88s/it]"
     ]
    },
    {
     "name": "stdout",
     "output_type": "stream",
     "text": [
      "Titling Time: 12.5 sec\n",
      "../data/train_data_annotation/Stomach/D/anno_stomach_D_0139.mrxs\n",
      "noise filter :  True\n",
      "multiprocessing :  32\n",
      "slide_name anno_stomach_D_0139\n"
     ]
    },
    {
     "name": "stderr",
     "output_type": "stream",
     "text": [
      " 41%|████▏     | 336/810 [1:19:06<1:45:19, 13.33s/it]"
     ]
    },
    {
     "name": "stdout",
     "output_type": "stream",
     "text": [
      "Titling Time: 11.7 sec\n",
      "../data/train_data_annotation/Stomach/D/anno_stomach_D_0100.mrxs\n",
      "noise filter :  True\n",
      "multiprocessing :  32\n",
      "slide_name anno_stomach_D_0100\n"
     ]
    },
    {
     "name": "stderr",
     "output_type": "stream",
     "text": [
      " 42%|████▏     | 337/810 [1:19:18<1:42:59, 13.06s/it]"
     ]
    },
    {
     "name": "stdout",
     "output_type": "stream",
     "text": [
      "Titling Time: 12.0 sec\n",
      "../data/train_data_annotation/Stomach/D/anno_stomach_D_0145.mrxs\n",
      "noise filter :  True\n",
      "multiprocessing :  32\n",
      "slide_name anno_stomach_D_0145\n"
     ]
    },
    {
     "name": "stderr",
     "output_type": "stream",
     "text": [
      " 42%|████▏     | 338/810 [1:19:31<1:41:29, 12.90s/it]"
     ]
    },
    {
     "name": "stdout",
     "output_type": "stream",
     "text": [
      "Titling Time: 12.1 sec\n",
      "../data/train_data_annotation/Stomach/D/anno_stomach_D_0017.mrxs\n",
      "noise filter :  True\n",
      "multiprocessing :  32\n",
      "slide_name anno_stomach_D_0017\n"
     ]
    },
    {
     "name": "stderr",
     "output_type": "stream",
     "text": [
      " 42%|████▏     | 339/810 [1:19:44<1:41:46, 12.96s/it]"
     ]
    },
    {
     "name": "stdout",
     "output_type": "stream",
     "text": [
      "Titling Time: 12.7 sec\n",
      "../data/train_data_annotation/Stomach/D/anno_stomach_D_0155.mrxs\n",
      "noise filter :  True\n",
      "multiprocessing :  32\n",
      "slide_name anno_stomach_D_0155\n"
     ]
    },
    {
     "name": "stderr",
     "output_type": "stream",
     "text": [
      " 42%|████▏     | 340/810 [1:20:02<1:53:10, 14.45s/it]"
     ]
    },
    {
     "name": "stdout",
     "output_type": "stream",
     "text": [
      "Titling Time: 11.9 sec\n",
      "../data/train_data_annotation/Stomach/D/anno_stomach_D_0123.mrxs\n",
      "noise filter :  True\n",
      "multiprocessing :  32\n",
      "slide_name anno_stomach_D_0123\n"
     ]
    },
    {
     "name": "stderr",
     "output_type": "stream",
     "text": [
      " 42%|████▏     | 341/810 [1:20:14<1:48:05, 13.83s/it]"
     ]
    },
    {
     "name": "stdout",
     "output_type": "stream",
     "text": [
      "Titling Time: 12.0 sec\n",
      "../data/train_data_annotation/Stomach/D/anno_stomach_D_0084.mrxs\n",
      "noise filter :  True\n",
      "multiprocessing :  32\n",
      "slide_name anno_stomach_D_0084\n"
     ]
    },
    {
     "name": "stderr",
     "output_type": "stream",
     "text": [
      " 42%|████▏     | 342/810 [1:20:27<1:44:46, 13.43s/it]"
     ]
    },
    {
     "name": "stdout",
     "output_type": "stream",
     "text": [
      "Titling Time: 12.1 sec\n",
      "../data/train_data_annotation/Stomach/D/anno_stomach_D_0102.mrxs\n",
      "noise filter :  True\n",
      "multiprocessing :  32\n",
      "slide_name anno_stomach_D_0102\n"
     ]
    },
    {
     "name": "stderr",
     "output_type": "stream",
     "text": [
      " 42%|████▏     | 343/810 [1:20:39<1:40:46, 12.95s/it]"
     ]
    },
    {
     "name": "stdout",
     "output_type": "stream",
     "text": [
      "Titling Time: 11.3 sec\n",
      "../data/train_data_annotation/Stomach/D/anno_stomach_D_0064.mrxs\n",
      "noise filter :  True\n",
      "multiprocessing :  32\n",
      "slide_name anno_stomach_D_0064\n"
     ]
    },
    {
     "name": "stderr",
     "output_type": "stream",
     "text": [
      " 42%|████▏     | 344/810 [1:20:51<1:38:16, 12.65s/it]"
     ]
    },
    {
     "name": "stdout",
     "output_type": "stream",
     "text": [
      "Titling Time: 11.5 sec\n",
      "../data/train_data_annotation/Stomach/D/anno_stomach_D_0172.mrxs\n",
      "noise filter :  True\n",
      "multiprocessing :  32\n",
      "slide_name anno_stomach_D_0172\n"
     ]
    },
    {
     "name": "stderr",
     "output_type": "stream",
     "text": [
      " 43%|████▎     | 345/810 [1:21:03<1:36:37, 12.47s/it]"
     ]
    },
    {
     "name": "stdout",
     "output_type": "stream",
     "text": [
      "Titling Time: 11.6 sec\n",
      "../data/train_data_annotation/Stomach/D/anno_stomach_D_0025.mrxs\n",
      "noise filter :  True\n",
      "multiprocessing :  32\n",
      "slide_name anno_stomach_D_0025\n"
     ]
    },
    {
     "name": "stderr",
     "output_type": "stream",
     "text": [
      " 43%|████▎     | 346/810 [1:21:22<1:53:28, 14.67s/it]"
     ]
    },
    {
     "name": "stdout",
     "output_type": "stream",
     "text": [
      "Titling Time: 19.4 sec\n",
      "../data/train_data_annotation/Stomach/D/anno_stomach_D_0116.mrxs\n",
      "noise filter :  True\n",
      "multiprocessing :  32\n",
      "slide_name anno_stomach_D_0116\n"
     ]
    },
    {
     "name": "stderr",
     "output_type": "stream",
     "text": [
      " 43%|████▎     | 347/810 [1:21:35<1:47:33, 13.94s/it]"
     ]
    },
    {
     "name": "stdout",
     "output_type": "stream",
     "text": [
      "Titling Time: 11.8 sec\n",
      "../data/train_data_annotation/Stomach/D/anno_stomach_D_0147.mrxs\n",
      "noise filter :  True\n",
      "multiprocessing :  32\n",
      "slide_name anno_stomach_D_0147\n"
     ]
    },
    {
     "name": "stderr",
     "output_type": "stream",
     "text": [
      " 43%|████▎     | 348/810 [1:21:47<1:42:43, 13.34s/it]"
     ]
    },
    {
     "name": "stdout",
     "output_type": "stream",
     "text": [
      "Titling Time: 11.6 sec\n",
      "../data/train_data_annotation/Stomach/D/anno_stomach_D_0054.mrxs\n",
      "noise filter :  True\n",
      "multiprocessing :  32\n",
      "slide_name anno_stomach_D_0054\n"
     ]
    },
    {
     "name": "stderr",
     "output_type": "stream",
     "text": [
      " 43%|████▎     | 349/810 [1:21:59<1:40:05, 13.03s/it]"
     ]
    },
    {
     "name": "stdout",
     "output_type": "stream",
     "text": [
      "Titling Time: 11.9 sec\n",
      "../data/train_data_annotation/Stomach/D/anno_stomach_D_0041.mrxs\n",
      "noise filter :  True\n",
      "multiprocessing :  32\n",
      "slide_name anno_stomach_D_0041\n"
     ]
    },
    {
     "name": "stderr",
     "output_type": "stream",
     "text": [
      " 43%|████▎     | 350/810 [1:22:11<1:36:29, 12.59s/it]"
     ]
    },
    {
     "name": "stdout",
     "output_type": "stream",
     "text": [
      "Titling Time: 11.1 sec\n",
      "../data/train_data_annotation/Stomach/D/anno_stomach_D_0045.mrxs\n",
      "noise filter :  True\n",
      "multiprocessing :  32\n",
      "slide_name anno_stomach_D_0045\n"
     ]
    },
    {
     "name": "stderr",
     "output_type": "stream",
     "text": [
      " 43%|████▎     | 351/810 [1:22:22<1:34:10, 12.31s/it]"
     ]
    },
    {
     "name": "stdout",
     "output_type": "stream",
     "text": [
      "Titling Time: 11.3 sec\n",
      "../data/train_data_annotation/Stomach/D/anno_stomach_D_0165.mrxs\n",
      "noise filter :  True\n",
      "multiprocessing :  32\n",
      "slide_name anno_stomach_D_0165\n"
     ]
    },
    {
     "name": "stderr",
     "output_type": "stream",
     "text": [
      " 43%|████▎     | 352/810 [1:22:34<1:33:29, 12.25s/it]"
     ]
    },
    {
     "name": "stdout",
     "output_type": "stream",
     "text": [
      "Titling Time: 11.7 sec\n",
      "../data/train_data_annotation/Stomach/D/anno_stomach_D_0196.mrxs\n",
      "noise filter :  True\n",
      "multiprocessing :  32\n",
      "slide_name anno_stomach_D_0196\n"
     ]
    },
    {
     "name": "stderr",
     "output_type": "stream",
     "text": [
      " 44%|████▎     | 353/810 [1:22:47<1:33:13, 12.24s/it]"
     ]
    },
    {
     "name": "stdout",
     "output_type": "stream",
     "text": [
      "Titling Time: 11.8 sec\n",
      "../data/train_data_annotation/Stomach/D/anno_stomach_D_0088.mrxs\n",
      "noise filter :  True\n",
      "multiprocessing :  32\n",
      "slide_name anno_stomach_D_0088\n"
     ]
    },
    {
     "name": "stderr",
     "output_type": "stream",
     "text": [
      " 44%|████▎     | 354/810 [1:22:59<1:33:01, 12.24s/it]"
     ]
    },
    {
     "name": "stdout",
     "output_type": "stream",
     "text": [
      "Titling Time: 11.8 sec\n",
      "../data/train_data_annotation/Stomach/D/anno_stomach_D_0098.mrxs\n",
      "noise filter :  True\n",
      "multiprocessing :  32\n",
      "slide_name anno_stomach_D_0098\n"
     ]
    },
    {
     "name": "stderr",
     "output_type": "stream",
     "text": [
      " 44%|████▍     | 355/810 [1:23:12<1:35:13, 12.56s/it]"
     ]
    },
    {
     "name": "stdout",
     "output_type": "stream",
     "text": [
      "Titling Time: 12.8 sec\n",
      "../data/train_data_annotation/Stomach/D/anno_stomach_D_0192.mrxs\n",
      "noise filter :  True\n",
      "multiprocessing :  32\n",
      "slide_name anno_stomach_D_0192\n"
     ]
    },
    {
     "name": "stderr",
     "output_type": "stream",
     "text": [
      " 44%|████▍     | 356/810 [1:23:31<1:48:30, 14.34s/it]"
     ]
    },
    {
     "name": "stdout",
     "output_type": "stream",
     "text": [
      "Titling Time: 18.1 sec\n",
      "../data/train_data_annotation/Stomach/D/anno_stomach_D_0059.mrxs\n",
      "noise filter :  True\n",
      "multiprocessing :  32\n",
      "slide_name anno_stomach_D_0059\n"
     ]
    },
    {
     "name": "stderr",
     "output_type": "stream",
     "text": [
      " 44%|████▍     | 357/810 [1:23:43<1:43:01, 13.65s/it]"
     ]
    },
    {
     "name": "stdout",
     "output_type": "stream",
     "text": [
      "Titling Time: 11.6 sec\n",
      "../data/train_data_annotation/Stomach/D/anno_stomach_D_0096.mrxs\n",
      "noise filter :  True\n",
      "multiprocessing :  32\n",
      "slide_name anno_stomach_D_0096\n"
     ]
    },
    {
     "name": "stderr",
     "output_type": "stream",
     "text": [
      " 44%|████▍     | 358/810 [1:24:03<1:57:04, 15.54s/it]"
     ]
    },
    {
     "name": "stdout",
     "output_type": "stream",
     "text": [
      "Titling Time: 19.6 sec\n",
      "../data/train_data_annotation/Stomach/D/anno_stomach_D_0107.mrxs\n",
      "noise filter :  True\n",
      "multiprocessing :  32\n",
      "slide_name anno_stomach_D_0107\n"
     ]
    },
    {
     "name": "stderr",
     "output_type": "stream",
     "text": [
      " 44%|████▍     | 359/810 [1:24:15<1:50:16, 14.67s/it]"
     ]
    },
    {
     "name": "stdout",
     "output_type": "stream",
     "text": [
      "Titling Time: 12.3 sec\n",
      "../data/train_data_annotation/Stomach/D/anno_stomach_D_0119.mrxs\n",
      "noise filter :  True\n",
      "multiprocessing :  32\n",
      "slide_name anno_stomach_D_0119\n"
     ]
    },
    {
     "name": "stderr",
     "output_type": "stream",
     "text": [
      " 44%|████▍     | 360/810 [1:24:27<1:44:23, 13.92s/it]"
     ]
    },
    {
     "name": "stdout",
     "output_type": "stream",
     "text": [
      "Titling Time: 11.8 sec\n",
      "../data/train_data_annotation/Stomach/D/anno_stomach_D_0128.mrxs\n",
      "noise filter :  True\n",
      "multiprocessing :  32\n",
      "slide_name anno_stomach_D_0128\n"
     ]
    },
    {
     "name": "stderr",
     "output_type": "stream",
     "text": [
      " 45%|████▍     | 361/810 [1:24:40<1:40:32, 13.43s/it]"
     ]
    },
    {
     "name": "stdout",
     "output_type": "stream",
     "text": [
      "Titling Time: 12.0 sec\n",
      "../data/train_data_annotation/Stomach/D/anno_stomach_D_0138.mrxs\n",
      "noise filter :  True\n",
      "multiprocessing :  32\n",
      "slide_name anno_stomach_D_0138\n"
     ]
    },
    {
     "name": "stderr",
     "output_type": "stream",
     "text": [
      " 45%|████▍     | 362/810 [1:24:52<1:37:50, 13.10s/it]"
     ]
    },
    {
     "name": "stdout",
     "output_type": "stream",
     "text": [
      "Titling Time: 11.9 sec\n",
      "../data/train_data_annotation/Stomach/D/anno_stomach_D_0061.mrxs\n",
      "noise filter :  True\n",
      "multiprocessing :  32\n",
      "slide_name anno_stomach_D_0061\n"
     ]
    },
    {
     "name": "stderr",
     "output_type": "stream",
     "text": [
      " 45%|████▍     | 363/810 [1:25:11<1:50:58, 14.90s/it]"
     ]
    },
    {
     "name": "stdout",
     "output_type": "stream",
     "text": [
      "Titling Time: 18.7 sec\n",
      "../data/train_data_annotation/Stomach/D/anno_stomach_D_0131.mrxs\n",
      "noise filter :  True\n",
      "multiprocessing :  32\n",
      "slide_name anno_stomach_D_0131\n"
     ]
    },
    {
     "name": "stderr",
     "output_type": "stream",
     "text": [
      " 45%|████▍     | 364/810 [1:25:24<1:46:42, 14.36s/it]"
     ]
    },
    {
     "name": "stdout",
     "output_type": "stream",
     "text": [
      "Titling Time: 12.6 sec\n",
      "../data/train_data_annotation/Stomach/D/anno_stomach_D_0141.mrxs\n",
      "noise filter :  True\n",
      "multiprocessing :  32\n",
      "slide_name anno_stomach_D_0141\n"
     ]
    },
    {
     "name": "stderr",
     "output_type": "stream",
     "text": [
      " 45%|████▌     | 365/810 [1:25:37<1:42:17, 13.79s/it]"
     ]
    },
    {
     "name": "stdout",
     "output_type": "stream",
     "text": [
      "Titling Time: 12.1 sec\n",
      "../data/train_data_annotation/Stomach/D/anno_stomach_D_0140.mrxs\n",
      "noise filter :  True\n",
      "multiprocessing :  32\n",
      "slide_name anno_stomach_D_0140\n"
     ]
    },
    {
     "name": "stderr",
     "output_type": "stream",
     "text": [
      " 45%|████▌     | 366/810 [1:25:49<1:38:10, 13.27s/it]"
     ]
    },
    {
     "name": "stdout",
     "output_type": "stream",
     "text": [
      "Titling Time: 11.7 sec\n",
      "../data/train_data_annotation/Stomach/D/anno_stomach_D_0106.mrxs\n",
      "noise filter :  True\n",
      "multiprocessing :  32\n",
      "slide_name anno_stomach_D_0106\n"
     ]
    },
    {
     "name": "stderr",
     "output_type": "stream",
     "text": [
      " 45%|████▌     | 367/810 [1:26:01<1:35:28, 12.93s/it]"
     ]
    },
    {
     "name": "stdout",
     "output_type": "stream",
     "text": [
      "Titling Time: 11.8 sec\n",
      "../data/train_data_annotation/Stomach/D/anno_stomach_D_0133.mrxs\n",
      "noise filter :  True\n",
      "multiprocessing :  32\n",
      "slide_name anno_stomach_D_0133\n"
     ]
    },
    {
     "name": "stderr",
     "output_type": "stream",
     "text": [
      " 45%|████▌     | 368/810 [1:26:13<1:33:58, 12.76s/it]"
     ]
    },
    {
     "name": "stdout",
     "output_type": "stream",
     "text": [
      "Titling Time: 11.9 sec\n",
      "../data/train_data_annotation/Stomach/D/anno_stomach_D_0121.mrxs\n",
      "noise filter :  True\n",
      "multiprocessing :  32\n",
      "slide_name anno_stomach_D_0121\n"
     ]
    },
    {
     "name": "stderr",
     "output_type": "stream",
     "text": [
      " 46%|████▌     | 369/810 [1:26:25<1:32:19, 12.56s/it]"
     ]
    },
    {
     "name": "stdout",
     "output_type": "stream",
     "text": [
      "Titling Time: 11.7 sec\n",
      "../data/train_data_annotation/Stomach/D/anno_stomach_D_0108.mrxs\n",
      "noise filter :  True\n",
      "multiprocessing :  32\n",
      "slide_name anno_stomach_D_0108\n"
     ]
    },
    {
     "name": "stderr",
     "output_type": "stream",
     "text": [
      " 46%|████▌     | 370/810 [1:26:37<1:31:17, 12.45s/it]"
     ]
    },
    {
     "name": "stdout",
     "output_type": "stream",
     "text": [
      "Titling Time: 11.6 sec\n",
      "../data/train_data_annotation/Stomach/D/anno_stomach_D_0112.mrxs\n",
      "noise filter :  True\n",
      "multiprocessing :  32\n",
      "slide_name anno_stomach_D_0112\n"
     ]
    },
    {
     "name": "stderr",
     "output_type": "stream",
     "text": [
      " 46%|████▌     | 371/810 [1:27:01<1:56:29, 15.92s/it]"
     ]
    },
    {
     "name": "stdout",
     "output_type": "stream",
     "text": [
      "Titling Time: 19.8 sec\n",
      "../data/train_data_annotation/Stomach/D/anno_stomach_D_0062.mrxs\n",
      "noise filter :  True\n",
      "multiprocessing :  32\n",
      "slide_name anno_stomach_D_0062\n"
     ]
    },
    {
     "name": "stderr",
     "output_type": "stream",
     "text": [
      " 46%|████▌     | 372/810 [1:27:13<1:47:04, 14.67s/it]"
     ]
    },
    {
     "name": "stdout",
     "output_type": "stream",
     "text": [
      "Titling Time: 11.3 sec\n",
      "../data/train_data_annotation/Stomach/D/anno_stomach_D_0012.mrxs\n",
      "noise filter :  True\n",
      "multiprocessing :  32\n",
      "slide_name anno_stomach_D_0012\n"
     ]
    },
    {
     "name": "stderr",
     "output_type": "stream",
     "text": [
      " 46%|████▌     | 373/810 [1:27:25<1:41:30, 13.94s/it]"
     ]
    },
    {
     "name": "stdout",
     "output_type": "stream",
     "text": [
      "Titling Time: 11.8 sec\n",
      "../data/train_data_annotation/Stomach/D/anno_stomach_D_0177.mrxs\n",
      "noise filter :  True\n",
      "multiprocessing :  32\n",
      "slide_name anno_stomach_D_0177\n"
     ]
    },
    {
     "name": "stderr",
     "output_type": "stream",
     "text": [
      " 46%|████▌     | 374/810 [1:27:38<1:37:17, 13.39s/it]"
     ]
    },
    {
     "name": "stdout",
     "output_type": "stream",
     "text": [
      "Titling Time: 11.7 sec\n",
      "../data/train_data_annotation/Stomach/D/anno_stomach_D_0057.mrxs\n",
      "noise filter :  True\n",
      "multiprocessing :  32\n",
      "slide_name anno_stomach_D_0057\n"
     ]
    },
    {
     "name": "stderr",
     "output_type": "stream",
     "text": [
      " 46%|████▋     | 375/810 [1:27:55<1:45:14, 14.52s/it]"
     ]
    },
    {
     "name": "stdout",
     "output_type": "stream",
     "text": [
      "Titling Time: 16.8 sec\n",
      "../data/train_data_annotation/Stomach/D/anno_stomach_D_0079.mrxs\n",
      "noise filter :  True\n",
      "multiprocessing :  32\n",
      "slide_name anno_stomach_D_0079\n"
     ]
    },
    {
     "name": "stderr",
     "output_type": "stream",
     "text": [
      " 46%|████▋     | 376/810 [1:28:07<1:40:30, 13.89s/it]"
     ]
    },
    {
     "name": "stdout",
     "output_type": "stream",
     "text": [
      "Titling Time: 11.5 sec\n",
      "../data/train_data_annotation/Stomach/D/anno_stomach_D_0157.mrxs\n",
      "noise filter :  True\n",
      "multiprocessing :  32\n",
      "slide_name anno_stomach_D_0157\n"
     ]
    },
    {
     "name": "stderr",
     "output_type": "stream",
     "text": [
      " 47%|████▋     | 377/810 [1:28:20<1:37:09, 13.46s/it]"
     ]
    },
    {
     "name": "stdout",
     "output_type": "stream",
     "text": [
      "Titling Time: 12.1 sec\n",
      "../data/train_data_annotation/Stomach/D/anno_stomach_D_0003.mrxs\n",
      "noise filter :  True\n",
      "multiprocessing :  32\n",
      "slide_name anno_stomach_D_0003\n"
     ]
    },
    {
     "name": "stderr",
     "output_type": "stream",
     "text": [
      " 47%|████▋     | 378/810 [1:28:32<1:33:54, 13.04s/it]"
     ]
    },
    {
     "name": "stdout",
     "output_type": "stream",
     "text": [
      "Titling Time: 11.6 sec\n",
      "../data/train_data_annotation/Stomach/D/anno_stomach_D_0183.mrxs\n",
      "noise filter :  True\n",
      "multiprocessing :  32\n",
      "slide_name anno_stomach_D_0183\n"
     ]
    },
    {
     "name": "stderr",
     "output_type": "stream",
     "text": [
      " 47%|████▋     | 379/810 [1:28:44<1:32:34, 12.89s/it]"
     ]
    },
    {
     "name": "stdout",
     "output_type": "stream",
     "text": [
      "Titling Time: 12.1 sec\n",
      "../data/train_data_annotation/Stomach/D/anno_stomach_D_0150.mrxs\n",
      "noise filter :  True\n",
      "multiprocessing :  32\n",
      "slide_name anno_stomach_D_0150\n"
     ]
    },
    {
     "name": "stderr",
     "output_type": "stream",
     "text": [
      " 47%|████▋     | 380/810 [1:28:57<1:31:52, 12.82s/it]"
     ]
    },
    {
     "name": "stdout",
     "output_type": "stream",
     "text": [
      "Titling Time: 12.2 sec\n",
      "../data/train_data_annotation/Stomach/D/anno_stomach_D_0179.mrxs\n",
      "noise filter :  True\n",
      "multiprocessing :  32\n",
      "slide_name anno_stomach_D_0179\n"
     ]
    },
    {
     "name": "stderr",
     "output_type": "stream",
     "text": [
      " 47%|████▋     | 381/810 [1:29:09<1:30:17, 12.63s/it]"
     ]
    },
    {
     "name": "stdout",
     "output_type": "stream",
     "text": [
      "Titling Time: 11.8 sec\n",
      "../data/train_data_annotation/Stomach/D/anno_stomach_D_0094.mrxs\n",
      "noise filter :  True\n",
      "multiprocessing :  32\n",
      "slide_name anno_stomach_D_0094\n"
     ]
    },
    {
     "name": "stderr",
     "output_type": "stream",
     "text": [
      " 47%|████▋     | 382/810 [1:29:26<1:40:15, 14.05s/it]"
     ]
    },
    {
     "name": "stdout",
     "output_type": "stream",
     "text": [
      "Titling Time: 17.1 sec\n",
      "../data/train_data_annotation/Stomach/D/anno_stomach_D_0169.mrxs\n",
      "noise filter :  True\n",
      "multiprocessing :  32\n",
      "slide_name anno_stomach_D_0169\n"
     ]
    },
    {
     "name": "stderr",
     "output_type": "stream",
     "text": [
      " 47%|████▋     | 383/810 [1:29:42<1:42:57, 14.47s/it]"
     ]
    },
    {
     "name": "stdout",
     "output_type": "stream",
     "text": [
      "Titling Time: 12.7 sec\n",
      "../data/train_data_annotation/Stomach/D/anno_stomach_D_0092.mrxs\n",
      "noise filter :  True\n",
      "multiprocessing :  32\n",
      "slide_name anno_stomach_D_0092\n"
     ]
    },
    {
     "name": "stderr",
     "output_type": "stream",
     "text": [
      " 47%|████▋     | 384/810 [1:29:54<1:38:21, 13.85s/it]"
     ]
    },
    {
     "name": "stdout",
     "output_type": "stream",
     "text": [
      "Titling Time: 12.0 sec\n",
      "../data/train_data_annotation/Stomach/D/anno_stomach_D_0135.mrxs\n",
      "noise filter :  True\n",
      "multiprocessing :  32\n",
      "slide_name anno_stomach_D_0135\n"
     ]
    },
    {
     "name": "stderr",
     "output_type": "stream",
     "text": [
      " 48%|████▊     | 385/810 [1:30:06<1:34:23, 13.33s/it]"
     ]
    },
    {
     "name": "stdout",
     "output_type": "stream",
     "text": [
      "Titling Time: 11.7 sec\n",
      "../data/train_data_annotation/Stomach/D/anno_stomach_D_0047.mrxs\n",
      "noise filter :  True\n",
      "multiprocessing :  32\n",
      "slide_name anno_stomach_D_0047\n"
     ]
    },
    {
     "name": "stderr",
     "output_type": "stream",
     "text": [
      " 48%|████▊     | 386/810 [1:30:18<1:30:49, 12.85s/it]"
     ]
    },
    {
     "name": "stdout",
     "output_type": "stream",
     "text": [
      "Titling Time: 11.4 sec\n",
      "../data/train_data_annotation/Stomach/D/anno_stomach_D_0065.mrxs\n",
      "noise filter :  True\n",
      "multiprocessing :  32\n",
      "slide_name anno_stomach_D_0065\n"
     ]
    },
    {
     "name": "stderr",
     "output_type": "stream",
     "text": [
      " 48%|████▊     | 387/810 [1:30:30<1:28:24, 12.54s/it]"
     ]
    },
    {
     "name": "stdout",
     "output_type": "stream",
     "text": [
      "Titling Time: 11.5 sec\n",
      "../data/train_data_annotation/Stomach/D/anno_stomach_D_0073.mrxs\n",
      "noise filter :  True\n",
      "multiprocessing :  32\n",
      "slide_name anno_stomach_D_0073\n"
     ]
    },
    {
     "name": "stderr",
     "output_type": "stream",
     "text": [
      " 48%|████▊     | 388/810 [1:30:42<1:27:32, 12.45s/it]"
     ]
    },
    {
     "name": "stdout",
     "output_type": "stream",
     "text": [
      "Titling Time: 11.8 sec\n",
      "../data/train_data_annotation/Stomach/D/anno_stomach_D_0146.mrxs\n",
      "noise filter :  True\n",
      "multiprocessing :  32\n",
      "slide_name anno_stomach_D_0146\n"
     ]
    },
    {
     "name": "stderr",
     "output_type": "stream",
     "text": [
      " 48%|████▊     | 389/810 [1:31:05<1:49:43, 15.64s/it]"
     ]
    },
    {
     "name": "stdout",
     "output_type": "stream",
     "text": [
      "Titling Time: 11.8 sec\n",
      "../data/train_data_annotation/Stomach/D/anno_stomach_D_0144.mrxs\n",
      "noise filter :  True\n",
      "multiprocessing :  32\n",
      "slide_name anno_stomach_D_0144\n"
     ]
    },
    {
     "name": "stderr",
     "output_type": "stream",
     "text": [
      " 48%|████▊     | 390/810 [1:31:18<1:42:43, 14.67s/it]"
     ]
    },
    {
     "name": "stdout",
     "output_type": "stream",
     "text": [
      "Titling Time: 12.1 sec\n",
      "../data/train_data_annotation/Stomach/D/anno_stomach_D_0068.mrxs\n",
      "noise filter :  True\n",
      "multiprocessing :  32\n",
      "slide_name anno_stomach_D_0068\n"
     ]
    },
    {
     "name": "stderr",
     "output_type": "stream",
     "text": [
      " 48%|████▊     | 391/810 [1:31:39<1:56:54, 16.74s/it]"
     ]
    },
    {
     "name": "stdout",
     "output_type": "stream",
     "text": [
      "Titling Time: 12.3 sec\n",
      "../data/train_data_annotation/Stomach/D/anno_stomach_D_0077.mrxs\n",
      "noise filter :  True\n",
      "multiprocessing :  32\n",
      "slide_name anno_stomach_D_0077\n"
     ]
    },
    {
     "name": "stderr",
     "output_type": "stream",
     "text": [
      " 48%|████▊     | 392/810 [1:31:51<1:46:52, 15.34s/it]"
     ]
    },
    {
     "name": "stdout",
     "output_type": "stream",
     "text": [
      "Titling Time: 11.7 sec\n",
      "../data/train_data_annotation/Stomach/D/anno_stomach_D_0132.mrxs\n",
      "noise filter :  True\n",
      "multiprocessing :  32\n",
      "slide_name anno_stomach_D_0132\n"
     ]
    },
    {
     "name": "stderr",
     "output_type": "stream",
     "text": [
      " 49%|████▊     | 393/810 [1:32:04<1:40:07, 14.41s/it]"
     ]
    },
    {
     "name": "stdout",
     "output_type": "stream",
     "text": [
      "Titling Time: 11.9 sec\n",
      "../data/train_data_annotation/Stomach/D/anno_stomach_D_0158.mrxs\n",
      "noise filter :  True\n",
      "multiprocessing :  32\n",
      "slide_name anno_stomach_D_0158\n"
     ]
    },
    {
     "name": "stderr",
     "output_type": "stream",
     "text": [
      " 49%|████▊     | 394/810 [1:32:15<1:34:33, 13.64s/it]"
     ]
    },
    {
     "name": "stdout",
     "output_type": "stream",
     "text": [
      "Titling Time: 11.4 sec\n",
      "../data/train_data_annotation/Stomach/D/anno_stomach_D_0097.mrxs\n",
      "noise filter :  True\n",
      "multiprocessing :  32\n",
      "slide_name anno_stomach_D_0097\n"
     ]
    },
    {
     "name": "stderr",
     "output_type": "stream",
     "text": [
      " 49%|████▉     | 395/810 [1:32:29<1:35:01, 13.74s/it]"
     ]
    },
    {
     "name": "stdout",
     "output_type": "stream",
     "text": [
      "Titling Time: 13.6 sec\n",
      "../data/train_data_annotation/Stomach/D/anno_stomach_D_0089.mrxs\n",
      "noise filter :  True\n",
      "multiprocessing :  32\n",
      "slide_name anno_stomach_D_0089\n"
     ]
    },
    {
     "name": "stderr",
     "output_type": "stream",
     "text": [
      " 49%|████▉     | 396/810 [1:32:42<1:31:37, 13.28s/it]"
     ]
    },
    {
     "name": "stdout",
     "output_type": "stream",
     "text": [
      "Titling Time: 11.8 sec\n",
      "../data/train_data_annotation/Stomach/D/anno_stomach_D_0113.mrxs\n",
      "noise filter :  True\n",
      "multiprocessing :  32\n",
      "slide_name anno_stomach_D_0113\n"
     ]
    },
    {
     "name": "stderr",
     "output_type": "stream",
     "text": [
      " 49%|████▉     | 397/810 [1:32:53<1:28:34, 12.87s/it]"
     ]
    },
    {
     "name": "stdout",
     "output_type": "stream",
     "text": [
      "Titling Time: 11.6 sec\n",
      "../data/train_data_annotation/Stomach/D/anno_stomach_D_0052.mrxs\n",
      "noise filter :  True\n",
      "multiprocessing :  32\n",
      "slide_name anno_stomach_D_0052\n"
     ]
    },
    {
     "name": "stderr",
     "output_type": "stream",
     "text": [
      " 49%|████▉     | 398/810 [1:33:05<1:26:36, 12.61s/it]"
     ]
    },
    {
     "name": "stdout",
     "output_type": "stream",
     "text": [
      "Titling Time: 11.6 sec\n",
      "../data/train_data_annotation/Stomach/D/anno_stomach_D_0015.mrxs\n",
      "noise filter :  True\n",
      "multiprocessing :  32\n",
      "slide_name anno_stomach_D_0015\n"
     ]
    },
    {
     "name": "stderr",
     "output_type": "stream",
     "text": [
      " 49%|████▉     | 399/810 [1:33:18<1:26:07, 12.57s/it]"
     ]
    },
    {
     "name": "stdout",
     "output_type": "stream",
     "text": [
      "Titling Time: 12.1 sec\n",
      "../data/train_data_annotation/Stomach/D/anno_stomach_D_0181.mrxs\n",
      "noise filter :  True\n",
      "multiprocessing :  32\n",
      "slide_name anno_stomach_D_0181\n"
     ]
    },
    {
     "name": "stderr",
     "output_type": "stream",
     "text": [
      " 49%|████▉     | 400/810 [1:33:34<1:32:40, 13.56s/it]"
     ]
    },
    {
     "name": "stdout",
     "output_type": "stream",
     "text": [
      "Titling Time: 15.5 sec\n",
      "../data/train_data_annotation/Stomach/D/anno_stomach_D_0178.mrxs\n",
      "noise filter :  True\n",
      "multiprocessing :  32\n",
      "slide_name anno_stomach_D_0178\n"
     ]
    },
    {
     "name": "stderr",
     "output_type": "stream",
     "text": [
      " 50%|████▉     | 401/810 [1:33:46<1:30:15, 13.24s/it]"
     ]
    },
    {
     "name": "stdout",
     "output_type": "stream",
     "text": [
      "Titling Time: 12.0 sec\n",
      "../data/train_data_annotation/Colon/M/anno_colon_M_0153.mrxs\n",
      "noise filter :  True\n",
      "multiprocessing :  32\n",
      "slide_name anno_colon_M_0153\n"
     ]
    },
    {
     "name": "stderr",
     "output_type": "stream",
     "text": [
      " 50%|████▉     | 402/810 [1:33:59<1:29:22, 13.14s/it]"
     ]
    },
    {
     "name": "stdout",
     "output_type": "stream",
     "text": [
      "Titling Time: 12.6 sec\n",
      "../data/train_data_annotation/Colon/M/anno_colon_M_0036.mrxs\n",
      "noise filter :  True\n",
      "multiprocessing :  32\n",
      "slide_name anno_colon_M_0036\n"
     ]
    },
    {
     "name": "stderr",
     "output_type": "stream",
     "text": [
      " 50%|████▉     | 403/810 [1:34:13<1:29:28, 13.19s/it]"
     ]
    },
    {
     "name": "stdout",
     "output_type": "stream",
     "text": [
      "Titling Time: 12.6 sec\n",
      "../data/train_data_annotation/Colon/M/anno_colon_M_0081.mrxs\n",
      "noise filter :  True\n",
      "multiprocessing :  32\n",
      "slide_name anno_colon_M_0081\n"
     ]
    },
    {
     "name": "stderr",
     "output_type": "stream",
     "text": [
      " 50%|████▉     | 404/810 [1:34:25<1:27:34, 12.94s/it]"
     ]
    },
    {
     "name": "stdout",
     "output_type": "stream",
     "text": [
      "Titling Time: 12.0 sec\n",
      "../data/train_data_annotation/Colon/M/anno_colon_M_0179.mrxs\n",
      "noise filter :  True\n",
      "multiprocessing :  32\n",
      "slide_name anno_colon_M_0179\n"
     ]
    },
    {
     "name": "stderr",
     "output_type": "stream",
     "text": [
      " 50%|█████     | 405/810 [1:34:48<1:48:03, 16.01s/it]"
     ]
    },
    {
     "name": "stdout",
     "output_type": "stream",
     "text": [
      "Titling Time: 22.7 sec\n",
      "../data/train_data_annotation/Colon/M/anno_colon_M_0175.mrxs\n",
      "noise filter :  True\n",
      "multiprocessing :  32\n",
      "slide_name anno_colon_M_0175\n"
     ]
    },
    {
     "name": "stderr",
     "output_type": "stream",
     "text": [
      " 50%|█████     | 406/810 [1:35:00<1:39:47, 14.82s/it]"
     ]
    },
    {
     "name": "stdout",
     "output_type": "stream",
     "text": [
      "Titling Time: 11.6 sec\n",
      "../data/train_data_annotation/Colon/M/anno_colon_M_0049.mrxs\n",
      "noise filter :  True\n",
      "multiprocessing :  32\n",
      "slide_name anno_colon_M_0049\n"
     ]
    },
    {
     "name": "stderr",
     "output_type": "stream",
     "text": [
      " 50%|█████     | 407/810 [1:35:21<1:51:39, 16.62s/it]"
     ]
    },
    {
     "name": "stdout",
     "output_type": "stream",
     "text": [
      "Titling Time: 12.0 sec\n",
      "../data/train_data_annotation/Colon/M/anno_colon_M_0063.mrxs\n",
      "noise filter :  True\n",
      "multiprocessing :  32\n",
      "slide_name anno_colon_M_0063\n"
     ]
    },
    {
     "name": "stderr",
     "output_type": "stream",
     "text": [
      " 50%|█████     | 408/810 [1:35:33<1:42:14, 15.26s/it]"
     ]
    },
    {
     "name": "stdout",
     "output_type": "stream",
     "text": [
      "Titling Time: 11.7 sec\n",
      "../data/train_data_annotation/Colon/M/anno_colon_M_0108.mrxs\n",
      "noise filter :  True\n",
      "multiprocessing :  32\n",
      "slide_name anno_colon_M_0108\n"
     ]
    },
    {
     "name": "stderr",
     "output_type": "stream",
     "text": [
      " 50%|█████     | 409/810 [1:35:45<1:36:02, 14.37s/it]"
     ]
    },
    {
     "name": "stdout",
     "output_type": "stream",
     "text": [
      "Titling Time: 11.9 sec\n",
      "../data/train_data_annotation/Colon/M/anno_colon_M_0205.mrxs\n",
      "noise filter :  True\n",
      "multiprocessing :  32\n",
      "slide_name anno_colon_M_0205\n"
     ]
    },
    {
     "name": "stderr",
     "output_type": "stream",
     "text": [
      " 51%|█████     | 410/810 [1:35:58<1:32:38, 13.90s/it]"
     ]
    },
    {
     "name": "stdout",
     "output_type": "stream",
     "text": [
      "Titling Time: 12.4 sec\n",
      "../data/train_data_annotation/Colon/M/anno_colon_M_0039.mrxs\n",
      "noise filter :  True\n",
      "multiprocessing :  32\n",
      "slide_name anno_colon_M_0039\n"
     ]
    },
    {
     "name": "stderr",
     "output_type": "stream",
     "text": [
      " 51%|█████     | 411/810 [1:36:19<1:45:37, 15.88s/it]"
     ]
    },
    {
     "name": "stdout",
     "output_type": "stream",
     "text": [
      "Titling Time: 20.1 sec\n",
      "../data/train_data_annotation/Colon/M/anno_colon_M_0136.mrxs\n",
      "noise filter :  True\n",
      "multiprocessing :  32\n",
      "slide_name anno_colon_M_0136\n"
     ]
    },
    {
     "name": "stderr",
     "output_type": "stream",
     "text": [
      " 51%|█████     | 412/810 [1:36:31<1:39:00, 14.92s/it]"
     ]
    },
    {
     "name": "stdout",
     "output_type": "stream",
     "text": [
      "Titling Time: 12.3 sec\n",
      "../data/train_data_annotation/Colon/M/anno_colon_M_0190.mrxs\n",
      "noise filter :  True\n",
      "multiprocessing :  32\n",
      "slide_name anno_colon_M_0190\n"
     ]
    },
    {
     "name": "stderr",
     "output_type": "stream",
     "text": [
      " 51%|█████     | 413/810 [1:36:44<1:33:24, 14.12s/it]"
     ]
    },
    {
     "name": "stdout",
     "output_type": "stream",
     "text": [
      "Titling Time: 11.8 sec\n",
      "../data/train_data_annotation/Colon/M/anno_colon_M_0187.mrxs\n",
      "noise filter :  True\n",
      "multiprocessing :  32\n",
      "slide_name anno_colon_M_0187\n"
     ]
    },
    {
     "name": "stderr",
     "output_type": "stream",
     "text": [
      " 51%|█████     | 414/810 [1:36:56<1:29:42, 13.59s/it]"
     ]
    },
    {
     "name": "stdout",
     "output_type": "stream",
     "text": [
      "Titling Time: 11.9 sec\n",
      "../data/train_data_annotation/Colon/M/anno_colon_M_0006.mrxs\n",
      "noise filter :  True\n",
      "multiprocessing :  32\n",
      "slide_name anno_colon_M_0006\n"
     ]
    },
    {
     "name": "stderr",
     "output_type": "stream",
     "text": [
      " 51%|█████     | 415/810 [1:37:23<1:55:53, 17.60s/it]"
     ]
    },
    {
     "name": "stdout",
     "output_type": "stream",
     "text": [
      "Titling Time: 26.5 sec\n",
      "../data/train_data_annotation/Colon/M/anno_colon_M_0003.mrxs\n",
      "noise filter :  True\n",
      "multiprocessing :  32\n",
      "slide_name anno_colon_M_0003\n"
     ]
    },
    {
     "name": "stderr",
     "output_type": "stream",
     "text": [
      " 51%|█████▏    | 416/810 [1:37:44<2:03:07, 18.75s/it]"
     ]
    },
    {
     "name": "stdout",
     "output_type": "stream",
     "text": [
      "Titling Time: 20.8 sec\n",
      "../data/train_data_annotation/Colon/M/anno_colon_M_0051.mrxs\n",
      "noise filter :  True\n",
      "multiprocessing :  32\n",
      "slide_name anno_colon_M_0051\n"
     ]
    },
    {
     "name": "stderr",
     "output_type": "stream",
     "text": [
      " 51%|█████▏    | 417/810 [1:38:05<2:06:59, 19.39s/it]"
     ]
    },
    {
     "name": "stdout",
     "output_type": "stream",
     "text": [
      "Titling Time: 20.2 sec\n",
      "../data/train_data_annotation/Colon/M/anno_colon_M_0099.mrxs\n",
      "noise filter :  True\n",
      "multiprocessing :  32\n",
      "slide_name anno_colon_M_0099\n"
     ]
    },
    {
     "name": "stderr",
     "output_type": "stream",
     "text": [
      " 52%|█████▏    | 418/810 [1:38:17<1:52:39, 17.24s/it]"
     ]
    },
    {
     "name": "stdout",
     "output_type": "stream",
     "text": [
      "Titling Time: 11.7 sec\n",
      "../data/train_data_annotation/Colon/M/anno_colon_M_0086.mrxs\n",
      "noise filter :  True\n",
      "multiprocessing :  32\n",
      "slide_name anno_colon_M_0086\n"
     ]
    },
    {
     "name": "stderr",
     "output_type": "stream",
     "text": [
      " 52%|█████▏    | 419/810 [1:38:30<1:42:28, 15.72s/it]"
     ]
    },
    {
     "name": "stdout",
     "output_type": "stream",
     "text": [
      "Titling Time: 11.8 sec\n",
      "../data/train_data_annotation/Colon/M/anno_colon_M_0159.mrxs\n",
      "noise filter :  True\n",
      "multiprocessing :  32\n",
      "slide_name anno_colon_M_0159\n"
     ]
    },
    {
     "name": "stderr",
     "output_type": "stream",
     "text": [
      " 52%|█████▏    | 420/810 [1:38:43<1:37:19, 14.97s/it]"
     ]
    },
    {
     "name": "stdout",
     "output_type": "stream",
     "text": [
      "Titling Time: 12.8 sec\n",
      "../data/train_data_annotation/Colon/M/anno_colon_M_0076.mrxs\n",
      "noise filter :  True\n",
      "multiprocessing :  32\n",
      "slide_name anno_colon_M_0076\n"
     ]
    },
    {
     "name": "stderr",
     "output_type": "stream",
     "text": [
      " 52%|█████▏    | 421/810 [1:38:55<1:31:55, 14.18s/it]"
     ]
    },
    {
     "name": "stdout",
     "output_type": "stream",
     "text": [
      "Titling Time: 12.0 sec\n",
      "../data/train_data_annotation/Colon/M/anno_colon_M_0026.mrxs\n",
      "noise filter :  True\n",
      "multiprocessing :  32\n",
      "slide_name anno_colon_M_0026\n"
     ]
    },
    {
     "name": "stderr",
     "output_type": "stream",
     "text": [
      " 52%|█████▏    | 422/810 [1:39:07<1:26:54, 13.44s/it]"
     ]
    },
    {
     "name": "stdout",
     "output_type": "stream",
     "text": [
      "Titling Time: 11.3 sec\n",
      "../data/train_data_annotation/Colon/M/anno_colon_M_0157.mrxs\n",
      "noise filter :  True\n",
      "multiprocessing :  32\n",
      "slide_name anno_colon_M_0157\n"
     ]
    },
    {
     "name": "stderr",
     "output_type": "stream",
     "text": [
      " 52%|█████▏    | 423/810 [1:39:28<1:40:39, 15.61s/it]"
     ]
    },
    {
     "name": "stdout",
     "output_type": "stream",
     "text": [
      "Titling Time: 11.8 sec\n",
      "../data/train_data_annotation/Colon/M/anno_colon_M_0112.mrxs\n",
      "noise filter :  True\n",
      "multiprocessing :  32\n",
      "slide_name anno_colon_M_0112\n"
     ]
    },
    {
     "name": "stderr",
     "output_type": "stream",
     "text": [
      " 52%|█████▏    | 424/810 [1:39:48<1:49:30, 17.02s/it]"
     ]
    },
    {
     "name": "stdout",
     "output_type": "stream",
     "text": [
      "Titling Time: 19.8 sec\n",
      "../data/train_data_annotation/Colon/M/anno_colon_M_0001.mrxs\n",
      "noise filter :  True\n",
      "multiprocessing :  32\n",
      "slide_name anno_colon_M_0001\n"
     ]
    },
    {
     "name": "stderr",
     "output_type": "stream",
     "text": [
      " 52%|█████▏    | 425/810 [1:40:00<1:39:33, 15.52s/it]"
     ]
    },
    {
     "name": "stdout",
     "output_type": "stream",
     "text": [
      "Titling Time: 11.6 sec\n",
      "../data/train_data_annotation/Colon/M/anno_colon_M_0130.mrxs\n",
      "noise filter :  True\n",
      "multiprocessing :  32\n",
      "slide_name anno_colon_M_0130\n"
     ]
    },
    {
     "name": "stderr",
     "output_type": "stream",
     "text": [
      " 53%|█████▎    | 426/810 [1:40:14<1:35:53, 14.98s/it]"
     ]
    },
    {
     "name": "stdout",
     "output_type": "stream",
     "text": [
      "Titling Time: 13.3 sec\n",
      "../data/train_data_annotation/Colon/M/anno_colon_M_0087.mrxs\n",
      "noise filter :  True\n",
      "multiprocessing :  32\n",
      "slide_name anno_colon_M_0087\n"
     ]
    },
    {
     "name": "stderr",
     "output_type": "stream",
     "text": [
      " 53%|█████▎    | 427/810 [1:40:33<1:44:46, 16.41s/it]"
     ]
    },
    {
     "name": "stdout",
     "output_type": "stream",
     "text": [
      "Titling Time: 12.7 sec\n",
      "../data/train_data_annotation/Colon/M/anno_colon_M_0158.mrxs\n",
      "noise filter :  True\n",
      "multiprocessing :  32\n",
      "slide_name anno_colon_M_0158\n"
     ]
    },
    {
     "name": "stderr",
     "output_type": "stream",
     "text": [
      " 53%|█████▎    | 428/810 [1:40:46<1:36:24, 15.14s/it]"
     ]
    },
    {
     "name": "stdout",
     "output_type": "stream",
     "text": [
      "Titling Time: 11.7 sec\n",
      "../data/train_data_annotation/Colon/M/anno_colon_M_0007.mrxs\n",
      "noise filter :  True\n",
      "multiprocessing :  32\n",
      "slide_name anno_colon_M_0007\n"
     ]
    },
    {
     "name": "stderr",
     "output_type": "stream",
     "text": [
      " 53%|█████▎    | 429/810 [1:40:58<1:31:01, 14.33s/it]"
     ]
    },
    {
     "name": "stdout",
     "output_type": "stream",
     "text": [
      "Titling Time: 12.1 sec\n",
      "../data/train_data_annotation/Colon/M/anno_colon_M_0084.mrxs\n",
      "noise filter :  True\n",
      "multiprocessing :  32\n",
      "slide_name anno_colon_M_0084\n"
     ]
    },
    {
     "name": "stderr",
     "output_type": "stream",
     "text": [
      " 53%|█████▎    | 430/810 [1:41:11<1:28:16, 13.94s/it]"
     ]
    },
    {
     "name": "stdout",
     "output_type": "stream",
     "text": [
      "Titling Time: 12.6 sec\n",
      "../data/train_data_annotation/Colon/M/anno_colon_M_0019.mrxs\n",
      "noise filter :  True\n",
      "multiprocessing :  32\n",
      "slide_name anno_colon_M_0019\n"
     ]
    },
    {
     "name": "stderr",
     "output_type": "stream",
     "text": [
      " 53%|█████▎    | 431/810 [1:41:29<1:36:11, 15.23s/it]"
     ]
    },
    {
     "name": "stdout",
     "output_type": "stream",
     "text": [
      "Titling Time: 13.0 sec\n",
      "../data/train_data_annotation/Colon/M/anno_colon_M_0060.mrxs\n",
      "noise filter :  True\n",
      "multiprocessing :  32\n",
      "slide_name anno_colon_M_0060\n"
     ]
    },
    {
     "name": "stderr",
     "output_type": "stream",
     "text": [
      " 53%|█████▎    | 432/810 [1:41:42<1:32:11, 14.63s/it]"
     ]
    },
    {
     "name": "stdout",
     "output_type": "stream",
     "text": [
      "Titling Time: 12.8 sec\n",
      "../data/train_data_annotation/Colon/M/anno_colon_M_0199.mrxs\n",
      "noise filter :  True\n",
      "multiprocessing :  32\n",
      "slide_name anno_colon_M_0199\n"
     ]
    },
    {
     "name": "stderr",
     "output_type": "stream",
     "text": [
      " 53%|█████▎    | 433/810 [1:42:02<1:40:43, 16.03s/it]"
     ]
    },
    {
     "name": "stdout",
     "output_type": "stream",
     "text": [
      "Titling Time: 13.2 sec\n",
      "../data/train_data_annotation/Colon/M/anno_colon_M_0059.mrxs\n",
      "noise filter :  True\n",
      "multiprocessing :  32\n",
      "slide_name anno_colon_M_0059\n"
     ]
    },
    {
     "name": "stderr",
     "output_type": "stream",
     "text": [
      " 54%|█████▎    | 434/810 [1:42:14<1:33:29, 14.92s/it]"
     ]
    },
    {
     "name": "stdout",
     "output_type": "stream",
     "text": [
      "Titling Time: 11.5 sec\n",
      "../data/train_data_annotation/Colon/M/anno_colon_M_0052.mrxs\n",
      "noise filter :  True\n",
      "multiprocessing :  32\n",
      "slide_name anno_colon_M_0052\n"
     ]
    },
    {
     "name": "stderr",
     "output_type": "stream",
     "text": [
      " 54%|█████▎    | 435/810 [1:42:26<1:27:56, 14.07s/it]"
     ]
    },
    {
     "name": "stdout",
     "output_type": "stream",
     "text": [
      "Titling Time: 11.7 sec\n",
      "../data/train_data_annotation/Colon/M/anno_colon_M_0091.mrxs\n",
      "noise filter :  True\n",
      "multiprocessing :  32\n",
      "slide_name anno_colon_M_0091\n"
     ]
    },
    {
     "name": "stderr",
     "output_type": "stream",
     "text": [
      " 54%|█████▍    | 436/810 [1:42:38<1:23:46, 13.44s/it]"
     ]
    },
    {
     "name": "stdout",
     "output_type": "stream",
     "text": [
      "Titling Time: 11.6 sec\n",
      "../data/train_data_annotation/Colon/M/anno_colon_M_0053.mrxs\n",
      "noise filter :  True\n",
      "multiprocessing :  32\n",
      "slide_name anno_colon_M_0053\n"
     ]
    },
    {
     "name": "stderr",
     "output_type": "stream",
     "text": [
      " 54%|█████▍    | 437/810 [1:42:55<1:30:44, 14.60s/it]"
     ]
    },
    {
     "name": "stdout",
     "output_type": "stream",
     "text": [
      "Titling Time: 16.0 sec\n",
      "../data/train_data_annotation/Colon/M/anno_colon_M_0174.mrxs\n",
      "noise filter :  True\n",
      "multiprocessing :  32\n",
      "slide_name anno_colon_M_0174\n"
     ]
    },
    {
     "name": "stderr",
     "output_type": "stream",
     "text": [
      " 54%|█████▍    | 438/810 [1:43:08<1:27:22, 14.09s/it]"
     ]
    },
    {
     "name": "stdout",
     "output_type": "stream",
     "text": [
      "Titling Time: 12.4 sec\n",
      "../data/train_data_annotation/Colon/M/anno_colon_M_0161.mrxs\n",
      "noise filter :  True\n",
      "multiprocessing :  32\n",
      "slide_name anno_colon_M_0161\n"
     ]
    },
    {
     "name": "stderr",
     "output_type": "stream",
     "text": [
      " 54%|█████▍    | 439/810 [1:43:21<1:24:42, 13.70s/it]"
     ]
    },
    {
     "name": "stdout",
     "output_type": "stream",
     "text": [
      "Titling Time: 12.3 sec\n",
      "../data/train_data_annotation/Colon/M/anno_colon_M_0144.mrxs\n",
      "noise filter :  True\n",
      "multiprocessing :  32\n",
      "slide_name anno_colon_M_0144\n"
     ]
    },
    {
     "name": "stderr",
     "output_type": "stream",
     "text": [
      " 54%|█████▍    | 440/810 [1:43:34<1:22:26, 13.37s/it]"
     ]
    },
    {
     "name": "stdout",
     "output_type": "stream",
     "text": [
      "Titling Time: 12.2 sec\n",
      "../data/train_data_annotation/Colon/M/anno_colon_M_0124.mrxs\n",
      "noise filter :  True\n",
      "multiprocessing :  32\n",
      "slide_name anno_colon_M_0124\n"
     ]
    },
    {
     "name": "stderr",
     "output_type": "stream",
     "text": [
      " 54%|█████▍    | 441/810 [1:43:46<1:20:14, 13.05s/it]"
     ]
    },
    {
     "name": "stdout",
     "output_type": "stream",
     "text": [
      "Titling Time: 11.9 sec\n",
      "../data/train_data_annotation/Colon/M/anno_colon_M_0178.mrxs\n",
      "noise filter :  True\n",
      "multiprocessing :  32\n",
      "slide_name anno_colon_M_0178\n"
     ]
    },
    {
     "name": "stderr",
     "output_type": "stream",
     "text": [
      " 55%|█████▍    | 442/810 [1:44:00<1:20:57, 13.20s/it]"
     ]
    },
    {
     "name": "stdout",
     "output_type": "stream",
     "text": [
      "Titling Time: 13.0 sec\n",
      "../data/train_data_annotation/Colon/M/anno_colon_M_0110.mrxs\n",
      "noise filter :  True\n",
      "multiprocessing :  32\n",
      "slide_name anno_colon_M_0110\n"
     ]
    },
    {
     "name": "stderr",
     "output_type": "stream",
     "text": [
      " 55%|█████▍    | 443/810 [1:44:20<1:33:19, 15.26s/it]"
     ]
    },
    {
     "name": "stdout",
     "output_type": "stream",
     "text": [
      "Titling Time: 19.7 sec\n",
      "../data/train_data_annotation/Colon/M/anno_colon_M_0171.mrxs\n",
      "noise filter :  True\n",
      "multiprocessing :  32\n",
      "slide_name anno_colon_M_0171\n"
     ]
    },
    {
     "name": "stderr",
     "output_type": "stream",
     "text": [
      " 55%|█████▍    | 444/810 [1:44:32<1:28:40, 14.54s/it]"
     ]
    },
    {
     "name": "stdout",
     "output_type": "stream",
     "text": [
      "Titling Time: 12.1 sec\n",
      "../data/train_data_annotation/Colon/M/anno_colon_M_0107.mrxs\n",
      "noise filter :  True\n",
      "multiprocessing :  32\n",
      "slide_name anno_colon_M_0107\n"
     ]
    },
    {
     "name": "stderr",
     "output_type": "stream",
     "text": [
      " 55%|█████▍    | 445/810 [1:44:45<1:25:15, 14.02s/it]"
     ]
    },
    {
     "name": "stdout",
     "output_type": "stream",
     "text": [
      "Titling Time: 12.4 sec\n",
      "../data/train_data_annotation/Colon/M/anno_colon_M_0046.mrxs\n",
      "noise filter :  True\n",
      "multiprocessing :  32\n",
      "slide_name anno_colon_M_0046\n"
     ]
    },
    {
     "name": "stderr",
     "output_type": "stream",
     "text": [
      " 55%|█████▌    | 446/810 [1:45:06<1:37:51, 16.13s/it]"
     ]
    },
    {
     "name": "stdout",
     "output_type": "stream",
     "text": [
      "Titling Time: 20.6 sec\n",
      "../data/train_data_annotation/Colon/M/anno_colon_M_0042.mrxs\n",
      "noise filter :  True\n",
      "multiprocessing :  32\n",
      "slide_name anno_colon_M_0042\n"
     ]
    },
    {
     "name": "stderr",
     "output_type": "stream",
     "text": [
      " 55%|█████▌    | 447/810 [1:45:18<1:30:08, 14.90s/it]"
     ]
    },
    {
     "name": "stdout",
     "output_type": "stream",
     "text": [
      "Titling Time: 11.5 sec\n",
      "../data/train_data_annotation/Colon/M/anno_colon_M_0080.mrxs\n",
      "noise filter :  True\n",
      "multiprocessing :  32\n",
      "slide_name anno_colon_M_0080\n"
     ]
    },
    {
     "name": "stderr",
     "output_type": "stream",
     "text": [
      " 55%|█████▌    | 448/810 [1:45:31<1:26:12, 14.29s/it]"
     ]
    },
    {
     "name": "stdout",
     "output_type": "stream",
     "text": [
      "Titling Time: 12.5 sec\n",
      "../data/train_data_annotation/Colon/M/anno_colon_M_0054.mrxs\n",
      "noise filter :  True\n",
      "multiprocessing :  32\n",
      "slide_name anno_colon_M_0054\n"
     ]
    },
    {
     "name": "stderr",
     "output_type": "stream",
     "text": [
      " 55%|█████▌    | 449/810 [1:46:20<2:27:59, 24.60s/it]"
     ]
    },
    {
     "name": "stdout",
     "output_type": "stream",
     "text": [
      "Titling Time: 47.2 sec\n",
      "../data/train_data_annotation/Colon/M/anno_colon_M_0092.mrxs\n",
      "noise filter :  True\n",
      "multiprocessing :  32\n",
      "slide_name anno_colon_M_0092\n"
     ]
    },
    {
     "name": "stderr",
     "output_type": "stream",
     "text": [
      " 56%|█████▌    | 450/810 [1:46:45<2:27:41, 24.62s/it]"
     ]
    },
    {
     "name": "stdout",
     "output_type": "stream",
     "text": [
      "Titling Time: 12.2 sec\n",
      "../data/train_data_annotation/Colon/M/anno_colon_M_0022.mrxs\n",
      "noise filter :  True\n",
      "multiprocessing :  32\n",
      "slide_name anno_colon_M_0022\n"
     ]
    },
    {
     "name": "stderr",
     "output_type": "stream",
     "text": [
      " 56%|█████▌    | 451/810 [1:46:57<2:05:04, 20.90s/it]"
     ]
    },
    {
     "name": "stdout",
     "output_type": "stream",
     "text": [
      "Titling Time: 11.9 sec\n",
      "../data/train_data_annotation/Colon/M/anno_colon_M_0120.mrxs\n",
      "noise filter :  True\n",
      "multiprocessing :  32\n",
      "slide_name anno_colon_M_0120\n"
     ]
    },
    {
     "name": "stderr",
     "output_type": "stream",
     "text": [
      " 56%|█████▌    | 452/810 [1:47:17<2:03:48, 20.75s/it]"
     ]
    },
    {
     "name": "stdout",
     "output_type": "stream",
     "text": [
      "Titling Time: 19.9 sec\n",
      "../data/train_data_annotation/Colon/M/anno_colon_M_0088.mrxs\n",
      "noise filter :  True\n",
      "multiprocessing :  32\n",
      "slide_name anno_colon_M_0088\n"
     ]
    },
    {
     "name": "stderr",
     "output_type": "stream",
     "text": [
      " 56%|█████▌    | 453/810 [1:47:29<1:47:19, 18.04s/it]"
     ]
    },
    {
     "name": "stdout",
     "output_type": "stream",
     "text": [
      "Titling Time: 11.4 sec\n",
      "../data/train_data_annotation/Colon/M/anno_colon_M_0133.mrxs\n",
      "noise filter :  True\n",
      "multiprocessing :  32\n",
      "slide_name anno_colon_M_0133\n"
     ]
    },
    {
     "name": "stderr",
     "output_type": "stream",
     "text": [
      " 56%|█████▌    | 454/810 [1:47:41<1:36:53, 16.33s/it]"
     ]
    },
    {
     "name": "stdout",
     "output_type": "stream",
     "text": [
      "Titling Time: 11.9 sec\n",
      "../data/train_data_annotation/Colon/M/anno_colon_M_0079.mrxs\n",
      "noise filter :  True\n",
      "multiprocessing :  32\n",
      "slide_name anno_colon_M_0079\n"
     ]
    },
    {
     "name": "stderr",
     "output_type": "stream",
     "text": [
      " 56%|█████▌    | 455/810 [1:47:53<1:28:34, 14.97s/it]"
     ]
    },
    {
     "name": "stdout",
     "output_type": "stream",
     "text": [
      "Titling Time: 11.3 sec\n",
      "../data/train_data_annotation/Colon/M/anno_colon_M_0135.mrxs\n",
      "noise filter :  True\n",
      "multiprocessing :  32\n",
      "slide_name anno_colon_M_0135\n"
     ]
    },
    {
     "name": "stderr",
     "output_type": "stream",
     "text": [
      " 56%|█████▋    | 456/810 [1:48:07<1:26:12, 14.61s/it]"
     ]
    },
    {
     "name": "stdout",
     "output_type": "stream",
     "text": [
      "Titling Time: 12.1 sec\n",
      "../data/train_data_annotation/Colon/M/anno_colon_M_0068.mrxs\n",
      "noise filter :  True\n",
      "multiprocessing :  32\n",
      "slide_name anno_colon_M_0068\n"
     ]
    },
    {
     "name": "stderr",
     "output_type": "stream",
     "text": [
      " 56%|█████▋    | 457/810 [1:48:20<1:24:09, 14.30s/it]"
     ]
    },
    {
     "name": "stdout",
     "output_type": "stream",
     "text": [
      "Titling Time: 13.1 sec\n",
      "../data/train_data_annotation/Colon/M/anno_colon_M_0142.mrxs\n",
      "noise filter :  True\n",
      "multiprocessing :  32\n",
      "slide_name anno_colon_M_0142\n"
     ]
    },
    {
     "name": "stderr",
     "output_type": "stream",
     "text": [
      " 57%|█████▋    | 458/810 [1:48:45<1:41:49, 17.36s/it]"
     ]
    },
    {
     "name": "stdout",
     "output_type": "stream",
     "text": [
      "Titling Time: 24.0 sec\n",
      "../data/train_data_annotation/Colon/M/anno_colon_M_0126.mrxs\n",
      "noise filter :  True\n",
      "multiprocessing :  32\n",
      "slide_name anno_colon_M_0126\n"
     ]
    },
    {
     "name": "stderr",
     "output_type": "stream",
     "text": [
      " 57%|█████▋    | 459/810 [1:49:06<1:48:50, 18.60s/it]"
     ]
    },
    {
     "name": "stdout",
     "output_type": "stream",
     "text": [
      "Titling Time: 11.5 sec\n",
      "../data/train_data_annotation/Colon/M/anno_colon_M_0132.mrxs\n",
      "noise filter :  True\n",
      "multiprocessing :  32\n",
      "slide_name anno_colon_M_0132\n"
     ]
    },
    {
     "name": "stderr",
     "output_type": "stream",
     "text": [
      " 57%|█████▋    | 460/810 [1:49:22<1:42:47, 17.62s/it]"
     ]
    },
    {
     "name": "stdout",
     "output_type": "stream",
     "text": [
      "Titling Time: 11.8 sec\n",
      "../data/train_data_annotation/Colon/M/anno_colon_M_0139.mrxs\n",
      "noise filter :  True\n",
      "multiprocessing :  32\n",
      "slide_name anno_colon_M_0139\n"
     ]
    },
    {
     "name": "stderr",
     "output_type": "stream",
     "text": [
      " 57%|█████▋    | 461/810 [1:49:35<1:34:11, 16.19s/it]"
     ]
    },
    {
     "name": "stdout",
     "output_type": "stream",
     "text": [
      "Titling Time: 11.4 sec\n",
      "../data/train_data_annotation/Colon/M/anno_colon_M_0083.mrxs\n",
      "noise filter :  True\n",
      "multiprocessing :  32\n",
      "slide_name anno_colon_M_0083\n"
     ]
    },
    {
     "name": "stderr",
     "output_type": "stream",
     "text": [
      " 57%|█████▋    | 462/810 [1:49:51<1:34:05, 16.22s/it]"
     ]
    },
    {
     "name": "stdout",
     "output_type": "stream",
     "text": [
      "Titling Time: 11.8 sec\n",
      "../data/train_data_annotation/Colon/M/anno_colon_M_0066.mrxs\n",
      "noise filter :  True\n",
      "multiprocessing :  32\n",
      "slide_name anno_colon_M_0066\n"
     ]
    },
    {
     "name": "stderr",
     "output_type": "stream",
     "text": [
      " 57%|█████▋    | 463/810 [1:50:03<1:27:04, 15.06s/it]"
     ]
    },
    {
     "name": "stdout",
     "output_type": "stream",
     "text": [
      "Titling Time: 11.9 sec\n",
      "../data/train_data_annotation/Colon/M/anno_colon_M_0141.mrxs\n",
      "noise filter :  True\n",
      "multiprocessing :  32\n",
      "slide_name anno_colon_M_0141\n"
     ]
    },
    {
     "name": "stderr",
     "output_type": "stream",
     "text": [
      " 57%|█████▋    | 464/810 [1:50:16<1:22:06, 14.24s/it]"
     ]
    },
    {
     "name": "stdout",
     "output_type": "stream",
     "text": [
      "Titling Time: 11.9 sec\n",
      "../data/train_data_annotation/Colon/M/anno_colon_M_0127.mrxs\n",
      "noise filter :  True\n",
      "multiprocessing :  32\n",
      "slide_name anno_colon_M_0127\n"
     ]
    },
    {
     "name": "stderr",
     "output_type": "stream",
     "text": [
      " 57%|█████▋    | 465/810 [1:50:28<1:18:16, 13.61s/it]"
     ]
    },
    {
     "name": "stdout",
     "output_type": "stream",
     "text": [
      "Titling Time: 11.8 sec\n",
      "../data/train_data_annotation/Colon/M/anno_colon_M_0105.mrxs\n",
      "noise filter :  True\n",
      "multiprocessing :  32\n",
      "slide_name anno_colon_M_0105\n"
     ]
    },
    {
     "name": "stderr",
     "output_type": "stream",
     "text": [
      " 58%|█████▊    | 466/810 [1:50:48<1:30:12, 15.73s/it]"
     ]
    },
    {
     "name": "stdout",
     "output_type": "stream",
     "text": [
      "Titling Time: 11.5 sec\n",
      "../data/train_data_annotation/Colon/M/anno_colon_M_0114.mrxs\n",
      "noise filter :  True\n",
      "multiprocessing :  32\n",
      "slide_name anno_colon_M_0114\n"
     ]
    },
    {
     "name": "stderr",
     "output_type": "stream",
     "text": [
      " 58%|█████▊    | 467/810 [1:51:01<1:23:43, 14.65s/it]"
     ]
    },
    {
     "name": "stdout",
     "output_type": "stream",
     "text": [
      "Titling Time: 11.7 sec\n",
      "../data/train_data_annotation/Colon/M/anno_colon_M_0198.mrxs\n",
      "noise filter :  True\n",
      "multiprocessing :  32\n",
      "slide_name anno_colon_M_0198\n"
     ]
    },
    {
     "name": "stderr",
     "output_type": "stream",
     "text": [
      " 58%|█████▊    | 468/810 [1:51:13<1:19:06, 13.88s/it]"
     ]
    },
    {
     "name": "stdout",
     "output_type": "stream",
     "text": [
      "Titling Time: 11.7 sec\n",
      "../data/train_data_annotation/Colon/M/anno_colon_M_0065.mrxs\n",
      "noise filter :  True\n",
      "multiprocessing :  32\n",
      "slide_name anno_colon_M_0065\n"
     ]
    },
    {
     "name": "stderr",
     "output_type": "stream",
     "text": [
      " 58%|█████▊    | 469/810 [1:51:25<1:16:56, 13.54s/it]"
     ]
    },
    {
     "name": "stdout",
     "output_type": "stream",
     "text": [
      "Titling Time: 12.2 sec\n",
      "../data/train_data_annotation/Colon/M/anno_colon_M_0176.mrxs\n",
      "noise filter :  True\n",
      "multiprocessing :  32\n",
      "slide_name anno_colon_M_0176\n"
     ]
    },
    {
     "name": "stderr",
     "output_type": "stream",
     "text": [
      " 58%|█████▊    | 470/810 [1:51:38<1:14:48, 13.20s/it]"
     ]
    },
    {
     "name": "stdout",
     "output_type": "stream",
     "text": [
      "Titling Time: 11.9 sec\n",
      "../data/train_data_annotation/Colon/M/anno_colon_M_0131.mrxs\n",
      "noise filter :  True\n",
      "multiprocessing :  32\n",
      "slide_name anno_colon_M_0131\n"
     ]
    },
    {
     "name": "stderr",
     "output_type": "stream",
     "text": [
      " 58%|█████▊    | 471/810 [1:51:51<1:14:11, 13.13s/it]"
     ]
    },
    {
     "name": "stdout",
     "output_type": "stream",
     "text": [
      "Titling Time: 12.5 sec\n",
      "../data/train_data_annotation/Colon/M/anno_colon_M_0145.mrxs\n",
      "noise filter :  True\n",
      "multiprocessing :  32\n",
      "slide_name anno_colon_M_0145\n"
     ]
    },
    {
     "name": "stderr",
     "output_type": "stream",
     "text": [
      " 58%|█████▊    | 472/810 [1:52:14<1:31:32, 16.25s/it]"
     ]
    },
    {
     "name": "stdout",
     "output_type": "stream",
     "text": [
      "Titling Time: 23.1 sec\n",
      "../data/train_data_annotation/Colon/M/anno_colon_M_0138.mrxs\n",
      "noise filter :  True\n",
      "multiprocessing :  32\n",
      "slide_name anno_colon_M_0138\n"
     ]
    },
    {
     "name": "stderr",
     "output_type": "stream",
     "text": [
      " 58%|█████▊    | 473/810 [1:52:27<1:24:59, 15.13s/it]"
     ]
    },
    {
     "name": "stdout",
     "output_type": "stream",
     "text": [
      "Titling Time: 12.0 sec\n",
      "../data/train_data_annotation/Colon/M/anno_colon_M_0189.mrxs\n",
      "noise filter :  True\n",
      "multiprocessing :  32\n",
      "slide_name anno_colon_M_0189\n"
     ]
    },
    {
     "name": "stderr",
     "output_type": "stream",
     "text": [
      " 59%|█████▊    | 474/810 [1:52:49<1:35:54, 17.13s/it]"
     ]
    },
    {
     "name": "stdout",
     "output_type": "stream",
     "text": [
      "Titling Time: 21.3 sec\n",
      "../data/train_data_annotation/Colon/M/anno_colon_M_0128.mrxs\n",
      "noise filter :  True\n",
      "multiprocessing :  32\n",
      "slide_name anno_colon_M_0128\n"
     ]
    },
    {
     "name": "stderr",
     "output_type": "stream",
     "text": [
      " 59%|█████▊    | 475/810 [1:53:00<1:26:46, 15.54s/it]"
     ]
    },
    {
     "name": "stdout",
     "output_type": "stream",
     "text": [
      "Titling Time: 11.4 sec\n",
      "../data/train_data_annotation/Colon/M/anno_colon_M_0122.mrxs\n",
      "noise filter :  True\n",
      "multiprocessing :  32\n",
      "slide_name anno_colon_M_0122\n"
     ]
    },
    {
     "name": "stderr",
     "output_type": "stream",
     "text": [
      " 59%|█████▉    | 476/810 [1:53:13<1:21:34, 14.65s/it]"
     ]
    },
    {
     "name": "stdout",
     "output_type": "stream",
     "text": [
      "Titling Time: 11.1 sec\n",
      "../data/train_data_annotation/Colon/M/anno_colon_M_0148.mrxs\n",
      "noise filter :  True\n",
      "multiprocessing :  32\n",
      "slide_name anno_colon_M_0148\n"
     ]
    },
    {
     "name": "stderr",
     "output_type": "stream",
     "text": [
      " 59%|█████▉    | 477/810 [1:53:29<1:24:19, 15.19s/it]"
     ]
    },
    {
     "name": "stdout",
     "output_type": "stream",
     "text": [
      "Titling Time: 12.3 sec\n",
      "../data/train_data_annotation/Colon/M/anno_colon_M_0028.mrxs\n",
      "noise filter :  True\n",
      "multiprocessing :  32\n",
      "slide_name anno_colon_M_0028\n"
     ]
    },
    {
     "name": "stderr",
     "output_type": "stream",
     "text": [
      " 59%|█████▉    | 478/810 [1:53:42<1:19:39, 14.40s/it]"
     ]
    },
    {
     "name": "stdout",
     "output_type": "stream",
     "text": [
      "Titling Time: 12.2 sec\n",
      "../data/train_data_annotation/Colon/M/anno_colon_M_0070.mrxs\n",
      "noise filter :  True\n",
      "multiprocessing :  32\n",
      "slide_name anno_colon_M_0070\n"
     ]
    },
    {
     "name": "stderr",
     "output_type": "stream",
     "text": [
      " 59%|█████▉    | 479/810 [1:53:54<1:15:00, 13.60s/it]"
     ]
    },
    {
     "name": "stdout",
     "output_type": "stream",
     "text": [
      "Titling Time: 11.3 sec\n",
      "../data/train_data_annotation/Colon/M/anno_colon_M_0155.mrxs\n",
      "noise filter :  True\n",
      "multiprocessing :  32\n",
      "slide_name anno_colon_M_0155\n"
     ]
    },
    {
     "name": "stderr",
     "output_type": "stream",
     "text": [
      " 59%|█████▉    | 480/810 [1:54:06<1:12:17, 13.14s/it]"
     ]
    },
    {
     "name": "stdout",
     "output_type": "stream",
     "text": [
      "Titling Time: 11.7 sec\n",
      "../data/train_data_annotation/Colon/M/anno_colon_M_0192.mrxs\n",
      "noise filter :  True\n",
      "multiprocessing :  32\n",
      "slide_name anno_colon_M_0192\n"
     ]
    },
    {
     "name": "stderr",
     "output_type": "stream",
     "text": [
      " 59%|█████▉    | 481/810 [1:54:24<1:19:41, 14.53s/it]"
     ]
    },
    {
     "name": "stdout",
     "output_type": "stream",
     "text": [
      "Titling Time: 17.2 sec\n",
      "../data/train_data_annotation/Colon/M/anno_colon_M_0095.mrxs\n",
      "noise filter :  True\n",
      "multiprocessing :  32\n",
      "slide_name anno_colon_M_0095\n"
     ]
    },
    {
     "name": "stderr",
     "output_type": "stream",
     "text": [
      " 60%|█████▉    | 482/810 [1:54:36<1:16:40, 14.03s/it]"
     ]
    },
    {
     "name": "stdout",
     "output_type": "stream",
     "text": [
      "Titling Time: 12.1 sec\n",
      "../data/train_data_annotation/Colon/M/anno_colon_M_0113.mrxs\n",
      "noise filter :  True\n",
      "multiprocessing :  32\n",
      "slide_name anno_colon_M_0113\n"
     ]
    },
    {
     "name": "stderr",
     "output_type": "stream",
     "text": [
      " 60%|█████▉    | 483/810 [1:54:49<1:13:26, 13.47s/it]"
     ]
    },
    {
     "name": "stdout",
     "output_type": "stream",
     "text": [
      "Titling Time: 11.8 sec\n",
      "../data/train_data_annotation/Colon/M/anno_colon_M_0165.mrxs\n",
      "noise filter :  True\n",
      "multiprocessing :  32\n",
      "slide_name anno_colon_M_0165\n"
     ]
    },
    {
     "name": "stderr",
     "output_type": "stream",
     "text": [
      " 60%|█████▉    | 484/810 [1:55:07<1:21:54, 15.08s/it]"
     ]
    },
    {
     "name": "stdout",
     "output_type": "stream",
     "text": [
      "Titling Time: 12.0 sec\n",
      "../data/train_data_annotation/Colon/M/anno_colon_M_0050.mrxs\n",
      "noise filter :  True\n",
      "multiprocessing :  32\n",
      "slide_name anno_colon_M_0050\n"
     ]
    },
    {
     "name": "stderr",
     "output_type": "stream",
     "text": [
      " 60%|█████▉    | 485/810 [1:55:20<1:18:00, 14.40s/it]"
     ]
    },
    {
     "name": "stdout",
     "output_type": "stream",
     "text": [
      "Titling Time: 12.4 sec\n",
      "../data/train_data_annotation/Colon/M/anno_colon_M_0064.mrxs\n",
      "noise filter :  True\n",
      "multiprocessing :  32\n",
      "slide_name anno_colon_M_0064\n"
     ]
    },
    {
     "name": "stderr",
     "output_type": "stream",
     "text": [
      " 60%|██████    | 486/810 [1:55:33<1:15:36, 14.00s/it]"
     ]
    },
    {
     "name": "stdout",
     "output_type": "stream",
     "text": [
      "Titling Time: 12.6 sec\n",
      "../data/train_data_annotation/Colon/M/anno_colon_M_0002.mrxs\n",
      "noise filter :  True\n",
      "multiprocessing :  32\n",
      "slide_name anno_colon_M_0002\n"
     ]
    },
    {
     "name": "stderr",
     "output_type": "stream",
     "text": [
      " 60%|██████    | 487/810 [1:55:51<1:21:24, 15.12s/it]"
     ]
    },
    {
     "name": "stdout",
     "output_type": "stream",
     "text": [
      "Titling Time: 17.3 sec\n",
      "../data/train_data_annotation/Colon/M/anno_colon_M_0074.mrxs\n",
      "noise filter :  True\n",
      "multiprocessing :  32\n",
      "slide_name anno_colon_M_0074\n",
      "Titling Time: 16.7 sec\n"
     ]
    },
    {
     "name": "stderr",
     "output_type": "stream",
     "text": [
      " 60%|██████    | 488/810 [1:56:08<1:24:31, 15.75s/it]"
     ]
    },
    {
     "name": "stdout",
     "output_type": "stream",
     "text": [
      "../data/train_data_annotation/Colon/M/anno_colon_M_0018.mrxs\n",
      "noise filter :  True\n",
      "multiprocessing :  32\n",
      "slide_name anno_colon_M_0018\n"
     ]
    },
    {
     "name": "stderr",
     "output_type": "stream",
     "text": [
      " 60%|██████    | 489/810 [1:56:31<1:35:38, 17.88s/it]"
     ]
    },
    {
     "name": "stdout",
     "output_type": "stream",
     "text": [
      "Titling Time: 12.8 sec\n",
      "../data/train_data_annotation/Colon/M/anno_colon_M_0134.mrxs\n",
      "noise filter :  True\n",
      "multiprocessing :  32\n",
      "slide_name anno_colon_M_0134\n"
     ]
    },
    {
     "name": "stderr",
     "output_type": "stream",
     "text": [
      " 60%|██████    | 490/810 [1:56:44<1:27:14, 16.36s/it]"
     ]
    },
    {
     "name": "stdout",
     "output_type": "stream",
     "text": [
      "Titling Time: 12.3 sec\n",
      "../data/train_data_annotation/Colon/M/anno_colon_M_0167.mrxs\n",
      "noise filter :  True\n",
      "multiprocessing :  32\n",
      "slide_name anno_colon_M_0167\n"
     ]
    },
    {
     "name": "stderr",
     "output_type": "stream",
     "text": [
      " 61%|██████    | 491/810 [1:57:04<1:32:21, 17.37s/it]"
     ]
    },
    {
     "name": "stdout",
     "output_type": "stream",
     "text": [
      "Titling Time: 11.8 sec\n",
      "../data/train_data_annotation/Colon/M/anno_colon_M_0173.mrxs\n",
      "noise filter :  True\n",
      "multiprocessing :  32\n",
      "slide_name anno_colon_M_0173\n"
     ]
    },
    {
     "name": "stderr",
     "output_type": "stream",
     "text": [
      " 61%|██████    | 492/810 [1:57:16<1:24:35, 15.96s/it]"
     ]
    },
    {
     "name": "stdout",
     "output_type": "stream",
     "text": [
      "Titling Time: 12.3 sec\n",
      "../data/train_data_annotation/Colon/M/anno_colon_M_0147.mrxs\n",
      "noise filter :  True\n",
      "multiprocessing :  32\n",
      "slide_name anno_colon_M_0147\n"
     ]
    },
    {
     "name": "stderr",
     "output_type": "stream",
     "text": [
      " 61%|██████    | 493/810 [1:57:28<1:18:18, 14.82s/it]"
     ]
    },
    {
     "name": "stdout",
     "output_type": "stream",
     "text": [
      "Titling Time: 11.7 sec\n",
      "../data/train_data_annotation/Colon/M/anno_colon_M_0033.mrxs\n",
      "noise filter :  True\n",
      "multiprocessing :  32\n",
      "slide_name anno_colon_M_0033\n"
     ]
    },
    {
     "name": "stderr",
     "output_type": "stream",
     "text": [
      " 61%|██████    | 494/810 [1:57:49<1:26:31, 16.43s/it]"
     ]
    },
    {
     "name": "stdout",
     "output_type": "stream",
     "text": [
      "Titling Time: 12.1 sec\n",
      "../data/train_data_annotation/Colon/M/anno_colon_M_0077.mrxs\n",
      "noise filter :  True\n",
      "multiprocessing :  32\n",
      "slide_name anno_colon_M_0077\n"
     ]
    },
    {
     "name": "stderr",
     "output_type": "stream",
     "text": [
      " 61%|██████    | 495/810 [1:58:01<1:20:06, 15.26s/it]"
     ]
    },
    {
     "name": "stdout",
     "output_type": "stream",
     "text": [
      "Titling Time: 12.1 sec\n",
      "../data/train_data_annotation/Colon/M/anno_colon_M_0016.mrxs\n",
      "noise filter :  True\n",
      "multiprocessing :  32\n",
      "slide_name anno_colon_M_0016\n"
     ]
    },
    {
     "name": "stderr",
     "output_type": "stream",
     "text": [
      " 61%|██████    | 496/810 [1:58:20<1:24:51, 16.21s/it]"
     ]
    },
    {
     "name": "stdout",
     "output_type": "stream",
     "text": [
      "Titling Time: 17.7 sec\n",
      "../data/train_data_annotation/Colon/M/anno_colon_M_0011.mrxs\n",
      "noise filter :  True\n",
      "multiprocessing :  32\n",
      "slide_name anno_colon_M_0011\n"
     ]
    },
    {
     "name": "stderr",
     "output_type": "stream",
     "text": [
      " 61%|██████▏   | 497/810 [1:58:52<1:50:16, 21.14s/it]"
     ]
    },
    {
     "name": "stdout",
     "output_type": "stream",
     "text": [
      "Titling Time: 12.4 sec\n",
      "../data/train_data_annotation/Colon/M/anno_colon_M_0111.mrxs\n",
      "noise filter :  True\n",
      "multiprocessing :  32\n",
      "slide_name anno_colon_M_0111\n"
     ]
    },
    {
     "name": "stderr",
     "output_type": "stream",
     "text": [
      " 61%|██████▏   | 498/810 [1:59:04<1:35:06, 18.29s/it]"
     ]
    },
    {
     "name": "stdout",
     "output_type": "stream",
     "text": [
      "Titling Time: 11.2 sec\n",
      "../data/train_data_annotation/Colon/M/anno_colon_M_0072.mrxs\n",
      "noise filter :  True\n",
      "multiprocessing :  32\n",
      "slide_name anno_colon_M_0072\n"
     ]
    },
    {
     "name": "stderr",
     "output_type": "stream",
     "text": [
      " 62%|██████▏   | 499/810 [1:59:28<1:43:35, 19.99s/it]"
     ]
    },
    {
     "name": "stdout",
     "output_type": "stream",
     "text": [
      "Titling Time: 21.8 sec\n",
      "../data/train_data_annotation/Colon/M/anno_colon_M_0152.mrxs\n",
      "noise filter :  True\n",
      "multiprocessing :  32\n",
      "slide_name anno_colon_M_0152\n"
     ]
    },
    {
     "name": "stderr",
     "output_type": "stream",
     "text": [
      " 62%|██████▏   | 500/810 [1:59:40<1:30:59, 17.61s/it]"
     ]
    },
    {
     "name": "stdout",
     "output_type": "stream",
     "text": [
      "Titling Time: 11.7 sec\n",
      "../data/train_data_annotation/Colon/M/anno_colon_M_0031.mrxs\n",
      "noise filter :  True\n",
      "multiprocessing :  32\n",
      "slide_name anno_colon_M_0031\n"
     ]
    },
    {
     "name": "stderr",
     "output_type": "stream",
     "text": [
      " 62%|██████▏   | 501/810 [1:59:55<1:26:42, 16.84s/it]"
     ]
    },
    {
     "name": "stdout",
     "output_type": "stream",
     "text": [
      "Titling Time: 14.5 sec\n",
      "../data/train_data_annotation/Colon/M/anno_colon_M_0168.mrxs\n",
      "noise filter :  True\n",
      "multiprocessing :  32\n",
      "slide_name anno_colon_M_0168\n"
     ]
    },
    {
     "name": "stderr",
     "output_type": "stream",
     "text": [
      " 62%|██████▏   | 502/810 [2:00:22<1:42:24, 19.95s/it]"
     ]
    },
    {
     "name": "stdout",
     "output_type": "stream",
     "text": [
      "Titling Time: 26.8 sec\n",
      "../data/train_data_annotation/Colon/M/anno_colon_M_0041.mrxs\n",
      "noise filter :  True\n",
      "multiprocessing :  32\n",
      "slide_name anno_colon_M_0041\n"
     ]
    },
    {
     "name": "stderr",
     "output_type": "stream",
     "text": [
      " 62%|██████▏   | 503/810 [2:00:35<1:31:29, 17.88s/it]"
     ]
    },
    {
     "name": "stdout",
     "output_type": "stream",
     "text": [
      "Titling Time: 12.4 sec\n",
      "../data/train_data_annotation/Colon/M/anno_colon_M_0207.mrxs\n",
      "noise filter :  True\n",
      "multiprocessing :  32\n",
      "slide_name anno_colon_M_0207\n",
      "Titling Time: 20.6 sec\n"
     ]
    },
    {
     "name": "stderr",
     "output_type": "stream",
     "text": [
      " 62%|██████▏   | 504/810 [2:00:56<1:36:21, 18.89s/it]"
     ]
    },
    {
     "name": "stdout",
     "output_type": "stream",
     "text": [
      "../data/train_data_annotation/Colon/M/anno_colon_M_0170.mrxs\n",
      "noise filter :  True\n",
      "multiprocessing :  32\n",
      "slide_name anno_colon_M_0170\n"
     ]
    },
    {
     "name": "stderr",
     "output_type": "stream",
     "text": [
      " 62%|██████▏   | 505/810 [2:01:21<1:44:42, 20.60s/it]"
     ]
    },
    {
     "name": "stdout",
     "output_type": "stream",
     "text": [
      "Titling Time: 23.5 sec\n",
      "../data/train_data_annotation/Colon/M/anno_colon_M_0047.mrxs\n",
      "noise filter :  True\n",
      "multiprocessing :  32\n",
      "slide_name anno_colon_M_0047\n"
     ]
    },
    {
     "name": "stderr",
     "output_type": "stream",
     "text": [
      " 62%|██████▏   | 506/810 [2:01:42<1:44:11, 20.57s/it]"
     ]
    },
    {
     "name": "stdout",
     "output_type": "stream",
     "text": [
      "Titling Time: 20.0 sec\n",
      "../data/train_data_annotation/Colon/M/anno_colon_M_0045.mrxs\n",
      "noise filter :  True\n",
      "multiprocessing :  32\n",
      "slide_name anno_colon_M_0045\n"
     ]
    },
    {
     "name": "stderr",
     "output_type": "stream",
     "text": [
      " 63%|██████▎   | 507/810 [2:01:58<1:37:07, 19.23s/it]"
     ]
    },
    {
     "name": "stdout",
     "output_type": "stream",
     "text": [
      "Titling Time: 15.6 sec\n",
      "../data/train_data_annotation/Colon/M/anno_colon_M_0008.mrxs\n",
      "noise filter :  True\n",
      "multiprocessing :  32\n",
      "slide_name anno_colon_M_0008\n"
     ]
    },
    {
     "name": "stderr",
     "output_type": "stream",
     "text": [
      " 63%|██████▎   | 508/810 [2:02:09<1:24:42, 16.83s/it]"
     ]
    },
    {
     "name": "stdout",
     "output_type": "stream",
     "text": [
      "Titling Time: 10.9 sec\n",
      "../data/train_data_annotation/Colon/M/anno_colon_M_0104.mrxs\n",
      "noise filter :  True\n",
      "multiprocessing :  32\n",
      "slide_name anno_colon_M_0104\n"
     ]
    },
    {
     "name": "stderr",
     "output_type": "stream",
     "text": [
      " 63%|██████▎   | 509/810 [2:02:28<1:28:21, 17.61s/it]"
     ]
    },
    {
     "name": "stdout",
     "output_type": "stream",
     "text": [
      "Titling Time: 13.2 sec\n",
      "../data/train_data_annotation/Colon/M/anno_colon_M_0156.mrxs\n",
      "noise filter :  True\n",
      "multiprocessing :  32\n",
      "slide_name anno_colon_M_0156\n"
     ]
    },
    {
     "name": "stderr",
     "output_type": "stream",
     "text": [
      " 63%|██████▎   | 510/810 [2:02:40<1:19:30, 15.90s/it]"
     ]
    },
    {
     "name": "stdout",
     "output_type": "stream",
     "text": [
      "Titling Time: 11.5 sec\n",
      "../data/train_data_annotation/Colon/M/anno_colon_M_0029.mrxs\n",
      "noise filter :  True\n",
      "multiprocessing :  32\n",
      "slide_name anno_colon_M_0029\n"
     ]
    },
    {
     "name": "stderr",
     "output_type": "stream",
     "text": [
      " 63%|██████▎   | 511/810 [2:03:01<1:26:45, 17.41s/it]"
     ]
    },
    {
     "name": "stdout",
     "output_type": "stream",
     "text": [
      "Titling Time: 20.6 sec\n",
      "../data/train_data_annotation/Colon/M/anno_colon_M_0017.mrxs\n",
      "noise filter :  True\n",
      "multiprocessing :  32\n",
      "slide_name anno_colon_M_0017\n"
     ]
    },
    {
     "name": "stderr",
     "output_type": "stream",
     "text": [
      " 63%|██████▎   | 512/810 [2:03:13<1:18:31, 15.81s/it]"
     ]
    },
    {
     "name": "stdout",
     "output_type": "stream",
     "text": [
      "Titling Time: 11.7 sec\n",
      "../data/train_data_annotation/Colon/M/anno_colon_M_0040.mrxs\n",
      "noise filter :  True\n",
      "multiprocessing :  32\n",
      "slide_name anno_colon_M_0040\n"
     ]
    },
    {
     "name": "stderr",
     "output_type": "stream",
     "text": [
      " 63%|██████▎   | 513/810 [2:03:26<1:13:02, 14.76s/it]"
     ]
    },
    {
     "name": "stdout",
     "output_type": "stream",
     "text": [
      "Titling Time: 11.8 sec\n",
      "../data/train_data_annotation/Colon/M/anno_colon_M_0096.mrxs\n",
      "noise filter :  True\n",
      "multiprocessing :  32\n",
      "slide_name anno_colon_M_0096\n"
     ]
    },
    {
     "name": "stderr",
     "output_type": "stream",
     "text": [
      " 63%|██████▎   | 514/810 [2:03:39<1:10:46, 14.35s/it]"
     ]
    },
    {
     "name": "stdout",
     "output_type": "stream",
     "text": [
      "Titling Time: 13.0 sec\n",
      "../data/train_data_annotation/Colon/M/anno_colon_M_0151.mrxs\n",
      "noise filter :  True\n",
      "multiprocessing :  32\n",
      "slide_name anno_colon_M_0151\n"
     ]
    },
    {
     "name": "stderr",
     "output_type": "stream",
     "text": [
      " 64%|██████▎   | 515/810 [2:03:51<1:07:36, 13.75s/it]"
     ]
    },
    {
     "name": "stdout",
     "output_type": "stream",
     "text": [
      "Titling Time: 12.0 sec\n",
      "../data/train_data_annotation/Colon/M/anno_colon_M_0169.mrxs\n",
      "noise filter :  True\n",
      "multiprocessing :  32\n",
      "slide_name anno_colon_M_0169\n"
     ]
    },
    {
     "name": "stderr",
     "output_type": "stream",
     "text": [
      " 64%|██████▎   | 516/810 [2:04:17<1:24:58, 17.34s/it]"
     ]
    },
    {
     "name": "stdout",
     "output_type": "stream",
     "text": [
      "Titling Time: 13.6 sec\n",
      "../data/train_data_annotation/Colon/M/anno_colon_M_0117.mrxs\n",
      "noise filter :  True\n",
      "multiprocessing :  32\n",
      "slide_name anno_colon_M_0117\n"
     ]
    },
    {
     "name": "stderr",
     "output_type": "stream",
     "text": [
      " 64%|██████▍   | 517/810 [2:04:29<1:17:14, 15.82s/it]"
     ]
    },
    {
     "name": "stdout",
     "output_type": "stream",
     "text": [
      "Titling Time: 11.9 sec\n",
      "../data/train_data_annotation/Colon/M/anno_colon_M_0160.mrxs\n",
      "noise filter :  True\n",
      "multiprocessing :  32\n",
      "slide_name anno_colon_M_0160\n"
     ]
    },
    {
     "name": "stderr",
     "output_type": "stream",
     "text": [
      " 64%|██████▍   | 518/810 [2:04:42<1:12:56, 14.99s/it]"
     ]
    },
    {
     "name": "stdout",
     "output_type": "stream",
     "text": [
      "Titling Time: 12.7 sec\n",
      "../data/train_data_annotation/Colon/M/anno_colon_M_0101.mrxs\n",
      "noise filter :  True\n",
      "multiprocessing :  32\n",
      "slide_name anno_colon_M_0101\n"
     ]
    },
    {
     "name": "stderr",
     "output_type": "stream",
     "text": [
      " 64%|██████▍   | 519/810 [2:04:58<1:13:16, 15.11s/it]"
     ]
    },
    {
     "name": "stdout",
     "output_type": "stream",
     "text": [
      "Titling Time: 15.0 sec\n",
      "../data/train_data_annotation/Colon/M/anno_colon_M_0010.mrxs\n",
      "noise filter :  True\n",
      "multiprocessing :  32\n",
      "slide_name anno_colon_M_0010\n"
     ]
    },
    {
     "name": "stderr",
     "output_type": "stream",
     "text": [
      " 64%|██████▍   | 520/810 [2:05:23<1:28:30, 18.31s/it]"
     ]
    },
    {
     "name": "stdout",
     "output_type": "stream",
     "text": [
      "Titling Time: 25.2 sec\n",
      "../data/train_data_annotation/Colon/M/anno_colon_M_0056.mrxs\n",
      "noise filter :  True\n",
      "multiprocessing :  32\n",
      "slide_name anno_colon_M_0056\n"
     ]
    },
    {
     "name": "stderr",
     "output_type": "stream",
     "text": [
      " 64%|██████▍   | 521/810 [2:05:46<1:34:57, 19.71s/it]"
     ]
    },
    {
     "name": "stdout",
     "output_type": "stream",
     "text": [
      "Titling Time: 22.4 sec\n",
      "../data/train_data_annotation/Colon/M/anno_colon_M_0123.mrxs\n",
      "noise filter :  True\n",
      "multiprocessing :  32\n",
      "slide_name anno_colon_M_0123\n"
     ]
    },
    {
     "name": "stderr",
     "output_type": "stream",
     "text": [
      " 64%|██████▍   | 522/810 [2:06:00<1:25:40, 17.85s/it]"
     ]
    },
    {
     "name": "stdout",
     "output_type": "stream",
     "text": [
      "Titling Time: 11.1 sec\n",
      "../data/train_data_annotation/Colon/M/anno_colon_M_0055.mrxs\n",
      "noise filter :  True\n",
      "multiprocessing :  32\n",
      "slide_name anno_colon_M_0055\n"
     ]
    },
    {
     "name": "stderr",
     "output_type": "stream",
     "text": [
      " 65%|██████▍   | 523/810 [2:06:13<1:17:49, 16.27s/it]"
     ]
    },
    {
     "name": "stdout",
     "output_type": "stream",
     "text": [
      "Titling Time: 11.9 sec\n",
      "../data/train_data_annotation/Colon/M/anno_colon_M_0035.mrxs\n",
      "noise filter :  True\n",
      "multiprocessing :  32\n",
      "slide_name anno_colon_M_0035\n"
     ]
    },
    {
     "name": "stderr",
     "output_type": "stream",
     "text": [
      " 65%|██████▍   | 524/810 [2:06:25<1:11:35, 15.02s/it]"
     ]
    },
    {
     "name": "stdout",
     "output_type": "stream",
     "text": [
      "Titling Time: 11.7 sec\n",
      "../data/train_data_annotation/Colon/M/anno_colon_M_0071.mrxs\n",
      "noise filter :  True\n",
      "multiprocessing :  32\n",
      "slide_name anno_colon_M_0071\n"
     ]
    },
    {
     "name": "stderr",
     "output_type": "stream",
     "text": [
      " 65%|██████▍   | 525/810 [2:06:44<1:17:38, 16.35s/it]"
     ]
    },
    {
     "name": "stdout",
     "output_type": "stream",
     "text": [
      "Titling Time: 12.5 sec\n",
      "../data/train_data_annotation/Colon/M/anno_colon_M_0013.mrxs\n",
      "noise filter :  True\n",
      "multiprocessing :  32\n",
      "slide_name anno_colon_M_0013\n"
     ]
    },
    {
     "name": "stderr",
     "output_type": "stream",
     "text": [
      " 65%|██████▍   | 526/810 [2:06:57<1:12:37, 15.34s/it]"
     ]
    },
    {
     "name": "stdout",
     "output_type": "stream",
     "text": [
      "Titling Time: 12.5 sec\n",
      "../data/train_data_annotation/Colon/M/anno_colon_M_0014.mrxs\n",
      "noise filter :  True\n",
      "multiprocessing :  32\n",
      "slide_name anno_colon_M_0014\n"
     ]
    },
    {
     "name": "stderr",
     "output_type": "stream",
     "text": [
      " 65%|██████▌   | 527/810 [2:07:10<1:08:30, 14.52s/it]"
     ]
    },
    {
     "name": "stdout",
     "output_type": "stream",
     "text": [
      "Titling Time: 12.2 sec\n",
      "../data/train_data_annotation/Colon/M/anno_colon_M_0024.mrxs\n",
      "noise filter :  True\n",
      "multiprocessing :  32\n",
      "slide_name anno_colon_M_0024\n"
     ]
    },
    {
     "name": "stderr",
     "output_type": "stream",
     "text": [
      " 65%|██████▌   | 528/810 [2:07:47<1:39:46, 21.23s/it]"
     ]
    },
    {
     "name": "stdout",
     "output_type": "stream",
     "text": [
      "Titling Time: 36.3 sec\n",
      "../data/train_data_annotation/Colon/M/anno_colon_M_0085.mrxs\n",
      "noise filter :  True\n",
      "multiprocessing :  32\n",
      "slide_name anno_colon_M_0085\n"
     ]
    },
    {
     "name": "stderr",
     "output_type": "stream",
     "text": [
      " 65%|██████▌   | 529/810 [2:08:00<1:29:07, 19.03s/it]"
     ]
    },
    {
     "name": "stdout",
     "output_type": "stream",
     "text": [
      "Titling Time: 13.4 sec\n",
      "../data/train_data_annotation/Colon/M/anno_colon_M_0121.mrxs\n",
      "noise filter :  True\n",
      "multiprocessing :  32\n",
      "slide_name anno_colon_M_0121\n"
     ]
    },
    {
     "name": "stderr",
     "output_type": "stream",
     "text": [
      " 65%|██████▌   | 530/810 [2:08:21<1:30:57, 19.49s/it]"
     ]
    },
    {
     "name": "stdout",
     "output_type": "stream",
     "text": [
      "Titling Time: 12.0 sec\n",
      "../data/train_data_annotation/Colon/M/anno_colon_M_0009.mrxs\n",
      "noise filter :  True\n",
      "multiprocessing :  32\n",
      "slide_name anno_colon_M_0009\n"
     ]
    },
    {
     "name": "stderr",
     "output_type": "stream",
     "text": [
      " 66%|██████▌   | 531/810 [2:08:33<1:20:31, 17.32s/it]"
     ]
    },
    {
     "name": "stdout",
     "output_type": "stream",
     "text": [
      "Titling Time: 11.8 sec\n",
      "../data/train_data_annotation/Colon/M/anno_colon_M_0129.mrxs\n",
      "noise filter :  True\n",
      "multiprocessing :  32\n",
      "slide_name anno_colon_M_0129\n"
     ]
    },
    {
     "name": "stderr",
     "output_type": "stream",
     "text": [
      " 66%|██████▌   | 532/810 [2:08:49<1:18:04, 16.85s/it]"
     ]
    },
    {
     "name": "stdout",
     "output_type": "stream",
     "text": [
      "Titling Time: 15.3 sec\n",
      "../data/train_data_annotation/Colon/M/anno_colon_M_0057.mrxs\n",
      "noise filter :  True\n",
      "multiprocessing :  32\n",
      "slide_name anno_colon_M_0057\n"
     ]
    },
    {
     "name": "stderr",
     "output_type": "stream",
     "text": [
      " 66%|██████▌   | 533/810 [2:09:06<1:17:45, 16.84s/it]"
     ]
    },
    {
     "name": "stdout",
     "output_type": "stream",
     "text": [
      "Titling Time: 16.3 sec\n",
      "../data/train_data_annotation/Colon/M/anno_colon_M_0103.mrxs\n",
      "noise filter :  True\n",
      "multiprocessing :  32\n",
      "slide_name anno_colon_M_0103\n"
     ]
    },
    {
     "name": "stderr",
     "output_type": "stream",
     "text": [
      " 66%|██████▌   | 534/810 [2:09:18<1:10:54, 15.42s/it]"
     ]
    },
    {
     "name": "stdout",
     "output_type": "stream",
     "text": [
      "Titling Time: 11.7 sec\n",
      "../data/train_data_annotation/Colon/M/anno_colon_M_0100.mrxs\n",
      "noise filter :  True\n",
      "multiprocessing :  32\n",
      "slide_name anno_colon_M_0100\n"
     ]
    },
    {
     "name": "stderr",
     "output_type": "stream",
     "text": [
      " 66%|██████▌   | 535/810 [2:09:36<1:14:25, 16.24s/it]"
     ]
    },
    {
     "name": "stdout",
     "output_type": "stream",
     "text": [
      "Titling Time: 12.0 sec\n",
      "../data/train_data_annotation/Colon/M/anno_colon_M_0154.mrxs\n",
      "noise filter :  True\n",
      "multiprocessing :  32\n",
      "slide_name anno_colon_M_0154\n"
     ]
    },
    {
     "name": "stderr",
     "output_type": "stream",
     "text": [
      " 66%|██████▌   | 536/810 [2:09:48<1:08:37, 15.03s/it]"
     ]
    },
    {
     "name": "stdout",
     "output_type": "stream",
     "text": [
      "Titling Time: 11.8 sec\n",
      "../data/train_data_annotation/Colon/M/anno_colon_M_0021.mrxs\n",
      "noise filter :  True\n",
      "multiprocessing :  32\n",
      "slide_name anno_colon_M_0021\n"
     ]
    },
    {
     "name": "stderr",
     "output_type": "stream",
     "text": [
      " 66%|██████▋   | 537/810 [2:10:00<1:04:24, 14.16s/it]"
     ]
    },
    {
     "name": "stdout",
     "output_type": "stream",
     "text": [
      "Titling Time: 11.8 sec\n",
      "../data/train_data_annotation/Colon/M/anno_colon_M_0043.mrxs\n",
      "noise filter :  True\n",
      "multiprocessing :  32\n",
      "slide_name anno_colon_M_0043\n"
     ]
    },
    {
     "name": "stderr",
     "output_type": "stream",
     "text": [
      " 66%|██████▋   | 538/810 [2:10:13<1:01:20, 13.53s/it]"
     ]
    },
    {
     "name": "stdout",
     "output_type": "stream",
     "text": [
      "Titling Time: 11.6 sec\n",
      "../data/train_data_annotation/Colon/M/anno_colon_M_0015.mrxs\n",
      "noise filter :  True\n",
      "multiprocessing :  32\n",
      "slide_name anno_colon_M_0015\n"
     ]
    },
    {
     "name": "stderr",
     "output_type": "stream",
     "text": [
      " 67%|██████▋   | 539/810 [2:11:06<1:55:07, 25.49s/it]"
     ]
    },
    {
     "name": "stdout",
     "output_type": "stream",
     "text": [
      "Titling Time: 46.0 sec\n",
      "../data/train_data_annotation/Colon/M/anno_colon_M_0082.mrxs\n",
      "noise filter :  True\n",
      "multiprocessing :  32\n",
      "slide_name anno_colon_M_0082\n"
     ]
    },
    {
     "name": "stderr",
     "output_type": "stream",
     "text": [
      " 67%|██████▋   | 540/810 [2:11:25<1:46:20, 23.63s/it]"
     ]
    },
    {
     "name": "stdout",
     "output_type": "stream",
     "text": [
      "Titling Time: 18.7 sec\n",
      "../data/train_data_annotation/Colon/M/anno_colon_M_0093.mrxs\n",
      "noise filter :  True\n",
      "multiprocessing :  32\n",
      "slide_name anno_colon_M_0093\n"
     ]
    },
    {
     "name": "stderr",
     "output_type": "stream",
     "text": [
      " 67%|██████▋   | 541/810 [2:11:38<1:30:46, 20.25s/it]"
     ]
    },
    {
     "name": "stdout",
     "output_type": "stream",
     "text": [
      "Titling Time: 11.9 sec\n",
      "../data/train_data_annotation/Colon/M/anno_colon_M_0194.mrxs\n",
      "noise filter :  True\n",
      "multiprocessing :  32\n",
      "slide_name anno_colon_M_0194\n"
     ]
    },
    {
     "name": "stderr",
     "output_type": "stream",
     "text": [
      " 67%|██████▋   | 542/810 [2:11:58<1:31:05, 20.39s/it]"
     ]
    },
    {
     "name": "stdout",
     "output_type": "stream",
     "text": [
      "Titling Time: 19.7 sec\n",
      "../data/train_data_annotation/Colon/M/anno_colon_M_0061.mrxs\n",
      "noise filter :  True\n",
      "multiprocessing :  32\n",
      "slide_name anno_colon_M_0061\n"
     ]
    },
    {
     "name": "stderr",
     "output_type": "stream",
     "text": [
      " 67%|██████▋   | 543/810 [2:12:12<1:22:05, 18.45s/it]"
     ]
    },
    {
     "name": "stdout",
     "output_type": "stream",
     "text": [
      "Titling Time: 13.3 sec\n",
      "../data/train_data_annotation/Colon/M/anno_colon_M_0204.mrxs\n",
      "noise filter :  True\n",
      "multiprocessing :  32\n",
      "slide_name anno_colon_M_0204\n"
     ]
    },
    {
     "name": "stderr",
     "output_type": "stream",
     "text": [
      " 67%|██████▋   | 544/810 [2:12:31<1:22:53, 18.70s/it]"
     ]
    },
    {
     "name": "stdout",
     "output_type": "stream",
     "text": [
      "Titling Time: 18.8 sec\n",
      "../data/train_data_annotation/Colon/M/anno_colon_M_0163.mrxs\n",
      "noise filter :  True\n",
      "multiprocessing :  32\n",
      "slide_name anno_colon_M_0163\n"
     ]
    },
    {
     "name": "stderr",
     "output_type": "stream",
     "text": [
      " 67%|██████▋   | 545/810 [2:12:43<1:13:40, 16.68s/it]"
     ]
    },
    {
     "name": "stdout",
     "output_type": "stream",
     "text": [
      "Titling Time: 11.5 sec\n",
      "../data/train_data_annotation/Colon/M/anno_colon_M_0125.mrxs\n",
      "noise filter :  True\n",
      "multiprocessing :  32\n",
      "slide_name anno_colon_M_0125\n"
     ]
    },
    {
     "name": "stderr",
     "output_type": "stream",
     "text": [
      " 67%|██████▋   | 546/810 [2:12:55<1:07:13, 15.28s/it]"
     ]
    },
    {
     "name": "stdout",
     "output_type": "stream",
     "text": [
      "Titling Time: 11.5 sec\n",
      "../data/train_data_annotation/Colon/M/anno_colon_M_0004.mrxs\n",
      "noise filter :  True\n",
      "multiprocessing :  32\n",
      "slide_name anno_colon_M_0004\n"
     ]
    },
    {
     "name": "stderr",
     "output_type": "stream",
     "text": [
      " 68%|██████▊   | 547/810 [2:13:20<1:18:46, 17.97s/it]"
     ]
    },
    {
     "name": "stdout",
     "output_type": "stream",
     "text": [
      "Titling Time: 23.7 sec\n",
      "../data/train_data_annotation/Colon/M/anno_colon_M_0109.mrxs\n",
      "noise filter :  True\n",
      "multiprocessing :  32\n",
      "slide_name anno_colon_M_0109\n"
     ]
    },
    {
     "name": "stderr",
     "output_type": "stream",
     "text": [
      " 68%|██████▊   | 548/810 [2:13:38<1:18:15, 17.92s/it]"
     ]
    },
    {
     "name": "stdout",
     "output_type": "stream",
     "text": [
      "Titling Time: 12.7 sec\n",
      "../data/train_data_annotation/Colon/M/anno_colon_M_0098.mrxs\n",
      "noise filter :  True\n",
      "multiprocessing :  32\n",
      "slide_name anno_colon_M_0098\n"
     ]
    },
    {
     "name": "stderr",
     "output_type": "stream",
     "text": [
      " 68%|██████▊   | 549/810 [2:13:50<1:11:14, 16.38s/it]"
     ]
    },
    {
     "name": "stdout",
     "output_type": "stream",
     "text": [
      "Titling Time: 12.1 sec\n",
      "../data/train_data_annotation/Colon/M/anno_colon_M_0097.mrxs\n",
      "noise filter :  True\n",
      "multiprocessing :  32\n",
      "slide_name anno_colon_M_0097\n"
     ]
    },
    {
     "name": "stderr",
     "output_type": "stream",
     "text": [
      " 68%|██████▊   | 550/810 [2:14:14<1:20:08, 18.49s/it]"
     ]
    },
    {
     "name": "stdout",
     "output_type": "stream",
     "text": [
      "Titling Time: 23.0 sec\n",
      "../data/train_data_annotation/Colon/M/anno_colon_M_0181.mrxs\n",
      "noise filter :  True\n",
      "multiprocessing :  32\n",
      "slide_name anno_colon_M_0181\n"
     ]
    },
    {
     "name": "stderr",
     "output_type": "stream",
     "text": [
      " 68%|██████▊   | 551/810 [2:14:27<1:13:13, 16.96s/it]"
     ]
    },
    {
     "name": "stdout",
     "output_type": "stream",
     "text": [
      "Titling Time: 12.5 sec\n",
      "../data/train_data_annotation/Colon/M/anno_colon_M_0069.mrxs\n",
      "noise filter :  True\n",
      "multiprocessing :  32\n",
      "slide_name anno_colon_M_0069\n"
     ]
    },
    {
     "name": "stderr",
     "output_type": "stream",
     "text": [
      " 68%|██████▊   | 552/810 [2:14:52<1:23:15, 19.36s/it]"
     ]
    },
    {
     "name": "stdout",
     "output_type": "stream",
     "text": [
      "Titling Time: 24.6 sec\n",
      "../data/train_data_annotation/Colon/M/anno_colon_M_0196.mrxs\n",
      "noise filter :  True\n",
      "multiprocessing :  32\n",
      "slide_name anno_colon_M_0196\n"
     ]
    },
    {
     "name": "stderr",
     "output_type": "stream",
     "text": [
      " 68%|██████▊   | 553/810 [2:15:04<1:13:13, 17.09s/it]"
     ]
    },
    {
     "name": "stdout",
     "output_type": "stream",
     "text": [
      "Titling Time: 11.4 sec\n",
      "../data/train_data_annotation/Colon/M/anno_colon_M_0191.mrxs\n",
      "noise filter :  True\n",
      "multiprocessing :  32\n",
      "slide_name anno_colon_M_0191\n"
     ]
    },
    {
     "name": "stderr",
     "output_type": "stream",
     "text": [
      " 68%|██████▊   | 554/810 [2:15:16<1:06:07, 15.50s/it]"
     ]
    },
    {
     "name": "stdout",
     "output_type": "stream",
     "text": [
      "Titling Time: 11.3 sec\n",
      "../data/train_data_annotation/Colon/M/anno_colon_M_0106.mrxs\n",
      "noise filter :  True\n",
      "multiprocessing :  32\n",
      "slide_name anno_colon_M_0106\n"
     ]
    },
    {
     "name": "stderr",
     "output_type": "stream",
     "text": [
      " 69%|██████▊   | 555/810 [2:15:28<1:01:42, 14.52s/it]"
     ]
    },
    {
     "name": "stdout",
     "output_type": "stream",
     "text": [
      "Titling Time: 11.7 sec\n",
      "../data/train_data_annotation/Colon/M/anno_colon_M_0166.mrxs\n",
      "noise filter :  True\n",
      "multiprocessing :  32\n",
      "slide_name anno_colon_M_0166\n"
     ]
    },
    {
     "name": "stderr",
     "output_type": "stream",
     "text": [
      " 69%|██████▊   | 556/810 [2:15:40<58:50, 13.90s/it]  "
     ]
    },
    {
     "name": "stdout",
     "output_type": "stream",
     "text": [
      "Titling Time: 12.0 sec\n",
      "../data/train_data_annotation/Colon/M/anno_colon_M_0146.mrxs\n",
      "noise filter :  True\n",
      "multiprocessing :  32\n",
      "slide_name anno_colon_M_0146\n"
     ]
    },
    {
     "name": "stderr",
     "output_type": "stream",
     "text": [
      " 69%|██████▉   | 557/810 [2:15:58<1:03:34, 15.08s/it]"
     ]
    },
    {
     "name": "stdout",
     "output_type": "stream",
     "text": [
      "Titling Time: 11.9 sec\n",
      "../data/train_data_annotation/Colon/M/anno_colon_M_0183.mrxs\n",
      "noise filter :  True\n",
      "multiprocessing :  32\n",
      "slide_name anno_colon_M_0183\n"
     ]
    },
    {
     "name": "stderr",
     "output_type": "stream",
     "text": [
      " 69%|██████▉   | 558/810 [2:16:11<1:00:22, 14.37s/it]"
     ]
    },
    {
     "name": "stdout",
     "output_type": "stream",
     "text": [
      "Titling Time: 12.3 sec\n",
      "../data/train_data_annotation/Colon/M/anno_colon_M_0143.mrxs\n",
      "noise filter :  True\n",
      "multiprocessing :  32\n",
      "slide_name anno_colon_M_0143\n"
     ]
    },
    {
     "name": "stderr",
     "output_type": "stream",
     "text": [
      " 69%|██████▉   | 559/810 [2:16:23<57:06, 13.65s/it]  "
     ]
    },
    {
     "name": "stdout",
     "output_type": "stream",
     "text": [
      "Titling Time: 11.5 sec\n",
      "../data/train_data_annotation/Colon/M/anno_colon_M_0102.mrxs\n",
      "noise filter :  True\n",
      "multiprocessing :  32\n",
      "slide_name anno_colon_M_0102\n"
     ]
    },
    {
     "name": "stderr",
     "output_type": "stream",
     "text": [
      " 69%|██████▉   | 560/810 [2:16:35<54:53, 13.17s/it]"
     ]
    },
    {
     "name": "stdout",
     "output_type": "stream",
     "text": [
      "Titling Time: 11.6 sec\n",
      "../data/train_data_annotation/Colon/M/anno_colon_M_0044.mrxs\n",
      "noise filter :  True\n",
      "multiprocessing :  32\n",
      "slide_name anno_colon_M_0044\n"
     ]
    },
    {
     "name": "stderr",
     "output_type": "stream",
     "text": [
      " 69%|██████▉   | 561/810 [2:17:07<1:17:35, 18.70s/it]"
     ]
    },
    {
     "name": "stdout",
     "output_type": "stream",
     "text": [
      "Titling Time: 30.8 sec\n",
      "../data/train_data_annotation/Colon/M/anno_colon_M_0034.mrxs\n",
      "noise filter :  True\n",
      "multiprocessing :  32\n",
      "slide_name anno_colon_M_0034\n"
     ]
    },
    {
     "name": "stderr",
     "output_type": "stream",
     "text": [
      " 69%|██████▉   | 562/810 [2:17:19<1:09:10, 16.73s/it]"
     ]
    },
    {
     "name": "stdout",
     "output_type": "stream",
     "text": [
      "Titling Time: 11.7 sec\n",
      "../data/train_data_annotation/Colon/M/anno_colon_M_0137.mrxs\n",
      "noise filter :  True\n",
      "multiprocessing :  32\n",
      "slide_name anno_colon_M_0137\n"
     ]
    },
    {
     "name": "stderr",
     "output_type": "stream",
     "text": [
      " 70%|██████▉   | 563/810 [2:17:40<1:14:13, 18.03s/it]"
     ]
    },
    {
     "name": "stdout",
     "output_type": "stream",
     "text": [
      "Titling Time: 13.0 sec\n",
      "../data/train_data_annotation/Colon/M/anno_colon_M_0058.mrxs\n",
      "noise filter :  True\n",
      "multiprocessing :  32\n",
      "slide_name anno_colon_M_0058\n"
     ]
    },
    {
     "name": "stderr",
     "output_type": "stream",
     "text": [
      " 70%|██████▉   | 564/810 [2:18:01<1:17:32, 18.91s/it]"
     ]
    },
    {
     "name": "stdout",
     "output_type": "stream",
     "text": [
      "Titling Time: 20.5 sec\n",
      "../data/train_data_annotation/Colon/M/anno_colon_M_0048.mrxs\n",
      "noise filter :  True\n",
      "multiprocessing :  32\n",
      "slide_name anno_colon_M_0048\n"
     ]
    },
    {
     "name": "stderr",
     "output_type": "stream",
     "text": [
      " 70%|██████▉   | 565/810 [2:18:13<1:08:55, 16.88s/it]"
     ]
    },
    {
     "name": "stdout",
     "output_type": "stream",
     "text": [
      "Titling Time: 11.7 sec\n",
      "../data/train_data_annotation/Colon/M/anno_colon_M_0062.mrxs\n",
      "noise filter :  True\n",
      "multiprocessing :  32\n",
      "slide_name anno_colon_M_0062\n"
     ]
    },
    {
     "name": "stderr",
     "output_type": "stream",
     "text": [
      " 70%|██████▉   | 566/810 [2:18:25<1:03:22, 15.58s/it]"
     ]
    },
    {
     "name": "stdout",
     "output_type": "stream",
     "text": [
      "Titling Time: 12.1 sec\n",
      "../data/train_data_annotation/Colon/M/anno_colon_M_0193.mrxs\n",
      "noise filter :  True\n",
      "multiprocessing :  32\n",
      "slide_name anno_colon_M_0193\n"
     ]
    },
    {
     "name": "stderr",
     "output_type": "stream",
     "text": [
      " 70%|███████   | 567/810 [2:18:49<1:13:01, 18.03s/it]"
     ]
    },
    {
     "name": "stdout",
     "output_type": "stream",
     "text": [
      "Titling Time: 23.0 sec\n",
      "../data/train_data_annotation/Colon/M/anno_colon_M_0118.mrxs\n",
      "noise filter :  True\n",
      "multiprocessing :  32\n",
      "slide_name anno_colon_M_0118\n"
     ]
    },
    {
     "name": "stderr",
     "output_type": "stream",
     "text": [
      " 70%|███████   | 568/810 [2:19:20<1:28:42, 22.00s/it]"
     ]
    },
    {
     "name": "stdout",
     "output_type": "stream",
     "text": [
      "Titling Time: 11.6 sec\n",
      "../data/train_data_annotation/Colon/M/anno_colon_M_0140.mrxs\n",
      "noise filter :  True\n",
      "multiprocessing :  32\n",
      "slide_name anno_colon_M_0140\n"
     ]
    },
    {
     "name": "stderr",
     "output_type": "stream",
     "text": [
      " 70%|███████   | 569/810 [2:19:33<1:17:27, 19.29s/it]"
     ]
    },
    {
     "name": "stdout",
     "output_type": "stream",
     "text": [
      "Titling Time: 12.5 sec\n",
      "../data/train_data_annotation/Colon/M/anno_colon_M_0149.mrxs\n",
      "noise filter :  True\n",
      "multiprocessing :  32\n",
      "slide_name anno_colon_M_0149\n"
     ]
    },
    {
     "name": "stderr",
     "output_type": "stream",
     "text": [
      " 70%|███████   | 570/810 [2:19:51<1:15:04, 18.77s/it]"
     ]
    },
    {
     "name": "stdout",
     "output_type": "stream",
     "text": [
      "Titling Time: 17.0 sec\n",
      "../data/train_data_annotation/Colon/M/anno_colon_M_0005.mrxs\n",
      "noise filter :  True\n",
      "multiprocessing :  32\n",
      "slide_name anno_colon_M_0005\n"
     ]
    },
    {
     "name": "stderr",
     "output_type": "stream",
     "text": [
      " 70%|███████   | 571/810 [2:20:11<1:16:13, 19.14s/it]"
     ]
    },
    {
     "name": "stdout",
     "output_type": "stream",
     "text": [
      "Titling Time: 19.6 sec\n",
      "../data/train_data_annotation/Colon/M/anno_colon_M_0188.mrxs\n",
      "noise filter :  True\n",
      "multiprocessing :  32\n",
      "slide_name anno_colon_M_0188\n"
     ]
    },
    {
     "name": "stderr",
     "output_type": "stream",
     "text": [
      " 71%|███████   | 572/810 [2:20:27<1:11:53, 18.13s/it]"
     ]
    },
    {
     "name": "stdout",
     "output_type": "stream",
     "text": [
      "Titling Time: 12.4 sec\n",
      "../data/train_data_annotation/Colon/M/anno_colon_M_0090.mrxs\n",
      "noise filter :  True\n",
      "multiprocessing :  32\n",
      "slide_name anno_colon_M_0090\n"
     ]
    },
    {
     "name": "stderr",
     "output_type": "stream",
     "text": [
      " 71%|███████   | 573/810 [2:20:39<1:05:02, 16.47s/it]"
     ]
    },
    {
     "name": "stdout",
     "output_type": "stream",
     "text": [
      "Titling Time: 11.9 sec\n",
      "../data/train_data_annotation/Colon/M/anno_colon_M_0116.mrxs\n",
      "noise filter :  True\n",
      "multiprocessing :  32\n",
      "slide_name anno_colon_M_0116\n"
     ]
    },
    {
     "name": "stderr",
     "output_type": "stream",
     "text": [
      " 71%|███████   | 574/810 [2:20:52<59:53, 15.22s/it]  "
     ]
    },
    {
     "name": "stdout",
     "output_type": "stream",
     "text": [
      "Titling Time: 11.9 sec\n",
      "../data/train_data_annotation/Colon/M/anno_colon_M_0037.mrxs\n",
      "noise filter :  True\n",
      "multiprocessing :  32\n",
      "slide_name anno_colon_M_0037\n"
     ]
    },
    {
     "name": "stderr",
     "output_type": "stream",
     "text": [
      " 71%|███████   | 575/810 [2:21:04<55:57, 14.29s/it]"
     ]
    },
    {
     "name": "stdout",
     "output_type": "stream",
     "text": [
      "Titling Time: 11.7 sec\n",
      "../data/train_data_annotation/Colon/M/anno_colon_M_0032.mrxs\n",
      "noise filter :  True\n",
      "multiprocessing :  32\n",
      "slide_name anno_colon_M_0032\n"
     ]
    },
    {
     "name": "stderr",
     "output_type": "stream",
     "text": [
      " 71%|███████   | 576/810 [2:21:16<53:31, 13.72s/it]"
     ]
    },
    {
     "name": "stdout",
     "output_type": "stream",
     "text": [
      "Titling Time: 12.0 sec\n",
      "../data/train_data_annotation/Colon/M/anno_colon_M_0172.mrxs\n",
      "noise filter :  True\n",
      "multiprocessing :  32\n",
      "slide_name anno_colon_M_0172\n"
     ]
    },
    {
     "name": "stderr",
     "output_type": "stream",
     "text": [
      " 71%|███████   | 577/810 [2:21:29<52:22, 13.49s/it]"
     ]
    },
    {
     "name": "stdout",
     "output_type": "stream",
     "text": [
      "Titling Time: 12.5 sec\n",
      "../data/train_data_annotation/Colon/M/anno_colon_M_0089.mrxs\n",
      "noise filter :  True\n",
      "multiprocessing :  32\n",
      "slide_name anno_colon_M_0089\n"
     ]
    },
    {
     "name": "stderr",
     "output_type": "stream",
     "text": [
      " 71%|███████▏  | 578/810 [2:21:57<1:09:06, 17.87s/it]"
     ]
    },
    {
     "name": "stdout",
     "output_type": "stream",
     "text": [
      "Titling Time: 22.5 sec\n",
      "../data/train_data_annotation/Colon/M/anno_colon_M_0119.mrxs\n",
      "noise filter :  True\n",
      "multiprocessing :  32\n",
      "slide_name anno_colon_M_0119\n"
     ]
    },
    {
     "name": "stderr",
     "output_type": "stream",
     "text": [
      " 71%|███████▏  | 579/810 [2:22:26<1:22:03, 21.31s/it]"
     ]
    },
    {
     "name": "stdout",
     "output_type": "stream",
     "text": [
      "Titling Time: 12.5 sec\n",
      "../data/train_data_annotation/Colon/M/anno_colon_M_0202.mrxs\n",
      "noise filter :  True\n",
      "multiprocessing :  32\n",
      "slide_name anno_colon_M_0202\n"
     ]
    },
    {
     "name": "stderr",
     "output_type": "stream",
     "text": [
      " 72%|███████▏  | 580/810 [2:22:39<1:11:13, 18.58s/it]"
     ]
    },
    {
     "name": "stdout",
     "output_type": "stream",
     "text": [
      "Titling Time: 11.8 sec\n",
      "../data/train_data_annotation/Colon/M/anno_colon_M_0164.mrxs\n",
      "noise filter :  True\n",
      "multiprocessing :  32\n",
      "slide_name anno_colon_M_0164\n"
     ]
    },
    {
     "name": "stderr",
     "output_type": "stream",
     "text": [
      " 72%|███████▏  | 581/810 [2:22:58<1:12:07, 18.90s/it]"
     ]
    },
    {
     "name": "stdout",
     "output_type": "stream",
     "text": [
      "Titling Time: 19.2 sec\n",
      "../data/train_data_annotation/Colon/M/anno_colon_M_0027.mrxs\n",
      "noise filter :  True\n",
      "multiprocessing :  32\n",
      "slide_name anno_colon_M_0027\n"
     ]
    },
    {
     "name": "stderr",
     "output_type": "stream",
     "text": [
      " 72%|███████▏  | 582/810 [2:23:21<1:16:36, 20.16s/it]"
     ]
    },
    {
     "name": "stdout",
     "output_type": "stream",
     "text": [
      "Titling Time: 21.9 sec\n",
      "../data/train_data_annotation/Colon/M/anno_colon_M_0197.mrxs\n",
      "noise filter :  True\n",
      "multiprocessing :  32\n",
      "slide_name anno_colon_M_0197\n"
     ]
    },
    {
     "name": "stderr",
     "output_type": "stream",
     "text": [
      " 72%|███████▏  | 583/810 [2:23:34<1:07:15, 17.78s/it]"
     ]
    },
    {
     "name": "stdout",
     "output_type": "stream",
     "text": [
      "Titling Time: 11.8 sec\n",
      "../data/train_data_annotation/Colon/M/anno_colon_M_0023.mrxs\n",
      "noise filter :  True\n",
      "multiprocessing :  32\n",
      "slide_name anno_colon_M_0023\n"
     ]
    },
    {
     "name": "stderr",
     "output_type": "stream",
     "text": [
      " 72%|███████▏  | 584/810 [2:23:51<1:06:43, 17.71s/it]"
     ]
    },
    {
     "name": "stdout",
     "output_type": "stream",
     "text": [
      "Titling Time: 17.1 sec\n",
      "../data/train_data_annotation/Colon/M/anno_colon_M_0186.mrxs\n",
      "noise filter :  True\n",
      "multiprocessing :  32\n",
      "slide_name anno_colon_M_0186\n"
     ]
    },
    {
     "name": "stderr",
     "output_type": "stream",
     "text": [
      " 72%|███████▏  | 585/810 [2:24:05<1:01:49, 16.48s/it]"
     ]
    },
    {
     "name": "stdout",
     "output_type": "stream",
     "text": [
      "Titling Time: 13.2 sec\n",
      "../data/train_data_annotation/Colon/M/anno_colon_M_0177.mrxs\n",
      "noise filter :  True\n",
      "multiprocessing :  32\n",
      "slide_name anno_colon_M_0177\n"
     ]
    },
    {
     "name": "stderr",
     "output_type": "stream",
     "text": [
      " 72%|███████▏  | 586/810 [2:24:17<56:33, 15.15s/it]  "
     ]
    },
    {
     "name": "stdout",
     "output_type": "stream",
     "text": [
      "Titling Time: 11.6 sec\n",
      "../data/train_data_annotation/Colon/M/anno_colon_M_0067.mrxs\n",
      "noise filter :  True\n",
      "multiprocessing :  32\n",
      "slide_name anno_colon_M_0067\n"
     ]
    },
    {
     "name": "stderr",
     "output_type": "stream",
     "text": [
      " 72%|███████▏  | 587/810 [2:24:37<1:02:11, 16.73s/it]"
     ]
    },
    {
     "name": "stdout",
     "output_type": "stream",
     "text": [
      "Titling Time: 12.8 sec\n",
      "../data/train_data_annotation/Colon/M/anno_colon_M_0195.mrxs\n",
      "noise filter :  True\n",
      "multiprocessing :  32\n",
      "slide_name anno_colon_M_0195\n"
     ]
    },
    {
     "name": "stderr",
     "output_type": "stream",
     "text": [
      " 73%|███████▎  | 588/810 [2:24:50<56:54, 15.38s/it]  "
     ]
    },
    {
     "name": "stdout",
     "output_type": "stream",
     "text": [
      "Titling Time: 11.8 sec\n",
      "../data/train_data_annotation/Colon/M/anno_colon_M_0075.mrxs\n",
      "noise filter :  True\n",
      "multiprocessing :  32\n",
      "slide_name anno_colon_M_0075\n"
     ]
    },
    {
     "name": "stderr",
     "output_type": "stream",
     "text": [
      " 73%|███████▎  | 589/810 [2:25:01<52:41, 14.31s/it]"
     ]
    },
    {
     "name": "stdout",
     "output_type": "stream",
     "text": [
      "Titling Time: 11.4 sec\n",
      "../data/train_data_annotation/Colon/M/anno_colon_M_0025.mrxs\n",
      "noise filter :  True\n",
      "multiprocessing :  32\n",
      "slide_name anno_colon_M_0025\n"
     ]
    },
    {
     "name": "stderr",
     "output_type": "stream",
     "text": [
      " 73%|███████▎  | 590/810 [2:25:14<50:32, 13.78s/it]"
     ]
    },
    {
     "name": "stdout",
     "output_type": "stream",
     "text": [
      "Titling Time: 12.1 sec\n",
      "../data/train_data_annotation/Colon/M/anno_colon_M_0209.mrxs\n",
      "noise filter :  True\n",
      "multiprocessing :  32\n",
      "slide_name anno_colon_M_0209\n"
     ]
    },
    {
     "name": "stderr",
     "output_type": "stream",
     "text": [
      " 73%|███████▎  | 591/810 [2:25:34<57:06, 15.64s/it]"
     ]
    },
    {
     "name": "stdout",
     "output_type": "stream",
     "text": [
      "Titling Time: 19.6 sec\n",
      "../data/train_data_annotation/Colon/M/anno_colon_M_0030.mrxs\n",
      "noise filter :  True\n",
      "multiprocessing :  32\n",
      "slide_name anno_colon_M_0030\n"
     ]
    },
    {
     "name": "stderr",
     "output_type": "stream",
     "text": [
      " 73%|███████▎  | 592/810 [2:25:46<53:17, 14.67s/it]"
     ]
    },
    {
     "name": "stdout",
     "output_type": "stream",
     "text": [
      "Titling Time: 12.0 sec\n",
      "../data/train_data_annotation/Colon/M/anno_colon_M_0201.mrxs\n",
      "noise filter :  True\n",
      "multiprocessing :  32\n",
      "slide_name anno_colon_M_0201\n"
     ]
    },
    {
     "name": "stderr",
     "output_type": "stream",
     "text": [
      " 73%|███████▎  | 593/810 [2:25:58<49:38, 13.73s/it]"
     ]
    },
    {
     "name": "stdout",
     "output_type": "stream",
     "text": [
      "Titling Time: 11.1 sec\n",
      "../data/train_data_annotation/Colon/M/anno_colon_M_0012.mrxs\n",
      "noise filter :  True\n",
      "multiprocessing :  32\n",
      "slide_name anno_colon_M_0012\n"
     ]
    },
    {
     "name": "stderr",
     "output_type": "stream",
     "text": [
      " 73%|███████▎  | 594/810 [2:26:22<1:00:22, 16.77s/it]"
     ]
    },
    {
     "name": "stdout",
     "output_type": "stream",
     "text": [
      "Titling Time: 14.8 sec\n",
      "../data/train_data_annotation/Colon/M/anno_colon_M_0206.mrxs\n",
      "noise filter :  True\n",
      "multiprocessing :  32\n",
      "slide_name anno_colon_M_0206\n"
     ]
    },
    {
     "name": "stderr",
     "output_type": "stream",
     "text": [
      " 73%|███████▎  | 595/810 [2:26:34<55:41, 15.54s/it]  "
     ]
    },
    {
     "name": "stdout",
     "output_type": "stream",
     "text": [
      "Titling Time: 11.4 sec\n",
      "../data/train_data_annotation/Colon/M/anno_colon_M_0200.mrxs\n",
      "noise filter :  True\n",
      "multiprocessing :  32\n",
      "slide_name anno_colon_M_0200\n"
     ]
    },
    {
     "name": "stderr",
     "output_type": "stream",
     "text": [
      " 74%|███████▎  | 596/810 [2:26:48<53:26, 14.98s/it]"
     ]
    },
    {
     "name": "stdout",
     "output_type": "stream",
     "text": [
      "Titling Time: 13.3 sec\n",
      "../data/train_data_annotation/Colon/M/anno_colon_M_0162.mrxs\n",
      "noise filter :  True\n",
      "multiprocessing :  32\n",
      "slide_name anno_colon_M_0162\n"
     ]
    },
    {
     "name": "stderr",
     "output_type": "stream",
     "text": [
      " 74%|███████▎  | 597/810 [2:27:01<50:54, 14.34s/it]"
     ]
    },
    {
     "name": "stdout",
     "output_type": "stream",
     "text": [
      "Titling Time: 12.4 sec\n",
      "../data/train_data_annotation/Colon/M/anno_colon_M_0208.mrxs\n",
      "noise filter :  True\n",
      "multiprocessing :  32\n",
      "slide_name anno_colon_M_0208\n"
     ]
    },
    {
     "name": "stderr",
     "output_type": "stream",
     "text": [
      " 74%|███████▍  | 598/810 [2:27:26<1:02:13, 17.61s/it]"
     ]
    },
    {
     "name": "stdout",
     "output_type": "stream",
     "text": [
      "Titling Time: 14.7 sec\n",
      "../data/train_data_annotation/Colon/M/anno_colon_M_0185.mrxs\n",
      "noise filter :  True\n",
      "multiprocessing :  32\n",
      "slide_name anno_colon_M_0185\n"
     ]
    },
    {
     "name": "stderr",
     "output_type": "stream",
     "text": [
      " 74%|███████▍  | 599/810 [2:27:40<58:07, 16.53s/it]  "
     ]
    },
    {
     "name": "stdout",
     "output_type": "stream",
     "text": [
      "Titling Time: 13.5 sec\n",
      "../data/train_data_annotation/Colon/M/anno_colon_M_0203.mrxs\n",
      "noise filter :  True\n",
      "multiprocessing :  32\n",
      "slide_name anno_colon_M_0203\n"
     ]
    },
    {
     "name": "stderr",
     "output_type": "stream",
     "text": [
      " 74%|███████▍  | 600/810 [2:28:10<1:11:32, 20.44s/it]"
     ]
    },
    {
     "name": "stdout",
     "output_type": "stream",
     "text": [
      "Titling Time: 19.6 sec\n",
      "../data/train_data_annotation/Colon/M/anno_colon_M_0150.mrxs\n",
      "noise filter :  True\n",
      "multiprocessing :  32\n",
      "slide_name anno_colon_M_0150\n"
     ]
    },
    {
     "name": "stderr",
     "output_type": "stream",
     "text": [
      " 74%|███████▍  | 601/810 [2:28:24<1:04:55, 18.64s/it]"
     ]
    },
    {
     "name": "stdout",
     "output_type": "stream",
     "text": [
      "Titling Time: 13.9 sec\n",
      "../data/train_data_annotation/Colon/M/anno_colon_M_0182.mrxs\n",
      "noise filter :  True\n",
      "multiprocessing :  32\n",
      "slide_name anno_colon_M_0182\n"
     ]
    },
    {
     "name": "stderr",
     "output_type": "stream",
     "text": [
      " 74%|███████▍  | 602/810 [2:28:37<58:22, 16.84s/it]  "
     ]
    },
    {
     "name": "stdout",
     "output_type": "stream",
     "text": [
      "Titling Time: 12.2 sec\n",
      "../data/train_data_annotation/Colon/M/anno_colon_M_0115.mrxs\n",
      "noise filter :  True\n",
      "multiprocessing :  32\n",
      "slide_name anno_colon_M_0115\n"
     ]
    },
    {
     "name": "stderr",
     "output_type": "stream",
     "text": [
      " 74%|███████▍  | 603/810 [2:29:07<1:11:42, 20.78s/it]"
     ]
    },
    {
     "name": "stdout",
     "output_type": "stream",
     "text": [
      "Titling Time: 29.0 sec\n",
      "../data/train_data_annotation/Colon/M/anno_colon_M_0073.mrxs\n",
      "noise filter :  True\n",
      "multiprocessing :  32\n",
      "slide_name anno_colon_M_0073\n"
     ]
    },
    {
     "name": "stderr",
     "output_type": "stream",
     "text": [
      " 75%|███████▍  | 604/810 [2:29:19<1:02:09, 18.11s/it]"
     ]
    },
    {
     "name": "stdout",
     "output_type": "stream",
     "text": [
      "Titling Time: 11.4 sec\n",
      "../data/train_data_annotation/Colon/M/anno_colon_M_0180.mrxs\n",
      "noise filter :  True\n",
      "multiprocessing :  32\n",
      "slide_name anno_colon_M_0180\n"
     ]
    },
    {
     "name": "stderr",
     "output_type": "stream",
     "text": [
      " 75%|███████▍  | 605/810 [2:29:31<55:52, 16.35s/it]  "
     ]
    },
    {
     "name": "stdout",
     "output_type": "stream",
     "text": [
      "Titling Time: 11.9 sec\n",
      "../data/train_data_annotation/Colon/M/anno_colon_M_0078.mrxs\n",
      "noise filter :  True\n",
      "multiprocessing :  32\n",
      "slide_name anno_colon_M_0078\n"
     ]
    },
    {
     "name": "stderr",
     "output_type": "stream",
     "text": [
      " 75%|███████▍  | 606/810 [2:29:45<53:17, 15.67s/it]"
     ]
    },
    {
     "name": "stdout",
     "output_type": "stream",
     "text": [
      "Titling Time: 13.6 sec\n",
      "../data/train_data_annotation/Colon/M/anno_colon_M_0094.mrxs\n",
      "noise filter :  True\n",
      "multiprocessing :  32\n",
      "slide_name anno_colon_M_0094\n"
     ]
    },
    {
     "name": "stderr",
     "output_type": "stream",
     "text": [
      " 75%|███████▍  | 607/810 [2:30:06<58:44, 17.36s/it]"
     ]
    },
    {
     "name": "stdout",
     "output_type": "stream",
     "text": [
      "Titling Time: 20.9 sec\n",
      "../data/train_data_annotation/Colon/M/anno_colon_M_0038.mrxs\n",
      "noise filter :  True\n",
      "multiprocessing :  32\n",
      "slide_name anno_colon_M_0038\n"
     ]
    },
    {
     "name": "stderr",
     "output_type": "stream",
     "text": [
      " 75%|███████▌  | 608/810 [2:30:27<1:01:30, 18.27s/it]"
     ]
    },
    {
     "name": "stdout",
     "output_type": "stream",
     "text": [
      "Titling Time: 19.6 sec\n",
      "../data/train_data_annotation/Colon/M/anno_colon_M_0184.mrxs\n",
      "noise filter :  True\n",
      "multiprocessing :  32\n",
      "slide_name anno_colon_M_0184\n"
     ]
    },
    {
     "name": "stderr",
     "output_type": "stream",
     "text": [
      " 75%|███████▌  | 609/810 [2:30:40<56:14, 16.79s/it]  "
     ]
    },
    {
     "name": "stdout",
     "output_type": "stream",
     "text": [
      "Titling Time: 12.9 sec\n",
      "../data/train_data_annotation/Colon/M/anno_colon_M_0020.mrxs\n",
      "noise filter :  True\n",
      "multiprocessing :  32\n",
      "slide_name anno_colon_M_0020\n"
     ]
    },
    {
     "name": "stderr",
     "output_type": "stream",
     "text": [
      " 75%|███████▌  | 610/810 [2:30:52<50:53, 15.27s/it]"
     ]
    },
    {
     "name": "stdout",
     "output_type": "stream",
     "text": [
      "Titling Time: 11.4 sec\n",
      "../data/train_data_annotation/Colon/D/anno_colon_D_0110.mrxs\n",
      "noise filter :  True\n",
      "multiprocessing :  32\n",
      "slide_name anno_colon_D_0110\n"
     ]
    },
    {
     "name": "stderr",
     "output_type": "stream",
     "text": [
      " 75%|███████▌  | 611/810 [2:31:11<54:19, 16.38s/it]"
     ]
    },
    {
     "name": "stdout",
     "output_type": "stream",
     "text": [
      "Titling Time: 11.4 sec\n",
      "../data/train_data_annotation/Colon/D/anno_colon_D_0105.mrxs\n",
      "noise filter :  True\n",
      "multiprocessing :  32\n",
      "slide_name anno_colon_D_0105\n"
     ]
    },
    {
     "name": "stderr",
     "output_type": "stream",
     "text": [
      " 76%|███████▌  | 612/810 [2:31:22<49:25, 14.98s/it]"
     ]
    },
    {
     "name": "stdout",
     "output_type": "stream",
     "text": [
      "Titling Time: 11.4 sec\n",
      "../data/train_data_annotation/Colon/D/anno_colon_D_0034.mrxs\n",
      "noise filter :  True\n",
      "multiprocessing :  32\n",
      "slide_name anno_colon_D_0034\n"
     ]
    },
    {
     "name": "stderr",
     "output_type": "stream",
     "text": [
      " 76%|███████▌  | 613/810 [2:31:34<46:17, 14.10s/it]"
     ]
    },
    {
     "name": "stdout",
     "output_type": "stream",
     "text": [
      "Titling Time: 11.7 sec\n",
      "../data/train_data_annotation/Colon/D/anno_colon_D_0096.mrxs\n",
      "noise filter :  True\n",
      "multiprocessing :  32\n",
      "slide_name anno_colon_D_0096\n"
     ]
    },
    {
     "name": "stderr",
     "output_type": "stream",
     "text": [
      " 76%|███████▌  | 614/810 [2:31:46<43:41, 13.37s/it]"
     ]
    },
    {
     "name": "stdout",
     "output_type": "stream",
     "text": [
      "Titling Time: 11.3 sec\n",
      "../data/train_data_annotation/Colon/D/anno_colon_D_0145.mrxs\n",
      "noise filter :  True\n",
      "multiprocessing :  32\n",
      "slide_name anno_colon_D_0145\n"
     ]
    },
    {
     "name": "stderr",
     "output_type": "stream",
     "text": [
      " 76%|███████▌  | 615/810 [2:32:02<46:05, 14.18s/it]"
     ]
    },
    {
     "name": "stdout",
     "output_type": "stream",
     "text": [
      "Titling Time: 15.7 sec\n",
      "../data/train_data_annotation/Colon/D/anno_colon_D_0168.mrxs\n",
      "noise filter :  True\n",
      "multiprocessing :  32\n",
      "slide_name anno_colon_D_0168\n"
     ]
    },
    {
     "name": "stderr",
     "output_type": "stream",
     "text": [
      " 76%|███████▌  | 616/810 [2:32:14<43:32, 13.47s/it]"
     ]
    },
    {
     "name": "stdout",
     "output_type": "stream",
     "text": [
      "Titling Time: 11.3 sec\n",
      "../data/train_data_annotation/Colon/D/anno_colon_D_0104.mrxs\n",
      "noise filter :  True\n",
      "multiprocessing :  32\n",
      "slide_name anno_colon_D_0104\n"
     ]
    },
    {
     "name": "stderr",
     "output_type": "stream",
     "text": [
      " 76%|███████▌  | 617/810 [2:32:26<41:39, 12.95s/it]"
     ]
    },
    {
     "name": "stdout",
     "output_type": "stream",
     "text": [
      "Titling Time: 11.3 sec\n",
      "../data/train_data_annotation/Colon/D/anno_colon_D_0141.mrxs\n",
      "noise filter :  True\n",
      "multiprocessing :  32\n",
      "slide_name anno_colon_D_0141\n"
     ]
    },
    {
     "name": "stderr",
     "output_type": "stream",
     "text": [
      " 76%|███████▋  | 618/810 [2:32:37<40:03, 12.52s/it]"
     ]
    },
    {
     "name": "stdout",
     "output_type": "stream",
     "text": [
      "Titling Time: 11.2 sec\n",
      "../data/train_data_annotation/Colon/D/anno_colon_D_0147.mrxs\n",
      "noise filter :  True\n",
      "multiprocessing :  32\n",
      "slide_name anno_colon_D_0147\n"
     ]
    },
    {
     "name": "stderr",
     "output_type": "stream",
     "text": [
      " 76%|███████▋  | 619/810 [2:32:50<39:41, 12.47s/it]"
     ]
    },
    {
     "name": "stdout",
     "output_type": "stream",
     "text": [
      "Titling Time: 11.9 sec\n",
      "../data/train_data_annotation/Colon/D/anno_colon_D_0054.mrxs\n",
      "noise filter :  True\n",
      "multiprocessing :  32\n",
      "slide_name anno_colon_D_0054\n"
     ]
    },
    {
     "name": "stderr",
     "output_type": "stream",
     "text": [
      " 77%|███████▋  | 620/810 [2:33:01<38:45, 12.24s/it]"
     ]
    },
    {
     "name": "stdout",
     "output_type": "stream",
     "text": [
      "Titling Time: 11.4 sec\n",
      "../data/train_data_annotation/Colon/D/anno_colon_D_0174.mrxs\n",
      "noise filter :  True\n",
      "multiprocessing :  32\n",
      "slide_name anno_colon_D_0174\n"
     ]
    },
    {
     "name": "stderr",
     "output_type": "stream",
     "text": [
      " 77%|███████▋  | 621/810 [2:33:13<38:18, 12.16s/it]"
     ]
    },
    {
     "name": "stdout",
     "output_type": "stream",
     "text": [
      "Titling Time: 11.6 sec\n",
      "../data/train_data_annotation/Colon/D/anno_colon_D_0152.mrxs\n",
      "noise filter :  True\n",
      "multiprocessing :  32\n",
      "slide_name anno_colon_D_0152\n"
     ]
    },
    {
     "name": "stderr",
     "output_type": "stream",
     "text": [
      " 77%|███████▋  | 622/810 [2:33:26<38:32, 12.30s/it]"
     ]
    },
    {
     "name": "stdout",
     "output_type": "stream",
     "text": [
      "Titling Time: 12.2 sec\n",
      "../data/train_data_annotation/Colon/D/anno_colon_D_0120.mrxs\n",
      "noise filter :  True\n",
      "multiprocessing :  32\n",
      "slide_name anno_colon_D_0120\n"
     ]
    },
    {
     "name": "stderr",
     "output_type": "stream",
     "text": [
      " 77%|███████▋  | 623/810 [2:33:38<37:42, 12.10s/it]"
     ]
    },
    {
     "name": "stdout",
     "output_type": "stream",
     "text": [
      "Titling Time: 11.3 sec\n",
      "../data/train_data_annotation/Colon/D/anno_colon_D_0012.mrxs\n",
      "noise filter :  True\n",
      "multiprocessing :  32\n",
      "slide_name anno_colon_D_0012\n"
     ]
    },
    {
     "name": "stderr",
     "output_type": "stream",
     "text": [
      " 77%|███████▋  | 624/810 [2:33:54<41:47, 13.48s/it]"
     ]
    },
    {
     "name": "stdout",
     "output_type": "stream",
     "text": [
      "Titling Time: 11.8 sec\n",
      "../data/train_data_annotation/Colon/D/anno_colon_D_0154.mrxs\n",
      "noise filter :  True\n",
      "multiprocessing :  32\n",
      "slide_name anno_colon_D_0154\n"
     ]
    },
    {
     "name": "stderr",
     "output_type": "stream",
     "text": [
      " 77%|███████▋  | 625/810 [2:34:06<40:26, 13.12s/it]"
     ]
    },
    {
     "name": "stdout",
     "output_type": "stream",
     "text": [
      "Titling Time: 11.9 sec\n",
      "../data/train_data_annotation/Colon/D/anno_colon_D_0175.mrxs\n",
      "noise filter :  True\n",
      "multiprocessing :  32\n",
      "slide_name anno_colon_D_0175\n"
     ]
    },
    {
     "name": "stderr",
     "output_type": "stream",
     "text": [
      " 77%|███████▋  | 626/810 [2:34:18<39:03, 12.74s/it]"
     ]
    },
    {
     "name": "stdout",
     "output_type": "stream",
     "text": [
      "Titling Time: 11.5 sec\n",
      "../data/train_data_annotation/Colon/D/anno_colon_D_0049.mrxs\n",
      "noise filter :  True\n",
      "multiprocessing :  32\n",
      "slide_name anno_colon_D_0049\n"
     ]
    },
    {
     "name": "stderr",
     "output_type": "stream",
     "text": [
      " 77%|███████▋  | 627/810 [2:34:30<38:09, 12.51s/it]"
     ]
    },
    {
     "name": "stdout",
     "output_type": "stream",
     "text": [
      "Titling Time: 11.7 sec\n",
      "../data/train_data_annotation/Colon/D/anno_colon_D_0190.mrxs\n",
      "noise filter :  True\n",
      "multiprocessing :  32\n",
      "slide_name anno_colon_D_0190\n"
     ]
    },
    {
     "name": "stderr",
     "output_type": "stream",
     "text": [
      " 78%|███████▊  | 628/810 [2:34:42<37:32, 12.38s/it]"
     ]
    },
    {
     "name": "stdout",
     "output_type": "stream",
     "text": [
      "Titling Time: 11.7 sec\n",
      "../data/train_data_annotation/Colon/D/anno_colon_D_0163.mrxs\n",
      "noise filter :  True\n",
      "multiprocessing :  32\n",
      "slide_name anno_colon_D_0163\n"
     ]
    },
    {
     "name": "stderr",
     "output_type": "stream",
     "text": [
      " 78%|███████▊  | 629/810 [2:34:54<36:35, 12.13s/it]"
     ]
    },
    {
     "name": "stdout",
     "output_type": "stream",
     "text": [
      "Titling Time: 11.2 sec\n",
      "../data/train_data_annotation/Colon/D/anno_colon_D_0135.mrxs\n",
      "noise filter :  True\n",
      "multiprocessing :  32\n",
      "slide_name anno_colon_D_0135\n"
     ]
    },
    {
     "name": "stderr",
     "output_type": "stream",
     "text": [
      " 78%|███████▊  | 630/810 [2:35:06<36:10, 12.06s/it]"
     ]
    },
    {
     "name": "stdout",
     "output_type": "stream",
     "text": [
      "Titling Time: 11.5 sec\n",
      "../data/train_data_annotation/Colon/D/anno_colon_D_0063.mrxs\n",
      "noise filter :  True\n",
      "multiprocessing :  32\n",
      "slide_name anno_colon_D_0063\n"
     ]
    },
    {
     "name": "stderr",
     "output_type": "stream",
     "text": [
      " 78%|███████▊  | 631/810 [2:35:18<35:38, 11.95s/it]"
     ]
    },
    {
     "name": "stdout",
     "output_type": "stream",
     "text": [
      "Titling Time: 11.3 sec\n",
      "../data/train_data_annotation/Colon/D/anno_colon_D_0172.mrxs\n",
      "noise filter :  True\n",
      "multiprocessing :  32\n",
      "slide_name anno_colon_D_0172\n"
     ]
    },
    {
     "name": "stderr",
     "output_type": "stream",
     "text": [
      " 78%|███████▊  | 632/810 [2:35:30<35:37, 12.01s/it]"
     ]
    },
    {
     "name": "stdout",
     "output_type": "stream",
     "text": [
      "Titling Time: 11.8 sec\n",
      "../data/train_data_annotation/Colon/D/anno_colon_D_0170.mrxs\n",
      "noise filter :  True\n",
      "multiprocessing :  32\n",
      "slide_name anno_colon_D_0170\n"
     ]
    },
    {
     "name": "stderr",
     "output_type": "stream",
     "text": [
      " 78%|███████▊  | 633/810 [2:35:41<35:15, 11.95s/it]"
     ]
    },
    {
     "name": "stdout",
     "output_type": "stream",
     "text": [
      "Titling Time: 11.4 sec\n",
      "../data/train_data_annotation/Colon/D/anno_colon_D_0095.mrxs\n",
      "noise filter :  True\n",
      "multiprocessing :  32\n",
      "slide_name anno_colon_D_0095\n"
     ]
    },
    {
     "name": "stderr",
     "output_type": "stream",
     "text": [
      " 78%|███████▊  | 634/810 [2:35:53<34:46, 11.86s/it]"
     ]
    },
    {
     "name": "stdout",
     "output_type": "stream",
     "text": [
      "Titling Time: 11.3 sec\n",
      "../data/train_data_annotation/Colon/D/anno_colon_D_0100.mrxs\n",
      "noise filter :  True\n",
      "multiprocessing :  32\n",
      "slide_name anno_colon_D_0100\n"
     ]
    },
    {
     "name": "stderr",
     "output_type": "stream",
     "text": [
      " 78%|███████▊  | 635/810 [2:36:05<34:42, 11.90s/it]"
     ]
    },
    {
     "name": "stdout",
     "output_type": "stream",
     "text": [
      "Titling Time: 11.7 sec\n",
      "../data/train_data_annotation/Colon/D/anno_colon_D_0194.mrxs\n",
      "noise filter :  True\n",
      "multiprocessing :  32\n",
      "slide_name anno_colon_D_0194\n"
     ]
    },
    {
     "name": "stderr",
     "output_type": "stream",
     "text": [
      " 79%|███████▊  | 636/810 [2:36:17<34:47, 12.00s/it]"
     ]
    },
    {
     "name": "stdout",
     "output_type": "stream",
     "text": [
      "Titling Time: 11.9 sec\n",
      "../data/train_data_annotation/Colon/D/anno_colon_D_0129.mrxs\n",
      "noise filter :  True\n",
      "multiprocessing :  32\n",
      "slide_name anno_colon_D_0129\n"
     ]
    },
    {
     "name": "stderr",
     "output_type": "stream",
     "text": [
      " 79%|███████▊  | 637/810 [2:36:30<35:08, 12.19s/it]"
     ]
    },
    {
     "name": "stdout",
     "output_type": "stream",
     "text": [
      "Titling Time: 12.1 sec\n",
      "../data/train_data_annotation/Colon/D/anno_colon_D_0126.mrxs\n",
      "noise filter :  True\n",
      "multiprocessing :  32\n",
      "slide_name anno_colon_D_0126\n"
     ]
    },
    {
     "name": "stderr",
     "output_type": "stream",
     "text": [
      " 79%|███████▉  | 638/810 [2:36:42<34:34, 12.06s/it]"
     ]
    },
    {
     "name": "stdout",
     "output_type": "stream",
     "text": [
      "Titling Time: 11.3 sec\n",
      "../data/train_data_annotation/Colon/D/anno_colon_D_0028.mrxs\n",
      "noise filter :  True\n",
      "multiprocessing :  32\n",
      "slide_name anno_colon_D_0028\n"
     ]
    },
    {
     "name": "stderr",
     "output_type": "stream",
     "text": [
      " 79%|███████▉  | 639/810 [2:36:54<34:18, 12.04s/it]"
     ]
    },
    {
     "name": "stdout",
     "output_type": "stream",
     "text": [
      "Titling Time: 11.6 sec\n",
      "../data/train_data_annotation/Colon/D/anno_colon_D_0146.mrxs\n",
      "noise filter :  True\n",
      "multiprocessing :  32\n",
      "slide_name anno_colon_D_0146\n"
     ]
    },
    {
     "name": "stderr",
     "output_type": "stream",
     "text": [
      " 79%|███████▉  | 640/810 [2:37:06<34:02, 12.01s/it]"
     ]
    },
    {
     "name": "stdout",
     "output_type": "stream",
     "text": [
      "Titling Time: 11.6 sec\n",
      "../data/train_data_annotation/Colon/D/anno_colon_D_0111.mrxs\n",
      "noise filter :  True\n",
      "multiprocessing :  32\n",
      "slide_name anno_colon_D_0111\n"
     ]
    },
    {
     "name": "stderr",
     "output_type": "stream",
     "text": [
      " 79%|███████▉  | 641/810 [2:37:18<33:47, 12.00s/it]"
     ]
    },
    {
     "name": "stdout",
     "output_type": "stream",
     "text": [
      "Titling Time: 11.5 sec\n",
      "../data/train_data_annotation/Colon/D/anno_colon_D_0185.mrxs\n",
      "noise filter :  True\n",
      "multiprocessing :  32\n",
      "slide_name anno_colon_D_0185\n"
     ]
    },
    {
     "name": "stderr",
     "output_type": "stream",
     "text": [
      " 79%|███████▉  | 642/810 [2:37:30<33:34, 11.99s/it]"
     ]
    },
    {
     "name": "stdout",
     "output_type": "stream",
     "text": [
      "Titling Time: 11.6 sec\n",
      "../data/train_data_annotation/Colon/D/anno_colon_D_0167.mrxs\n",
      "noise filter :  True\n",
      "multiprocessing :  32\n",
      "slide_name anno_colon_D_0167\n"
     ]
    },
    {
     "name": "stderr",
     "output_type": "stream",
     "text": [
      " 79%|███████▉  | 643/810 [2:37:41<33:05, 11.89s/it]"
     ]
    },
    {
     "name": "stdout",
     "output_type": "stream",
     "text": [
      "Titling Time: 11.3 sec\n",
      "../data/train_data_annotation/Colon/D/anno_colon_D_0122.mrxs\n",
      "noise filter :  True\n",
      "multiprocessing :  32\n",
      "slide_name anno_colon_D_0122\n"
     ]
    },
    {
     "name": "stderr",
     "output_type": "stream",
     "text": [
      " 80%|███████▉  | 644/810 [2:37:56<35:39, 12.89s/it]"
     ]
    },
    {
     "name": "stdout",
     "output_type": "stream",
     "text": [
      "Titling Time: 14.7 sec\n",
      "../data/train_data_annotation/Colon/D/anno_colon_D_0060.mrxs\n",
      "noise filter :  True\n",
      "multiprocessing :  32\n",
      "slide_name anno_colon_D_0060\n"
     ]
    },
    {
     "name": "stderr",
     "output_type": "stream",
     "text": [
      " 80%|███████▉  | 645/810 [2:38:09<35:14, 12.82s/it]"
     ]
    },
    {
     "name": "stdout",
     "output_type": "stream",
     "text": [
      "Titling Time: 11.9 sec\n",
      "../data/train_data_annotation/Colon/D/anno_colon_D_0127.mrxs\n",
      "noise filter :  True\n",
      "multiprocessing :  32\n",
      "slide_name anno_colon_D_0127\n"
     ]
    },
    {
     "name": "stderr",
     "output_type": "stream",
     "text": [
      " 80%|███████▉  | 646/810 [2:38:21<34:01, 12.45s/it]"
     ]
    },
    {
     "name": "stdout",
     "output_type": "stream",
     "text": [
      "Titling Time: 11.2 sec\n",
      "../data/train_data_annotation/Colon/D/anno_colon_D_0113.mrxs\n",
      "noise filter :  True\n",
      "multiprocessing :  32\n",
      "slide_name anno_colon_D_0113\n"
     ]
    },
    {
     "name": "stderr",
     "output_type": "stream",
     "text": [
      " 80%|███████▉  | 647/810 [2:38:32<32:48, 12.08s/it]"
     ]
    },
    {
     "name": "stdout",
     "output_type": "stream",
     "text": [
      "Titling Time: 10.9 sec\n",
      "../data/train_data_annotation/Colon/D/anno_colon_D_0045.mrxs\n",
      "noise filter :  True\n",
      "multiprocessing :  32\n",
      "slide_name anno_colon_D_0045\n"
     ]
    },
    {
     "name": "stderr",
     "output_type": "stream",
     "text": [
      " 80%|████████  | 648/810 [2:38:46<34:23, 12.74s/it]"
     ]
    },
    {
     "name": "stdout",
     "output_type": "stream",
     "text": [
      "Titling Time: 11.9 sec\n",
      "../data/train_data_annotation/Colon/D/anno_colon_D_0160.mrxs\n",
      "noise filter :  True\n",
      "multiprocessing :  32\n",
      "slide_name anno_colon_D_0160\n"
     ]
    },
    {
     "name": "stderr",
     "output_type": "stream",
     "text": [
      " 80%|████████  | 649/810 [2:38:59<34:10, 12.73s/it]"
     ]
    },
    {
     "name": "stdout",
     "output_type": "stream",
     "text": [
      "Titling Time: 12.3 sec\n",
      "../data/train_data_annotation/Colon/D/anno_colon_D_0014.mrxs\n",
      "noise filter :  True\n",
      "multiprocessing :  32\n",
      "slide_name anno_colon_D_0014\n"
     ]
    },
    {
     "name": "stderr",
     "output_type": "stream",
     "text": [
      " 80%|████████  | 650/810 [2:39:11<33:17, 12.48s/it]"
     ]
    },
    {
     "name": "stdout",
     "output_type": "stream",
     "text": [
      "Titling Time: 11.5 sec\n",
      "../data/train_data_annotation/Colon/D/anno_colon_D_0093.mrxs\n",
      "noise filter :  True\n",
      "multiprocessing :  32\n",
      "slide_name anno_colon_D_0093\n"
     ]
    },
    {
     "name": "stderr",
     "output_type": "stream",
     "text": [
      " 80%|████████  | 651/810 [2:39:32<40:08, 15.15s/it]"
     ]
    },
    {
     "name": "stdout",
     "output_type": "stream",
     "text": [
      "Titling Time: 12.0 sec\n",
      "../data/train_data_annotation/Colon/D/anno_colon_D_0033.mrxs\n",
      "noise filter :  True\n",
      "multiprocessing :  32\n",
      "slide_name anno_colon_D_0033\n"
     ]
    },
    {
     "name": "stderr",
     "output_type": "stream",
     "text": [
      " 80%|████████  | 652/810 [2:39:44<37:27, 14.22s/it]"
     ]
    },
    {
     "name": "stdout",
     "output_type": "stream",
     "text": [
      "Titling Time: 11.7 sec\n",
      "../data/train_data_annotation/Colon/D/anno_colon_D_0026.mrxs\n",
      "noise filter :  True\n",
      "multiprocessing :  32\n",
      "slide_name anno_colon_D_0026\n"
     ]
    },
    {
     "name": "stderr",
     "output_type": "stream",
     "text": [
      " 81%|████████  | 653/810 [2:39:56<35:24, 13.53s/it]"
     ]
    },
    {
     "name": "stdout",
     "output_type": "stream",
     "text": [
      "Titling Time: 11.5 sec\n",
      "../data/train_data_annotation/Colon/D/anno_colon_D_0108.mrxs\n",
      "noise filter :  True\n",
      "multiprocessing :  32\n",
      "slide_name anno_colon_D_0108\n"
     ]
    },
    {
     "name": "stderr",
     "output_type": "stream",
     "text": [
      " 81%|████████  | 654/810 [2:40:09<34:31, 13.28s/it]"
     ]
    },
    {
     "name": "stdout",
     "output_type": "stream",
     "text": [
      "Titling Time: 12.2 sec\n",
      "../data/train_data_annotation/Colon/D/anno_colon_D_0055.mrxs\n",
      "noise filter :  True\n",
      "multiprocessing :  32\n",
      "slide_name anno_colon_D_0055\n"
     ]
    },
    {
     "name": "stderr",
     "output_type": "stream",
     "text": [
      " 81%|████████  | 655/810 [2:40:21<33:18, 12.89s/it]"
     ]
    },
    {
     "name": "stdout",
     "output_type": "stream",
     "text": [
      "Titling Time: 11.6 sec\n",
      "../data/train_data_annotation/Colon/D/anno_colon_D_0123.mrxs\n",
      "noise filter :  True\n",
      "multiprocessing :  32\n",
      "slide_name anno_colon_D_0123\n"
     ]
    },
    {
     "name": "stderr",
     "output_type": "stream",
     "text": [
      " 81%|████████  | 656/810 [2:40:37<35:14, 13.73s/it]"
     ]
    },
    {
     "name": "stdout",
     "output_type": "stream",
     "text": [
      "Titling Time: 15.3 sec\n",
      "../data/train_data_annotation/Colon/D/anno_colon_D_0080.mrxs\n",
      "noise filter :  True\n",
      "multiprocessing :  32\n",
      "slide_name anno_colon_D_0080\n"
     ]
    },
    {
     "name": "stderr",
     "output_type": "stream",
     "text": [
      " 81%|████████  | 657/810 [2:40:48<33:30, 13.14s/it]"
     ]
    },
    {
     "name": "stdout",
     "output_type": "stream",
     "text": [
      "Titling Time: 11.4 sec\n",
      "../data/train_data_annotation/Colon/D/anno_colon_D_0010.mrxs\n",
      "noise filter :  True\n",
      "multiprocessing :  32\n",
      "slide_name anno_colon_D_0010\n"
     ]
    },
    {
     "name": "stderr",
     "output_type": "stream",
     "text": [
      " 81%|████████  | 658/810 [2:41:01<33:03, 13.05s/it]"
     ]
    },
    {
     "name": "stdout",
     "output_type": "stream",
     "text": [
      "Titling Time: 12.4 sec\n",
      "../data/train_data_annotation/Colon/D/anno_colon_D_0015.mrxs\n",
      "noise filter :  True\n",
      "multiprocessing :  32\n",
      "slide_name anno_colon_D_0015\n"
     ]
    },
    {
     "name": "stderr",
     "output_type": "stream",
     "text": [
      " 81%|████████▏ | 659/810 [2:41:13<31:39, 12.58s/it]"
     ]
    },
    {
     "name": "stdout",
     "output_type": "stream",
     "text": [
      "Titling Time: 11.1 sec\n",
      "../data/train_data_annotation/Colon/D/anno_colon_D_0139.mrxs\n",
      "noise filter :  True\n",
      "multiprocessing :  32\n",
      "slide_name anno_colon_D_0139\n"
     ]
    },
    {
     "name": "stderr",
     "output_type": "stream",
     "text": [
      " 81%|████████▏ | 660/810 [2:41:24<30:44, 12.30s/it]"
     ]
    },
    {
     "name": "stdout",
     "output_type": "stream",
     "text": [
      "Titling Time: 11.2 sec\n",
      "../data/train_data_annotation/Colon/D/anno_colon_D_0164.mrxs\n",
      "noise filter :  True\n",
      "multiprocessing :  32\n",
      "slide_name anno_colon_D_0164\n"
     ]
    },
    {
     "name": "stderr",
     "output_type": "stream",
     "text": [
      " 82%|████████▏ | 661/810 [2:41:36<30:27, 12.27s/it]"
     ]
    },
    {
     "name": "stdout",
     "output_type": "stream",
     "text": [
      "Titling Time: 11.8 sec\n",
      "../data/train_data_annotation/Colon/D/anno_colon_D_0068.mrxs\n",
      "noise filter :  True\n",
      "multiprocessing :  32\n",
      "slide_name anno_colon_D_0068\n"
     ]
    },
    {
     "name": "stderr",
     "output_type": "stream",
     "text": [
      " 82%|████████▏ | 662/810 [2:41:48<30:02, 12.18s/it]"
     ]
    },
    {
     "name": "stdout",
     "output_type": "stream",
     "text": [
      "Titling Time: 11.6 sec\n",
      "../data/train_data_annotation/Colon/D/anno_colon_D_0090.mrxs\n",
      "noise filter :  True\n",
      "multiprocessing :  32\n",
      "slide_name anno_colon_D_0090\n"
     ]
    },
    {
     "name": "stderr",
     "output_type": "stream",
     "text": [
      " 82%|████████▏ | 663/810 [2:42:01<30:06, 12.29s/it]"
     ]
    },
    {
     "name": "stdout",
     "output_type": "stream",
     "text": [
      "Titling Time: 12.1 sec\n",
      "../data/train_data_annotation/Colon/D/anno_colon_D_0192.mrxs\n",
      "noise filter :  True\n",
      "multiprocessing :  32\n",
      "slide_name anno_colon_D_0192\n"
     ]
    },
    {
     "name": "stderr",
     "output_type": "stream",
     "text": [
      " 82%|████████▏ | 664/810 [2:42:13<29:40, 12.20s/it]"
     ]
    },
    {
     "name": "stdout",
     "output_type": "stream",
     "text": [
      "Titling Time: 11.7 sec\n",
      "../data/train_data_annotation/Colon/D/anno_colon_D_0150.mrxs\n",
      "noise filter :  True\n",
      "multiprocessing :  32\n",
      "slide_name anno_colon_D_0150\n"
     ]
    },
    {
     "name": "stderr",
     "output_type": "stream",
     "text": [
      " 82%|████████▏ | 665/810 [2:42:25<29:17, 12.12s/it]"
     ]
    },
    {
     "name": "stdout",
     "output_type": "stream",
     "text": [
      "Titling Time: 11.6 sec\n",
      "../data/train_data_annotation/Colon/D/anno_colon_D_0004.mrxs\n",
      "noise filter :  True\n",
      "multiprocessing :  32\n",
      "slide_name anno_colon_D_0004\n"
     ]
    },
    {
     "name": "stderr",
     "output_type": "stream",
     "text": [
      " 82%|████████▏ | 666/810 [2:42:46<35:31, 14.80s/it]"
     ]
    },
    {
     "name": "stdout",
     "output_type": "stream",
     "text": [
      "Titling Time: 20.6 sec\n",
      "../data/train_data_annotation/Colon/D/anno_colon_D_0057.mrxs\n",
      "noise filter :  True\n",
      "multiprocessing :  32\n",
      "slide_name anno_colon_D_0057\n"
     ]
    },
    {
     "name": "stderr",
     "output_type": "stream",
     "text": [
      " 82%|████████▏ | 667/810 [2:42:57<32:52, 13.79s/it]"
     ]
    },
    {
     "name": "stdout",
     "output_type": "stream",
     "text": [
      "Titling Time: 11.1 sec\n",
      "../data/train_data_annotation/Colon/D/anno_colon_D_0166.mrxs\n",
      "noise filter :  True\n",
      "multiprocessing :  32\n",
      "slide_name anno_colon_D_0166\n"
     ]
    },
    {
     "name": "stderr",
     "output_type": "stream",
     "text": [
      " 82%|████████▏ | 668/810 [2:43:09<31:06, 13.14s/it]"
     ]
    },
    {
     "name": "stdout",
     "output_type": "stream",
     "text": [
      "Titling Time: 11.2 sec\n",
      "../data/train_data_annotation/Colon/D/anno_colon_D_0074.mrxs\n",
      "noise filter :  True\n",
      "multiprocessing :  32\n",
      "slide_name anno_colon_D_0074\n"
     ]
    },
    {
     "name": "stderr",
     "output_type": "stream",
     "text": [
      " 83%|████████▎ | 669/810 [2:43:30<36:14, 15.42s/it]"
     ]
    },
    {
     "name": "stdout",
     "output_type": "stream",
     "text": [
      "Titling Time: 20.3 sec\n",
      "../data/train_data_annotation/Colon/D/anno_colon_D_0157.mrxs\n",
      "noise filter :  True\n",
      "multiprocessing :  32\n",
      "slide_name anno_colon_D_0157\n"
     ]
    },
    {
     "name": "stderr",
     "output_type": "stream",
     "text": [
      " 83%|████████▎ | 670/810 [2:43:42<33:57, 14.55s/it]"
     ]
    },
    {
     "name": "stdout",
     "output_type": "stream",
     "text": [
      "Titling Time: 12.1 sec\n",
      "../data/train_data_annotation/Colon/D/anno_colon_D_0011.mrxs\n",
      "noise filter :  True\n",
      "multiprocessing :  32\n",
      "slide_name anno_colon_D_0011\n"
     ]
    },
    {
     "name": "stderr",
     "output_type": "stream",
     "text": [
      " 83%|████████▎ | 671/810 [2:43:56<33:17, 14.37s/it]"
     ]
    },
    {
     "name": "stdout",
     "output_type": "stream",
     "text": [
      "Titling Time: 13.3 sec\n",
      "../data/train_data_annotation/Colon/D/anno_colon_D_0038.mrxs\n",
      "noise filter :  True\n",
      "multiprocessing :  32\n",
      "slide_name anno_colon_D_0038\n"
     ]
    },
    {
     "name": "stderr",
     "output_type": "stream",
     "text": [
      " 83%|████████▎ | 672/810 [2:44:16<36:58, 16.07s/it]"
     ]
    },
    {
     "name": "stdout",
     "output_type": "stream",
     "text": [
      "Titling Time: 19.7 sec\n",
      "../data/train_data_annotation/Colon/D/anno_colon_D_0046.mrxs\n",
      "noise filter :  True\n",
      "multiprocessing :  32\n",
      "slide_name anno_colon_D_0046\n"
     ]
    },
    {
     "name": "stderr",
     "output_type": "stream",
     "text": [
      " 83%|████████▎ | 673/810 [2:44:28<33:59, 14.88s/it]"
     ]
    },
    {
     "name": "stdout",
     "output_type": "stream",
     "text": [
      "Titling Time: 11.7 sec\n",
      "../data/train_data_annotation/Colon/D/anno_colon_D_0142.mrxs\n",
      "noise filter :  True\n",
      "multiprocessing :  32\n",
      "slide_name anno_colon_D_0142\n"
     ]
    },
    {
     "name": "stderr",
     "output_type": "stream",
     "text": [
      " 83%|████████▎ | 674/810 [2:44:40<31:38, 13.96s/it]"
     ]
    },
    {
     "name": "stdout",
     "output_type": "stream",
     "text": [
      "Titling Time: 11.3 sec\n",
      "../data/train_data_annotation/Colon/D/anno_colon_D_0199.mrxs\n",
      "noise filter :  True\n",
      "multiprocessing :  32\n",
      "slide_name anno_colon_D_0199\n"
     ]
    },
    {
     "name": "stderr",
     "output_type": "stream",
     "text": [
      " 83%|████████▎ | 675/810 [2:44:58<33:43, 14.99s/it]"
     ]
    },
    {
     "name": "stdout",
     "output_type": "stream",
     "text": [
      "Titling Time: 12.5 sec\n",
      "../data/train_data_annotation/Colon/D/anno_colon_D_0151.mrxs\n",
      "noise filter :  True\n",
      "multiprocessing :  32\n",
      "slide_name anno_colon_D_0151\n"
     ]
    },
    {
     "name": "stderr",
     "output_type": "stream",
     "text": [
      " 83%|████████▎ | 676/810 [2:45:09<31:23, 14.05s/it]"
     ]
    },
    {
     "name": "stdout",
     "output_type": "stream",
     "text": [
      "Titling Time: 11.4 sec\n",
      "../data/train_data_annotation/Colon/D/anno_colon_D_0153.mrxs\n",
      "noise filter :  True\n",
      "multiprocessing :  32\n",
      "slide_name anno_colon_D_0153\n"
     ]
    },
    {
     "name": "stderr",
     "output_type": "stream",
     "text": [
      " 84%|████████▎ | 677/810 [2:45:22<30:05, 13.58s/it]"
     ]
    },
    {
     "name": "stdout",
     "output_type": "stream",
     "text": [
      "Titling Time: 12.1 sec\n",
      "../data/train_data_annotation/Colon/D/anno_colon_D_0106.mrxs\n",
      "noise filter :  True\n",
      "multiprocessing :  32\n",
      "slide_name anno_colon_D_0106\n"
     ]
    },
    {
     "name": "stderr",
     "output_type": "stream",
     "text": [
      " 84%|████████▎ | 678/810 [2:45:34<28:43, 13.06s/it]"
     ]
    },
    {
     "name": "stdout",
     "output_type": "stream",
     "text": [
      "Titling Time: 11.4 sec\n",
      "../data/train_data_annotation/Colon/D/anno_colon_D_0117.mrxs\n",
      "noise filter :  True\n",
      "multiprocessing :  32\n",
      "slide_name anno_colon_D_0117\n"
     ]
    },
    {
     "name": "stderr",
     "output_type": "stream",
     "text": [
      " 84%|████████▍ | 679/810 [2:45:47<28:41, 13.14s/it]"
     ]
    },
    {
     "name": "stdout",
     "output_type": "stream",
     "text": [
      "Titling Time: 12.9 sec\n",
      "../data/train_data_annotation/Colon/D/anno_colon_D_0022.mrxs\n",
      "noise filter :  True\n",
      "multiprocessing :  32\n",
      "slide_name anno_colon_D_0022\n"
     ]
    },
    {
     "name": "stderr",
     "output_type": "stream",
     "text": [
      " 84%|████████▍ | 680/810 [2:45:59<27:45, 12.81s/it]"
     ]
    },
    {
     "name": "stdout",
     "output_type": "stream",
     "text": [
      "Titling Time: 11.6 sec\n",
      "../data/train_data_annotation/Colon/D/anno_colon_D_0162.mrxs\n",
      "noise filter :  True\n",
      "multiprocessing :  32\n",
      "slide_name anno_colon_D_0162\n"
     ]
    },
    {
     "name": "stderr",
     "output_type": "stream",
     "text": [
      " 84%|████████▍ | 681/810 [2:46:11<27:08, 12.63s/it]"
     ]
    },
    {
     "name": "stdout",
     "output_type": "stream",
     "text": [
      "Titling Time: 11.6 sec\n",
      "../data/train_data_annotation/Colon/D/anno_colon_D_0148.mrxs\n",
      "noise filter :  True\n",
      "multiprocessing :  32\n",
      "slide_name anno_colon_D_0148\n"
     ]
    },
    {
     "name": "stderr",
     "output_type": "stream",
     "text": [
      " 84%|████████▍ | 682/810 [2:46:29<30:16, 14.19s/it]"
     ]
    },
    {
     "name": "stdout",
     "output_type": "stream",
     "text": [
      "Titling Time: 11.7 sec\n",
      "../data/train_data_annotation/Colon/D/anno_colon_D_0178.mrxs\n",
      "noise filter :  True\n",
      "multiprocessing :  32\n",
      "slide_name anno_colon_D_0178\n"
     ]
    },
    {
     "name": "stderr",
     "output_type": "stream",
     "text": [
      " 84%|████████▍ | 683/810 [2:46:41<28:43, 13.57s/it]"
     ]
    },
    {
     "name": "stdout",
     "output_type": "stream",
     "text": [
      "Titling Time: 11.8 sec\n",
      "../data/train_data_annotation/Colon/D/anno_colon_D_0083.mrxs\n",
      "noise filter :  True\n",
      "multiprocessing :  32\n",
      "slide_name anno_colon_D_0083\n"
     ]
    },
    {
     "name": "stderr",
     "output_type": "stream",
     "text": [
      " 84%|████████▍ | 684/810 [2:46:53<27:36, 13.15s/it]"
     ]
    },
    {
     "name": "stdout",
     "output_type": "stream",
     "text": [
      "Titling Time: 11.6 sec\n",
      "../data/train_data_annotation/Colon/D/anno_colon_D_0196.mrxs\n",
      "noise filter :  True\n",
      "multiprocessing :  32\n",
      "slide_name anno_colon_D_0196\n"
     ]
    },
    {
     "name": "stderr",
     "output_type": "stream",
     "text": [
      " 85%|████████▍ | 685/810 [2:47:14<31:45, 15.25s/it]"
     ]
    },
    {
     "name": "stdout",
     "output_type": "stream",
     "text": [
      "Titling Time: 19.8 sec\n",
      "../data/train_data_annotation/Colon/D/anno_colon_D_0184.mrxs\n",
      "noise filter :  True\n",
      "multiprocessing :  32\n",
      "slide_name anno_colon_D_0184\n"
     ]
    },
    {
     "name": "stderr",
     "output_type": "stream",
     "text": [
      " 85%|████████▍ | 686/810 [2:47:26<29:26, 14.24s/it]"
     ]
    },
    {
     "name": "stdout",
     "output_type": "stream",
     "text": [
      "Titling Time: 11.5 sec\n",
      "../data/train_data_annotation/Colon/D/anno_colon_D_0006.mrxs\n",
      "noise filter :  True\n",
      "multiprocessing :  32\n",
      "slide_name anno_colon_D_0006\n"
     ]
    },
    {
     "name": "stderr",
     "output_type": "stream",
     "text": [
      " 85%|████████▍ | 687/810 [2:47:38<28:11, 13.75s/it]"
     ]
    },
    {
     "name": "stdout",
     "output_type": "stream",
     "text": [
      "Titling Time: 12.1 sec\n",
      "../data/train_data_annotation/Colon/D/anno_colon_D_0084.mrxs\n",
      "noise filter :  True\n",
      "multiprocessing :  32\n",
      "slide_name anno_colon_D_0084\n"
     ]
    },
    {
     "name": "stderr",
     "output_type": "stream",
     "text": [
      " 85%|████████▍ | 688/810 [2:47:50<26:44, 13.15s/it]"
     ]
    },
    {
     "name": "stdout",
     "output_type": "stream",
     "text": [
      "Titling Time: 11.4 sec\n",
      "../data/train_data_annotation/Colon/D/anno_colon_D_0058.mrxs\n",
      "noise filter :  True\n",
      "multiprocessing :  32\n",
      "slide_name anno_colon_D_0058\n"
     ]
    },
    {
     "name": "stderr",
     "output_type": "stream",
     "text": [
      " 85%|████████▌ | 689/810 [2:48:11<31:11, 15.47s/it]"
     ]
    },
    {
     "name": "stdout",
     "output_type": "stream",
     "text": [
      "Titling Time: 20.4 sec\n",
      "../data/train_data_annotation/Colon/D/anno_colon_D_0021.mrxs\n",
      "noise filter :  True\n",
      "multiprocessing :  32\n",
      "slide_name anno_colon_D_0021\n"
     ]
    },
    {
     "name": "stderr",
     "output_type": "stream",
     "text": [
      " 85%|████████▌ | 690/810 [2:48:23<29:02, 14.52s/it]"
     ]
    },
    {
     "name": "stdout",
     "output_type": "stream",
     "text": [
      "Titling Time: 11.9 sec\n",
      "../data/train_data_annotation/Colon/D/anno_colon_D_0094.mrxs\n",
      "noise filter :  True\n",
      "multiprocessing :  32\n",
      "slide_name anno_colon_D_0094\n"
     ]
    },
    {
     "name": "stderr",
     "output_type": "stream",
     "text": [
      " 85%|████████▌ | 691/810 [2:48:35<27:32, 13.89s/it]"
     ]
    },
    {
     "name": "stdout",
     "output_type": "stream",
     "text": [
      "Titling Time: 12.1 sec\n",
      "../data/train_data_annotation/Colon/D/anno_colon_D_0039.mrxs\n",
      "noise filter :  True\n",
      "multiprocessing :  32\n",
      "slide_name anno_colon_D_0039\n"
     ]
    },
    {
     "name": "stderr",
     "output_type": "stream",
     "text": [
      " 85%|████████▌ | 692/810 [2:48:48<26:35, 13.52s/it]"
     ]
    },
    {
     "name": "stdout",
     "output_type": "stream",
     "text": [
      "Titling Time: 12.2 sec\n",
      "../data/train_data_annotation/Colon/D/anno_colon_D_0140.mrxs\n",
      "noise filter :  True\n",
      "multiprocessing :  32\n",
      "slide_name anno_colon_D_0140\n"
     ]
    },
    {
     "name": "stderr",
     "output_type": "stream",
     "text": [
      " 86%|████████▌ | 693/810 [2:49:00<25:28, 13.06s/it]"
     ]
    },
    {
     "name": "stdout",
     "output_type": "stream",
     "text": [
      "Titling Time: 11.6 sec\n",
      "../data/train_data_annotation/Colon/D/anno_colon_D_0013.mrxs\n",
      "noise filter :  True\n",
      "multiprocessing :  32\n",
      "slide_name anno_colon_D_0013\n"
     ]
    },
    {
     "name": "stderr",
     "output_type": "stream",
     "text": [
      " 86%|████████▌ | 694/810 [2:49:12<24:44, 12.80s/it]"
     ]
    },
    {
     "name": "stdout",
     "output_type": "stream",
     "text": [
      "Titling Time: 11.8 sec\n",
      "../data/train_data_annotation/Colon/D/anno_colon_D_0133.mrxs\n",
      "noise filter :  True\n",
      "multiprocessing :  32\n",
      "slide_name anno_colon_D_0133\n"
     ]
    },
    {
     "name": "stderr",
     "output_type": "stream",
     "text": [
      " 86%|████████▌ | 695/810 [2:49:24<23:44, 12.38s/it]"
     ]
    },
    {
     "name": "stdout",
     "output_type": "stream",
     "text": [
      "Titling Time: 11.0 sec\n",
      "../data/train_data_annotation/Colon/D/anno_colon_D_0177.mrxs\n",
      "noise filter :  True\n",
      "multiprocessing :  32\n",
      "slide_name anno_colon_D_0177\n"
     ]
    },
    {
     "name": "stderr",
     "output_type": "stream",
     "text": [
      " 86%|████████▌ | 696/810 [2:49:43<27:22, 14.40s/it]"
     ]
    },
    {
     "name": "stdout",
     "output_type": "stream",
     "text": [
      "Titling Time: 11.2 sec\n",
      "../data/train_data_annotation/Colon/D/anno_colon_D_0089.mrxs\n",
      "noise filter :  True\n",
      "multiprocessing :  32\n",
      "slide_name anno_colon_D_0089\n"
     ]
    },
    {
     "name": "stderr",
     "output_type": "stream",
     "text": [
      " 86%|████████▌ | 697/810 [2:49:54<25:28, 13.53s/it]"
     ]
    },
    {
     "name": "stdout",
     "output_type": "stream",
     "text": [
      "Titling Time: 11.2 sec\n",
      "../data/train_data_annotation/Colon/D/anno_colon_D_0171.mrxs\n",
      "noise filter :  True\n",
      "multiprocessing :  32\n",
      "slide_name anno_colon_D_0171\n"
     ]
    },
    {
     "name": "stderr",
     "output_type": "stream",
     "text": [
      " 86%|████████▌ | 698/810 [2:50:06<24:03, 12.89s/it]"
     ]
    },
    {
     "name": "stdout",
     "output_type": "stream",
     "text": [
      "Titling Time: 11.1 sec\n",
      "../data/train_data_annotation/Colon/D/anno_colon_D_0009.mrxs\n",
      "noise filter :  True\n",
      "multiprocessing :  32\n",
      "slide_name anno_colon_D_0009\n"
     ]
    },
    {
     "name": "stderr",
     "output_type": "stream",
     "text": [
      " 86%|████████▋ | 699/810 [2:50:18<23:13, 12.56s/it]"
     ]
    },
    {
     "name": "stdout",
     "output_type": "stream",
     "text": [
      "Titling Time: 11.3 sec\n",
      "../data/train_data_annotation/Colon/D/anno_colon_D_0035.mrxs\n",
      "noise filter :  True\n",
      "multiprocessing :  32\n",
      "slide_name anno_colon_D_0035\n"
     ]
    },
    {
     "name": "stderr",
     "output_type": "stream",
     "text": [
      " 86%|████████▋ | 700/810 [2:50:31<23:17, 12.71s/it]"
     ]
    },
    {
     "name": "stdout",
     "output_type": "stream",
     "text": [
      "Titling Time: 12.6 sec\n",
      "../data/train_data_annotation/Colon/D/anno_colon_D_0115.mrxs\n",
      "noise filter :  True\n",
      "multiprocessing :  32\n",
      "slide_name anno_colon_D_0115\n"
     ]
    },
    {
     "name": "stderr",
     "output_type": "stream",
     "text": [
      " 87%|████████▋ | 701/810 [2:50:43<22:58, 12.65s/it]"
     ]
    },
    {
     "name": "stdout",
     "output_type": "stream",
     "text": [
      "Titling Time: 12.2 sec\n",
      "../data/train_data_annotation/Colon/D/anno_colon_D_0085.mrxs\n",
      "noise filter :  True\n",
      "multiprocessing :  32\n",
      "slide_name anno_colon_D_0085\n"
     ]
    },
    {
     "name": "stderr",
     "output_type": "stream",
     "text": [
      " 87%|████████▋ | 702/810 [2:50:55<22:27, 12.48s/it]"
     ]
    },
    {
     "name": "stdout",
     "output_type": "stream",
     "text": [
      "Titling Time: 11.7 sec\n",
      "../data/train_data_annotation/Colon/D/anno_colon_D_0137.mrxs\n",
      "noise filter :  True\n",
      "multiprocessing :  32\n",
      "slide_name anno_colon_D_0137\n"
     ]
    },
    {
     "name": "stderr",
     "output_type": "stream",
     "text": [
      " 87%|████████▋ | 703/810 [2:51:07<22:01, 12.35s/it]"
     ]
    },
    {
     "name": "stdout",
     "output_type": "stream",
     "text": [
      "Titling Time: 11.7 sec\n",
      "../data/train_data_annotation/Colon/D/anno_colon_D_0176.mrxs\n",
      "noise filter :  True\n",
      "multiprocessing :  32\n",
      "slide_name anno_colon_D_0176\n"
     ]
    },
    {
     "name": "stderr",
     "output_type": "stream",
     "text": [
      " 87%|████████▋ | 704/810 [2:51:21<22:21, 12.66s/it]"
     ]
    },
    {
     "name": "stdout",
     "output_type": "stream",
     "text": [
      "Titling Time: 12.9 sec\n",
      "../data/train_data_annotation/Colon/D/anno_colon_D_0002.mrxs\n",
      "noise filter :  True\n",
      "multiprocessing :  32\n",
      "slide_name anno_colon_D_0002\n"
     ]
    },
    {
     "name": "stderr",
     "output_type": "stream",
     "text": [
      " 87%|████████▋ | 705/810 [2:51:33<21:50, 12.48s/it]"
     ]
    },
    {
     "name": "stdout",
     "output_type": "stream",
     "text": [
      "Titling Time: 11.7 sec\n",
      "../data/train_data_annotation/Colon/D/anno_colon_D_0112.mrxs\n",
      "noise filter :  True\n",
      "multiprocessing :  32\n",
      "slide_name anno_colon_D_0112\n"
     ]
    },
    {
     "name": "stderr",
     "output_type": "stream",
     "text": [
      " 87%|████████▋ | 706/810 [2:51:50<23:55, 13.80s/it]"
     ]
    },
    {
     "name": "stdout",
     "output_type": "stream",
     "text": [
      "Titling Time: 10.8 sec\n",
      "../data/train_data_annotation/Colon/D/anno_colon_D_0073.mrxs\n",
      "noise filter :  True\n",
      "multiprocessing :  32\n",
      "slide_name anno_colon_D_0073\n"
     ]
    },
    {
     "name": "stderr",
     "output_type": "stream",
     "text": [
      " 87%|████████▋ | 707/810 [2:52:04<24:06, 14.05s/it]"
     ]
    },
    {
     "name": "stdout",
     "output_type": "stream",
     "text": [
      "Titling Time: 11.7 sec\n",
      "../data/train_data_annotation/Colon/D/anno_colon_D_0088.mrxs\n",
      "noise filter :  True\n",
      "multiprocessing :  32\n",
      "slide_name anno_colon_D_0088\n"
     ]
    },
    {
     "name": "stderr",
     "output_type": "stream",
     "text": [
      " 87%|████████▋ | 708/810 [2:52:16<22:50, 13.44s/it]"
     ]
    },
    {
     "name": "stdout",
     "output_type": "stream",
     "text": [
      "Titling Time: 11.6 sec\n",
      "../data/train_data_annotation/Colon/D/anno_colon_D_0181.mrxs\n",
      "noise filter :  True\n",
      "multiprocessing :  32\n",
      "slide_name anno_colon_D_0181\n"
     ]
    },
    {
     "name": "stderr",
     "output_type": "stream",
     "text": [
      " 88%|████████▊ | 709/810 [2:52:28<21:51, 12.99s/it]"
     ]
    },
    {
     "name": "stdout",
     "output_type": "stream",
     "text": [
      "Titling Time: 11.5 sec\n",
      "../data/train_data_annotation/Colon/D/anno_colon_D_0109.mrxs\n",
      "noise filter :  True\n",
      "multiprocessing :  32\n",
      "slide_name anno_colon_D_0109\n"
     ]
    },
    {
     "name": "stderr",
     "output_type": "stream",
     "text": [
      " 88%|████████▊ | 710/810 [2:52:41<21:36, 12.97s/it]"
     ]
    },
    {
     "name": "stdout",
     "output_type": "stream",
     "text": [
      "Titling Time: 12.5 sec\n",
      "../data/train_data_annotation/Colon/D/anno_colon_D_0131.mrxs\n",
      "noise filter :  True\n",
      "multiprocessing :  32\n",
      "slide_name anno_colon_D_0131\n"
     ]
    },
    {
     "name": "stderr",
     "output_type": "stream",
     "text": [
      " 88%|████████▊ | 711/810 [2:52:52<20:35, 12.48s/it]"
     ]
    },
    {
     "name": "stdout",
     "output_type": "stream",
     "text": [
      "Titling Time: 11.0 sec\n",
      "../data/train_data_annotation/Colon/D/anno_colon_D_0197.mrxs\n",
      "noise filter :  True\n",
      "multiprocessing :  32\n",
      "slide_name anno_colon_D_0197\n"
     ]
    },
    {
     "name": "stderr",
     "output_type": "stream",
     "text": [
      " 88%|████████▊ | 712/810 [2:53:12<23:53, 14.63s/it]"
     ]
    },
    {
     "name": "stdout",
     "output_type": "stream",
     "text": [
      "Titling Time: 12.8 sec\n",
      "../data/train_data_annotation/Colon/D/anno_colon_D_0107.mrxs\n",
      "noise filter :  True\n",
      "multiprocessing :  32\n",
      "slide_name anno_colon_D_0107\n"
     ]
    },
    {
     "name": "stderr",
     "output_type": "stream",
     "text": [
      " 88%|████████▊ | 713/810 [2:53:24<22:27, 13.89s/it]"
     ]
    },
    {
     "name": "stdout",
     "output_type": "stream",
     "text": [
      "Titling Time: 11.4 sec\n",
      "../data/train_data_annotation/Colon/D/anno_colon_D_0114.mrxs\n",
      "noise filter :  True\n",
      "multiprocessing :  32\n",
      "slide_name anno_colon_D_0114\n"
     ]
    },
    {
     "name": "stderr",
     "output_type": "stream",
     "text": [
      " 88%|████████▊ | 714/810 [2:53:45<25:30, 15.94s/it]"
     ]
    },
    {
     "name": "stdout",
     "output_type": "stream",
     "text": [
      "Titling Time: 11.5 sec\n",
      "../data/train_data_annotation/Colon/D/anno_colon_D_0182.mrxs\n",
      "noise filter :  True\n",
      "multiprocessing :  32\n",
      "slide_name anno_colon_D_0182\n"
     ]
    },
    {
     "name": "stderr",
     "output_type": "stream",
     "text": [
      " 88%|████████▊ | 715/810 [2:53:57<23:17, 14.71s/it]"
     ]
    },
    {
     "name": "stdout",
     "output_type": "stream",
     "text": [
      "Titling Time: 11.5 sec\n",
      "../data/train_data_annotation/Colon/D/anno_colon_D_0086.mrxs\n",
      "noise filter :  True\n",
      "multiprocessing :  32\n",
      "slide_name anno_colon_D_0086\n"
     ]
    },
    {
     "name": "stderr",
     "output_type": "stream",
     "text": [
      " 88%|████████▊ | 716/810 [2:54:08<21:32, 13.75s/it]"
     ]
    },
    {
     "name": "stdout",
     "output_type": "stream",
     "text": [
      "Titling Time: 11.1 sec\n",
      "../data/train_data_annotation/Colon/D/anno_colon_D_0186.mrxs\n",
      "noise filter :  True\n",
      "multiprocessing :  32\n",
      "slide_name anno_colon_D_0186\n"
     ]
    },
    {
     "name": "stderr",
     "output_type": "stream",
     "text": [
      " 89%|████████▊ | 717/810 [2:54:20<20:20, 13.12s/it]"
     ]
    },
    {
     "name": "stdout",
     "output_type": "stream",
     "text": [
      "Titling Time: 11.3 sec\n",
      "../data/train_data_annotation/Colon/D/anno_colon_D_0075.mrxs\n",
      "noise filter :  True\n",
      "multiprocessing :  32\n",
      "slide_name anno_colon_D_0075\n"
     ]
    },
    {
     "name": "stderr",
     "output_type": "stream",
     "text": [
      " 89%|████████▊ | 718/810 [2:54:31<19:20, 12.62s/it]"
     ]
    },
    {
     "name": "stdout",
     "output_type": "stream",
     "text": [
      "Titling Time: 11.1 sec\n",
      "../data/train_data_annotation/Colon/D/anno_colon_D_0066.mrxs\n",
      "noise filter :  True\n",
      "multiprocessing :  32\n",
      "slide_name anno_colon_D_0066\n"
     ]
    },
    {
     "name": "stderr",
     "output_type": "stream",
     "text": [
      " 89%|████████▉ | 719/810 [2:54:43<18:36, 12.26s/it]"
     ]
    },
    {
     "name": "stdout",
     "output_type": "stream",
     "text": [
      "Titling Time: 11.1 sec\n",
      "../data/train_data_annotation/Colon/D/anno_colon_D_0191.mrxs\n",
      "noise filter :  True\n",
      "multiprocessing :  32\n",
      "slide_name anno_colon_D_0191\n"
     ]
    },
    {
     "name": "stderr",
     "output_type": "stream",
     "text": [
      " 89%|████████▉ | 720/810 [2:54:55<18:16, 12.18s/it]"
     ]
    },
    {
     "name": "stdout",
     "output_type": "stream",
     "text": [
      "Titling Time: 11.7 sec\n",
      "../data/train_data_annotation/Colon/D/anno_colon_D_0059.mrxs\n",
      "noise filter :  True\n",
      "multiprocessing :  32\n",
      "slide_name anno_colon_D_0059\n"
     ]
    },
    {
     "name": "stderr",
     "output_type": "stream",
     "text": [
      " 89%|████████▉ | 721/810 [2:55:06<17:46, 11.98s/it]"
     ]
    },
    {
     "name": "stdout",
     "output_type": "stream",
     "text": [
      "Titling Time: 11.2 sec\n",
      "../data/train_data_annotation/Colon/D/anno_colon_D_0144.mrxs\n",
      "noise filter :  True\n",
      "multiprocessing :  32\n",
      "slide_name anno_colon_D_0144\n"
     ]
    },
    {
     "name": "stderr",
     "output_type": "stream",
     "text": [
      " 89%|████████▉ | 722/810 [2:55:18<17:28, 11.91s/it]"
     ]
    },
    {
     "name": "stdout",
     "output_type": "stream",
     "text": [
      "Titling Time: 11.3 sec\n",
      "../data/train_data_annotation/Colon/D/anno_colon_D_0125.mrxs\n",
      "noise filter :  True\n",
      "multiprocessing :  32\n",
      "slide_name anno_colon_D_0125\n"
     ]
    },
    {
     "name": "stderr",
     "output_type": "stream",
     "text": [
      " 89%|████████▉ | 723/810 [2:55:30<17:14, 11.89s/it]"
     ]
    },
    {
     "name": "stdout",
     "output_type": "stream",
     "text": [
      "Titling Time: 11.5 sec\n",
      "../data/train_data_annotation/Colon/D/anno_colon_D_0027.mrxs\n",
      "noise filter :  True\n",
      "multiprocessing :  32\n",
      "slide_name anno_colon_D_0027\n"
     ]
    },
    {
     "name": "stderr",
     "output_type": "stream",
     "text": [
      " 89%|████████▉ | 724/810 [2:55:42<17:05, 11.93s/it]"
     ]
    },
    {
     "name": "stdout",
     "output_type": "stream",
     "text": [
      "Titling Time: 11.7 sec\n",
      "../data/train_data_annotation/Colon/D/anno_colon_D_0017.mrxs\n",
      "noise filter :  True\n",
      "multiprocessing :  32\n",
      "slide_name anno_colon_D_0017\n"
     ]
    },
    {
     "name": "stderr",
     "output_type": "stream",
     "text": [
      " 90%|████████▉ | 725/810 [2:55:54<17:01, 12.01s/it]"
     ]
    },
    {
     "name": "stdout",
     "output_type": "stream",
     "text": [
      "Titling Time: 11.8 sec\n",
      "../data/train_data_annotation/Colon/D/anno_colon_D_0102.mrxs\n",
      "noise filter :  True\n",
      "multiprocessing :  32\n",
      "slide_name anno_colon_D_0102\n"
     ]
    },
    {
     "name": "stderr",
     "output_type": "stream",
     "text": [
      " 90%|████████▉ | 726/810 [2:56:07<17:15, 12.33s/it]"
     ]
    },
    {
     "name": "stdout",
     "output_type": "stream",
     "text": [
      "Titling Time: 12.6 sec\n",
      "../data/train_data_annotation/Colon/D/anno_colon_D_0165.mrxs\n",
      "noise filter :  True\n",
      "multiprocessing :  32\n",
      "slide_name anno_colon_D_0165\n"
     ]
    },
    {
     "name": "stderr",
     "output_type": "stream",
     "text": [
      " 90%|████████▉ | 727/810 [2:56:24<18:51, 13.63s/it]"
     ]
    },
    {
     "name": "stdout",
     "output_type": "stream",
     "text": [
      "Titling Time: 16.2 sec\n",
      "../data/train_data_annotation/Colon/D/anno_colon_D_0043.mrxs\n",
      "noise filter :  True\n",
      "multiprocessing :  32\n",
      "slide_name anno_colon_D_0043\n"
     ]
    },
    {
     "name": "stderr",
     "output_type": "stream",
     "text": [
      " 90%|████████▉ | 728/810 [2:56:42<20:16, 14.84s/it]"
     ]
    },
    {
     "name": "stdout",
     "output_type": "stream",
     "text": [
      "Titling Time: 11.4 sec\n",
      "../data/train_data_annotation/Colon/D/anno_colon_D_0023.mrxs\n",
      "noise filter :  True\n",
      "multiprocessing :  32\n",
      "slide_name anno_colon_D_0023\n"
     ]
    },
    {
     "name": "stderr",
     "output_type": "stream",
     "text": [
      " 90%|█████████ | 729/810 [2:56:53<18:47, 13.91s/it]"
     ]
    },
    {
     "name": "stdout",
     "output_type": "stream",
     "text": [
      "Titling Time: 11.4 sec\n",
      "../data/train_data_annotation/Colon/D/anno_colon_D_0079.mrxs\n",
      "noise filter :  True\n",
      "multiprocessing :  32\n",
      "slide_name anno_colon_D_0079\n"
     ]
    },
    {
     "name": "stderr",
     "output_type": "stream",
     "text": [
      " 90%|█████████ | 730/810 [2:57:06<18:14, 13.69s/it]"
     ]
    },
    {
     "name": "stdout",
     "output_type": "stream",
     "text": [
      "Titling Time: 12.7 sec\n",
      "../data/train_data_annotation/Colon/D/anno_colon_D_0087.mrxs\n",
      "noise filter :  True\n",
      "multiprocessing :  32\n",
      "slide_name anno_colon_D_0087\n"
     ]
    },
    {
     "name": "stderr",
     "output_type": "stream",
     "text": [
      " 90%|█████████ | 731/810 [2:57:25<19:54, 15.12s/it]"
     ]
    },
    {
     "name": "stdout",
     "output_type": "stream",
     "text": [
      "Titling Time: 18.0 sec\n",
      "../data/train_data_annotation/Colon/D/anno_colon_D_0116.mrxs\n",
      "noise filter :  True\n",
      "multiprocessing :  32\n",
      "slide_name anno_colon_D_0116\n"
     ]
    },
    {
     "name": "stderr",
     "output_type": "stream",
     "text": [
      " 90%|█████████ | 732/810 [2:57:37<18:28, 14.21s/it]"
     ]
    },
    {
     "name": "stdout",
     "output_type": "stream",
     "text": [
      "Titling Time: 11.8 sec\n",
      "../data/train_data_annotation/Colon/D/anno_colon_D_0159.mrxs\n",
      "noise filter :  True\n",
      "multiprocessing :  32\n",
      "slide_name anno_colon_D_0159\n"
     ]
    },
    {
     "name": "stderr",
     "output_type": "stream",
     "text": [
      " 90%|█████████ | 733/810 [2:57:48<17:08, 13.36s/it]"
     ]
    },
    {
     "name": "stdout",
     "output_type": "stream",
     "text": [
      "Titling Time: 11.0 sec\n",
      "../data/train_data_annotation/Colon/D/anno_colon_D_0053.mrxs\n",
      "noise filter :  True\n",
      "multiprocessing :  32\n",
      "slide_name anno_colon_D_0053\n"
     ]
    },
    {
     "name": "stderr",
     "output_type": "stream",
     "text": [
      " 91%|█████████ | 734/810 [2:58:02<17:01, 13.44s/it]"
     ]
    },
    {
     "name": "stdout",
     "output_type": "stream",
     "text": [
      "Titling Time: 11.6 sec\n",
      "../data/train_data_annotation/Colon/D/anno_colon_D_0188.mrxs\n",
      "noise filter :  True\n",
      "multiprocessing :  32\n",
      "slide_name anno_colon_D_0188\n"
     ]
    },
    {
     "name": "stderr",
     "output_type": "stream",
     "text": [
      " 91%|█████████ | 735/810 [2:58:14<16:20, 13.07s/it]"
     ]
    },
    {
     "name": "stdout",
     "output_type": "stream",
     "text": [
      "Titling Time: 11.8 sec\n",
      "../data/train_data_annotation/Colon/D/anno_colon_D_0003.mrxs\n",
      "noise filter :  True\n",
      "multiprocessing :  32\n",
      "slide_name anno_colon_D_0003\n"
     ]
    },
    {
     "name": "stderr",
     "output_type": "stream",
     "text": [
      " 91%|█████████ | 736/810 [2:58:26<15:41, 12.72s/it]"
     ]
    },
    {
     "name": "stdout",
     "output_type": "stream",
     "text": [
      "Titling Time: 11.5 sec\n",
      "../data/train_data_annotation/Colon/D/anno_colon_D_0020.mrxs\n",
      "noise filter :  True\n",
      "multiprocessing :  32\n",
      "slide_name anno_colon_D_0020\n"
     ]
    },
    {
     "name": "stderr",
     "output_type": "stream",
     "text": [
      " 91%|█████████ | 737/810 [2:58:38<15:08, 12.44s/it]"
     ]
    },
    {
     "name": "stdout",
     "output_type": "stream",
     "text": [
      "Titling Time: 11.5 sec\n",
      "../data/train_data_annotation/Colon/D/anno_colon_D_0121.mrxs\n",
      "noise filter :  True\n",
      "multiprocessing :  32\n",
      "slide_name anno_colon_D_0121\n"
     ]
    },
    {
     "name": "stderr",
     "output_type": "stream",
     "text": [
      " 91%|█████████ | 738/810 [2:58:50<14:40, 12.23s/it]"
     ]
    },
    {
     "name": "stdout",
     "output_type": "stream",
     "text": [
      "Titling Time: 11.4 sec\n",
      "../data/train_data_annotation/Colon/D/anno_colon_D_0001.mrxs\n",
      "noise filter :  True\n",
      "multiprocessing :  32\n",
      "slide_name anno_colon_D_0001\n"
     ]
    },
    {
     "name": "stderr",
     "output_type": "stream",
     "text": [
      " 91%|█████████ | 739/810 [2:59:02<14:26, 12.21s/it]"
     ]
    },
    {
     "name": "stdout",
     "output_type": "stream",
     "text": [
      "Titling Time: 11.8 sec\n",
      "../data/train_data_annotation/Colon/D/anno_colon_D_0037.mrxs\n",
      "noise filter :  True\n",
      "multiprocessing :  32\n",
      "slide_name anno_colon_D_0037\n"
     ]
    },
    {
     "name": "stderr",
     "output_type": "stream",
     "text": [
      " 91%|█████████▏| 740/810 [2:59:14<14:16, 12.24s/it]"
     ]
    },
    {
     "name": "stdout",
     "output_type": "stream",
     "text": [
      "Titling Time: 11.9 sec\n",
      "../data/train_data_annotation/Colon/D/anno_colon_D_0078.mrxs\n",
      "noise filter :  True\n",
      "multiprocessing :  32\n",
      "slide_name anno_colon_D_0078\n"
     ]
    },
    {
     "name": "stderr",
     "output_type": "stream",
     "text": [
      " 91%|█████████▏| 741/810 [2:59:26<14:08, 12.30s/it]"
     ]
    },
    {
     "name": "stdout",
     "output_type": "stream",
     "text": [
      "Titling Time: 12.0 sec\n",
      "../data/train_data_annotation/Colon/D/anno_colon_D_0019.mrxs\n",
      "noise filter :  True\n",
      "multiprocessing :  32\n",
      "slide_name anno_colon_D_0019\n"
     ]
    },
    {
     "name": "stderr",
     "output_type": "stream",
     "text": [
      " 92%|█████████▏| 742/810 [2:59:39<13:51, 12.23s/it]"
     ]
    },
    {
     "name": "stdout",
     "output_type": "stream",
     "text": [
      "Titling Time: 11.7 sec\n",
      "../data/train_data_annotation/Colon/D/anno_colon_D_0156.mrxs\n",
      "noise filter :  True\n",
      "multiprocessing :  32\n",
      "slide_name anno_colon_D_0156\n"
     ]
    },
    {
     "name": "stderr",
     "output_type": "stream",
     "text": [
      " 92%|█████████▏| 743/810 [2:59:50<13:31, 12.11s/it]"
     ]
    },
    {
     "name": "stdout",
     "output_type": "stream",
     "text": [
      "Titling Time: 11.4 sec\n",
      "../data/train_data_annotation/Colon/D/anno_colon_D_0077.mrxs\n",
      "noise filter :  True\n",
      "multiprocessing :  32\n",
      "slide_name anno_colon_D_0077\n"
     ]
    },
    {
     "name": "stderr",
     "output_type": "stream",
     "text": [
      " 92%|█████████▏| 744/810 [3:00:02<13:15, 12.06s/it]"
     ]
    },
    {
     "name": "stdout",
     "output_type": "stream",
     "text": [
      "Titling Time: 11.6 sec\n",
      "../data/train_data_annotation/Colon/D/anno_colon_D_0031.mrxs\n",
      "noise filter :  True\n",
      "multiprocessing :  32\n",
      "slide_name anno_colon_D_0031\n"
     ]
    },
    {
     "name": "stderr",
     "output_type": "stream",
     "text": [
      " 92%|█████████▏| 745/810 [3:00:14<13:00, 12.01s/it]"
     ]
    },
    {
     "name": "stdout",
     "output_type": "stream",
     "text": [
      "Titling Time: 11.5 sec\n",
      "../data/train_data_annotation/Colon/D/anno_colon_D_0198.mrxs\n",
      "noise filter :  True\n",
      "multiprocessing :  32\n",
      "slide_name anno_colon_D_0198\n"
     ]
    },
    {
     "name": "stderr",
     "output_type": "stream",
     "text": [
      " 92%|█████████▏| 746/810 [3:00:26<12:39, 11.87s/it]"
     ]
    },
    {
     "name": "stdout",
     "output_type": "stream",
     "text": [
      "Titling Time: 11.1 sec\n",
      "../data/train_data_annotation/Colon/D/anno_colon_D_0025.mrxs\n",
      "noise filter :  True\n",
      "multiprocessing :  32\n",
      "slide_name anno_colon_D_0025\n"
     ]
    },
    {
     "name": "stderr",
     "output_type": "stream",
     "text": [
      " 92%|█████████▏| 747/810 [3:00:46<14:57, 14.25s/it]"
     ]
    },
    {
     "name": "stdout",
     "output_type": "stream",
     "text": [
      "Titling Time: 11.6 sec\n",
      "../data/train_data_annotation/Colon/D/anno_colon_D_0143.mrxs\n",
      "noise filter :  True\n",
      "multiprocessing :  32\n",
      "slide_name anno_colon_D_0143\n"
     ]
    },
    {
     "name": "stderr",
     "output_type": "stream",
     "text": [
      " 92%|█████████▏| 748/810 [3:00:58<14:03, 13.60s/it]"
     ]
    },
    {
     "name": "stdout",
     "output_type": "stream",
     "text": [
      "Titling Time: 11.7 sec\n",
      "../data/train_data_annotation/Colon/D/anno_colon_D_0119.mrxs\n",
      "noise filter :  True\n",
      "multiprocessing :  32\n",
      "slide_name anno_colon_D_0119\n"
     ]
    },
    {
     "name": "stderr",
     "output_type": "stream",
     "text": [
      " 92%|█████████▏| 749/810 [3:01:09<13:11, 12.98s/it]"
     ]
    },
    {
     "name": "stdout",
     "output_type": "stream",
     "text": [
      "Titling Time: 11.2 sec\n",
      "../data/train_data_annotation/Colon/D/anno_colon_D_0195.mrxs\n",
      "noise filter :  True\n",
      "multiprocessing :  32\n",
      "slide_name anno_colon_D_0195\n"
     ]
    },
    {
     "name": "stderr",
     "output_type": "stream",
     "text": [
      " 93%|█████████▎| 750/810 [3:01:26<14:16, 14.27s/it]"
     ]
    },
    {
     "name": "stdout",
     "output_type": "stream",
     "text": [
      "Titling Time: 13.0 sec\n",
      "../data/train_data_annotation/Colon/D/anno_colon_D_0030.mrxs\n",
      "noise filter :  True\n",
      "multiprocessing :  32\n",
      "slide_name anno_colon_D_0030\n"
     ]
    },
    {
     "name": "stderr",
     "output_type": "stream",
     "text": [
      " 93%|█████████▎| 751/810 [3:01:38<13:21, 13.58s/it]"
     ]
    },
    {
     "name": "stdout",
     "output_type": "stream",
     "text": [
      "Titling Time: 11.5 sec\n",
      "../data/train_data_annotation/Colon/D/anno_colon_D_0132.mrxs\n",
      "noise filter :  True\n",
      "multiprocessing :  32\n",
      "slide_name anno_colon_D_0132\n"
     ]
    },
    {
     "name": "stderr",
     "output_type": "stream",
     "text": [
      " 93%|█████████▎| 752/810 [3:02:00<15:24, 15.94s/it]"
     ]
    },
    {
     "name": "stdout",
     "output_type": "stream",
     "text": [
      "Titling Time: 11.4 sec\n",
      "../data/train_data_annotation/Colon/D/anno_colon_D_0051.mrxs\n",
      "noise filter :  True\n",
      "multiprocessing :  32\n",
      "slide_name anno_colon_D_0051\n"
     ]
    },
    {
     "name": "stderr",
     "output_type": "stream",
     "text": [
      " 93%|█████████▎| 753/810 [3:02:12<13:58, 14.72s/it]"
     ]
    },
    {
     "name": "stdout",
     "output_type": "stream",
     "text": [
      "Titling Time: 11.5 sec\n",
      "../data/train_data_annotation/Colon/D/anno_colon_D_0118.mrxs\n",
      "noise filter :  True\n",
      "multiprocessing :  32\n",
      "slide_name anno_colon_D_0118\n"
     ]
    },
    {
     "name": "stderr",
     "output_type": "stream",
     "text": [
      " 93%|█████████▎| 754/810 [3:02:24<12:58, 13.89s/it]"
     ]
    },
    {
     "name": "stdout",
     "output_type": "stream",
     "text": [
      "Titling Time: 11.6 sec\n",
      "../data/train_data_annotation/Colon/D/anno_colon_D_0098.mrxs\n",
      "noise filter :  True\n",
      "multiprocessing :  32\n",
      "slide_name anno_colon_D_0098\n"
     ]
    },
    {
     "name": "stderr",
     "output_type": "stream",
     "text": [
      " 93%|█████████▎| 755/810 [3:02:36<12:14, 13.35s/it]"
     ]
    },
    {
     "name": "stdout",
     "output_type": "stream",
     "text": [
      "Titling Time: 11.7 sec\n",
      "../data/train_data_annotation/Colon/D/anno_colon_D_0103.mrxs\n",
      "noise filter :  True\n",
      "multiprocessing :  32\n",
      "slide_name anno_colon_D_0103\n"
     ]
    },
    {
     "name": "stderr",
     "output_type": "stream",
     "text": [
      " 93%|█████████▎| 756/810 [3:02:48<11:39, 12.94s/it]"
     ]
    },
    {
     "name": "stdout",
     "output_type": "stream",
     "text": [
      "Titling Time: 11.7 sec\n",
      "../data/train_data_annotation/Colon/D/anno_colon_D_0061.mrxs\n",
      "noise filter :  True\n",
      "multiprocessing :  32\n",
      "slide_name anno_colon_D_0061\n"
     ]
    },
    {
     "name": "stderr",
     "output_type": "stream",
     "text": [
      " 93%|█████████▎| 757/810 [3:02:59<11:05, 12.55s/it]"
     ]
    },
    {
     "name": "stdout",
     "output_type": "stream",
     "text": [
      "Titling Time: 11.3 sec\n",
      "../data/train_data_annotation/Colon/D/anno_colon_D_0062.mrxs\n",
      "noise filter :  True\n",
      "multiprocessing :  32\n",
      "slide_name anno_colon_D_0062\n"
     ]
    },
    {
     "name": "stderr",
     "output_type": "stream",
     "text": [
      " 94%|█████████▎| 758/810 [3:03:11<10:44, 12.39s/it]"
     ]
    },
    {
     "name": "stdout",
     "output_type": "stream",
     "text": [
      "Titling Time: 11.6 sec\n",
      "../data/train_data_annotation/Colon/D/anno_colon_D_0050.mrxs\n",
      "noise filter :  True\n",
      "multiprocessing :  32\n",
      "slide_name anno_colon_D_0050\n"
     ]
    },
    {
     "name": "stderr",
     "output_type": "stream",
     "text": [
      " 94%|█████████▎| 759/810 [3:03:23<10:22, 12.21s/it]"
     ]
    },
    {
     "name": "stdout",
     "output_type": "stream",
     "text": [
      "Titling Time: 11.4 sec\n",
      "../data/train_data_annotation/Colon/D/anno_colon_D_0183.mrxs\n",
      "noise filter :  True\n",
      "multiprocessing :  32\n",
      "slide_name anno_colon_D_0183\n"
     ]
    },
    {
     "name": "stderr",
     "output_type": "stream",
     "text": [
      " 94%|█████████▍| 760/810 [3:03:35<10:02, 12.06s/it]"
     ]
    },
    {
     "name": "stdout",
     "output_type": "stream",
     "text": [
      "Titling Time: 11.3 sec\n",
      "../data/train_data_annotation/Colon/D/anno_colon_D_0041.mrxs\n",
      "noise filter :  True\n",
      "multiprocessing :  32\n",
      "slide_name anno_colon_D_0041\n"
     ]
    },
    {
     "name": "stderr",
     "output_type": "stream",
     "text": [
      " 94%|█████████▍| 761/810 [3:03:54<11:33, 14.16s/it]"
     ]
    },
    {
     "name": "stdout",
     "output_type": "stream",
     "text": [
      "Titling Time: 18.7 sec\n",
      "../data/train_data_annotation/Colon/D/anno_colon_D_0071.mrxs\n",
      "noise filter :  True\n",
      "multiprocessing :  32\n",
      "slide_name anno_colon_D_0071\n"
     ]
    },
    {
     "name": "stderr",
     "output_type": "stream",
     "text": [
      " 94%|█████████▍| 762/810 [3:04:06<10:45, 13.44s/it]"
     ]
    },
    {
     "name": "stdout",
     "output_type": "stream",
     "text": [
      "Titling Time: 11.3 sec\n",
      "../data/train_data_annotation/Colon/D/anno_colon_D_0128.mrxs\n",
      "noise filter :  True\n",
      "multiprocessing :  32\n",
      "slide_name anno_colon_D_0128\n"
     ]
    },
    {
     "name": "stderr",
     "output_type": "stream",
     "text": [
      " 94%|█████████▍| 763/810 [3:04:17<10:04, 12.85s/it]"
     ]
    },
    {
     "name": "stdout",
     "output_type": "stream",
     "text": [
      "Titling Time: 11.1 sec\n",
      "../data/train_data_annotation/Colon/D/anno_colon_D_0067.mrxs\n",
      "noise filter :  True\n",
      "multiprocessing :  32\n",
      "slide_name anno_colon_D_0067\n"
     ]
    },
    {
     "name": "stderr",
     "output_type": "stream",
     "text": [
      " 94%|█████████▍| 764/810 [3:04:29<09:39, 12.60s/it]"
     ]
    },
    {
     "name": "stdout",
     "output_type": "stream",
     "text": [
      "Titling Time: 11.6 sec\n",
      "../data/train_data_annotation/Colon/D/anno_colon_D_0040.mrxs\n",
      "noise filter :  True\n",
      "multiprocessing :  32\n",
      "slide_name anno_colon_D_0040\n"
     ]
    },
    {
     "name": "stderr",
     "output_type": "stream",
     "text": [
      " 94%|█████████▍| 765/810 [3:04:41<09:11, 12.25s/it]"
     ]
    },
    {
     "name": "stdout",
     "output_type": "stream",
     "text": [
      "Titling Time: 11.1 sec\n",
      "../data/train_data_annotation/Colon/D/anno_colon_D_0082.mrxs\n",
      "noise filter :  True\n",
      "multiprocessing :  32\n",
      "slide_name anno_colon_D_0082\n"
     ]
    },
    {
     "name": "stderr",
     "output_type": "stream",
     "text": [
      " 95%|█████████▍| 766/810 [3:04:52<08:50, 12.05s/it]"
     ]
    },
    {
     "name": "stdout",
     "output_type": "stream",
     "text": [
      "Titling Time: 11.2 sec\n",
      "../data/train_data_annotation/Colon/D/anno_colon_D_0076.mrxs\n",
      "noise filter :  True\n",
      "multiprocessing :  32\n",
      "slide_name anno_colon_D_0076\n"
     ]
    },
    {
     "name": "stderr",
     "output_type": "stream",
     "text": [
      " 95%|█████████▍| 767/810 [3:05:04<08:40, 12.10s/it]"
     ]
    },
    {
     "name": "stdout",
     "output_type": "stream",
     "text": [
      "Titling Time: 11.8 sec\n",
      "../data/train_data_annotation/Colon/D/anno_colon_D_0130.mrxs\n",
      "noise filter :  True\n",
      "multiprocessing :  32\n",
      "slide_name anno_colon_D_0130\n"
     ]
    },
    {
     "name": "stderr",
     "output_type": "stream",
     "text": [
      " 95%|█████████▍| 768/810 [3:05:17<08:28, 12.10s/it]"
     ]
    },
    {
     "name": "stdout",
     "output_type": "stream",
     "text": [
      "Titling Time: 11.7 sec\n",
      "../data/train_data_annotation/Colon/D/anno_colon_D_0005.mrxs\n",
      "noise filter :  True\n",
      "multiprocessing :  32\n",
      "slide_name anno_colon_D_0005\n"
     ]
    },
    {
     "name": "stderr",
     "output_type": "stream",
     "text": [
      " 95%|█████████▍| 769/810 [3:05:28<08:09, 11.95s/it]"
     ]
    },
    {
     "name": "stdout",
     "output_type": "stream",
     "text": [
      "Titling Time: 11.2 sec\n",
      "../data/train_data_annotation/Colon/D/anno_colon_D_0200.mrxs\n",
      "noise filter :  True\n",
      "multiprocessing :  32\n",
      "slide_name anno_colon_D_0200\n"
     ]
    },
    {
     "name": "stderr",
     "output_type": "stream",
     "text": [
      " 95%|█████████▌| 770/810 [3:05:40<07:52, 11.82s/it]"
     ]
    },
    {
     "name": "stdout",
     "output_type": "stream",
     "text": [
      "Titling Time: 11.2 sec\n",
      "../data/train_data_annotation/Colon/D/anno_colon_D_0161.mrxs\n",
      "noise filter :  True\n",
      "multiprocessing :  32\n",
      "slide_name anno_colon_D_0161\n"
     ]
    },
    {
     "name": "stderr",
     "output_type": "stream",
     "text": [
      " 95%|█████████▌| 771/810 [3:05:51<07:39, 11.77s/it]"
     ]
    },
    {
     "name": "stdout",
     "output_type": "stream",
     "text": [
      "Titling Time: 11.3 sec\n",
      "../data/train_data_annotation/Colon/D/anno_colon_D_0032.mrxs\n",
      "noise filter :  True\n",
      "multiprocessing :  32\n",
      "slide_name anno_colon_D_0032\n"
     ]
    },
    {
     "name": "stderr",
     "output_type": "stream",
     "text": [
      " 95%|█████████▌| 772/810 [3:06:03<07:29, 11.83s/it]"
     ]
    },
    {
     "name": "stdout",
     "output_type": "stream",
     "text": [
      "Titling Time: 11.6 sec\n",
      "../data/train_data_annotation/Colon/D/anno_colon_D_0052.mrxs\n",
      "noise filter :  True\n",
      "multiprocessing :  32\n",
      "slide_name anno_colon_D_0052\n"
     ]
    },
    {
     "name": "stderr",
     "output_type": "stream",
     "text": [
      " 95%|█████████▌| 773/810 [3:06:15<07:17, 11.83s/it]"
     ]
    },
    {
     "name": "stdout",
     "output_type": "stream",
     "text": [
      "Titling Time: 11.5 sec\n",
      "../data/train_data_annotation/Colon/D/anno_colon_D_0047.mrxs\n",
      "noise filter :  True\n",
      "multiprocessing :  32\n",
      "slide_name anno_colon_D_0047\n"
     ]
    },
    {
     "name": "stderr",
     "output_type": "stream",
     "text": [
      " 96%|█████████▌| 774/810 [3:06:27<07:09, 11.94s/it]"
     ]
    },
    {
     "name": "stdout",
     "output_type": "stream",
     "text": [
      "Titling Time: 11.8 sec\n",
      "../data/train_data_annotation/Colon/D/anno_colon_D_0149.mrxs\n",
      "noise filter :  True\n",
      "multiprocessing :  32\n",
      "slide_name anno_colon_D_0149\n"
     ]
    },
    {
     "name": "stderr",
     "output_type": "stream",
     "text": [
      " 96%|█████████▌| 775/810 [3:06:38<06:49, 11.69s/it]"
     ]
    },
    {
     "name": "stdout",
     "output_type": "stream",
     "text": [
      "Titling Time: 10.8 sec\n",
      "../data/train_data_annotation/Colon/D/anno_colon_D_0081.mrxs\n",
      "noise filter :  True\n",
      "multiprocessing :  32\n",
      "slide_name anno_colon_D_0081\n"
     ]
    },
    {
     "name": "stderr",
     "output_type": "stream",
     "text": [
      " 96%|█████████▌| 776/810 [3:06:51<06:44, 11.90s/it]"
     ]
    },
    {
     "name": "stdout",
     "output_type": "stream",
     "text": [
      "Titling Time: 11.8 sec\n",
      "../data/train_data_annotation/Colon/D/anno_colon_D_0007.mrxs\n",
      "noise filter :  True\n",
      "multiprocessing :  32\n",
      "slide_name anno_colon_D_0007\n"
     ]
    },
    {
     "name": "stderr",
     "output_type": "stream",
     "text": [
      " 96%|█████████▌| 777/810 [3:07:02<06:27, 11.75s/it]"
     ]
    },
    {
     "name": "stdout",
     "output_type": "stream",
     "text": [
      "Titling Time: 11.1 sec\n",
      "../data/train_data_annotation/Colon/D/anno_colon_D_0101.mrxs\n",
      "noise filter :  True\n",
      "multiprocessing :  32\n",
      "slide_name anno_colon_D_0101\n"
     ]
    },
    {
     "name": "stderr",
     "output_type": "stream",
     "text": [
      " 96%|█████████▌| 778/810 [3:07:18<06:52, 12.89s/it]"
     ]
    },
    {
     "name": "stdout",
     "output_type": "stream",
     "text": [
      "Titling Time: 11.6 sec\n",
      "../data/train_data_annotation/Colon/D/anno_colon_D_0048.mrxs\n",
      "noise filter :  True\n",
      "multiprocessing :  32\n",
      "slide_name anno_colon_D_0048\n"
     ]
    },
    {
     "name": "stderr",
     "output_type": "stream",
     "text": [
      " 96%|█████████▌| 779/810 [3:07:29<06:26, 12.47s/it]"
     ]
    },
    {
     "name": "stdout",
     "output_type": "stream",
     "text": [
      "Titling Time: 11.1 sec\n",
      "../data/train_data_annotation/Colon/D/anno_colon_D_0136.mrxs\n",
      "noise filter :  True\n",
      "multiprocessing :  32\n",
      "slide_name anno_colon_D_0136\n"
     ]
    },
    {
     "name": "stderr",
     "output_type": "stream",
     "text": [
      " 96%|█████████▋| 780/810 [3:07:41<06:05, 12.17s/it]"
     ]
    },
    {
     "name": "stdout",
     "output_type": "stream",
     "text": [
      "Titling Time: 11.2 sec\n",
      "../data/train_data_annotation/Colon/D/anno_colon_D_0024.mrxs\n",
      "noise filter :  True\n",
      "multiprocessing :  32\n",
      "slide_name anno_colon_D_0024\n"
     ]
    },
    {
     "name": "stderr",
     "output_type": "stream",
     "text": [
      " 96%|█████████▋| 781/810 [3:07:52<05:44, 11.88s/it]"
     ]
    },
    {
     "name": "stdout",
     "output_type": "stream",
     "text": [
      "Titling Time: 10.9 sec\n",
      "../data/train_data_annotation/Colon/D/anno_colon_D_0169.mrxs\n",
      "noise filter :  True\n",
      "multiprocessing :  32\n",
      "slide_name anno_colon_D_0169\n"
     ]
    },
    {
     "name": "stderr",
     "output_type": "stream",
     "text": [
      " 97%|█████████▋| 782/810 [3:08:04<05:33, 11.91s/it]"
     ]
    },
    {
     "name": "stdout",
     "output_type": "stream",
     "text": [
      "Titling Time: 11.6 sec\n",
      "../data/train_data_annotation/Colon/D/anno_colon_D_0179.mrxs\n",
      "noise filter :  True\n",
      "multiprocessing :  32\n",
      "slide_name anno_colon_D_0179\n"
     ]
    },
    {
     "name": "stderr",
     "output_type": "stream",
     "text": [
      " 97%|█████████▋| 783/810 [3:08:20<05:56, 13.21s/it]"
     ]
    },
    {
     "name": "stdout",
     "output_type": "stream",
     "text": [
      "Titling Time: 15.9 sec\n",
      "../data/train_data_annotation/Colon/D/anno_colon_D_0065.mrxs\n",
      "noise filter :  True\n",
      "multiprocessing :  32\n",
      "slide_name anno_colon_D_0065\n"
     ]
    },
    {
     "name": "stderr",
     "output_type": "stream",
     "text": [
      " 97%|█████████▋| 784/810 [3:08:35<05:53, 13.60s/it]"
     ]
    },
    {
     "name": "stdout",
     "output_type": "stream",
     "text": [
      "Titling Time: 11.5 sec\n",
      "../data/train_data_annotation/Colon/D/anno_colon_D_0138.mrxs\n",
      "noise filter :  True\n",
      "multiprocessing :  32\n",
      "slide_name anno_colon_D_0138\n"
     ]
    },
    {
     "name": "stderr",
     "output_type": "stream",
     "text": [
      " 97%|█████████▋| 785/810 [3:08:46<05:26, 13.05s/it]"
     ]
    },
    {
     "name": "stdout",
     "output_type": "stream",
     "text": [
      "Titling Time: 11.4 sec\n",
      "../data/train_data_annotation/Colon/D/anno_colon_D_0036.mrxs\n",
      "noise filter :  True\n",
      "multiprocessing :  32\n",
      "slide_name anno_colon_D_0036\n"
     ]
    },
    {
     "name": "stderr",
     "output_type": "stream",
     "text": [
      " 97%|█████████▋| 786/810 [3:08:58<05:03, 12.65s/it]"
     ]
    },
    {
     "name": "stdout",
     "output_type": "stream",
     "text": [
      "Titling Time: 11.4 sec\n",
      "../data/train_data_annotation/Colon/D/anno_colon_D_0069.mrxs\n",
      "noise filter :  True\n",
      "multiprocessing :  32\n",
      "slide_name anno_colon_D_0069\n"
     ]
    },
    {
     "name": "stderr",
     "output_type": "stream",
     "text": [
      " 97%|█████████▋| 787/810 [3:09:10<04:42, 12.27s/it]"
     ]
    },
    {
     "name": "stdout",
     "output_type": "stream",
     "text": [
      "Titling Time: 11.1 sec\n",
      "../data/train_data_annotation/Colon/D/anno_colon_D_0070.mrxs\n",
      "noise filter :  True\n",
      "multiprocessing :  32\n",
      "slide_name anno_colon_D_0070\n"
     ]
    },
    {
     "name": "stderr",
     "output_type": "stream",
     "text": [
      " 97%|█████████▋| 788/810 [3:09:21<04:24, 12.02s/it]"
     ]
    },
    {
     "name": "stdout",
     "output_type": "stream",
     "text": [
      "Titling Time: 11.1 sec\n",
      "../data/train_data_annotation/Colon/D/anno_colon_D_0124.mrxs\n",
      "noise filter :  True\n",
      "multiprocessing :  32\n",
      "slide_name anno_colon_D_0124\n"
     ]
    },
    {
     "name": "stderr",
     "output_type": "stream",
     "text": [
      " 97%|█████████▋| 789/810 [3:09:33<04:09, 11.87s/it]"
     ]
    },
    {
     "name": "stdout",
     "output_type": "stream",
     "text": [
      "Titling Time: 11.2 sec\n",
      "../data/train_data_annotation/Colon/D/anno_colon_D_0189.mrxs\n",
      "noise filter :  True\n",
      "multiprocessing :  32\n",
      "slide_name anno_colon_D_0189\n"
     ]
    },
    {
     "name": "stderr",
     "output_type": "stream",
     "text": [
      " 98%|█████████▊| 790/810 [3:09:44<03:56, 11.83s/it]"
     ]
    },
    {
     "name": "stdout",
     "output_type": "stream",
     "text": [
      "Titling Time: 11.3 sec\n",
      "../data/train_data_annotation/Colon/D/anno_colon_D_0064.mrxs\n",
      "noise filter :  True\n",
      "multiprocessing :  32\n",
      "slide_name anno_colon_D_0064\n"
     ]
    },
    {
     "name": "stderr",
     "output_type": "stream",
     "text": [
      " 98%|█████████▊| 791/810 [3:09:56<03:42, 11.69s/it]"
     ]
    },
    {
     "name": "stdout",
     "output_type": "stream",
     "text": [
      "Titling Time: 11.1 sec\n",
      "../data/train_data_annotation/Colon/D/anno_colon_D_0016.mrxs\n",
      "noise filter :  True\n",
      "multiprocessing :  32\n",
      "slide_name anno_colon_D_0016\n"
     ]
    },
    {
     "name": "stderr",
     "output_type": "stream",
     "text": [
      " 98%|█████████▊| 792/810 [3:10:07<03:30, 11.68s/it]"
     ]
    },
    {
     "name": "stdout",
     "output_type": "stream",
     "text": [
      "Titling Time: 11.3 sec\n",
      "../data/train_data_annotation/Colon/D/anno_colon_D_0173.mrxs\n",
      "noise filter :  True\n",
      "multiprocessing :  32\n",
      "slide_name anno_colon_D_0173\n"
     ]
    },
    {
     "name": "stderr",
     "output_type": "stream",
     "text": [
      " 98%|█████████▊| 793/810 [3:10:20<03:21, 11.86s/it]"
     ]
    },
    {
     "name": "stdout",
     "output_type": "stream",
     "text": [
      "Titling Time: 11.9 sec\n",
      "../data/train_data_annotation/Colon/D/anno_colon_D_0155.mrxs\n",
      "noise filter :  True\n",
      "multiprocessing :  32\n",
      "slide_name anno_colon_D_0155\n"
     ]
    },
    {
     "name": "stderr",
     "output_type": "stream",
     "text": [
      " 98%|█████████▊| 794/810 [3:10:31<03:09, 11.84s/it]"
     ]
    },
    {
     "name": "stdout",
     "output_type": "stream",
     "text": [
      "Titling Time: 11.4 sec\n",
      "../data/train_data_annotation/Colon/D/anno_colon_D_0134.mrxs\n",
      "noise filter :  True\n",
      "multiprocessing :  32\n",
      "slide_name anno_colon_D_0134\n"
     ]
    },
    {
     "name": "stderr",
     "output_type": "stream",
     "text": [
      " 98%|█████████▊| 795/810 [3:10:42<02:54, 11.61s/it]"
     ]
    },
    {
     "name": "stdout",
     "output_type": "stream",
     "text": [
      "Titling Time: 10.8 sec\n",
      "../data/train_data_annotation/Colon/D/anno_colon_D_0187.mrxs\n",
      "noise filter :  True\n",
      "multiprocessing :  32\n",
      "slide_name anno_colon_D_0187\n"
     ]
    },
    {
     "name": "stderr",
     "output_type": "stream",
     "text": [
      " 98%|█████████▊| 796/810 [3:10:54<02:41, 11.56s/it]"
     ]
    },
    {
     "name": "stdout",
     "output_type": "stream",
     "text": [
      "Titling Time: 11.1 sec\n",
      "../data/train_data_annotation/Colon/D/anno_colon_D_0091.mrxs\n",
      "noise filter :  True\n",
      "multiprocessing :  32\n",
      "slide_name anno_colon_D_0091\n"
     ]
    },
    {
     "name": "stderr",
     "output_type": "stream",
     "text": [
      " 98%|█████████▊| 797/810 [3:11:05<02:29, 11.51s/it]"
     ]
    },
    {
     "name": "stdout",
     "output_type": "stream",
     "text": [
      "Titling Time: 11.1 sec\n",
      "../data/train_data_annotation/Colon/D/anno_colon_D_0193.mrxs\n",
      "noise filter :  True\n",
      "multiprocessing :  32\n",
      "slide_name anno_colon_D_0193\n"
     ]
    },
    {
     "name": "stderr",
     "output_type": "stream",
     "text": [
      " 99%|█████████▊| 798/810 [3:11:17<02:18, 11.52s/it]"
     ]
    },
    {
     "name": "stdout",
     "output_type": "stream",
     "text": [
      "Titling Time: 11.2 sec\n",
      "../data/train_data_annotation/Colon/D/anno_colon_D_0092.mrxs\n",
      "noise filter :  True\n",
      "multiprocessing :  32\n",
      "slide_name anno_colon_D_0092\n"
     ]
    },
    {
     "name": "stderr",
     "output_type": "stream",
     "text": [
      " 99%|█████████▊| 799/810 [3:11:29<02:08, 11.64s/it]"
     ]
    },
    {
     "name": "stdout",
     "output_type": "stream",
     "text": [
      "Titling Time: 11.5 sec\n",
      "../data/train_data_annotation/Colon/D/anno_colon_D_0097.mrxs\n",
      "noise filter :  True\n",
      "multiprocessing :  32\n",
      "slide_name anno_colon_D_0097\n"
     ]
    },
    {
     "name": "stderr",
     "output_type": "stream",
     "text": [
      " 99%|█████████▉| 800/810 [3:11:41<01:57, 11.71s/it]"
     ]
    },
    {
     "name": "stdout",
     "output_type": "stream",
     "text": [
      "Titling Time: 11.5 sec\n",
      "../data/train_data_annotation/Colon/D/anno_colon_D_0072.mrxs\n",
      "noise filter :  True\n",
      "multiprocessing :  32\n",
      "slide_name anno_colon_D_0072\n"
     ]
    },
    {
     "name": "stderr",
     "output_type": "stream",
     "text": [
      " 99%|█████████▉| 801/810 [3:11:55<01:52, 12.50s/it]"
     ]
    },
    {
     "name": "stdout",
     "output_type": "stream",
     "text": [
      "Titling Time: 13.8 sec\n",
      "../data/train_data_annotation/Colon/D/anno_colon_D_0056.mrxs\n",
      "noise filter :  True\n",
      "multiprocessing :  32\n",
      "slide_name anno_colon_D_0056\n"
     ]
    },
    {
     "name": "stderr",
     "output_type": "stream",
     "text": [
      " 99%|█████████▉| 802/810 [3:12:07<01:39, 12.38s/it]"
     ]
    },
    {
     "name": "stdout",
     "output_type": "stream",
     "text": [
      "Titling Time: 11.8 sec\n",
      "../data/train_data_annotation/Colon/D/anno_colon_D_0018.mrxs\n",
      "noise filter :  True\n",
      "multiprocessing :  32\n",
      "slide_name anno_colon_D_0018\n"
     ]
    },
    {
     "name": "stderr",
     "output_type": "stream",
     "text": [
      " 99%|█████████▉| 803/810 [3:12:25<01:37, 13.92s/it]"
     ]
    },
    {
     "name": "stdout",
     "output_type": "stream",
     "text": [
      "Titling Time: 11.3 sec\n",
      "../data/train_data_annotation/Colon/D/anno_colon_D_0180.mrxs\n",
      "noise filter :  True\n",
      "multiprocessing :  32\n",
      "slide_name anno_colon_D_0180\n"
     ]
    },
    {
     "name": "stderr",
     "output_type": "stream",
     "text": [
      " 99%|█████████▉| 804/810 [3:12:44<01:32, 15.45s/it]"
     ]
    },
    {
     "name": "stdout",
     "output_type": "stream",
     "text": [
      "Titling Time: 11.5 sec\n",
      "../data/train_data_annotation/Colon/D/anno_colon_D_0008.mrxs\n",
      "noise filter :  True\n",
      "multiprocessing :  32\n",
      "slide_name anno_colon_D_0008\n"
     ]
    },
    {
     "name": "stderr",
     "output_type": "stream",
     "text": [
      " 99%|█████████▉| 805/810 [3:12:56<01:12, 14.45s/it]"
     ]
    },
    {
     "name": "stdout",
     "output_type": "stream",
     "text": [
      "Titling Time: 11.7 sec\n",
      "../data/train_data_annotation/Colon/D/anno_colon_D_0042.mrxs\n",
      "noise filter :  True\n",
      "multiprocessing :  32\n",
      "slide_name anno_colon_D_0042\n"
     ]
    },
    {
     "name": "stderr",
     "output_type": "stream",
     "text": [
      "100%|█████████▉| 806/810 [3:13:07<00:54, 13.59s/it]"
     ]
    },
    {
     "name": "stdout",
     "output_type": "stream",
     "text": [
      "Titling Time: 11.2 sec\n",
      "../data/train_data_annotation/Colon/D/anno_colon_D_0099.mrxs\n",
      "noise filter :  True\n",
      "multiprocessing :  32\n",
      "slide_name anno_colon_D_0099\n"
     ]
    },
    {
     "name": "stderr",
     "output_type": "stream",
     "text": [
      "100%|█████████▉| 807/810 [3:13:19<00:39, 13.07s/it]"
     ]
    },
    {
     "name": "stdout",
     "output_type": "stream",
     "text": [
      "Titling Time: 11.5 sec\n",
      "../data/train_data_annotation/Colon/D/anno_colon_D_0029.mrxs\n",
      "noise filter :  True\n",
      "multiprocessing :  32\n",
      "slide_name anno_colon_D_0029\n"
     ]
    },
    {
     "name": "stderr",
     "output_type": "stream",
     "text": [
      "100%|█████████▉| 808/810 [3:13:31<00:25, 12.62s/it]"
     ]
    },
    {
     "name": "stdout",
     "output_type": "stream",
     "text": [
      "Titling Time: 11.2 sec\n",
      "../data/train_data_annotation/Colon/D/anno_colon_D_0158.mrxs\n",
      "noise filter :  True\n",
      "multiprocessing :  32\n",
      "slide_name anno_colon_D_0158\n"
     ]
    },
    {
     "name": "stderr",
     "output_type": "stream",
     "text": [
      "100%|█████████▉| 809/810 [3:13:42<00:12, 12.23s/it]"
     ]
    },
    {
     "name": "stdout",
     "output_type": "stream",
     "text": [
      "Titling Time: 11.0 sec\n",
      "../data/train_data_annotation/Colon/D/anno_colon_D_0044.mrxs\n",
      "noise filter :  True\n",
      "multiprocessing :  32\n",
      "slide_name anno_colon_D_0044\n"
     ]
    },
    {
     "name": "stderr",
     "output_type": "stream",
     "text": [
      "100%|██████████| 810/810 [3:13:53<00:00, 14.36s/it]"
     ]
    },
    {
     "name": "stdout",
     "output_type": "stream",
     "text": [
      "Titling Time: 10.6 sec\n"
     ]
    },
    {
     "name": "stderr",
     "output_type": "stream",
     "text": [
      "\n"
     ]
    }
   ],
   "source": [
    "# all_slides = all_slides[:10]\n",
    "# for non negative\n",
    "for slide_path in tqdm(all_slides, total=len(all_slides)):\n",
    "#     print(slide_path)\n",
    "        \n",
    "    folder = '/'.join(str(slide_path).split('.')[2].split('/')[2:])\n",
    "    folder = re.sub('train_data_annotation', 'train_data', folder)\n",
    "    out_folder = '../' + tile_folder + '/' + folder\n",
    "    if not os.path.isdir(out_folder) :\n",
    "        os.makedirs(out_folder, exist_ok=True)\n",
    "#     print(out_folder)\n",
    "    save_patches_SEEGENE(\n",
    "        slide_path=slide_path,\n",
    "        output_path=out_folder,\n",
    "        resolution_factor=resolution_factor,\n",
    "        tile_size=(tile_size - overlap),\n",
    "        overlap=int(overlap/2),\n",
    "        ext=ext,\n",
    "        use_filter=use_filter\n",
    "    )"
   ]
  },
  {
   "cell_type": "code",
   "execution_count": 11,
   "id": "ecf63c20-6864-46bb-9670-8fe5e6ac5253",
   "metadata": {},
   "outputs": [
    {
     "data": {
      "text/plain": [
       "['', '', '/data/train_data/Stomach/M/train_stomach_M_0121', 'mrxs']"
      ]
     },
     "execution_count": 11,
     "metadata": {},
     "output_type": "execute_result"
    }
   ],
   "source": [
    "string = '../data/train_data/Stomach/M/train_stomach_M_0121.mrxs'\n",
    "string.split('.')"
   ]
  },
  {
   "cell_type": "code",
   "execution_count": null,
   "id": "58432451-2459-4d13-b203-7aaee804466a",
   "metadata": {},
   "outputs": [],
   "source": []
  }
 ],
 "metadata": {
  "kernelspec": {
   "display_name": "pytorch",
   "language": "python",
   "name": "pytorch"
  },
  "language_info": {
   "codemirror_mode": {
    "name": "ipython",
    "version": 3
   },
   "file_extension": ".py",
   "mimetype": "text/x-python",
   "name": "python",
   "nbconvert_exporter": "python",
   "pygments_lexer": "ipython3",
   "version": "3.8.11"
  }
 },
 "nbformat": 4,
 "nbformat_minor": 5
}
