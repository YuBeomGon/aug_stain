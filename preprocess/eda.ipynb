{
 "cells": [
  {
   "cell_type": "code",
   "execution_count": 1,
   "id": "ba54fa2d-269e-4f91-a683-a01eaf9cfcea",
   "metadata": {},
   "outputs": [],
   "source": [
    "import numpy as np\n",
    "import pandas as pd"
   ]
  },
  {
   "cell_type": "code",
   "execution_count": 14,
   "id": "66116cfc-c0ac-41f8-b141-fb09aa88c7bc",
   "metadata": {},
   "outputs": [],
   "source": [
    "# df = pd.read_excel('../211023_data.xlsx')\n",
    "# read all sheet in excel file\n",
    "df_all = pd.read_excel('../211023_data.xlsx', sheet_name=None)\n"
   ]
  },
  {
   "cell_type": "code",
   "execution_count": 15,
   "id": "4f469733-47c6-4ec1-9994-68dab5b33cae",
   "metadata": {},
   "outputs": [
    {
     "data": {
      "text/plain": [
       "dict_keys(['train_data', 'threshold_차이', '수리전_data', '스캐너1', '스캐너2', '스캐너3'])"
      ]
     },
     "execution_count": 15,
     "metadata": {},
     "output_type": "execute_result"
    }
   ],
   "source": [
    "df_all.keys()"
   ]
  },
  {
   "cell_type": "code",
   "execution_count": 18,
   "id": "9118221c-14c1-40a5-a11f-aab0a422305e",
   "metadata": {},
   "outputs": [
    {
     "data": {
      "text/html": [
       "<div>\n",
       "<style scoped>\n",
       "    .dataframe tbody tr th:only-of-type {\n",
       "        vertical-align: middle;\n",
       "    }\n",
       "\n",
       "    .dataframe tbody tr th {\n",
       "        vertical-align: top;\n",
       "    }\n",
       "\n",
       "    .dataframe thead th {\n",
       "        text-align: right;\n",
       "    }\n",
       "</style>\n",
       "<table border=\"1\" class=\"dataframe\">\n",
       "  <thead>\n",
       "    <tr style=\"text-align: right;\">\n",
       "      <th></th>\n",
       "      <th>파일명</th>\n",
       "      <th>조직</th>\n",
       "      <th>결과</th>\n",
       "      <th>Quality Factor</th>\n",
       "      <th>threshold</th>\n",
       "    </tr>\n",
       "  </thead>\n",
       "  <tbody>\n",
       "    <tr>\n",
       "      <th>0</th>\n",
       "      <td>train_colon_M0001</td>\n",
       "      <td>Colon(대장)</td>\n",
       "      <td>M</td>\n",
       "      <td>80</td>\n",
       "      <td>203</td>\n",
       "    </tr>\n",
       "    <tr>\n",
       "      <th>1</th>\n",
       "      <td>train_colon_M0002</td>\n",
       "      <td>Colon(대장)</td>\n",
       "      <td>M</td>\n",
       "      <td>80</td>\n",
       "      <td>203</td>\n",
       "    </tr>\n",
       "    <tr>\n",
       "      <th>2</th>\n",
       "      <td>train_colon_M0003</td>\n",
       "      <td>Colon(대장)</td>\n",
       "      <td>M</td>\n",
       "      <td>80</td>\n",
       "      <td>203</td>\n",
       "    </tr>\n",
       "    <tr>\n",
       "      <th>3</th>\n",
       "      <td>train_colon_M0004</td>\n",
       "      <td>Colon(대장)</td>\n",
       "      <td>M</td>\n",
       "      <td>80</td>\n",
       "      <td>203</td>\n",
       "    </tr>\n",
       "    <tr>\n",
       "      <th>4</th>\n",
       "      <td>train_colon_M0005</td>\n",
       "      <td>Colon(대장)</td>\n",
       "      <td>M</td>\n",
       "      <td>80</td>\n",
       "      <td>203</td>\n",
       "    </tr>\n",
       "  </tbody>\n",
       "</table>\n",
       "</div>"
      ],
      "text/plain": [
       "                 파일명         조직 결과  Quality Factor  threshold\n",
       "0  train_colon_M0001  Colon(대장)  M              80        203\n",
       "1  train_colon_M0002  Colon(대장)  M              80        203\n",
       "2  train_colon_M0003  Colon(대장)  M              80        203\n",
       "3  train_colon_M0004  Colon(대장)  M              80        203\n",
       "4  train_colon_M0005  Colon(대장)  M              80        203"
      ]
     },
     "execution_count": 18,
     "metadata": {},
     "output_type": "execute_result"
    }
   ],
   "source": [
    "df = df_all['train_data']\n",
    "df.head()"
   ]
  },
  {
   "cell_type": "code",
   "execution_count": 24,
   "id": "1a92b89e-3455-4d3c-ae69-88d291a1a128",
   "metadata": {},
   "outputs": [
    {
     "data": {
      "text/plain": [
       "Colon(대장)      609\n",
       "Stomach(위장)    601\n",
       "Name: 조직, dtype: int64"
      ]
     },
     "execution_count": 24,
     "metadata": {},
     "output_type": "execute_result"
    }
   ],
   "source": [
    "df['조직'].value_counts()"
   ]
  },
  {
   "cell_type": "code",
   "execution_count": 25,
   "id": "1fad1c70-f952-44fa-b441-f7cd9c71997c",
   "metadata": {},
   "outputs": [
    {
     "data": {
      "text/plain": [
       "M    410\n",
       "D    400\n",
       "N    400\n",
       "Name: 결과, dtype: int64"
      ]
     },
     "execution_count": 25,
     "metadata": {},
     "output_type": "execute_result"
    }
   ],
   "source": [
    "df['결과'].value_counts()"
   ]
  },
  {
   "cell_type": "code",
   "execution_count": 27,
   "id": "eaa7f2b8-ebe6-464f-95f2-c17d056b9855",
   "metadata": {},
   "outputs": [
    {
     "data": {
      "text/plain": [
       "M    209\n",
       "D    200\n",
       "N    200\n",
       "Name: 결과, dtype: int64"
      ]
     },
     "execution_count": 27,
     "metadata": {},
     "output_type": "execute_result"
    }
   ],
   "source": [
    "df[df['조직'] == 'Colon(대장)']['결과'].value_counts()"
   ]
  },
  {
   "cell_type": "code",
   "execution_count": 30,
   "id": "b5ad5f10-b09c-40c7-bee6-92de9d8a33eb",
   "metadata": {},
   "outputs": [
    {
     "data": {
      "text/plain": [
       "M    201\n",
       "D    200\n",
       "N    200\n",
       "Name: 결과, dtype: int64"
      ]
     },
     "execution_count": 30,
     "metadata": {},
     "output_type": "execute_result"
    }
   ],
   "source": [
    "df[df['조직'] == 'Stomach(위장)']['결과'].value_counts()"
   ]
  },
  {
   "cell_type": "code",
   "execution_count": 31,
   "id": "fc0ed1e5-ba66-428f-a6c0-14e3fe5c03fa",
   "metadata": {},
   "outputs": [
    {
     "data": {
      "text/plain": [
       "80    1210\n",
       "Name: Quality Factor, dtype: int64"
      ]
     },
     "execution_count": 31,
     "metadata": {},
     "output_type": "execute_result"
    }
   ],
   "source": [
    "df['Quality Factor'].value_counts()"
   ]
  },
  {
   "cell_type": "code",
   "execution_count": 33,
   "id": "dc73d97d-4df2-415a-b6c9-827645e691ad",
   "metadata": {},
   "outputs": [
    {
     "data": {
      "text/plain": [
       "203    1210\n",
       "Name: threshold, dtype: int64"
      ]
     },
     "execution_count": 33,
     "metadata": {},
     "output_type": "execute_result"
    }
   ],
   "source": [
    "df['threshold'].value_counts()"
   ]
  },
  {
   "cell_type": "code",
   "execution_count": null,
   "id": "a2526625-1944-434a-b5ed-4764c7c6b6c6",
   "metadata": {},
   "outputs": [],
   "source": []
  },
  {
   "cell_type": "code",
   "execution_count": 36,
   "id": "ab8ba117-ed49-409a-8523-7fd253993ad6",
   "metadata": {},
   "outputs": [
    {
     "data": {
      "text/html": [
       "<div>\n",
       "<style scoped>\n",
       "    .dataframe tbody tr th:only-of-type {\n",
       "        vertical-align: middle;\n",
       "    }\n",
       "\n",
       "    .dataframe tbody tr th {\n",
       "        vertical-align: top;\n",
       "    }\n",
       "\n",
       "    .dataframe thead th {\n",
       "        text-align: right;\n",
       "    }\n",
       "</style>\n",
       "<table border=\"1\" class=\"dataframe\">\n",
       "  <thead>\n",
       "    <tr style=\"text-align: right;\">\n",
       "      <th></th>\n",
       "      <th>파일명</th>\n",
       "      <th>조직</th>\n",
       "      <th>결과</th>\n",
       "      <th>Quality Factor</th>\n",
       "      <th>threshold</th>\n",
       "    </tr>\n",
       "  </thead>\n",
       "  <tbody>\n",
       "    <tr>\n",
       "      <th>0</th>\n",
       "      <td>threshold_203_colon_0001</td>\n",
       "      <td>Colon(대장)</td>\n",
       "      <td>N</td>\n",
       "      <td>80</td>\n",
       "      <td>203</td>\n",
       "    </tr>\n",
       "    <tr>\n",
       "      <th>1</th>\n",
       "      <td>threshold_203_colon_0002</td>\n",
       "      <td>Colon(대장)</td>\n",
       "      <td>NaN</td>\n",
       "      <td>80</td>\n",
       "      <td>203</td>\n",
       "    </tr>\n",
       "    <tr>\n",
       "      <th>2</th>\n",
       "      <td>threshold_203_colon_0003</td>\n",
       "      <td>Colon(대장)</td>\n",
       "      <td>NaN</td>\n",
       "      <td>80</td>\n",
       "      <td>203</td>\n",
       "    </tr>\n",
       "    <tr>\n",
       "      <th>3</th>\n",
       "      <td>threshold_203_colon_0004</td>\n",
       "      <td>Colon(대장)</td>\n",
       "      <td>NaN</td>\n",
       "      <td>80</td>\n",
       "      <td>203</td>\n",
       "    </tr>\n",
       "    <tr>\n",
       "      <th>4</th>\n",
       "      <td>threshold_203_colon_0005</td>\n",
       "      <td>Colon(대장)</td>\n",
       "      <td>NaN</td>\n",
       "      <td>80</td>\n",
       "      <td>203</td>\n",
       "    </tr>\n",
       "  </tbody>\n",
       "</table>\n",
       "</div>"
      ],
      "text/plain": [
       "                        파일명         조직   결과  Quality Factor  threshold\n",
       "0  threshold_203_colon_0001  Colon(대장)    N              80        203\n",
       "1  threshold_203_colon_0002  Colon(대장)  NaN              80        203\n",
       "2  threshold_203_colon_0003  Colon(대장)  NaN              80        203\n",
       "3  threshold_203_colon_0004  Colon(대장)  NaN              80        203\n",
       "4  threshold_203_colon_0005  Colon(대장)  NaN              80        203"
      ]
     },
     "execution_count": 36,
     "metadata": {},
     "output_type": "execute_result"
    }
   ],
   "source": [
    "df = df_all['threshold_차이']\n",
    "df.head()"
   ]
  },
  {
   "cell_type": "code",
   "execution_count": 61,
   "id": "b1567495-e72a-45d4-a8b6-b08461e6b6c5",
   "metadata": {},
   "outputs": [
    {
     "data": {
      "text/html": [
       "<div>\n",
       "<style scoped>\n",
       "    .dataframe tbody tr th:only-of-type {\n",
       "        vertical-align: middle;\n",
       "    }\n",
       "\n",
       "    .dataframe tbody tr th {\n",
       "        vertical-align: top;\n",
       "    }\n",
       "\n",
       "    .dataframe thead th {\n",
       "        text-align: right;\n",
       "    }\n",
       "</style>\n",
       "<table border=\"1\" class=\"dataframe\">\n",
       "  <thead>\n",
       "    <tr style=\"text-align: right;\">\n",
       "      <th></th>\n",
       "      <th>파일명</th>\n",
       "      <th>조직</th>\n",
       "      <th>결과</th>\n",
       "      <th>Quality Factor</th>\n",
       "      <th>threshold</th>\n",
       "    </tr>\n",
       "  </thead>\n",
       "  <tbody>\n",
       "    <tr>\n",
       "      <th>0</th>\n",
       "      <td>threshold_203_colon_0001</td>\n",
       "      <td>Colon(대장)</td>\n",
       "      <td>N</td>\n",
       "      <td>80</td>\n",
       "      <td>203</td>\n",
       "    </tr>\n",
       "    <tr>\n",
       "      <th>1</th>\n",
       "      <td>threshold_203_colon_0002</td>\n",
       "      <td>Colon(대장)</td>\n",
       "      <td>N</td>\n",
       "      <td>80</td>\n",
       "      <td>203</td>\n",
       "    </tr>\n",
       "    <tr>\n",
       "      <th>2</th>\n",
       "      <td>threshold_203_colon_0003</td>\n",
       "      <td>Colon(대장)</td>\n",
       "      <td>N</td>\n",
       "      <td>80</td>\n",
       "      <td>203</td>\n",
       "    </tr>\n",
       "    <tr>\n",
       "      <th>3</th>\n",
       "      <td>threshold_203_colon_0004</td>\n",
       "      <td>Colon(대장)</td>\n",
       "      <td>N</td>\n",
       "      <td>80</td>\n",
       "      <td>203</td>\n",
       "    </tr>\n",
       "    <tr>\n",
       "      <th>4</th>\n",
       "      <td>threshold_203_colon_0005</td>\n",
       "      <td>Colon(대장)</td>\n",
       "      <td>N</td>\n",
       "      <td>80</td>\n",
       "      <td>203</td>\n",
       "    </tr>\n",
       "  </tbody>\n",
       "</table>\n",
       "</div>"
      ],
      "text/plain": [
       "                        파일명         조직 결과  Quality Factor  threshold\n",
       "0  threshold_203_colon_0001  Colon(대장)  N              80        203\n",
       "1  threshold_203_colon_0002  Colon(대장)  N              80        203\n",
       "2  threshold_203_colon_0003  Colon(대장)  N              80        203\n",
       "3  threshold_203_colon_0004  Colon(대장)  N              80        203\n",
       "4  threshold_203_colon_0005  Colon(대장)  N              80        203"
      ]
     },
     "execution_count": 61,
     "metadata": {},
     "output_type": "execute_result"
    }
   ],
   "source": [
    "# df.loc[0, '결과']\n",
    "# df.isnull()\n",
    "df['결과'] = pd.Series(df['결과']).fillna(method='ffill')\n",
    "df.head()"
   ]
  },
  {
   "cell_type": "code",
   "execution_count": 58,
   "id": "234d0df6-d2a9-49ab-8495-03cbf4c6416d",
   "metadata": {},
   "outputs": [],
   "source": []
  },
  {
   "cell_type": "code",
   "execution_count": null,
   "id": "7c29dcd4-8acb-45e5-855e-a0a2e29bfb3b",
   "metadata": {},
   "outputs": [],
   "source": []
  },
  {
   "cell_type": "code",
   "execution_count": 62,
   "id": "74af641f-6537-45b9-9c84-a0c027f73560",
   "metadata": {},
   "outputs": [
    {
     "name": "stdout",
     "output_type": "stream",
     "text": [
      "Stomach(위장)    56\n",
      "Colon(대장)      28\n",
      "Name: 조직, dtype: int64\n",
      "N    72\n",
      "D    12\n",
      "Name: 결과, dtype: int64\n"
     ]
    }
   ],
   "source": [
    "print(df['조직'].value_counts())\n",
    "print(df['결과'].value_counts())"
   ]
  },
  {
   "cell_type": "code",
   "execution_count": 39,
   "id": "28e12da1-42ef-4b0d-a2bc-fb3fa53ae558",
   "metadata": {},
   "outputs": [
    {
     "name": "stdout",
     "output_type": "stream",
     "text": [
      "N    2\n",
      "D    2\n",
      "Name: 결과, dtype: int64\n",
      "N    2\n",
      "Name: 결과, dtype: int64\n"
     ]
    }
   ],
   "source": [
    "print(df[df['조직'] == 'Colon(대장)']['결과'].value_counts())\n",
    "print(df[df['조직'] == 'Stomach(위장)']['결과'].value_counts())"
   ]
  },
  {
   "cell_type": "code",
   "execution_count": 40,
   "id": "0ad32086-ce8c-4753-8853-076e389b9d5b",
   "metadata": {},
   "outputs": [
    {
     "name": "stdout",
     "output_type": "stream",
     "text": [
      "80    84\n",
      "Name: Quality Factor, dtype: int64\n",
      "203    42\n",
      "213    42\n",
      "Name: threshold, dtype: int64\n"
     ]
    }
   ],
   "source": [
    "print(df['Quality Factor'].value_counts())\n",
    "print(df['threshold'].value_counts())"
   ]
  },
  {
   "cell_type": "code",
   "execution_count": 63,
   "id": "a3bc4a5f-2249-444f-b31f-bcbd943cd866",
   "metadata": {},
   "outputs": [
    {
     "data": {
      "text/html": [
       "<div>\n",
       "<style scoped>\n",
       "    .dataframe tbody tr th:only-of-type {\n",
       "        vertical-align: middle;\n",
       "    }\n",
       "\n",
       "    .dataframe tbody tr th {\n",
       "        vertical-align: top;\n",
       "    }\n",
       "\n",
       "    .dataframe thead th {\n",
       "        text-align: right;\n",
       "    }\n",
       "</style>\n",
       "<table border=\"1\" class=\"dataframe\">\n",
       "  <thead>\n",
       "    <tr style=\"text-align: right;\">\n",
       "      <th></th>\n",
       "      <th>파일명</th>\n",
       "      <th>조직</th>\n",
       "      <th>결과</th>\n",
       "    </tr>\n",
       "  </thead>\n",
       "  <tbody>\n",
       "    <tr>\n",
       "      <th>0</th>\n",
       "      <td>scanner1_colon_0001</td>\n",
       "      <td>Colon(대장)</td>\n",
       "      <td>D</td>\n",
       "    </tr>\n",
       "    <tr>\n",
       "      <th>1</th>\n",
       "      <td>scanner1_colon_0002</td>\n",
       "      <td>Colon(대장)</td>\n",
       "      <td>D</td>\n",
       "    </tr>\n",
       "    <tr>\n",
       "      <th>2</th>\n",
       "      <td>scanner1_colon_0003</td>\n",
       "      <td>Colon(대장)</td>\n",
       "      <td>N</td>\n",
       "    </tr>\n",
       "    <tr>\n",
       "      <th>3</th>\n",
       "      <td>scanner1_colon_0004</td>\n",
       "      <td>Colon(대장)</td>\n",
       "      <td>N</td>\n",
       "    </tr>\n",
       "    <tr>\n",
       "      <th>4</th>\n",
       "      <td>scanner1_colon_0005</td>\n",
       "      <td>Colon(대장)</td>\n",
       "      <td>N</td>\n",
       "    </tr>\n",
       "  </tbody>\n",
       "</table>\n",
       "</div>"
      ],
      "text/plain": [
       "                   파일명         조직 결과\n",
       "0  scanner1_colon_0001  Colon(대장)  D\n",
       "1  scanner1_colon_0002  Colon(대장)  D\n",
       "2  scanner1_colon_0003  Colon(대장)  N\n",
       "3  scanner1_colon_0004  Colon(대장)  N\n",
       "4  scanner1_colon_0005  Colon(대장)  N"
      ]
     },
     "execution_count": 63,
     "metadata": {},
     "output_type": "execute_result"
    }
   ],
   "source": [
    "df = df_all['스캐너1']\n",
    "df.head()"
   ]
  },
  {
   "cell_type": "code",
   "execution_count": 64,
   "id": "7b289d68-81b2-4d93-9928-04f4ff636d1e",
   "metadata": {},
   "outputs": [
    {
     "name": "stdout",
     "output_type": "stream",
     "text": [
      "Stomach(위장)    196\n",
      "Colon(대장)      159\n",
      "Name: 조직, dtype: int64\n",
      "N    272\n",
      "D     79\n",
      "M      4\n",
      "Name: 결과, dtype: int64\n"
     ]
    }
   ],
   "source": [
    "print(df['조직'].value_counts())\n",
    "print(df['결과'].value_counts())"
   ]
  },
  {
   "cell_type": "code",
   "execution_count": 68,
   "id": "046f60d9-46a6-4c08-b267-691b6d19a853",
   "metadata": {},
   "outputs": [
    {
     "data": {
      "text/plain": [
       "<AxesSubplot:>"
      ]
     },
     "execution_count": 68,
     "metadata": {},
     "output_type": "execute_result"
    },
    {
     "data": {
      "image/png": "[encoded data removed]",
      "text/plain": [
       "<Figure size 432x288 with 1 Axes>"
      ]
     },
     "metadata": {
      "needs_background": "light"
     },
     "output_type": "display_data"
    }
   ],
   "source": [
    "df['결과'].hist(bins=10)"
   ]
  },
  {
   "cell_type": "code",
   "execution_count": 65,
   "id": "67882249-f96b-4302-a572-db54d29fad23",
   "metadata": {},
   "outputs": [
    {
     "name": "stdout",
     "output_type": "stream",
     "text": [
      "N    86\n",
      "D    73\n",
      "Name: 결과, dtype: int64\n",
      "N    186\n",
      "D      6\n",
      "M      4\n",
      "Name: 결과, dtype: int64\n"
     ]
    }
   ],
   "source": [
    "print(df[df['조직'] == 'Colon(대장)']['결과'].value_counts())\n",
    "print(df[df['조직'] == 'Stomach(위장)']['결과'].value_counts())"
   ]
  },
  {
   "cell_type": "code",
   "execution_count": 66,
   "id": "9379056a-12cc-4354-88a2-51363bba9c29",
   "metadata": {},
   "outputs": [
    {
     "name": "stdout",
     "output_type": "stream",
     "text": [
      "Colon(대장)      262\n",
      "Stomach(위장)    227\n",
      "Name: 조직, dtype: int64\n",
      "N    372\n",
      "D    114\n",
      "M      3\n",
      "Name: 결과, dtype: int64\n",
      "N    155\n",
      "D    107\n",
      "Name: 결과, dtype: int64\n",
      "N    217\n",
      "D      7\n",
      "M      3\n",
      "Name: 결과, dtype: int64\n"
     ]
    }
   ],
   "source": [
    "df = df_all['스캐너2']\n",
    "print(df['조직'].value_counts())\n",
    "print(df['결과'].value_counts())\n",
    "print(df[df['조직'] == 'Colon(대장)']['결과'].value_counts())\n",
    "print(df[df['조직'] == 'Stomach(위장)']['결과'].value_counts())"
   ]
  },
  {
   "cell_type": "code",
   "execution_count": 67,
   "id": "a3fecdca-7272-4fef-9a8e-24fc492d9a9d",
   "metadata": {},
   "outputs": [
    {
     "name": "stdout",
     "output_type": "stream",
     "text": [
      "Stomach(위장)    226\n",
      "Colon(대장)      205\n",
      "Name: 조직, dtype: int64\n",
      "N    321\n",
      "D    107\n",
      "M      3\n",
      "Name: 결과, dtype: int64\n",
      "N    105\n",
      "D    100\n",
      "Name: 결과, dtype: int64\n",
      "N    216\n",
      "D      7\n",
      "M      3\n",
      "Name: 결과, dtype: int64\n"
     ]
    }
   ],
   "source": [
    "df = df_all['스캐너3']\n",
    "print(df['조직'].value_counts())\n",
    "print(df['결과'].value_counts())\n",
    "print(df[df['조직'] == 'Colon(대장)']['결과'].value_counts())\n",
    "print(df[df['조직'] == 'Stomach(위장)']['결과'].value_counts())"
   ]
  },
  {
   "cell_type": "code",
   "execution_count": null,
   "id": "45d28159-a7e2-4b62-8cca-0019d69a19d4",
   "metadata": {},
   "outputs": [],
   "source": []
  }
 ],
 "metadata": {
  "kernelspec": {
   "display_name": "pytorch",
   "language": "python",
   "name": "pytorch"
  },
  "language_info": {
   "codemirror_mode": {
    "name": "ipython",
    "version": 3
   },
   "file_extension": ".py",
   "mimetype": "text/x-python",
   "name": "python",
   "nbconvert_exporter": "python",
   "pygments_lexer": "ipython3",
   "version": "3.8.11"
  }
 },
 "nbformat": 4,
 "nbformat_minor": 5
}
