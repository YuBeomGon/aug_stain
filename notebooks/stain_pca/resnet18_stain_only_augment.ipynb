{
 "cells": [
  {
   "cell_type": "code",
   "execution_count": 2,
   "id": "94c9b4b6-857a-4fa2-bc88-09d24795214a",
   "metadata": {},
   "outputs": [],
   "source": [
    "import torch \n",
    "import torchvision \n",
    "import numpy as np\n",
    "\n",
    "import os\n",
    "import pandas as pd\n",
    "import albumentations as A\n",
    "import albumentations.pytorch\n",
    "import cv2\n",
    "\n",
    "from torch.utils.data import Dataset, DataLoader\n",
    "import torch.nn as nn\n",
    "# import torch.nn.functional as F\n",
    "\n",
    "import sys\n",
    "sys.path.append('../../')\n",
    "from dataset import val_transforms, CDataset"
   ]
  },
  {
   "cell_type": "code",
   "execution_count": 3,
   "id": "4f785462-c62d-45b0-99b2-aec41e679c7b",
   "metadata": {},
   "outputs": [],
   "source": [
    "import easydict \n",
    "args = easydict.EasyDict({ \"batch_size\": 256, \n",
    "                          \"epochs\": 600, \n",
    "                          \"data\": 0, \n",
    "                          'lr':0.1,\n",
    "                         'momentum':0.9,\n",
    "                         'weight_decay':1e-4,\n",
    "                         'start_epoch':0,\n",
    "                         'gpu':5,\n",
    "                          'workers':8,\n",
    "                         'print_freq':1000,\n",
    "                         'saved_dir':'../../trained_models/stain_only/checkpoint.pt'})"
   ]
  },
  {
   "cell_type": "code",
   "execution_count": 4,
   "id": "31180cff-2665-4968-acd5-30b2f5248da7",
   "metadata": {},
   "outputs": [],
   "source": [
    "# make saved dir\n",
    "from pathlib import Path\n",
    "path = Path(args.saved_dir.split('checkpoint')[0])\n",
    "path.mkdir(parents=True, exist_ok=True)"
   ]
  },
  {
   "cell_type": "code",
   "execution_count": 5,
   "id": "d6925042-56a3-44fe-b6c9-0cf403b1c2a8",
   "metadata": {},
   "outputs": [],
   "source": [
    "# os.environ[\"CUDA_VISIBLE_DEVICES\"]= \"7\"\n",
    "# device = torch.device(\"cuda\")\n",
    "\n",
    "# print('Device:', device)\n",
    "# print('Current cuda device:', torch.cuda.current_device())\n",
    "# print('Count of using GPUs:', torch.cuda.device_count())"
   ]
  },
  {
   "cell_type": "code",
   "execution_count": 6,
   "id": "94504bce-aa5a-4bbb-8150-583aa5177350",
   "metadata": {},
   "outputs": [
    {
     "name": "stdout",
     "output_type": "stream",
     "text": [
      "6\n",
      "cuda:5\n"
     ]
    }
   ],
   "source": [
    "ngpus_per_node = torch.cuda.device_count()\n",
    "print(ngpus_per_node)\n",
    "# device = torch.device('cpu')\n",
    "# device = torch.device('cuda')\n",
    "GPU_NUM = args.gpu # 원하는 GPU 번호 입력\n",
    "device = torch.device(f'cuda:{GPU_NUM}' if torch.cuda.is_available() else 'cpu')\n",
    "torch.cuda.set_device(device)\n",
    "print(device)"
   ]
  },
  {
   "cell_type": "code",
   "execution_count": 8,
   "id": "d7ff4bd0-885b-4a78-afb5-745172e38b71",
   "metadata": {},
   "outputs": [],
   "source": [
    "IMAGE_SIZE = 256\n",
    "from augment import HEColorAugment\n",
    "train_transforms = A.Compose([\n",
    "    A.Resize(IMAGE_SIZE, IMAGE_SIZE, p=1),\n",
    "    A.OneOf([\n",
    "        A.HorizontalFlip(p=.8),\n",
    "        A.VerticalFlip(p=.8),\n",
    "        A.RandomRotate90(p=.8)]\n",
    "    ),\n",
    "    A.RandomResizedCrop(height=IMAGE_SIZE,width=IMAGE_SIZE,scale=[0.95,1.05],ratio=[0.95,1.05],p=0.5),\n",
    "#     A.transforms.ColorJitter(brightness=0.05, contrast=0.2, saturation=0.2, hue=0.02, p=.8),\n",
    "#     HEColorAugment(sigma1=0.1, sigma2=3, theta=18, p=.8),\n",
    "], p=1.0) "
   ]
  },
  {
   "cell_type": "code",
   "execution_count": 9,
   "id": "a0d29c5a-1c3d-4536-8bc7-35d6f52e7a9e",
   "metadata": {},
   "outputs": [],
   "source": [
    "train_df = pd.read_csv('../../dataframe/train_df.csv')\n",
    "train_dataset = CDataset(train_df, transform=train_transforms)\n",
    "\n",
    "val_df = pd.read_csv('../../dataframe/val_df.csv')\n",
    "val_dataset = CDataset(val_df, transform=val_transforms)  \n",
    "\n",
    "test_df = pd.read_csv('../../dataframe/test_df.csv')\n",
    "test_dataset = CDataset(test_df, transform=val_transforms)  "
   ]
  },
  {
   "cell_type": "code",
   "execution_count": 10,
   "id": "3edf51cc-e093-425e-b551-441b6a61abbb",
   "metadata": {},
   "outputs": [],
   "source": [
    "image, label, path = next(iter(train_dataset))"
   ]
  },
  {
   "cell_type": "code",
   "execution_count": 11,
   "id": "213188ac-3de1-43ab-a3b5-c08132bb8a03",
   "metadata": {},
   "outputs": [],
   "source": [
    "train_loader = DataLoader(train_dataset, batch_size=args.batch_size,\n",
    "                          shuffle=True, num_workers=args.workers)\n",
    "\n",
    "val_loader = DataLoader(val_dataset, batch_size=args.batch_size,\n",
    "                          shuffle=True, num_workers=args.workers)\n",
    "\n",
    "test_loader = DataLoader(test_dataset, batch_size=args.batch_size,\n",
    "                          shuffle=True, num_workers=args.workers)\n"
   ]
  },
  {
   "cell_type": "code",
   "execution_count": 12,
   "id": "7a01dac1-ddd4-4083-ac3b-e3dd3026e389",
   "metadata": {},
   "outputs": [
    {
     "data": {
      "text/plain": [
       "torch.Size([256, 3, 256, 256])"
      ]
     },
     "execution_count": 12,
     "metadata": {},
     "output_type": "execute_result"
    }
   ],
   "source": [
    "images, labels, paths = next(iter(train_loader))\n",
    "images.shape"
   ]
  },
  {
   "cell_type": "code",
   "execution_count": 13,
   "id": "8b305337-659a-4671-b7ec-2735ba22b218",
   "metadata": {},
   "outputs": [],
   "source": [
    "import torchvision.models as models\n",
    "model = models.resnet18(pretrained=True)\n",
    "model.fc = nn.Linear(512, 3)\n",
    "model.to(device)\n",
    "\n",
    "params = [p for p in model.parameters() if p.requires_grad]\n",
    "# optimizer = torch.optim.Adam(params, lr=0.0001)\n",
    "optimizer = torch.optim.SGD(\n",
    "       params, lr=0.1, momentum=0.9, weight_decay=1e-4)\n",
    "scheduler = torch.optim.lr_scheduler.MultiStepLR(optimizer, milestones=[10, 20, 30, 40, 50], \n",
    "                                                    gamma=0.2)\n",
    "# criterion = nn.CrossEntropyLoss(label_smoothing=0.0)\n",
    "criterion = nn.CrossEntropyLoss().to(device)"
   ]
  },
  {
   "cell_type": "code",
   "execution_count": null,
   "id": "735a966f-4cda-4aaa-bea3-be6704cc90cc",
   "metadata": {},
   "outputs": [],
   "source": [
    "from main import *\n",
    "\n",
    "best_acc1 = 0\n",
    "acc1 = 0\n",
    "train_loss = []\n",
    "val_acc = []\n",
    "\n",
    "for epoch in range(60):\n",
    "    losses = train(train_loader, model, criterion, optimizer, epoch, args)\n",
    "    scheduler.step()\n",
    "\n",
    "    # evaluate after every epoch\n",
    "    acc1 = validate(val_loader, model, criterion, args)    \n",
    "    \n",
    "    # remember best acc@1 and save checkpoint\n",
    "    is_best = acc1 > best_acc1\n",
    "    best_acc1 = max(acc1, best_acc1) \n",
    "    \n",
    "    save_checkpoint({\n",
    "        'epoch': epoch + 1,\n",
    "        'state_dict': model.state_dict(),\n",
    "        'best_acc1': best_acc1,\n",
    "        'optimizer' : optimizer.state_dict(),\n",
    "        'scheduler' : scheduler.state_dict(),\n",
    "    }, is_best, filename=args.saved_dir)   \n",
    "    "
   ]
  },
  {
   "cell_type": "code",
   "execution_count": null,
   "id": "1d837ea5-ebb4-42a9-9b04-eb3e19fa5792",
   "metadata": {},
   "outputs": [],
   "source": [
    "checkpoint = torch.load(args.saved_dir)\n",
    "model.load_state_dict(checkpoint['state_dict'])\n",
    "acc1 = validate(test_loader, model, criterion, args)    "
   ]
  },
  {
   "cell_type": "code",
   "execution_count": null,
   "id": "b92a469a-22d6-443a-baa2-a74c06dff809",
   "metadata": {},
   "outputs": [],
   "source": []
  }
 ],
 "metadata": {
  "kernelspec": {
   "display_name": "pytorch",
   "language": "python",
   "name": "pytorch"
  },
  "language_info": {
   "codemirror_mode": {
    "name": "ipython",
    "version": 3
   },
   "file_extension": ".py",
   "mimetype": "text/x-python",
   "name": "python",
   "nbconvert_exporter": "python",
   "pygments_lexer": "ipython3",
   "version": "3.8.11"
  }
 },
 "nbformat": 4,
 "nbformat_minor": 5
}
